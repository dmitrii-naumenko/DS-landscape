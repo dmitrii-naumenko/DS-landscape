{
 "cells": [
  {
   "cell_type": "code",
   "execution_count": 1,
   "metadata": {},
   "outputs": [
    {
     "name": "stderr",
     "output_type": "stream",
     "text": [
      "/Users/dima/anaconda3/lib/python3.11/site-packages/umap/distances.py:1063: NumbaDeprecationWarning: \u001b[1mThe 'nopython' keyword argument was not supplied to the 'numba.jit' decorator. The implicit default value for this argument is currently False, but it will be changed to True in Numba 0.59.0. See https://numba.readthedocs.io/en/stable/reference/deprecation.html#deprecation-of-object-mode-fall-back-behaviour-when-using-jit for details.\u001b[0m\n",
      "  @numba.jit()\n",
      "/Users/dima/anaconda3/lib/python3.11/site-packages/umap/distances.py:1071: NumbaDeprecationWarning: \u001b[1mThe 'nopython' keyword argument was not supplied to the 'numba.jit' decorator. The implicit default value for this argument is currently False, but it will be changed to True in Numba 0.59.0. See https://numba.readthedocs.io/en/stable/reference/deprecation.html#deprecation-of-object-mode-fall-back-behaviour-when-using-jit for details.\u001b[0m\n",
      "  @numba.jit()\n",
      "/Users/dima/anaconda3/lib/python3.11/site-packages/umap/distances.py:1086: NumbaDeprecationWarning: \u001b[1mThe 'nopython' keyword argument was not supplied to the 'numba.jit' decorator. The implicit default value for this argument is currently False, but it will be changed to True in Numba 0.59.0. See https://numba.readthedocs.io/en/stable/reference/deprecation.html#deprecation-of-object-mode-fall-back-behaviour-when-using-jit for details.\u001b[0m\n",
      "  @numba.jit()\n",
      "/Users/dima/anaconda3/lib/python3.11/site-packages/umap/umap_.py:660: NumbaDeprecationWarning: \u001b[1mThe 'nopython' keyword argument was not supplied to the 'numba.jit' decorator. The implicit default value for this argument is currently False, but it will be changed to True in Numba 0.59.0. See https://numba.readthedocs.io/en/stable/reference/deprecation.html#deprecation-of-object-mode-fall-back-behaviour-when-using-jit for details.\u001b[0m\n",
      "  @numba.jit()\n"
     ]
    }
   ],
   "source": [
    "import pandas as pd\n",
    "import os\n",
    "import jsonpickle\n",
    "\n",
    "from typing import Tuple, Dict, Union, List\n",
    "import pandas as pd\n",
    "import numpy as np\n",
    "import pickle\n",
    "from sklearn.manifold import TSNE\n",
    "import plotly.express as px\n",
    "import plotly\n",
    "from sklearn.preprocessing import MinMaxScaler\n",
    "from scipy.sparse import csr_matrix\n",
    "import implicit\n",
    "from implicit.nearest_neighbours import bm25_weight, tfidf_weight\n",
    "from scipy.spatial.distance import cdist\n",
    "\n",
    "import umap\n",
    "from sklearn.metrics.pairwise import cosine_similarity, euclidean_distances\n",
    "from scipy.sparse.linalg import svds\n",
    "from sklearn.decomposition import PCA\n"
   ]
  },
  {
   "cell_type": "code",
   "execution_count": 2,
   "metadata": {},
   "outputs": [],
   "source": [
    "import warnings\n",
    "warnings.filterwarnings(\"ignore\")"
   ]
  },
  {
   "cell_type": "code",
   "execution_count": 3,
   "metadata": {},
   "outputs": [],
   "source": [
    "RANDOM_STATE = 42"
   ]
  },
  {
   "cell_type": "code",
   "execution_count": 4,
   "metadata": {},
   "outputs": [],
   "source": [
    "def load(config_path : str) -> object:\n",
    "    \"\"\"load config from file\n",
    "    exsabple of using: \n",
    "        self.config : ParserConfig = config.load(config_path) or ParserConfig()\n",
    "        \"\"\"\n",
    "\n",
    "    jsonpickle.set_preferred_backend('json')\n",
    "    jsonpickle.set_encoder_options('json', ensure_ascii=False)\n",
    "\n",
    "    if config_path is not None and os.path.isfile(config_path):\n",
    "        with open(config_path, 'r', encoding='utf-8') as f:\n",
    "            return jsonpickle.decode(f.read())\n",
    "    else:\n",
    "        return None\n"
   ]
  },
  {
   "cell_type": "code",
   "execution_count": 5,
   "metadata": {},
   "outputs": [
    {
     "name": "stdout",
     "output_type": "stream",
     "text": [
      "all pairs count = 215\n",
      "unique pairs count = 165\n"
     ]
    }
   ],
   "source": [
    "# load reference pairs\n",
    "skill_pairs : List[List[str]] = load(\"../cnf/skill_pairs.json\")\n",
    "\n",
    "# remove duplicates\n",
    "print('all pairs count =', len(skill_pairs))\n",
    "skill_pairs = [x for x in skill_pairs if [x[1], x[0]] not in skill_pairs]\n",
    "print('unique pairs count =', len(skill_pairs))"
   ]
  },
  {
   "cell_type": "code",
   "execution_count": 6,
   "metadata": {},
   "outputs": [],
   "source": [
    "## Load data from APP DATA folder\n",
    "\n",
    "with open('../data/features/matrix.pkl', 'rb') as f:\n",
    "#with open('../data/features/matrix_name_tfidf.pkl', 'rb') as f:\n",
    "#with open('../data/features/matrix_description_name_tfidf.pkl', 'rb') as f:\n",
    "    matrix = pickle.load(f)\n",
    "\n",
    "with open('../data/features/prof_index_to_prof_name.pkl', 'rb') as f:\n",
    "    prof_index_to_prof_name = pickle.load(f)\n",
    "\n",
    "# with open('../data/features/quety_to_prof_index.pkl', 'rb') as f:\n",
    "#     quety_to_prof_index = pickle.load(f)\n",
    "\n",
    "with open('../data/features/skill_index_to_corrected.pkl', 'rb') as f:\n",
    "    skill_index_to_corrected = pickle.load(f)\n",
    "    \n",
    "with open('../data/features/skill_original_to_index.pkl', 'rb') as f:\n",
    "    skill_original_to_index = pickle.load(f)\n",
    "    \n",
    "skill_df = pd.read_csv('../data/features/skills.csv')\n",
    "prof_df = pd.read_csv('../data/features/prof.csv')"
   ]
  },
  {
   "cell_type": "code",
   "execution_count": 7,
   "metadata": {},
   "outputs": [],
   "source": [
    "def prepare_plot_df(skill_df: pd.DataFrame,\n",
    "                    matrix: np.array,\n",
    "                    skill_index_to_corrected: Dict[int, str],\n",
    "                    prof_index_to_corrected: Dict[int, str], \n",
    "                    top_n_skill_per_profession: int = 200, \n",
    "                    salary: Union[Tuple[float, float], None] = None,\n",
    "                    norm_type: str = 'none',\n",
    "                    factor_alg_type: str = 'none',\n",
    "                    perplexity: int = 30,\n",
    "                    early_exaggeration=12,\n",
    "                    learning_rate=200,\n",
    "                    dim: int = 5,\n",
    "                    use_tsne: bool = True\n",
    "                    ) -> Tuple[pd.DataFrame, pd.DataFrame]:\n",
    "    \"\"\"Prepare datafame for plotting\n",
    "    \n",
    "        Parameters\n",
    "        ----------\n",
    "        skill_df: pd.DataFrame\n",
    "            Data frame of skills\n",
    "        matrix: np.array\n",
    "            Skill to Profession matrix (skill in rows, professions in columns)\n",
    "        skill_index_to_corrected: Dict[int, str]\n",
    "            Dictionary from index to skill name\n",
    "        prof_index_to_corrected: Dict[int, str]\n",
    "            Dictionary from index to profession name\n",
    "        top_n_skill_per_profession: int\n",
    "            maximum skills for each profession\n",
    "        salary: Tuple[float, float]:\n",
    "            filter by salary, from and to, or None\n",
    "            !!! do not set because too low vacancies whith salary\n",
    "        norm_type: str\n",
    "            How normalize skill-prof matrix ('none', 'skill', 'prof', 'bm', 'tfidf')\n",
    "        factor_alg_type: str\n",
    "            Type of algorithm for skill map ('tsne', 'als', 'svd', 'pca', 'sim_euclid', 'sim_cos')\n",
    "\n",
    "        Returns\n",
    "        -------\n",
    "        Tuple[pd.DataFrame, pd.DataFrame] : \n",
    "            - DataFrame for skill map plot\n",
    "            - DataFrame for profession map plot\n",
    "    \n",
    "    \n",
    "    \"\"\"\n",
    "\n",
    "    def apply_filter(df, top_n_skill_per_profession, salary):\n",
    "        if salary is not None:\n",
    "            df = df[(df.salary_q75 > salary[0]) & (df.salary_q25 <= salary[1])]\n",
    "        if top_n_skill_per_profession is not None:\n",
    "            df = df.head(top_n_skill_per_profession)\n",
    "        return df\n",
    "\n",
    "    # skill_filter_indexes - skills for plot\n",
    "    skill_filter_indexes = []\n",
    "    for p in prof_index_to_corrected.values():\n",
    "        skills_per_profession = skill_df.sort_values(p, ascending=False)\n",
    "        skills_per_profession = apply_filter(skills_per_profession, top_n_skill_per_profession, salary)\n",
    "\n",
    "        skill_filter_indexes = skill_filter_indexes + \\\n",
    "            [x for x in skills_per_profession.skill_id if x not in skill_filter_indexes]\n",
    "\n",
    "    # Normalization\n",
    "    m = matrix[skill_filter_indexes, :].T\n",
    "\n",
    "    if norm_type == 'skill':\n",
    "        # norm for earch skill\n",
    "        m = m / np.sum(m, axis=0, keepdims=True)\n",
    "    elif norm_type == 'prof':\n",
    "        # norm for each prof\n",
    "        m = m / np.sum(m, axis=1, keepdims=True)\n",
    "    elif norm_type == 'bm':\n",
    "        m = np.asarray(bm25_weight(m).todense())\n",
    "    elif norm_type == 'tfidf':\n",
    "        m = np.asarray(tfidf_weight(m).todense())\n",
    "    elif norm_type != 'none':\n",
    "        raise ValueError(\"norm_type parametr must be ('none', 'skill', 'prof')\")\n",
    "\n",
    "    # als is needed for professions because T-NSE doesn't work with few objects\n",
    "    csr = csr_matrix(m)\n",
    "    model = implicit.als.AlternatingLeastSquares(factors=2, regularization=0.0, \n",
    "        iterations=20, alpha=10, random_state=RANDOM_STATE)\n",
    "    model.fit(csr, show_progress=False)\n",
    "    profs_xy = model.user_factors\n",
    "\n",
    "    use_tsne = False\n",
    "\n",
    "    if factor_alg_type == 'svd':\n",
    "        skills_xy, _, _ = svds(csr.T, k=dim, random_state=RANDOM_STATE)\n",
    "    elif factor_alg_type == 'pca':\n",
    "        pca = PCA(n_components=dim)\n",
    "        skills_xy = pca.fit_transform(m.T)\n",
    "    elif factor_alg_type == 'tsne':\n",
    "        #skills_xy = TSNE(n_components=2, random_state=RANDOM_STATE).fit_transform(m.T)\n",
    "        skills_xy = m.T.copy()\n",
    "        use_tsne = True\n",
    "    elif factor_alg_type == 'als':\n",
    "        skills_xy = model.item_factors\n",
    "        use_tsne = True\n",
    "    elif factor_alg_type == 'sim_euclid':\n",
    "        skills_xy = euclidean_distances(m.T)\n",
    "        use_tsne = True\n",
    "    elif factor_alg_type == 'sim_cos':     \n",
    "        skills_xy = cosine_similarity(m.T)\n",
    "        use_tsne = True\n",
    "    elif factor_alg_type == 'umap':\n",
    "#         skills_xy = cosine_similarity(m.T)\n",
    "        skills_xy = umap.UMAP(n_neighbors=10,\n",
    "                              transform_seed=RANDOM_STATE,\n",
    "                              random_state=RANDOM_STATE).fit_transform(m.T)\n",
    "    else:\n",
    "        raise ValueError(\"skills_xy parametr must be ('tsne', 'als', 'svd', 'pca', 'sim_euclid', 'sim_cos')\")\n",
    "    \n",
    "    if use_tsne:\n",
    "        skills_xy = TSNE(n_components=2, \n",
    "                         perplexity=perplexity, \n",
    "                         early_exaggeration=early_exaggeration,\n",
    "                         learning_rate=learning_rate,\n",
    "                         random_state=RANDOM_STATE).fit_transform(skills_xy)\n",
    "\n",
    "\n",
    "    df = pd.DataFrame(skills_xy).rename(columns={0:'x',1:'y'})\n",
    "    df['skill_id'] = list(skill_filter_indexes)\n",
    "    df['Навык'] = df.skill_id.apply(lambda x: skill_index_to_corrected[x])\n",
    "\n",
    "    # be ensure that for every profession has skill point \n",
    "    # (one skill may be in severall professions)\n",
    "    df_plot_skill = None\n",
    "    for p in prof_index_to_corrected.values():\n",
    "\n",
    "        skills_per_profession = skill_df.sort_values(p, ascending=False)\n",
    "        skills_per_profession = apply_filter(skills_per_profession, top_n_skill_per_profession, salary)\n",
    "        ids = skills_per_profession.skill_id.to_numpy()\n",
    "\n",
    "        df_for_prof = df[df.skill_id.isin(ids)]\n",
    "        df_for_prof['Профессия'] = p\n",
    "\n",
    "        min_f = skills_per_profession[p].min()\n",
    "        max_f = skills_per_profession[p].max()\n",
    "        if max_f - min_f < 1e-10:\n",
    "            max_f += 1\n",
    "        size_series = skills_per_profession[p].apply(lambda x: (x - min_f) / (max_f - min_f))\n",
    "        size_dict = pd.Series(size_series.values, index=skills_per_profession.skill_id).to_dict()\n",
    "        df_for_prof['size'] = df_for_prof.skill_id.apply(lambda x: 15 * size_dict[x] + 0.8)\n",
    "\n",
    "        if df_plot_skill is None:\n",
    "            df_plot_skill = df_for_prof\n",
    "        else:\n",
    "            df_plot_skill = pd.concat([df_plot_skill, df_for_prof])\n",
    "\n",
    "    if profs_xy.shape[0] < 1000:\n",
    "        df_plot_prof = pd.DataFrame(profs_xy).rename(columns={0:'x',1:'y'})\n",
    "        df_plot_prof['Профессия'] = pd.Series(df_plot_prof.index).apply(lambda x: prof_index_to_corrected[x])\n",
    "    else:\n",
    "        # это потроение по th-idf признакам, а не профессиям -> нельзя построить карту профессий\n",
    "        df_plot_prof = None\n",
    "\n",
    "    return df_plot_skill, df_plot_prof"
   ]
  },
  {
   "cell_type": "code",
   "execution_count": 8,
   "metadata": {},
   "outputs": [
    {
     "data": {
      "text/plain": [
       "dict_values(['Бизнес-аналитик', 'Data Scientist', 'Аналитик', 'NLP', 'Computer Vision', 'Администратор баз данных', 'Аналитик BI', 'Big Data', 'Продуктовый аналитик', 'Аналитик данных', 'Системный аналитик', 'ML инженер', 'Инженер данных'])"
      ]
     },
     "execution_count": 8,
     "metadata": {},
     "output_type": "execute_result"
    }
   ],
   "source": [
    "prof_index_to_prof_name.values()"
   ]
  },
  {
   "cell_type": "code",
   "execution_count": 9,
   "metadata": {},
   "outputs": [],
   "source": [
    "def plot_skill_map(df: pd.DataFrame, width=1000, height=600) -> plotly.graph_objs.Figure:\n",
    "\n",
    "\n",
    "\n",
    "    color_list = [\n",
    "        '#F8A19F', '#AA0DFE', '#3283FE', '#1CBE4F', '#C4451C', '#F6222E', \n",
    "        '#FE00FA', '#325A9B', '#FEAF16', \n",
    "        '#90AD1C', '#2ED9FF', '#B10DA1',\n",
    "         '#909090', '#FBE426',\n",
    "        '#FA0087', '#C075A6', '#FC1CBF'\n",
    "    ]\n",
    "\n",
    "\n",
    "    \n",
    "    # custom visualization order\n",
    "    # for better reproducability\n",
    "    prof_order = [\n",
    "        'Data Scientist', 'ML инженер', 'Computer Vision', 'NLP',\n",
    "        'Инженер данных', 'Big Data', 'Администратор баз данных', 'Аналитик данных',\n",
    "        'Аналитик', 'Бизнес-аналитик', 'Продуктовый аналитик', 'Аналитик BI',\n",
    "        'Системный аналитик' ]\n",
    "\n",
    "    fig = px.scatter(df, x='x', y='y',\n",
    "                    color='Профессия', hover_name='Навык', \n",
    "                    hover_data= {'x':False, 'y':False, 'size':False, 'Профессия': False},\n",
    "                    size='size', category_orders={'Профессия': prof_order},\n",
    "                    #color_discrete_sequence=px.colors.qualitative.Plotly,\n",
    "                    color_discrete_sequence=color_list,\n",
    "                    title = None, width=width, height=height)\n",
    "\n",
    "    fig.update_traces(marker=dict(opacity=0.7, line=dict(width=0.5, color='DarkSlateGrey')), \n",
    "                  selector=dict(mode='markers'))\n",
    "\n",
    "    fig.update_xaxes(visible=False)\n",
    "    fig.update_yaxes(visible=False)\n",
    "\n",
    "    return fig"
   ]
  },
  {
   "cell_type": "code",
   "execution_count": 10,
   "metadata": {},
   "outputs": [],
   "source": [
    "df_plot_skill, _ = prepare_plot_df(skill_df, matrix, skill_index_to_corrected,\n",
    "                                              prof_index_to_prof_name, \n",
    "                                              top_n_skill_per_profession=100,\n",
    "                                              norm_type='none', factor_alg_type='tsne')\n",
    "\n"
   ]
  },
  {
   "cell_type": "code",
   "execution_count": 11,
   "metadata": {},
   "outputs": [
    {
     "data": {
      "text/html": [
       "<div>\n",
       "<style scoped>\n",
       "    .dataframe tbody tr th:only-of-type {\n",
       "        vertical-align: middle;\n",
       "    }\n",
       "\n",
       "    .dataframe tbody tr th {\n",
       "        vertical-align: top;\n",
       "    }\n",
       "\n",
       "    .dataframe thead th {\n",
       "        text-align: right;\n",
       "    }\n",
       "</style>\n",
       "<table border=\"1\" class=\"dataframe\">\n",
       "  <thead>\n",
       "    <tr style=\"text-align: right;\">\n",
       "      <th></th>\n",
       "      <th>x</th>\n",
       "      <th>y</th>\n",
       "      <th>skill_id</th>\n",
       "      <th>Навык</th>\n",
       "      <th>Профессия</th>\n",
       "      <th>size</th>\n",
       "    </tr>\n",
       "  </thead>\n",
       "  <tbody>\n",
       "    <tr>\n",
       "      <th>0</th>\n",
       "      <td>25.143127</td>\n",
       "      <td>-9.562544</td>\n",
       "      <td>5</td>\n",
       "      <td>Бизнес-анализ</td>\n",
       "      <td>Бизнес-аналитик</td>\n",
       "      <td>15.800000</td>\n",
       "    </tr>\n",
       "    <tr>\n",
       "      <th>1</th>\n",
       "      <td>25.103373</td>\n",
       "      <td>-9.756906</td>\n",
       "      <td>158</td>\n",
       "      <td>Моделирование бизнес процессов</td>\n",
       "      <td>Бизнес-аналитик</td>\n",
       "      <td>13.891518</td>\n",
       "    </tr>\n",
       "    <tr>\n",
       "      <th>2</th>\n",
       "      <td>25.284517</td>\n",
       "      <td>-16.467566</td>\n",
       "      <td>2</td>\n",
       "      <td>Аналитическое мышление</td>\n",
       "      <td>Бизнес-аналитик</td>\n",
       "      <td>12.050000</td>\n",
       "    </tr>\n",
       "    <tr>\n",
       "      <th>3</th>\n",
       "      <td>24.821108</td>\n",
       "      <td>-7.667171</td>\n",
       "      <td>265</td>\n",
       "      <td>BPMN</td>\n",
       "      <td>Бизнес-аналитик</td>\n",
       "      <td>10.141518</td>\n",
       "    </tr>\n",
       "    <tr>\n",
       "      <th>4</th>\n",
       "      <td>24.834440</td>\n",
       "      <td>-10.984385</td>\n",
       "      <td>19</td>\n",
       "      <td>1С: Предприятие 8</td>\n",
       "      <td>Бизнес-аналитик</td>\n",
       "      <td>9.505357</td>\n",
       "    </tr>\n",
       "    <tr>\n",
       "      <th>...</th>\n",
       "      <td>...</td>\n",
       "      <td>...</td>\n",
       "      <td>...</td>\n",
       "      <td>...</td>\n",
       "      <td>...</td>\n",
       "      <td>...</td>\n",
       "    </tr>\n",
       "    <tr>\n",
       "      <th>416</th>\n",
       "      <td>-9.495220</td>\n",
       "      <td>-1.461552</td>\n",
       "      <td>1420</td>\n",
       "      <td>AWS</td>\n",
       "      <td>Инженер данных</td>\n",
       "      <td>0.937300</td>\n",
       "    </tr>\n",
       "    <tr>\n",
       "      <th>417</th>\n",
       "      <td>-9.603197</td>\n",
       "      <td>-2.289730</td>\n",
       "      <td>1007</td>\n",
       "      <td>ELK</td>\n",
       "      <td>Инженер данных</td>\n",
       "      <td>0.834325</td>\n",
       "    </tr>\n",
       "    <tr>\n",
       "      <th>418</th>\n",
       "      <td>-10.436560</td>\n",
       "      <td>-1.282676</td>\n",
       "      <td>855</td>\n",
       "      <td>Azure</td>\n",
       "      <td>Инженер данных</td>\n",
       "      <td>0.834325</td>\n",
       "    </tr>\n",
       "    <tr>\n",
       "      <th>419</th>\n",
       "      <td>-10.610202</td>\n",
       "      <td>-0.625837</td>\n",
       "      <td>473</td>\n",
       "      <td>PL/pgSQL</td>\n",
       "      <td>Инженер данных</td>\n",
       "      <td>0.800000</td>\n",
       "    </tr>\n",
       "    <tr>\n",
       "      <th>420</th>\n",
       "      <td>-10.464111</td>\n",
       "      <td>-1.654763</td>\n",
       "      <td>423</td>\n",
       "      <td>HDFS</td>\n",
       "      <td>Инженер данных</td>\n",
       "      <td>0.800000</td>\n",
       "    </tr>\n",
       "  </tbody>\n",
       "</table>\n",
       "<p>421 rows × 6 columns</p>\n",
       "</div>"
      ],
      "text/plain": [
       "             x          y  skill_id                           Навык  \\\n",
       "0    25.143127  -9.562544         5                   Бизнес-анализ   \n",
       "1    25.103373  -9.756906       158  Моделирование бизнес процессов   \n",
       "2    25.284517 -16.467566         2          Аналитическое мышление   \n",
       "3    24.821108  -7.667171       265                            BPMN   \n",
       "4    24.834440 -10.984385        19               1С: Предприятие 8   \n",
       "..         ...        ...       ...                             ...   \n",
       "416  -9.495220  -1.461552      1420                             AWS   \n",
       "417  -9.603197  -2.289730      1007                             ELK   \n",
       "418 -10.436560  -1.282676       855                           Azure   \n",
       "419 -10.610202  -0.625837       473                        PL/pgSQL   \n",
       "420 -10.464111  -1.654763       423                            HDFS   \n",
       "\n",
       "           Профессия       size  \n",
       "0    Бизнес-аналитик  15.800000  \n",
       "1    Бизнес-аналитик  13.891518  \n",
       "2    Бизнес-аналитик  12.050000  \n",
       "3    Бизнес-аналитик  10.141518  \n",
       "4    Бизнес-аналитик   9.505357  \n",
       "..               ...        ...  \n",
       "416   Инженер данных   0.937300  \n",
       "417   Инженер данных   0.834325  \n",
       "418   Инженер данных   0.834325  \n",
       "419   Инженер данных   0.800000  \n",
       "420   Инженер данных   0.800000  \n",
       "\n",
       "[421 rows x 6 columns]"
      ]
     },
     "execution_count": 11,
     "metadata": {},
     "output_type": "execute_result"
    }
   ],
   "source": [
    "df_plot_skill.drop_duplicates(subset=['x', 'y', 'skill_id', 'Навык'])"
   ]
  },
  {
   "cell_type": "code",
   "execution_count": 12,
   "metadata": {},
   "outputs": [
    {
     "data": {
      "text/plain": [
       "(421, 6)"
      ]
     },
     "execution_count": 12,
     "metadata": {},
     "output_type": "execute_result"
    }
   ],
   "source": [
    "df = df_plot_skill.drop_duplicates(subset=['x', 'y', 'skill_id'])\n",
    "df.shape"
   ]
  },
  {
   "cell_type": "code",
   "execution_count": 13,
   "metadata": {},
   "outputs": [
    {
     "data": {
      "text/html": [
       "<div>\n",
       "<style scoped>\n",
       "    .dataframe tbody tr th:only-of-type {\n",
       "        vertical-align: middle;\n",
       "    }\n",
       "\n",
       "    .dataframe tbody tr th {\n",
       "        vertical-align: top;\n",
       "    }\n",
       "\n",
       "    .dataframe thead th {\n",
       "        text-align: right;\n",
       "    }\n",
       "</style>\n",
       "<table border=\"1\" class=\"dataframe\">\n",
       "  <thead>\n",
       "    <tr style=\"text-align: right;\">\n",
       "      <th></th>\n",
       "      <th>x</th>\n",
       "      <th>y</th>\n",
       "      <th>skill_id</th>\n",
       "      <th>Навык</th>\n",
       "      <th>Профессия</th>\n",
       "      <th>size</th>\n",
       "    </tr>\n",
       "  </thead>\n",
       "  <tbody>\n",
       "    <tr>\n",
       "      <th>237</th>\n",
       "      <td>-15.683398</td>\n",
       "      <td>4.827402</td>\n",
       "      <td>1642</td>\n",
       "      <td>Генеративный Дизайн</td>\n",
       "      <td>Computer Vision</td>\n",
       "      <td>1.228571</td>\n",
       "    </tr>\n",
       "    <tr>\n",
       "      <th>238</th>\n",
       "      <td>-15.683398</td>\n",
       "      <td>4.827402</td>\n",
       "      <td>1548</td>\n",
       "      <td>Generative Design</td>\n",
       "      <td>Computer Vision</td>\n",
       "      <td>1.228571</td>\n",
       "    </tr>\n",
       "    <tr>\n",
       "      <th>239</th>\n",
       "      <td>-15.683398</td>\n",
       "      <td>4.827402</td>\n",
       "      <td>2274</td>\n",
       "      <td>GD</td>\n",
       "      <td>Computer Vision</td>\n",
       "      <td>1.228571</td>\n",
       "    </tr>\n",
       "    <tr>\n",
       "      <th>284</th>\n",
       "      <td>-3.740696</td>\n",
       "      <td>24.152159</td>\n",
       "      <td>1208</td>\n",
       "      <td>Telegraph</td>\n",
       "      <td>Администратор баз данных</td>\n",
       "      <td>0.864378</td>\n",
       "    </tr>\n",
       "    <tr>\n",
       "      <th>287</th>\n",
       "      <td>-4.383193</td>\n",
       "      <td>23.488447</td>\n",
       "      <td>1884</td>\n",
       "      <td>Tantor</td>\n",
       "      <td>Администратор баз данных</td>\n",
       "      <td>0.864378</td>\n",
       "    </tr>\n",
       "    <tr>\n",
       "      <th>288</th>\n",
       "      <td>-3.740696</td>\n",
       "      <td>24.152159</td>\n",
       "      <td>1273</td>\n",
       "      <td>barman</td>\n",
       "      <td>Администратор баз данных</td>\n",
       "      <td>0.864378</td>\n",
       "    </tr>\n",
       "    <tr>\n",
       "      <th>290</th>\n",
       "      <td>-4.383193</td>\n",
       "      <td>23.488447</td>\n",
       "      <td>241</td>\n",
       "      <td>Database Engine</td>\n",
       "      <td>Администратор баз данных</td>\n",
       "      <td>0.864378</td>\n",
       "    </tr>\n",
       "  </tbody>\n",
       "</table>\n",
       "</div>"
      ],
      "text/plain": [
       "             x          y  skill_id                Навык  \\\n",
       "237 -15.683398   4.827402      1642  Генеративный Дизайн   \n",
       "238 -15.683398   4.827402      1548    Generative Design   \n",
       "239 -15.683398   4.827402      2274                   GD   \n",
       "284  -3.740696  24.152159      1208            Telegraph   \n",
       "287  -4.383193  23.488447      1884               Tantor   \n",
       "288  -3.740696  24.152159      1273               barman   \n",
       "290  -4.383193  23.488447       241      Database Engine   \n",
       "\n",
       "                    Профессия      size  \n",
       "237           Computer Vision  1.228571  \n",
       "238           Computer Vision  1.228571  \n",
       "239           Computer Vision  1.228571  \n",
       "284  Администратор баз данных  0.864378  \n",
       "287  Администратор баз данных  0.864378  \n",
       "288  Администратор баз данных  0.864378  \n",
       "290  Администратор баз данных  0.864378  "
      ]
     },
     "execution_count": 13,
     "metadata": {},
     "output_type": "execute_result"
    }
   ],
   "source": [
    "df.groupby(['x', 'y']).filter(lambda x: len(x) > 1)"
   ]
  },
  {
   "attachments": {},
   "cell_type": "markdown",
   "metadata": {},
   "source": [
    "Это очень странно (выше, что разные навыки получили одну и ту же точку)"
   ]
  },
  {
   "cell_type": "code",
   "execution_count": 14,
   "metadata": {},
   "outputs": [
    {
     "data": {
      "text/plain": [
       "(2299, 13)"
      ]
     },
     "execution_count": 14,
     "metadata": {},
     "output_type": "execute_result"
    }
   ],
   "source": [
    "matrix.shape"
   ]
  },
  {
   "cell_type": "code",
   "execution_count": 15,
   "metadata": {},
   "outputs": [
    {
     "data": {
      "text/plain": [
       "(748, 13)"
      ]
     },
     "execution_count": 15,
     "metadata": {},
     "output_type": "execute_result"
    }
   ],
   "source": [
    "np.unique(matrix, axis=0).shape"
   ]
  },
  {
   "attachments": {},
   "cell_type": "markdown",
   "metadata": {},
   "source": [
    "Думаю объяснение выше: есть множество навыков, которые имеют абсолютно одиниковое предстваление в профессиях"
   ]
  },
  {
   "attachments": {},
   "cell_type": "markdown",
   "metadata": {},
   "source": [
    "Mean reciprocal rank https://en.wikipedia.org/wiki/Mean_reciprocal_rank"
   ]
  },
  {
   "cell_type": "code",
   "execution_count": 16,
   "metadata": {},
   "outputs": [],
   "source": [
    "# df_plot_skill, _ = prepare_plot_df(skill_df, matrix, skill_index_to_corrected,\n",
    "#                                               prof_index_to_prof_name, \n",
    "#                                               top_n_skill_per_profession=30,\n",
    "#                                               norm_type='skill', alg_type='tnse')"
   ]
  },
  {
   "cell_type": "code",
   "execution_count": 17,
   "metadata": {},
   "outputs": [
    {
     "data": {
      "text/plain": [
       "(0.08933945645323976, 108)"
      ]
     },
     "execution_count": 17,
     "metadata": {},
     "output_type": "execute_result"
    }
   ],
   "source": [
    "def get_mean_reciprocal_rank(df: pd.DataFrame, pairs: List[List[str]]) -> Tuple[float, int]:\n",
    "    \"\"\"Mean reciprocal rank https://en.wikipedia.org/wiki/Mean_reciprocal_rank\n",
    "        \n",
    "        Parameters\n",
    "        ----------\n",
    "        df: pd.DataFrame\n",
    "            Data frame with columns ['x', 'y', 'Навык']\n",
    "        pairs: List[List[str]]\n",
    "            Target nearest skills pairs\n",
    "   \n",
    "        Returns\n",
    "        -------\n",
    "        Tuple[float, int] : \n",
    "            - mean_reciprocal_rank\n",
    "            - pairs count\n",
    "    \"\"\"\n",
    "\n",
    "    df = df.drop_duplicates(subset=['x', 'y', 'Навык'])\n",
    "\n",
    "    # берем только те строки, которые есть в тестовых парах\n",
    "    # берем только те пары, навыки которых есть в данных\n",
    "\n",
    "    skills_test_set = set([])\n",
    "    for p in skill_pairs:\n",
    "        skills_test_set = skills_test_set.union(set(p))\n",
    "\n",
    "    df = df[df['Навык'].apply(lambda x: x in skills_test_set)]\n",
    "    df = df.reset_index(drop=True)\n",
    "\n",
    "    su = df['Навык'].unique()\n",
    "    pairs = [x for x in pairs if x[0] in su and x[1] in su]\n",
    "\n",
    "    # считаем расстояния в наших данных\n",
    "    x = df[['x', 'y']].to_numpy()\n",
    "    dist = cdist(x, x, 'sqeuclidean')\n",
    "\n",
    "    cs = 0\n",
    "    for p in pairs:\n",
    "        ind_p0 = df[df['Навык'] == p[0]].index[0]\n",
    "        ind_p1 = df[df['Навык'] == p[1]].index[0]\n",
    "\n",
    "        nn = np.argsort(dist[ind_p0, :])\n",
    "        rank = np.where(nn==ind_p1)[0][0]\n",
    "        cs += 1/(rank+1)\n",
    "\n",
    "        nn = np.argsort(dist[ind_p1, :])\n",
    "        rank = np.where(nn==ind_p0)[0][0]\n",
    "        cs += 1/(rank+1)\n",
    "\n",
    "    mean_reciprocal_rank = cs / (2 * len(pairs))\n",
    "    return mean_reciprocal_rank, len(pairs)\n",
    "\n",
    "get_mean_reciprocal_rank(df_plot_skill, skill_pairs)"
   ]
  },
  {
   "attachments": {},
   "cell_type": "markdown",
   "metadata": {},
   "source": [
    "Метрика **mean_reciprocal_rank@pairs=50**. Стремимся увеличить метрику, но сохранив количество пар, которые встречаются в данных, на уровне не менее 50\n",
    "\n",
    "\n"
   ]
  },
  {
   "cell_type": "code",
   "execution_count": 18,
   "metadata": {},
   "outputs": [
    {
     "name": "stdout",
     "output_type": "stream",
     "text": [
      "\n",
      "none tsne 5 True 20\n",
      "mrr = 0.1811193673129521, pairs_count = 29\n",
      "\n",
      "none tsne 5 True 21\n",
      "mrr = 0.1779311293172396, pairs_count = 29\n",
      "\n",
      "none tsne 5 True 22\n",
      "mrr = 0.1733003355315871, pairs_count = 29\n",
      "\n",
      "none tsne 5 True 23\n",
      "mrr = 0.13693458812819143, pairs_count = 35\n",
      "\n",
      "none tsne 5 True 24\n",
      "mrr = 0.1393971426158016, pairs_count = 35\n",
      "\n",
      "none tsne 5 True 25\n",
      "mrr = 0.14203689847158257, pairs_count = 36\n",
      "\n",
      "none tsne 5 True 26\n",
      "mrr = 0.14332632479005833, pairs_count = 38\n",
      "\n",
      "none tsne 5 True 27\n",
      "mrr = 0.13040463530580973, pairs_count = 38\n",
      "\n",
      "none tsne 5 True 28\n",
      "mrr = 0.14696055578389483, pairs_count = 38\n",
      "\n",
      "none tsne 5 True 29\n",
      "mrr = 0.1311307068283463, pairs_count = 38\n",
      "\n",
      "none tsne 5 True 30\n",
      "mrr = 0.13541687204158834, pairs_count = 39\n",
      "\n",
      "none tsne 5 True 31\n",
      "mrr = 0.13049669935203112, pairs_count = 42\n",
      "\n",
      "none tsne 5 True 32\n",
      "mrr = 0.13936881806373969, pairs_count = 42\n",
      "\n",
      "none tsne 5 True 33\n",
      "mrr = 0.12630290880415554, pairs_count = 45\n",
      "\n",
      "none tsne 5 True 34\n",
      "mrr = 0.12217412989080692, pairs_count = 46\n",
      "\n",
      "none tsne 5 True 35\n",
      "mrr = 0.11278068983304819, pairs_count = 47\n",
      "\n",
      "none tsne 5 True 36\n",
      "mrr = 0.11563448138548557, pairs_count = 47\n",
      "\n",
      "none tsne 5 True 37\n",
      "mrr = 0.11619893802999362, pairs_count = 53\n",
      "\n",
      "none tsne 5 True 38\n",
      "mrr = 0.10570528707646142, pairs_count = 55\n",
      "\n",
      "none tsne 5 True 39\n",
      "mrr = 0.10379561140188161, pairs_count = 55\n",
      "\n",
      "none tsne 5 True 40\n",
      "mrr = 0.11242619957038631, pairs_count = 59\n",
      "\n",
      "none tsne 5 True 41\n",
      "mrr = 0.10264087837872996, pairs_count = 60\n",
      "\n",
      "none tsne 5 True 42\n",
      "mrr = 0.11019217404853085, pairs_count = 66\n",
      "\n",
      "none tsne 5 True 43\n",
      "mrr = 0.09367015687339025, pairs_count = 68\n",
      "\n",
      "none tsne 5 True 44\n",
      "mrr = 0.09064031387215729, pairs_count = 68\n",
      "\n",
      "none tsne 5 True 45\n",
      "mrr = 0.09614860997312277, pairs_count = 69\n",
      "\n",
      "none tsne 5 True 46\n",
      "mrr = 0.104292065084232, pairs_count = 71\n",
      "\n",
      "none tsne 5 True 47\n",
      "mrr = 0.09219730115077707, pairs_count = 72\n",
      "\n",
      "none tsne 5 True 48\n",
      "mrr = 0.09064508430243882, pairs_count = 72\n",
      "\n",
      "none tsne 5 True 49\n",
      "mrr = 0.09507065890241681, pairs_count = 73\n",
      "\n",
      "none tsne 5 True 50\n",
      "mrr = 0.09437622495339375, pairs_count = 74\n",
      "\n",
      "none als 5 True 20\n",
      "mrr = 0.13132518280297673, pairs_count = 29\n",
      "\n",
      "none als 5 True 21\n",
      "mrr = 0.1343402160009319, pairs_count = 29\n",
      "\n",
      "none als 5 True 22\n",
      "mrr = 0.09158710175599773, pairs_count = 29\n",
      "\n",
      "none als 5 True 23\n",
      "mrr = 0.09298853847703795, pairs_count = 35\n",
      "\n",
      "none als 5 True 24\n",
      "mrr = 0.1248965546215513, pairs_count = 35\n",
      "\n",
      "none als 5 True 25\n",
      "mrr = 0.1192421762078742, pairs_count = 36\n",
      "\n",
      "none als 5 True 26\n",
      "mrr = 0.10919068349289701, pairs_count = 38\n",
      "\n",
      "none als 5 True 27\n",
      "mrr = 0.09364178578207155, pairs_count = 38\n",
      "\n",
      "none als 5 True 28\n",
      "mrr = 0.07804171297737891, pairs_count = 38\n",
      "\n",
      "none als 5 True 29\n",
      "mrr = 0.0984766503509661, pairs_count = 38\n",
      "\n",
      "none als 5 True 30\n",
      "mrr = 0.08663158994528669, pairs_count = 39\n",
      "\n",
      "none als 5 True 31\n",
      "mrr = 0.07342837264702021, pairs_count = 42\n",
      "\n",
      "none als 5 True 32\n",
      "mrr = 0.06919732521306432, pairs_count = 42\n",
      "\n",
      "none als 5 True 33\n",
      "mrr = 0.08423477736402696, pairs_count = 45\n",
      "\n",
      "none als 5 True 34\n",
      "mrr = 0.09150168840871048, pairs_count = 46\n",
      "\n",
      "none als 5 True 35\n",
      "mrr = 0.07930571834080502, pairs_count = 47\n",
      "\n",
      "none als 5 True 36\n",
      "mrr = 0.07466449657717714, pairs_count = 47\n",
      "\n",
      "none als 5 True 37\n",
      "mrr = 0.07544351425300362, pairs_count = 53\n",
      "\n",
      "none als 5 True 38\n",
      "mrr = 0.06898557224788188, pairs_count = 55\n",
      "\n",
      "none als 5 True 39\n",
      "mrr = 0.0896385135536103, pairs_count = 55\n",
      "\n",
      "none als 5 True 40\n",
      "mrr = 0.05935188805014564, pairs_count = 59\n",
      "\n",
      "none als 5 True 41\n",
      "mrr = 0.06131354393063845, pairs_count = 60\n",
      "\n",
      "none als 5 True 42\n",
      "mrr = 0.07038489911386817, pairs_count = 66\n",
      "\n",
      "none als 5 True 43\n",
      "mrr = 0.06680736199249096, pairs_count = 68\n",
      "\n",
      "none als 5 True 44\n",
      "mrr = 0.05835379438787493, pairs_count = 68\n",
      "\n",
      "none als 5 True 45\n",
      "mrr = 0.06153586205629043, pairs_count = 69\n",
      "\n",
      "none als 5 True 46\n",
      "mrr = 0.05132132737428743, pairs_count = 71\n",
      "\n",
      "none als 5 True 47\n",
      "mrr = 0.0570145110715515, pairs_count = 72\n",
      "\n",
      "none als 5 True 48\n",
      "mrr = 0.05065028281978787, pairs_count = 72\n",
      "\n",
      "none als 5 True 49\n",
      "mrr = 0.05599731790706493, pairs_count = 73\n",
      "\n",
      "none als 5 True 50\n",
      "mrr = 0.049110083065750244, pairs_count = 74\n",
      "\n",
      "none svd 5 True 20\n",
      "mrr = 0.11540163843101411, pairs_count = 29\n",
      "\n",
      "none svd 5 True 21\n",
      "mrr = 0.11515249092532379, pairs_count = 29\n",
      "\n",
      "none svd 5 True 22\n",
      "mrr = 0.114697844825162, pairs_count = 29\n",
      "\n",
      "none svd 5 True 23\n",
      "mrr = 0.09924911129519733, pairs_count = 35\n",
      "\n",
      "none svd 5 True 24\n",
      "mrr = 0.09924911129519733, pairs_count = 35\n",
      "\n",
      "none svd 5 True 25\n",
      "mrr = 0.09776733611014073, pairs_count = 36\n",
      "\n",
      "none svd 5 True 26\n",
      "mrr = 0.09287956348851295, pairs_count = 38\n",
      "\n",
      "none svd 5 True 27\n",
      "mrr = 0.09258833787862028, pairs_count = 38\n",
      "\n",
      "none svd 5 True 28\n",
      "mrr = 0.09192554112711776, pairs_count = 38\n",
      "\n",
      "none svd 5 True 29\n",
      "mrr = 0.09135121777494454, pairs_count = 38\n",
      "\n",
      "none svd 5 True 30\n",
      "mrr = 0.08926448168473909, pairs_count = 39\n",
      "\n",
      "none svd 5 True 31\n",
      "mrr = 0.0858787030973142, pairs_count = 42\n",
      "\n",
      "none svd 5 True 32\n",
      "mrr = 0.08562502391195065, pairs_count = 42\n",
      "\n",
      "none svd 5 True 33\n",
      "mrr = 0.0817019504301999, pairs_count = 45\n",
      "\n",
      "none svd 5 True 34\n",
      "mrr = 0.08522607600760805, pairs_count = 46\n",
      "\n",
      "none svd 5 True 35\n",
      "mrr = 0.08835736813294968, pairs_count = 47\n",
      "\n",
      "none svd 5 True 36\n",
      "mrr = 0.08520944363862261, pairs_count = 47\n",
      "\n",
      "none svd 5 True 37\n",
      "mrr = 0.07798706786526635, pairs_count = 53\n",
      "\n",
      "none svd 5 True 38\n",
      "mrr = 0.0753600473840348, pairs_count = 55\n",
      "\n",
      "none svd 5 True 39\n",
      "mrr = 0.07393378571087203, pairs_count = 55\n",
      "\n",
      "none svd 5 True 40\n",
      "mrr = 0.06945046736378302, pairs_count = 59\n",
      "\n",
      "none svd 5 True 41\n",
      "mrr = 0.0688061186472008, pairs_count = 60\n",
      "\n",
      "none svd 5 True 42\n",
      "mrr = 0.06424986855952014, pairs_count = 66\n",
      "\n",
      "none svd 5 True 43\n",
      "mrr = 0.06276168253905764, pairs_count = 68\n",
      "\n",
      "none svd 5 True 44\n",
      "mrr = 0.0622988207264629, pairs_count = 68\n",
      "\n",
      "none svd 5 True 45\n",
      "mrr = 0.06249098977767311, pairs_count = 69\n",
      "\n",
      "none svd 5 True 46\n",
      "mrr = 0.06184778097486468, pairs_count = 71\n",
      "\n",
      "none svd 5 True 47\n",
      "mrr = 0.06078210057990696, pairs_count = 72\n",
      "\n",
      "none svd 5 True 48\n",
      "mrr = 0.06044145453613592, pairs_count = 72\n",
      "\n",
      "none svd 5 True 49\n",
      "mrr = 0.06051566713799261, pairs_count = 73\n",
      "\n",
      "none svd 5 True 50\n",
      "mrr = 0.061230459701256554, pairs_count = 74\n",
      "\n",
      "none svd 2 False 20\n",
      "mrr = 0.11540163843101411, pairs_count = 29\n",
      "\n",
      "none svd 2 False 21\n",
      "mrr = 0.11515249092532379, pairs_count = 29\n",
      "\n",
      "none svd 2 False 22\n",
      "mrr = 0.114697844825162, pairs_count = 29\n",
      "\n",
      "none svd 2 False 23\n",
      "mrr = 0.09924911129519733, pairs_count = 35\n",
      "\n",
      "none svd 2 False 24\n",
      "mrr = 0.09924911129519733, pairs_count = 35\n",
      "\n",
      "none svd 2 False 25\n",
      "mrr = 0.09776733611014073, pairs_count = 36\n",
      "\n",
      "none svd 2 False 26\n",
      "mrr = 0.09287956348851295, pairs_count = 38\n",
      "\n",
      "none svd 2 False 27\n",
      "mrr = 0.09258833787862028, pairs_count = 38\n",
      "\n",
      "none svd 2 False 28\n",
      "mrr = 0.09192554112711776, pairs_count = 38\n",
      "\n",
      "none svd 2 False 29\n",
      "mrr = 0.09135121777494454, pairs_count = 38\n",
      "\n",
      "none svd 2 False 30\n",
      "mrr = 0.08926448168473909, pairs_count = 39\n",
      "\n",
      "none svd 2 False 31\n",
      "mrr = 0.0858787030973142, pairs_count = 42\n",
      "\n",
      "none svd 2 False 32\n",
      "mrr = 0.08562502391195065, pairs_count = 42\n",
      "\n",
      "none svd 2 False 33\n",
      "mrr = 0.0817019504301999, pairs_count = 45\n",
      "\n",
      "none svd 2 False 34\n",
      "mrr = 0.08522607600760805, pairs_count = 46\n",
      "\n",
      "none svd 2 False 35\n",
      "mrr = 0.08835736813294968, pairs_count = 47\n",
      "\n",
      "none svd 2 False 36\n",
      "mrr = 0.08520944363862261, pairs_count = 47\n",
      "\n",
      "none svd 2 False 37\n",
      "mrr = 0.07798706786526635, pairs_count = 53\n",
      "\n",
      "none svd 2 False 38\n",
      "mrr = 0.0753600473840348, pairs_count = 55\n",
      "\n",
      "none svd 2 False 39\n",
      "mrr = 0.07393378571087203, pairs_count = 55\n",
      "\n",
      "none svd 2 False 40\n",
      "mrr = 0.06945046736378302, pairs_count = 59\n",
      "\n",
      "none svd 2 False 41\n",
      "mrr = 0.0688061186472008, pairs_count = 60\n",
      "\n",
      "none svd 2 False 42\n",
      "mrr = 0.06424986855952014, pairs_count = 66\n",
      "\n",
      "none svd 2 False 43\n",
      "mrr = 0.06276168253905764, pairs_count = 68\n",
      "\n",
      "none svd 2 False 44\n",
      "mrr = 0.0622988207264629, pairs_count = 68\n",
      "\n",
      "none svd 2 False 45\n",
      "mrr = 0.06249098977767311, pairs_count = 69\n",
      "\n",
      "none svd 2 False 46\n",
      "mrr = 0.06184778097486468, pairs_count = 71\n",
      "\n",
      "none svd 2 False 47\n",
      "mrr = 0.06078210057990696, pairs_count = 72\n",
      "\n",
      "none svd 2 False 48\n",
      "mrr = 0.06044145453613592, pairs_count = 72\n",
      "\n",
      "none svd 2 False 49\n",
      "mrr = 0.06051566713799261, pairs_count = 73\n",
      "\n",
      "none svd 2 False 50\n",
      "mrr = 0.061230459701256554, pairs_count = 74\n",
      "\n",
      "none pca 5 True 20\n",
      "mrr = 0.14835949835762102, pairs_count = 29\n",
      "\n",
      "none pca 5 True 21\n",
      "mrr = 0.14692627041317524, pairs_count = 29\n",
      "\n",
      "none pca 5 True 22\n",
      "mrr = 0.14185669484402566, pairs_count = 29\n",
      "\n",
      "none pca 5 True 23\n",
      "mrr = 0.12421381300160618, pairs_count = 35\n",
      "\n",
      "none pca 5 True 24\n",
      "mrr = 0.12422102800882119, pairs_count = 35\n",
      "\n",
      "none pca 5 True 25\n",
      "mrr = 0.1247104026585711, pairs_count = 36\n",
      "\n",
      "none pca 5 True 26\n",
      "mrr = 0.11851632552942311, pairs_count = 38\n",
      "\n",
      "none pca 5 True 27\n",
      "mrr = 0.1141075505550269, pairs_count = 38\n",
      "\n",
      "none pca 5 True 28\n",
      "mrr = 0.11247019328866505, pairs_count = 38\n",
      "\n",
      "none pca 5 True 29\n",
      "mrr = 0.11126739307839877, pairs_count = 38\n",
      "\n",
      "none pca 5 True 30\n",
      "mrr = 0.10846156744516848, pairs_count = 39\n",
      "\n",
      "none pca 5 True 31\n",
      "mrr = 0.11011826978005707, pairs_count = 42\n",
      "\n",
      "none pca 5 True 32\n",
      "mrr = 0.10954593523415947, pairs_count = 42\n",
      "\n",
      "none pca 5 True 33\n",
      "mrr = 0.10053500713293023, pairs_count = 45\n",
      "\n",
      "none pca 5 True 34\n",
      "mrr = 0.09760614559629877, pairs_count = 46\n",
      "\n",
      "none pca 5 True 35\n",
      "mrr = 0.09771992272398285, pairs_count = 47\n",
      "\n",
      "none pca 5 True 36\n",
      "mrr = 0.09379075207387104, pairs_count = 47\n",
      "\n",
      "none pca 5 True 37\n",
      "mrr = 0.08645496346726636, pairs_count = 53\n",
      "\n",
      "none pca 5 True 38\n",
      "mrr = 0.08328163215361935, pairs_count = 55\n",
      "\n",
      "none pca 5 True 39\n",
      "mrr = 0.08252548359817234, pairs_count = 55\n",
      "\n",
      "none pca 5 True 40\n",
      "mrr = 0.0790896477686039, pairs_count = 59\n",
      "\n",
      "none pca 5 True 41\n",
      "mrr = 0.07868017276369767, pairs_count = 60\n",
      "\n",
      "none pca 5 True 42\n",
      "mrr = 0.07260487290019235, pairs_count = 66\n",
      "\n",
      "none pca 5 True 43\n",
      "mrr = 0.07079556260954577, pairs_count = 68\n",
      "\n",
      "none pca 5 True 44\n",
      "mrr = 0.06964044318680619, pairs_count = 68\n",
      "\n",
      "none pca 5 True 45\n",
      "mrr = 0.06898558494397082, pairs_count = 69\n",
      "\n",
      "none pca 5 True 46\n",
      "mrr = 0.06834696510749606, pairs_count = 71\n",
      "\n",
      "none pca 5 True 47\n",
      "mrr = 0.06745403263867766, pairs_count = 72\n",
      "\n",
      "none pca 5 True 48\n",
      "mrr = 0.06744383531488385, pairs_count = 72\n",
      "\n",
      "none pca 5 True 49\n",
      "mrr = 0.0663794499772518, pairs_count = 73\n",
      "\n",
      "none pca 5 True 50\n",
      "mrr = 0.06977879448957715, pairs_count = 74\n",
      "\n",
      "none pca 2 False 20\n",
      "mrr = 0.14835949835762102, pairs_count = 29\n",
      "\n",
      "none pca 2 False 21\n",
      "mrr = 0.14692627041317524, pairs_count = 29\n",
      "\n",
      "none pca 2 False 22\n",
      "mrr = 0.14185669484402566, pairs_count = 29\n",
      "\n",
      "none pca 2 False 23\n",
      "mrr = 0.12421381300160618, pairs_count = 35\n",
      "\n",
      "none pca 2 False 24\n",
      "mrr = 0.12422102800882119, pairs_count = 35\n",
      "\n",
      "none pca 2 False 25\n",
      "mrr = 0.1247104026585711, pairs_count = 36\n",
      "\n",
      "none pca 2 False 26\n",
      "mrr = 0.11851632552942311, pairs_count = 38\n",
      "\n",
      "none pca 2 False 27\n",
      "mrr = 0.1141075505550269, pairs_count = 38\n",
      "\n",
      "none pca 2 False 28\n",
      "mrr = 0.11247019328866505, pairs_count = 38\n",
      "\n",
      "none pca 2 False 29\n",
      "mrr = 0.11126739307839877, pairs_count = 38\n",
      "\n",
      "none pca 2 False 30\n",
      "mrr = 0.10846156744516848, pairs_count = 39\n",
      "\n",
      "none pca 2 False 31\n",
      "mrr = 0.11011826978005707, pairs_count = 42\n",
      "\n",
      "none pca 2 False 32\n",
      "mrr = 0.10954593523415947, pairs_count = 42\n",
      "\n",
      "none pca 2 False 33\n",
      "mrr = 0.10053500713293023, pairs_count = 45\n",
      "\n",
      "none pca 2 False 34\n",
      "mrr = 0.09760614559629877, pairs_count = 46\n",
      "\n",
      "none pca 2 False 35\n",
      "mrr = 0.09771992272398285, pairs_count = 47\n",
      "\n",
      "none pca 2 False 36\n",
      "mrr = 0.09379075207387104, pairs_count = 47\n",
      "\n",
      "none pca 2 False 37\n",
      "mrr = 0.08645496346726636, pairs_count = 53\n",
      "\n",
      "none pca 2 False 38\n",
      "mrr = 0.08328163215361935, pairs_count = 55\n",
      "\n",
      "none pca 2 False 39\n",
      "mrr = 0.08252548359817234, pairs_count = 55\n",
      "\n",
      "none pca 2 False 40\n",
      "mrr = 0.0790896477686039, pairs_count = 59\n",
      "\n",
      "none pca 2 False 41\n",
      "mrr = 0.07868017276369767, pairs_count = 60\n",
      "\n",
      "none pca 2 False 42\n",
      "mrr = 0.07260487290019235, pairs_count = 66\n",
      "\n",
      "none pca 2 False 43\n",
      "mrr = 0.07079556260954577, pairs_count = 68\n",
      "\n",
      "none pca 2 False 44\n",
      "mrr = 0.06964044318680619, pairs_count = 68\n",
      "\n",
      "none pca 2 False 45\n",
      "mrr = 0.06898558494397082, pairs_count = 69\n",
      "\n",
      "none pca 2 False 46\n",
      "mrr = 0.06834696510749606, pairs_count = 71\n",
      "\n",
      "none pca 2 False 47\n",
      "mrr = 0.06745403263867766, pairs_count = 72\n",
      "\n",
      "none pca 2 False 48\n",
      "mrr = 0.06744383531488385, pairs_count = 72\n",
      "\n",
      "none pca 2 False 49\n",
      "mrr = 0.0663794499772518, pairs_count = 73\n",
      "\n",
      "none pca 2 False 50\n",
      "mrr = 0.06977879448957715, pairs_count = 74\n",
      "\n",
      "none sim_euclid 5 True 20\n",
      "mrr = 0.14316086825879015, pairs_count = 29\n",
      "\n",
      "none sim_euclid 5 True 21\n",
      "mrr = 0.1380559036992478, pairs_count = 29\n",
      "\n",
      "none sim_euclid 5 True 22\n",
      "mrr = 0.14205179705586674, pairs_count = 29\n",
      "\n",
      "none sim_euclid 5 True 23\n",
      "mrr = 0.11909854635159556, pairs_count = 35\n",
      "\n",
      "none sim_euclid 5 True 24\n",
      "mrr = 0.11726403703694248, pairs_count = 35\n",
      "\n",
      "none sim_euclid 5 True 25\n",
      "mrr = 0.11936832399813263, pairs_count = 36\n",
      "\n",
      "none sim_euclid 5 True 26\n",
      "mrr = 0.11217163311704588, pairs_count = 38\n",
      "\n",
      "none sim_euclid 5 True 27\n",
      "mrr = 0.11803478480525544, pairs_count = 38\n",
      "\n",
      "none sim_euclid 5 True 28\n",
      "mrr = 0.11415765449247738, pairs_count = 38\n",
      "\n",
      "none sim_euclid 5 True 29\n",
      "mrr = 0.11230882085961601, pairs_count = 38\n",
      "\n",
      "none sim_euclid 5 True 30\n",
      "mrr = 0.10725776824111168, pairs_count = 39\n",
      "\n",
      "none sim_euclid 5 True 31\n",
      "mrr = 0.1114079639725597, pairs_count = 42\n",
      "\n",
      "none sim_euclid 5 True 32\n",
      "mrr = 0.10859368514238496, pairs_count = 42\n",
      "\n",
      "none sim_euclid 5 True 33\n",
      "mrr = 0.10328113975873726, pairs_count = 45\n",
      "\n",
      "none sim_euclid 5 True 34\n",
      "mrr = 0.09700864930079821, pairs_count = 46\n",
      "\n",
      "none sim_euclid 5 True 35\n",
      "mrr = 0.10051589928234748, pairs_count = 47\n",
      "\n",
      "none sim_euclid 5 True 36\n",
      "mrr = 0.0967125953679875, pairs_count = 47\n",
      "\n",
      "none sim_euclid 5 True 37\n",
      "mrr = 0.08828715004127789, pairs_count = 53\n",
      "\n",
      "none sim_euclid 5 True 38\n",
      "mrr = 0.08091468464111412, pairs_count = 55\n",
      "\n",
      "none sim_euclid 5 True 39\n",
      "mrr = 0.08174700540833493, pairs_count = 55\n",
      "\n",
      "none sim_euclid 5 True 40\n",
      "mrr = 0.08018106206429346, pairs_count = 59\n",
      "\n",
      "none sim_euclid 5 True 41\n",
      "mrr = 0.08080354149318066, pairs_count = 60\n",
      "\n",
      "none sim_euclid 5 True 42\n",
      "mrr = 0.06728028430122582, pairs_count = 66\n",
      "\n",
      "none sim_euclid 5 True 43\n",
      "mrr = 0.07110780493839715, pairs_count = 68\n",
      "\n",
      "none sim_euclid 5 True 44\n",
      "mrr = 0.07145815465414321, pairs_count = 68\n",
      "\n",
      "none sim_euclid 5 True 45\n",
      "mrr = 0.06726117875978782, pairs_count = 69\n",
      "\n",
      "none sim_euclid 5 True 46\n",
      "mrr = 0.06815039991141814, pairs_count = 71\n",
      "\n",
      "none sim_euclid 5 True 47\n",
      "mrr = 0.06615234628159329, pairs_count = 72\n",
      "\n",
      "none sim_euclid 5 True 48\n",
      "mrr = 0.06640910244406302, pairs_count = 72\n",
      "\n",
      "none sim_euclid 5 True 49\n",
      "mrr = 0.06793619325774182, pairs_count = 73\n",
      "\n",
      "none sim_euclid 5 True 50\n",
      "mrr = 0.07212655848859975, pairs_count = 74\n",
      "\n",
      "none sim_cos 5 True 20\n",
      "mrr = 0.20324603957754395, pairs_count = 29\n",
      "\n",
      "none sim_cos 5 True 21\n",
      "mrr = 0.19703142969331205, pairs_count = 29\n",
      "\n",
      "none sim_cos 5 True 22\n",
      "mrr = 0.19550936626008963, pairs_count = 29\n",
      "\n",
      "none sim_cos 5 True 23\n",
      "mrr = 0.18082370849747414, pairs_count = 35\n",
      "\n",
      "none sim_cos 5 True 24\n",
      "mrr = 0.17758181908735293, pairs_count = 35\n",
      "\n",
      "none sim_cos 5 True 25\n",
      "mrr = 0.16919415700529436, pairs_count = 36\n",
      "\n",
      "none sim_cos 5 True 26\n",
      "mrr = 0.17160843088286032, pairs_count = 38\n",
      "\n",
      "none sim_cos 5 True 27\n",
      "mrr = 0.1752188710781085, pairs_count = 38\n",
      "\n",
      "none sim_cos 5 True 28\n",
      "mrr = 0.16607997078110226, pairs_count = 38\n",
      "\n",
      "none sim_cos 5 True 29\n",
      "mrr = 0.17153909011438148, pairs_count = 38\n",
      "\n",
      "none sim_cos 5 True 30\n",
      "mrr = 0.1777538482430604, pairs_count = 39\n",
      "\n",
      "none sim_cos 5 True 31\n",
      "mrr = 0.16068484992925525, pairs_count = 42\n",
      "\n",
      "none sim_cos 5 True 32\n",
      "mrr = 0.16509527979274835, pairs_count = 42\n",
      "\n",
      "none sim_cos 5 True 33\n",
      "mrr = 0.16579549919826686, pairs_count = 45\n",
      "\n",
      "none sim_cos 5 True 34\n",
      "mrr = 0.16333193112383837, pairs_count = 46\n",
      "\n",
      "none sim_cos 5 True 35\n",
      "mrr = 0.16897887693752903, pairs_count = 47\n",
      "\n",
      "none sim_cos 5 True 36\n",
      "mrr = 0.16333697188604424, pairs_count = 47\n",
      "\n",
      "none sim_cos 5 True 37\n",
      "mrr = 0.15247644991841053, pairs_count = 53\n",
      "\n",
      "none sim_cos 5 True 38\n",
      "mrr = 0.15406814024769372, pairs_count = 55\n",
      "\n",
      "none sim_cos 5 True 39\n",
      "mrr = 0.14931322302732247, pairs_count = 55\n",
      "\n",
      "none sim_cos 5 True 40\n",
      "mrr = 0.14267626423582305, pairs_count = 59\n",
      "\n",
      "none sim_cos 5 True 41\n",
      "mrr = 0.15075195561808358, pairs_count = 60\n",
      "\n",
      "none sim_cos 5 True 42\n",
      "mrr = 0.14866500995213613, pairs_count = 66\n",
      "\n",
      "none sim_cos 5 True 43\n",
      "mrr = 0.15253069324754595, pairs_count = 68\n",
      "\n",
      "none sim_cos 5 True 44\n",
      "mrr = 0.14582286521383941, pairs_count = 68\n",
      "\n",
      "none sim_cos 5 True 45\n",
      "mrr = 0.14268276156472928, pairs_count = 69\n",
      "\n",
      "none sim_cos 5 True 46\n",
      "mrr = 0.1369932665001775, pairs_count = 71\n",
      "\n",
      "none sim_cos 5 True 47\n",
      "mrr = 0.1401651270703882, pairs_count = 72\n",
      "\n",
      "none sim_cos 5 True 48\n",
      "mrr = 0.139447213453876, pairs_count = 72\n",
      "\n",
      "none sim_cos 5 True 49\n",
      "mrr = 0.13390587086010783, pairs_count = 73\n",
      "\n",
      "none sim_cos 5 True 50\n",
      "mrr = 0.13400494364534088, pairs_count = 74\n",
      "\n",
      "none umap 5 True 20\n",
      "mrr = 0.17277322059299163, pairs_count = 29\n",
      "\n",
      "none umap 5 True 21\n",
      "mrr = 0.19283784550184882, pairs_count = 29\n",
      "\n",
      "none umap 5 True 22\n",
      "mrr = 0.17512659541041928, pairs_count = 29\n",
      "\n",
      "none umap 5 True 23\n",
      "mrr = 0.1614431826721409, pairs_count = 35\n",
      "\n",
      "none umap 5 True 24\n",
      "mrr = 0.14446286922896684, pairs_count = 35\n",
      "\n",
      "none umap 5 True 25\n",
      "mrr = 0.1543920888899205, pairs_count = 36\n",
      "\n",
      "none umap 5 True 26\n",
      "mrr = 0.12980291210181483, pairs_count = 38\n",
      "\n",
      "none umap 5 True 27\n",
      "mrr = 0.15690557586269005, pairs_count = 38\n",
      "\n",
      "none umap 5 True 28\n",
      "mrr = 0.14345227885804093, pairs_count = 38\n",
      "\n",
      "none umap 5 True 29\n",
      "mrr = 0.15173366772687644, pairs_count = 38\n",
      "\n",
      "none umap 5 True 30\n",
      "mrr = 0.13641991280001897, pairs_count = 39\n",
      "\n",
      "none umap 5 True 31\n",
      "mrr = 0.14442762291203973, pairs_count = 42\n",
      "\n",
      "none umap 5 True 32\n",
      "mrr = 0.13264167719625727, pairs_count = 42\n",
      "\n",
      "none umap 5 True 33\n",
      "mrr = 0.13233141544100163, pairs_count = 45\n",
      "\n",
      "none umap 5 True 34\n",
      "mrr = 0.1326886163810831, pairs_count = 46\n",
      "\n",
      "none umap 5 True 35\n",
      "mrr = 0.13125205972451773, pairs_count = 47\n",
      "\n",
      "none umap 5 True 36\n",
      "mrr = 0.12050201419937825, pairs_count = 47\n",
      "\n",
      "none umap 5 True 37\n",
      "mrr = 0.12678568755650504, pairs_count = 53\n",
      "\n",
      "none umap 5 True 38\n",
      "mrr = 0.10578672899853699, pairs_count = 55\n",
      "\n",
      "none umap 5 True 39\n",
      "mrr = 0.11720564998682113, pairs_count = 55\n",
      "\n",
      "none umap 5 True 40\n",
      "mrr = 0.10808727726570737, pairs_count = 59\n",
      "\n",
      "none umap 5 True 41\n",
      "mrr = 0.1047703209120647, pairs_count = 60\n",
      "\n",
      "none umap 5 True 42\n",
      "mrr = 0.09838117017835094, pairs_count = 66\n",
      "\n",
      "none umap 5 True 43\n",
      "mrr = 0.10455789514269594, pairs_count = 68\n",
      "\n",
      "none umap 5 True 44\n",
      "mrr = 0.09307218167095396, pairs_count = 68\n",
      "\n",
      "none umap 5 True 45\n",
      "mrr = 0.0962914223641706, pairs_count = 69\n",
      "\n",
      "none umap 5 True 46\n",
      "mrr = 0.0967348717390322, pairs_count = 71\n",
      "\n",
      "none umap 5 True 47\n",
      "mrr = 0.09303546086639801, pairs_count = 72\n",
      "\n",
      "none umap 5 True 48\n",
      "mrr = 0.09201425656003578, pairs_count = 72\n",
      "\n",
      "none umap 5 True 49\n",
      "mrr = 0.09512810393772876, pairs_count = 73\n",
      "\n",
      "none umap 5 True 50\n",
      "mrr = 0.09996393132142832, pairs_count = 74\n",
      "\n",
      "none umap 2 False 20\n",
      "mrr = 0.17277322059299163, pairs_count = 29\n",
      "\n",
      "none umap 2 False 21\n",
      "mrr = 0.19283784550184882, pairs_count = 29\n",
      "\n",
      "none umap 2 False 22\n",
      "mrr = 0.17512659541041928, pairs_count = 29\n",
      "\n",
      "none umap 2 False 23\n",
      "mrr = 0.1614431826721409, pairs_count = 35\n",
      "\n",
      "none umap 2 False 24\n",
      "mrr = 0.14446286922896684, pairs_count = 35\n",
      "\n",
      "none umap 2 False 25\n",
      "mrr = 0.1543920888899205, pairs_count = 36\n",
      "\n",
      "none umap 2 False 26\n",
      "mrr = 0.12980291210181483, pairs_count = 38\n",
      "\n",
      "none umap 2 False 27\n",
      "mrr = 0.15690557586269005, pairs_count = 38\n",
      "\n",
      "none umap 2 False 28\n",
      "mrr = 0.14345227885804093, pairs_count = 38\n",
      "\n",
      "none umap 2 False 29\n",
      "mrr = 0.15173366772687644, pairs_count = 38\n",
      "\n",
      "none umap 2 False 30\n",
      "mrr = 0.13641991280001897, pairs_count = 39\n",
      "\n",
      "none umap 2 False 31\n",
      "mrr = 0.14442762291203973, pairs_count = 42\n",
      "\n",
      "none umap 2 False 32\n",
      "mrr = 0.13264167719625727, pairs_count = 42\n",
      "\n",
      "none umap 2 False 33\n",
      "mrr = 0.13233141544100163, pairs_count = 45\n",
      "\n",
      "none umap 2 False 34\n",
      "mrr = 0.1326886163810831, pairs_count = 46\n",
      "\n",
      "none umap 2 False 35\n",
      "mrr = 0.13125205972451773, pairs_count = 47\n",
      "\n",
      "none umap 2 False 36\n",
      "mrr = 0.12050201419937825, pairs_count = 47\n",
      "\n",
      "none umap 2 False 37\n",
      "mrr = 0.12678568755650504, pairs_count = 53\n",
      "\n",
      "none umap 2 False 38\n",
      "mrr = 0.10578672899853699, pairs_count = 55\n",
      "\n",
      "none umap 2 False 39\n",
      "mrr = 0.11720564998682113, pairs_count = 55\n",
      "\n",
      "none umap 2 False 40\n",
      "mrr = 0.10808727726570737, pairs_count = 59\n",
      "\n",
      "none umap 2 False 41\n",
      "mrr = 0.1047703209120647, pairs_count = 60\n",
      "\n",
      "none umap 2 False 42\n",
      "mrr = 0.09838117017835094, pairs_count = 66\n",
      "\n",
      "none umap 2 False 43\n",
      "mrr = 0.10455789514269594, pairs_count = 68\n",
      "\n",
      "none umap 2 False 44\n",
      "mrr = 0.09307218167095396, pairs_count = 68\n",
      "\n",
      "none umap 2 False 45\n",
      "mrr = 0.0962914223641706, pairs_count = 69\n",
      "\n",
      "none umap 2 False 46\n",
      "mrr = 0.0967348717390322, pairs_count = 71\n",
      "\n",
      "none umap 2 False 47\n",
      "mrr = 0.09303546086639801, pairs_count = 72\n",
      "\n",
      "none umap 2 False 48\n",
      "mrr = 0.09201425656003578, pairs_count = 72\n",
      "\n",
      "none umap 2 False 49\n",
      "mrr = 0.09512810393772876, pairs_count = 73\n",
      "\n",
      "none umap 2 False 50\n",
      "mrr = 0.09996393132142832, pairs_count = 74\n",
      "\n",
      "skill tsne 5 True 20\n",
      "mrr = 0.17165023481488476, pairs_count = 29\n",
      "\n",
      "skill tsne 5 True 21\n",
      "mrr = 0.18470976096149247, pairs_count = 29\n",
      "\n",
      "skill tsne 5 True 22\n",
      "mrr = 0.20535166957185247, pairs_count = 29\n",
      "\n",
      "skill tsne 5 True 23\n",
      "mrr = 0.1925909333941647, pairs_count = 35\n",
      "\n",
      "skill tsne 5 True 24\n",
      "mrr = 0.18723197726791782, pairs_count = 35\n",
      "\n",
      "skill tsne 5 True 25\n",
      "mrr = 0.18987670574188723, pairs_count = 36\n",
      "\n",
      "skill tsne 5 True 26\n",
      "mrr = 0.19857185080879222, pairs_count = 38\n",
      "\n",
      "skill tsne 5 True 27\n",
      "mrr = 0.18415792558768254, pairs_count = 38\n",
      "\n",
      "skill tsne 5 True 28\n",
      "mrr = 0.18267540983444727, pairs_count = 38\n",
      "\n",
      "skill tsne 5 True 29\n",
      "mrr = 0.17924306588054556, pairs_count = 38\n",
      "\n",
      "skill tsne 5 True 30\n",
      "mrr = 0.17652989294025248, pairs_count = 39\n",
      "\n",
      "skill tsne 5 True 31\n",
      "mrr = 0.16684608158847167, pairs_count = 42\n",
      "\n",
      "skill tsne 5 True 32\n",
      "mrr = 0.1717352155748556, pairs_count = 42\n",
      "\n",
      "skill tsne 5 True 33\n",
      "mrr = 0.1632647668997941, pairs_count = 45\n",
      "\n",
      "skill tsne 5 True 34\n",
      "mrr = 0.17276861473726665, pairs_count = 46\n",
      "\n",
      "skill tsne 5 True 35\n",
      "mrr = 0.17680406617855637, pairs_count = 47\n",
      "\n",
      "skill tsne 5 True 36\n",
      "mrr = 0.17463400076198188, pairs_count = 47\n",
      "\n",
      "skill tsne 5 True 37\n",
      "mrr = 0.1434726801295151, pairs_count = 53\n",
      "\n",
      "skill tsne 5 True 38\n",
      "mrr = 0.16082113036900753, pairs_count = 55\n",
      "\n",
      "skill tsne 5 True 39\n",
      "mrr = 0.14270675537149055, pairs_count = 55\n",
      "\n",
      "skill tsne 5 True 40\n",
      "mrr = 0.1457446584582654, pairs_count = 59\n",
      "\n",
      "skill tsne 5 True 41\n",
      "mrr = 0.15250772370862523, pairs_count = 60\n",
      "\n",
      "skill tsne 5 True 42\n",
      "mrr = 0.14458594327384847, pairs_count = 66\n",
      "\n",
      "skill tsne 5 True 43\n",
      "mrr = 0.14016511834416634, pairs_count = 68\n",
      "\n",
      "skill tsne 5 True 44\n",
      "mrr = 0.1381638118005062, pairs_count = 68\n",
      "\n",
      "skill tsne 5 True 45\n",
      "mrr = 0.1426537333768458, pairs_count = 69\n",
      "\n",
      "skill tsne 5 True 46\n",
      "mrr = 0.12945769931041504, pairs_count = 71\n",
      "\n",
      "skill tsne 5 True 47\n",
      "mrr = 0.1408807936700904, pairs_count = 72\n",
      "\n",
      "skill tsne 5 True 48\n",
      "mrr = 0.13894602575970447, pairs_count = 72\n",
      "\n",
      "skill tsne 5 True 49\n",
      "mrr = 0.13553299134126148, pairs_count = 73\n",
      "\n",
      "skill tsne 5 True 50\n",
      "mrr = 0.12722772382293387, pairs_count = 74\n",
      "\n",
      "skill als 5 True 20\n",
      "mrr = 0.10612847711936506, pairs_count = 29\n",
      "\n",
      "skill als 5 True 21\n",
      "mrr = 0.11783035793637632, pairs_count = 29\n",
      "\n",
      "skill als 5 True 22\n",
      "mrr = 0.12817618074361325, pairs_count = 29\n",
      "\n",
      "skill als 5 True 23\n",
      "mrr = 0.09621088652064004, pairs_count = 35\n",
      "\n",
      "skill als 5 True 24\n",
      "mrr = 0.14333479194036702, pairs_count = 35\n",
      "\n",
      "skill als 5 True 25\n",
      "mrr = 0.1260494153237627, pairs_count = 36\n",
      "\n",
      "skill als 5 True 26\n",
      "mrr = 0.13787994749948082, pairs_count = 38\n",
      "\n",
      "skill als 5 True 27\n",
      "mrr = 0.11808147709183499, pairs_count = 38\n",
      "\n",
      "skill als 5 True 28\n",
      "mrr = 0.12591422964772767, pairs_count = 38\n",
      "\n",
      "skill als 5 True 29\n",
      "mrr = 0.11742665878608576, pairs_count = 38\n",
      "\n",
      "skill als 5 True 30\n",
      "mrr = 0.11500673841778382, pairs_count = 39\n",
      "\n",
      "skill als 5 True 31\n",
      "mrr = 0.08868835434179141, pairs_count = 42\n",
      "\n",
      "skill als 5 True 32\n",
      "mrr = 0.11024833023884469, pairs_count = 42\n",
      "\n",
      "skill als 5 True 33\n",
      "mrr = 0.10904376446804737, pairs_count = 45\n",
      "\n",
      "skill als 5 True 34\n",
      "mrr = 0.09867832524465073, pairs_count = 46\n",
      "\n",
      "skill als 5 True 35\n",
      "mrr = 0.09284900038977405, pairs_count = 47\n",
      "\n",
      "skill als 5 True 36\n",
      "mrr = 0.09184612926297428, pairs_count = 47\n",
      "\n",
      "skill als 5 True 37\n",
      "mrr = 0.08632868957586239, pairs_count = 53\n",
      "\n",
      "skill als 5 True 38\n",
      "mrr = 0.08853765560403755, pairs_count = 55\n",
      "\n",
      "skill als 5 True 39\n",
      "mrr = 0.09256698232077784, pairs_count = 55\n",
      "\n",
      "skill als 5 True 40\n",
      "mrr = 0.081002346635081, pairs_count = 59\n",
      "\n",
      "skill als 5 True 41\n",
      "mrr = 0.08397438015087093, pairs_count = 60\n",
      "\n",
      "skill als 5 True 42\n",
      "mrr = 0.07046236812946644, pairs_count = 66\n",
      "\n",
      "skill als 5 True 43\n",
      "mrr = 0.07212870022637022, pairs_count = 68\n",
      "\n",
      "skill als 5 True 44\n",
      "mrr = 0.06623947682151171, pairs_count = 68\n",
      "\n",
      "skill als 5 True 45\n",
      "mrr = 0.0692119880789625, pairs_count = 69\n",
      "\n",
      "skill als 5 True 46\n",
      "mrr = 0.06995688371582195, pairs_count = 71\n",
      "\n",
      "skill als 5 True 47\n",
      "mrr = 0.06578141301791646, pairs_count = 72\n",
      "\n",
      "skill als 5 True 48\n",
      "mrr = 0.07013894739773599, pairs_count = 72\n",
      "\n",
      "skill als 5 True 49\n",
      "mrr = 0.06838359693446769, pairs_count = 73\n",
      "\n",
      "skill als 5 True 50\n",
      "mrr = 0.06507679030560228, pairs_count = 74\n",
      "\n",
      "skill svd 5 True 20\n",
      "mrr = 0.18812457324902884, pairs_count = 29\n",
      "\n",
      "skill svd 5 True 21\n",
      "mrr = 0.1875079160964933, pairs_count = 29\n",
      "\n",
      "skill svd 5 True 22\n",
      "mrr = 0.17666770670999457, pairs_count = 29\n",
      "\n",
      "skill svd 5 True 23\n",
      "mrr = 0.1340877513798952, pairs_count = 35\n",
      "\n",
      "skill svd 5 True 24\n",
      "mrr = 0.134932846145043, pairs_count = 35\n",
      "\n",
      "skill svd 5 True 25\n",
      "mrr = 0.1298206615586101, pairs_count = 36\n",
      "\n",
      "skill svd 5 True 26\n",
      "mrr = 0.13978454560349166, pairs_count = 38\n",
      "\n",
      "skill svd 5 True 27\n",
      "mrr = 0.14412754628774818, pairs_count = 38\n",
      "\n",
      "skill svd 5 True 28\n",
      "mrr = 0.14369817815899236, pairs_count = 38\n",
      "\n",
      "skill svd 5 True 29\n",
      "mrr = 0.13313075810672514, pairs_count = 38\n",
      "\n",
      "skill svd 5 True 30\n",
      "mrr = 0.14197201077798965, pairs_count = 39\n",
      "\n",
      "skill svd 5 True 31\n",
      "mrr = 0.14089300156680018, pairs_count = 42\n",
      "\n",
      "skill svd 5 True 32\n",
      "mrr = 0.14295650894184958, pairs_count = 42\n",
      "\n",
      "skill svd 5 True 33\n",
      "mrr = 0.12923611821341105, pairs_count = 45\n",
      "\n",
      "skill svd 5 True 34\n",
      "mrr = 0.14247699421619017, pairs_count = 46\n",
      "\n",
      "skill svd 5 True 35\n",
      "mrr = 0.13332517094491306, pairs_count = 47\n",
      "\n",
      "skill svd 5 True 36\n",
      "mrr = 0.12061440461407566, pairs_count = 47\n",
      "\n",
      "skill svd 5 True 37\n",
      "mrr = 0.1294277014559583, pairs_count = 53\n",
      "\n",
      "skill svd 5 True 38\n",
      "mrr = 0.12493458632503389, pairs_count = 55\n",
      "\n",
      "skill svd 5 True 39\n",
      "mrr = 0.1351818176316757, pairs_count = 55\n",
      "\n",
      "skill svd 5 True 40\n",
      "mrr = 0.11678314041415921, pairs_count = 59\n",
      "\n",
      "skill svd 5 True 41\n",
      "mrr = 0.11223735774208267, pairs_count = 60\n",
      "\n",
      "skill svd 5 True 42\n",
      "mrr = 0.10934788787052743, pairs_count = 66\n",
      "\n",
      "skill svd 5 True 43\n",
      "mrr = 0.1140876007132803, pairs_count = 68\n",
      "\n",
      "skill svd 5 True 44\n",
      "mrr = 0.11063300168075282, pairs_count = 68\n",
      "\n",
      "skill svd 5 True 45\n",
      "mrr = 0.11817274109558756, pairs_count = 69\n",
      "\n",
      "skill svd 5 True 46\n",
      "mrr = 0.13014165227708008, pairs_count = 71\n",
      "\n",
      "skill svd 5 True 47\n",
      "mrr = 0.12101629113295337, pairs_count = 72\n",
      "\n",
      "skill svd 5 True 48\n",
      "mrr = 0.12298825832559625, pairs_count = 72\n",
      "\n",
      "skill svd 5 True 49\n",
      "mrr = 0.12016560168153648, pairs_count = 73\n",
      "\n",
      "skill svd 5 True 50\n",
      "mrr = 0.11745896614153806, pairs_count = 74\n",
      "\n",
      "skill svd 2 False 20\n",
      "mrr = 0.18812457324902884, pairs_count = 29\n",
      "\n",
      "skill svd 2 False 21\n",
      "mrr = 0.1875079160964933, pairs_count = 29\n",
      "\n",
      "skill svd 2 False 22\n",
      "mrr = 0.17666770670999457, pairs_count = 29\n",
      "\n",
      "skill svd 2 False 23\n",
      "mrr = 0.1340877513798952, pairs_count = 35\n",
      "\n",
      "skill svd 2 False 24\n",
      "mrr = 0.134932846145043, pairs_count = 35\n",
      "\n",
      "skill svd 2 False 25\n",
      "mrr = 0.1298206615586101, pairs_count = 36\n",
      "\n",
      "skill svd 2 False 26\n",
      "mrr = 0.13978454560349166, pairs_count = 38\n",
      "\n",
      "skill svd 2 False 27\n",
      "mrr = 0.14412754628774818, pairs_count = 38\n",
      "\n",
      "skill svd 2 False 28\n",
      "mrr = 0.14369817815899236, pairs_count = 38\n",
      "\n",
      "skill svd 2 False 29\n",
      "mrr = 0.13313075810672514, pairs_count = 38\n",
      "\n",
      "skill svd 2 False 30\n",
      "mrr = 0.14197201077798965, pairs_count = 39\n",
      "\n",
      "skill svd 2 False 31\n",
      "mrr = 0.14089300156680018, pairs_count = 42\n",
      "\n",
      "skill svd 2 False 32\n",
      "mrr = 0.14295650894184958, pairs_count = 42\n",
      "\n",
      "skill svd 2 False 33\n",
      "mrr = 0.12923611821341105, pairs_count = 45\n",
      "\n",
      "skill svd 2 False 34\n",
      "mrr = 0.14247699421619017, pairs_count = 46\n",
      "\n",
      "skill svd 2 False 35\n",
      "mrr = 0.13332517094491306, pairs_count = 47\n",
      "\n",
      "skill svd 2 False 36\n",
      "mrr = 0.12061440461407566, pairs_count = 47\n",
      "\n",
      "skill svd 2 False 37\n",
      "mrr = 0.1294277014559583, pairs_count = 53\n",
      "\n",
      "skill svd 2 False 38\n",
      "mrr = 0.12493458632503389, pairs_count = 55\n",
      "\n",
      "skill svd 2 False 39\n",
      "mrr = 0.1351818176316757, pairs_count = 55\n",
      "\n",
      "skill svd 2 False 40\n",
      "mrr = 0.11678314041415921, pairs_count = 59\n",
      "\n",
      "skill svd 2 False 41\n",
      "mrr = 0.11223735774208267, pairs_count = 60\n",
      "\n",
      "skill svd 2 False 42\n",
      "mrr = 0.10934788787052743, pairs_count = 66\n",
      "\n",
      "skill svd 2 False 43\n",
      "mrr = 0.1140876007132803, pairs_count = 68\n",
      "\n",
      "skill svd 2 False 44\n",
      "mrr = 0.11063300168075282, pairs_count = 68\n",
      "\n",
      "skill svd 2 False 45\n",
      "mrr = 0.11817274109558756, pairs_count = 69\n",
      "\n",
      "skill svd 2 False 46\n",
      "mrr = 0.13014165227708008, pairs_count = 71\n",
      "\n",
      "skill svd 2 False 47\n",
      "mrr = 0.12101629113295337, pairs_count = 72\n",
      "\n",
      "skill svd 2 False 48\n",
      "mrr = 0.12298825832559625, pairs_count = 72\n",
      "\n",
      "skill svd 2 False 49\n",
      "mrr = 0.12016560168153648, pairs_count = 73\n",
      "\n",
      "skill svd 2 False 50\n",
      "mrr = 0.11745896614153806, pairs_count = 74\n",
      "\n",
      "skill pca 5 True 20\n",
      "mrr = 0.1711526101793892, pairs_count = 29\n",
      "\n",
      "skill pca 5 True 21\n",
      "mrr = 0.16709856671820197, pairs_count = 29\n",
      "\n",
      "skill pca 5 True 22\n",
      "mrr = 0.16825589835446977, pairs_count = 29\n",
      "\n",
      "skill pca 5 True 23\n",
      "mrr = 0.15738912770180494, pairs_count = 35\n",
      "\n",
      "skill pca 5 True 24\n",
      "mrr = 0.15807667366035927, pairs_count = 35\n",
      "\n",
      "skill pca 5 True 25\n",
      "mrr = 0.15377093242611728, pairs_count = 36\n",
      "\n",
      "skill pca 5 True 26\n",
      "mrr = 0.16731640440806095, pairs_count = 38\n",
      "\n",
      "skill pca 5 True 27\n",
      "mrr = 0.15824988805226223, pairs_count = 38\n",
      "\n",
      "skill pca 5 True 28\n",
      "mrr = 0.15458154421301878, pairs_count = 38\n",
      "\n",
      "skill pca 5 True 29\n",
      "mrr = 0.15952336543465886, pairs_count = 38\n",
      "\n",
      "skill pca 5 True 30\n",
      "mrr = 0.15584983288477017, pairs_count = 39\n",
      "\n",
      "skill pca 5 True 31\n",
      "mrr = 0.16557694101963807, pairs_count = 42\n",
      "\n",
      "skill pca 5 True 32\n",
      "mrr = 0.1750491202885573, pairs_count = 42\n",
      "\n",
      "skill pca 5 True 33\n",
      "mrr = 0.16517202785584487, pairs_count = 45\n",
      "\n",
      "skill pca 5 True 34\n",
      "mrr = 0.1694075877711278, pairs_count = 46\n",
      "\n",
      "skill pca 5 True 35\n",
      "mrr = 0.16527473240218485, pairs_count = 47\n",
      "\n",
      "skill pca 5 True 36\n",
      "mrr = 0.15299789183508197, pairs_count = 47\n",
      "\n",
      "skill pca 5 True 37\n",
      "mrr = 0.16431854262273923, pairs_count = 53\n",
      "\n",
      "skill pca 5 True 38\n",
      "mrr = 0.15781567452307435, pairs_count = 55\n",
      "\n",
      "skill pca 5 True 39\n",
      "mrr = 0.14075605205634015, pairs_count = 55\n",
      "\n",
      "skill pca 5 True 40\n",
      "mrr = 0.14884057131581982, pairs_count = 59\n",
      "\n",
      "skill pca 5 True 41\n",
      "mrr = 0.15116782092798806, pairs_count = 60\n",
      "\n",
      "skill pca 5 True 42\n",
      "mrr = 0.14710832170553867, pairs_count = 66\n",
      "\n",
      "skill pca 5 True 43\n",
      "mrr = 0.1489359499071628, pairs_count = 68\n",
      "\n",
      "skill pca 5 True 44\n",
      "mrr = 0.14541452745038005, pairs_count = 68\n",
      "\n",
      "skill pca 5 True 45\n",
      "mrr = 0.13535083470002482, pairs_count = 69\n",
      "\n",
      "skill pca 5 True 46\n",
      "mrr = 0.1271521752153809, pairs_count = 71\n",
      "\n",
      "skill pca 5 True 47\n",
      "mrr = 0.13290511095077695, pairs_count = 72\n",
      "\n",
      "skill pca 5 True 48\n",
      "mrr = 0.13145916099746752, pairs_count = 72\n",
      "\n",
      "skill pca 5 True 49\n",
      "mrr = 0.1298168173701113, pairs_count = 73\n",
      "\n",
      "skill pca 5 True 50\n",
      "mrr = 0.12930765094776991, pairs_count = 74\n",
      "\n",
      "skill pca 2 False 20\n",
      "mrr = 0.1711526101793892, pairs_count = 29\n",
      "\n",
      "skill pca 2 False 21\n",
      "mrr = 0.16709856671820197, pairs_count = 29\n",
      "\n",
      "skill pca 2 False 22\n",
      "mrr = 0.16825589835446977, pairs_count = 29\n",
      "\n",
      "skill pca 2 False 23\n",
      "mrr = 0.15738912770180494, pairs_count = 35\n",
      "\n",
      "skill pca 2 False 24\n",
      "mrr = 0.15807667366035927, pairs_count = 35\n",
      "\n",
      "skill pca 2 False 25\n",
      "mrr = 0.15377093242611728, pairs_count = 36\n",
      "\n",
      "skill pca 2 False 26\n",
      "mrr = 0.16731640440806095, pairs_count = 38\n",
      "\n",
      "skill pca 2 False 27\n",
      "mrr = 0.15824988805226223, pairs_count = 38\n",
      "\n",
      "skill pca 2 False 28\n",
      "mrr = 0.15458154421301878, pairs_count = 38\n",
      "\n",
      "skill pca 2 False 29\n",
      "mrr = 0.15952336543465886, pairs_count = 38\n",
      "\n",
      "skill pca 2 False 30\n",
      "mrr = 0.15584983288477017, pairs_count = 39\n",
      "\n",
      "skill pca 2 False 31\n",
      "mrr = 0.16557694101963807, pairs_count = 42\n",
      "\n",
      "skill pca 2 False 32\n",
      "mrr = 0.1750491202885573, pairs_count = 42\n",
      "\n",
      "skill pca 2 False 33\n",
      "mrr = 0.16517202785584487, pairs_count = 45\n",
      "\n",
      "skill pca 2 False 34\n",
      "mrr = 0.1694075877711278, pairs_count = 46\n",
      "\n",
      "skill pca 2 False 35\n",
      "mrr = 0.16527473240218485, pairs_count = 47\n",
      "\n",
      "skill pca 2 False 36\n",
      "mrr = 0.15299789183508197, pairs_count = 47\n",
      "\n",
      "skill pca 2 False 37\n",
      "mrr = 0.16431854262273923, pairs_count = 53\n",
      "\n",
      "skill pca 2 False 38\n",
      "mrr = 0.15781567452307435, pairs_count = 55\n",
      "\n",
      "skill pca 2 False 39\n",
      "mrr = 0.14075605205634015, pairs_count = 55\n",
      "\n",
      "skill pca 2 False 40\n",
      "mrr = 0.14884057131581982, pairs_count = 59\n",
      "\n",
      "skill pca 2 False 41\n",
      "mrr = 0.15116782092798806, pairs_count = 60\n",
      "\n",
      "skill pca 2 False 42\n",
      "mrr = 0.14710832170553867, pairs_count = 66\n",
      "\n",
      "skill pca 2 False 43\n",
      "mrr = 0.1489359499071628, pairs_count = 68\n",
      "\n",
      "skill pca 2 False 44\n",
      "mrr = 0.14541452745038005, pairs_count = 68\n",
      "\n",
      "skill pca 2 False 45\n",
      "mrr = 0.13535083470002482, pairs_count = 69\n",
      "\n",
      "skill pca 2 False 46\n",
      "mrr = 0.1271521752153809, pairs_count = 71\n",
      "\n",
      "skill pca 2 False 47\n",
      "mrr = 0.13290511095077695, pairs_count = 72\n",
      "\n",
      "skill pca 2 False 48\n",
      "mrr = 0.13145916099746752, pairs_count = 72\n",
      "\n",
      "skill pca 2 False 49\n",
      "mrr = 0.1298168173701113, pairs_count = 73\n",
      "\n",
      "skill pca 2 False 50\n",
      "mrr = 0.12930765094776991, pairs_count = 74\n",
      "\n",
      "skill sim_euclid 5 True 20\n",
      "mrr = 0.209230211712545, pairs_count = 29\n",
      "\n",
      "skill sim_euclid 5 True 21\n",
      "mrr = 0.1796433076672375, pairs_count = 29\n",
      "\n",
      "skill sim_euclid 5 True 22\n",
      "mrr = 0.1945317244428751, pairs_count = 29\n",
      "\n",
      "skill sim_euclid 5 True 23\n",
      "mrr = 0.19132639063236695, pairs_count = 35\n",
      "\n",
      "skill sim_euclid 5 True 24\n",
      "mrr = 0.18126172089389625, pairs_count = 35\n",
      "\n",
      "skill sim_euclid 5 True 25\n",
      "mrr = 0.18782513491066932, pairs_count = 36\n",
      "\n",
      "skill sim_euclid 5 True 26\n",
      "mrr = 0.18877484514187015, pairs_count = 38\n",
      "\n",
      "skill sim_euclid 5 True 27\n",
      "mrr = 0.19108796673403888, pairs_count = 38\n",
      "\n",
      "skill sim_euclid 5 True 28\n",
      "mrr = 0.18131528823201698, pairs_count = 38\n",
      "\n",
      "skill sim_euclid 5 True 29\n",
      "mrr = 0.19150882236169028, pairs_count = 38\n",
      "\n",
      "skill sim_euclid 5 True 30\n",
      "mrr = 0.18654438770968587, pairs_count = 39\n",
      "\n",
      "skill sim_euclid 5 True 31\n",
      "mrr = 0.16744483909017124, pairs_count = 42\n",
      "\n",
      "skill sim_euclid 5 True 32\n",
      "mrr = 0.17085057728183065, pairs_count = 42\n",
      "\n",
      "skill sim_euclid 5 True 33\n",
      "mrr = 0.17425023189410815, pairs_count = 45\n",
      "\n",
      "skill sim_euclid 5 True 34\n",
      "mrr = 0.16687099665816052, pairs_count = 46\n",
      "\n",
      "skill sim_euclid 5 True 35\n",
      "mrr = 0.1660694147273217, pairs_count = 47\n",
      "\n",
      "skill sim_euclid 5 True 36\n",
      "mrr = 0.1811458906816592, pairs_count = 47\n",
      "\n",
      "skill sim_euclid 5 True 37\n",
      "mrr = 0.16579263970356525, pairs_count = 53\n",
      "\n",
      "skill sim_euclid 5 True 38\n",
      "mrr = 0.14931918201540323, pairs_count = 55\n",
      "\n",
      "skill sim_euclid 5 True 39\n",
      "mrr = 0.15499339873770812, pairs_count = 55\n",
      "\n",
      "skill sim_euclid 5 True 40\n",
      "mrr = 0.1404301092654734, pairs_count = 59\n",
      "\n",
      "skill sim_euclid 5 True 41\n",
      "mrr = 0.1435376060966988, pairs_count = 60\n",
      "\n",
      "skill sim_euclid 5 True 42\n",
      "mrr = 0.14152108815318007, pairs_count = 66\n",
      "\n",
      "skill sim_euclid 5 True 43\n",
      "mrr = 0.13258343505687747, pairs_count = 68\n",
      "\n",
      "skill sim_euclid 5 True 44\n",
      "mrr = 0.13403281544463286, pairs_count = 68\n",
      "\n",
      "skill sim_euclid 5 True 45\n",
      "mrr = 0.1367422751460605, pairs_count = 69\n",
      "\n",
      "skill sim_euclid 5 True 46\n",
      "mrr = 0.13303514979373582, pairs_count = 71\n",
      "\n",
      "skill sim_euclid 5 True 47\n",
      "mrr = 0.1355147599087974, pairs_count = 72\n",
      "\n",
      "skill sim_euclid 5 True 48\n",
      "mrr = 0.13531504130675348, pairs_count = 72\n",
      "\n",
      "skill sim_euclid 5 True 49\n",
      "mrr = 0.12512758903082594, pairs_count = 73\n",
      "\n",
      "skill sim_euclid 5 True 50\n",
      "mrr = 0.12251585313916302, pairs_count = 74\n",
      "\n",
      "skill sim_cos 5 True 20\n",
      "mrr = 0.20324603957754395, pairs_count = 29\n",
      "\n",
      "skill sim_cos 5 True 21\n",
      "mrr = 0.19703142969331205, pairs_count = 29\n",
      "\n",
      "skill sim_cos 5 True 22\n",
      "mrr = 0.19550936626008963, pairs_count = 29\n",
      "\n",
      "skill sim_cos 5 True 23\n",
      "mrr = 0.18082370849747414, pairs_count = 35\n",
      "\n",
      "skill sim_cos 5 True 24\n",
      "mrr = 0.17758181908735293, pairs_count = 35\n",
      "\n",
      "skill sim_cos 5 True 25\n",
      "mrr = 0.16919415700529436, pairs_count = 36\n",
      "\n",
      "skill sim_cos 5 True 26\n",
      "mrr = 0.17160843088286032, pairs_count = 38\n",
      "\n",
      "skill sim_cos 5 True 27\n",
      "mrr = 0.1752188710781085, pairs_count = 38\n",
      "\n",
      "skill sim_cos 5 True 28\n",
      "mrr = 0.16607997078110226, pairs_count = 38\n",
      "\n",
      "skill sim_cos 5 True 29\n",
      "mrr = 0.17153909011438148, pairs_count = 38\n",
      "\n",
      "skill sim_cos 5 True 30\n",
      "mrr = 0.1777538482430604, pairs_count = 39\n",
      "\n",
      "skill sim_cos 5 True 31\n",
      "mrr = 0.16068484992925525, pairs_count = 42\n",
      "\n",
      "skill sim_cos 5 True 32\n",
      "mrr = 0.16509527979274835, pairs_count = 42\n",
      "\n",
      "skill sim_cos 5 True 33\n",
      "mrr = 0.16579549919826686, pairs_count = 45\n",
      "\n",
      "skill sim_cos 5 True 34\n",
      "mrr = 0.16333193112383837, pairs_count = 46\n",
      "\n",
      "skill sim_cos 5 True 35\n",
      "mrr = 0.16897887693752903, pairs_count = 47\n",
      "\n",
      "skill sim_cos 5 True 36\n",
      "mrr = 0.16333697188604424, pairs_count = 47\n",
      "\n",
      "skill sim_cos 5 True 37\n",
      "mrr = 0.15247644991841053, pairs_count = 53\n",
      "\n",
      "skill sim_cos 5 True 38\n",
      "mrr = 0.15406814024769372, pairs_count = 55\n",
      "\n",
      "skill sim_cos 5 True 39\n",
      "mrr = 0.14931322302732247, pairs_count = 55\n",
      "\n",
      "skill sim_cos 5 True 40\n",
      "mrr = 0.14267626423582305, pairs_count = 59\n",
      "\n",
      "skill sim_cos 5 True 41\n",
      "mrr = 0.15075195561808358, pairs_count = 60\n",
      "\n",
      "skill sim_cos 5 True 42\n",
      "mrr = 0.14866500995213613, pairs_count = 66\n",
      "\n",
      "skill sim_cos 5 True 43\n",
      "mrr = 0.15253069324754595, pairs_count = 68\n",
      "\n",
      "skill sim_cos 5 True 44\n",
      "mrr = 0.14582286521383941, pairs_count = 68\n",
      "\n",
      "skill sim_cos 5 True 45\n",
      "mrr = 0.14268276156472928, pairs_count = 69\n",
      "\n",
      "skill sim_cos 5 True 46\n",
      "mrr = 0.1369932665001775, pairs_count = 71\n",
      "\n",
      "skill sim_cos 5 True 47\n",
      "mrr = 0.1401651270703882, pairs_count = 72\n",
      "\n",
      "skill sim_cos 5 True 48\n",
      "mrr = 0.139447213453876, pairs_count = 72\n",
      "\n",
      "skill sim_cos 5 True 49\n",
      "mrr = 0.13390587086010783, pairs_count = 73\n",
      "\n",
      "skill sim_cos 5 True 50\n",
      "mrr = 0.13400494364534088, pairs_count = 74\n",
      "\n",
      "skill umap 5 True 20\n",
      "mrr = 0.2032393935112618, pairs_count = 29\n",
      "\n",
      "skill umap 5 True 21\n",
      "mrr = 0.21002608742131051, pairs_count = 29\n",
      "\n",
      "skill umap 5 True 22\n",
      "mrr = 0.19979608613328761, pairs_count = 29\n",
      "\n",
      "skill umap 5 True 23\n",
      "mrr = 0.1804538361104276, pairs_count = 35\n",
      "\n",
      "skill umap 5 True 24\n",
      "mrr = 0.16567065660433228, pairs_count = 35\n",
      "\n",
      "skill umap 5 True 25\n",
      "mrr = 0.17490691270847977, pairs_count = 36\n",
      "\n",
      "skill umap 5 True 26\n",
      "mrr = 0.17059488762205166, pairs_count = 38\n",
      "\n",
      "skill umap 5 True 27\n",
      "mrr = 0.17542630873427567, pairs_count = 38\n",
      "\n",
      "skill umap 5 True 28\n",
      "mrr = 0.17562931263223178, pairs_count = 38\n",
      "\n",
      "skill umap 5 True 29\n",
      "mrr = 0.17281817462022048, pairs_count = 38\n",
      "\n",
      "skill umap 5 True 30\n",
      "mrr = 0.18029725101339109, pairs_count = 39\n",
      "\n",
      "skill umap 5 True 31\n",
      "mrr = 0.1547929320218164, pairs_count = 42\n",
      "\n",
      "skill umap 5 True 32\n",
      "mrr = 0.14427529970557487, pairs_count = 42\n",
      "\n",
      "skill umap 5 True 33\n",
      "mrr = 0.16986663325577753, pairs_count = 45\n",
      "\n",
      "skill umap 5 True 34\n",
      "mrr = 0.17463827555927483, pairs_count = 46\n",
      "\n",
      "skill umap 5 True 35\n",
      "mrr = 0.17400443166623358, pairs_count = 47\n",
      "\n",
      "skill umap 5 True 36\n",
      "mrr = 0.18939372491859938, pairs_count = 47\n",
      "\n",
      "skill umap 5 True 37\n",
      "mrr = 0.1537946052675749, pairs_count = 53\n",
      "\n",
      "skill umap 5 True 38\n",
      "mrr = 0.15806155396770077, pairs_count = 55\n",
      "\n",
      "skill umap 5 True 39\n",
      "mrr = 0.15867945997300456, pairs_count = 55\n",
      "\n",
      "skill umap 5 True 40\n",
      "mrr = 0.1387142858583029, pairs_count = 59\n",
      "\n",
      "skill umap 5 True 41\n",
      "mrr = 0.14481199945230522, pairs_count = 60\n",
      "\n",
      "skill umap 5 True 42\n",
      "mrr = 0.13375510921601094, pairs_count = 66\n",
      "\n",
      "skill umap 5 True 43\n",
      "mrr = 0.1397524987273886, pairs_count = 68\n",
      "\n",
      "skill umap 5 True 44\n",
      "mrr = 0.1434717063567221, pairs_count = 68\n",
      "\n",
      "skill umap 5 True 45\n",
      "mrr = 0.1285137794016086, pairs_count = 69\n",
      "\n",
      "skill umap 5 True 46\n",
      "mrr = 0.12866522499042177, pairs_count = 71\n",
      "\n",
      "skill umap 5 True 47\n",
      "mrr = 0.13460869872196102, pairs_count = 72\n",
      "\n",
      "skill umap 5 True 48\n",
      "mrr = 0.13820676975872243, pairs_count = 72\n",
      "\n",
      "skill umap 5 True 49\n",
      "mrr = 0.1316480850982786, pairs_count = 73\n",
      "\n",
      "skill umap 5 True 50\n",
      "mrr = 0.13105144354594145, pairs_count = 74\n",
      "\n",
      "skill umap 2 False 20\n",
      "mrr = 0.2032393935112618, pairs_count = 29\n",
      "\n",
      "skill umap 2 False 21\n",
      "mrr = 0.21002608742131051, pairs_count = 29\n",
      "\n",
      "skill umap 2 False 22\n",
      "mrr = 0.19979608613328761, pairs_count = 29\n",
      "\n",
      "skill umap 2 False 23\n",
      "mrr = 0.1804538361104276, pairs_count = 35\n",
      "\n",
      "skill umap 2 False 24\n",
      "mrr = 0.16567065660433228, pairs_count = 35\n",
      "\n",
      "skill umap 2 False 25\n",
      "mrr = 0.17490691270847977, pairs_count = 36\n",
      "\n",
      "skill umap 2 False 26\n",
      "mrr = 0.17059488762205166, pairs_count = 38\n",
      "\n",
      "skill umap 2 False 27\n",
      "mrr = 0.17542630873427567, pairs_count = 38\n",
      "\n",
      "skill umap 2 False 28\n",
      "mrr = 0.17562931263223178, pairs_count = 38\n",
      "\n",
      "skill umap 2 False 29\n",
      "mrr = 0.17281817462022048, pairs_count = 38\n",
      "\n",
      "skill umap 2 False 30\n",
      "mrr = 0.18029725101339109, pairs_count = 39\n",
      "\n",
      "skill umap 2 False 31\n",
      "mrr = 0.1547929320218164, pairs_count = 42\n",
      "\n",
      "skill umap 2 False 32\n",
      "mrr = 0.14427529970557487, pairs_count = 42\n",
      "\n",
      "skill umap 2 False 33\n",
      "mrr = 0.16986663325577753, pairs_count = 45\n",
      "\n",
      "skill umap 2 False 34\n",
      "mrr = 0.17463827555927483, pairs_count = 46\n",
      "\n",
      "skill umap 2 False 35\n",
      "mrr = 0.17400443166623358, pairs_count = 47\n",
      "\n",
      "skill umap 2 False 36\n",
      "mrr = 0.18939372491859938, pairs_count = 47\n",
      "\n",
      "skill umap 2 False 37\n",
      "mrr = 0.1537946052675749, pairs_count = 53\n",
      "\n",
      "skill umap 2 False 38\n",
      "mrr = 0.15806155396770077, pairs_count = 55\n",
      "\n",
      "skill umap 2 False 39\n",
      "mrr = 0.15867945997300456, pairs_count = 55\n",
      "\n",
      "skill umap 2 False 40\n",
      "mrr = 0.1387142858583029, pairs_count = 59\n",
      "\n",
      "skill umap 2 False 41\n",
      "mrr = 0.14481199945230522, pairs_count = 60\n",
      "\n",
      "skill umap 2 False 42\n",
      "mrr = 0.13375510921601094, pairs_count = 66\n",
      "\n",
      "skill umap 2 False 43\n",
      "mrr = 0.1397524987273886, pairs_count = 68\n",
      "\n",
      "skill umap 2 False 44\n",
      "mrr = 0.1434717063567221, pairs_count = 68\n",
      "\n",
      "skill umap 2 False 45\n",
      "mrr = 0.1285137794016086, pairs_count = 69\n",
      "\n",
      "skill umap 2 False 46\n",
      "mrr = 0.12866522499042177, pairs_count = 71\n",
      "\n",
      "skill umap 2 False 47\n",
      "mrr = 0.13460869872196102, pairs_count = 72\n",
      "\n",
      "skill umap 2 False 48\n",
      "mrr = 0.13820676975872243, pairs_count = 72\n",
      "\n",
      "skill umap 2 False 49\n",
      "mrr = 0.1316480850982786, pairs_count = 73\n",
      "\n",
      "skill umap 2 False 50\n",
      "mrr = 0.13105144354594145, pairs_count = 74\n",
      "\n",
      "prof tsne 5 True 20\n",
      "mrr = 0.15563347503577904, pairs_count = 29\n",
      "\n",
      "prof tsne 5 True 21\n",
      "mrr = 0.18438916259495952, pairs_count = 29\n",
      "\n",
      "prof tsne 5 True 22\n",
      "mrr = 0.17747029700753705, pairs_count = 29\n",
      "\n",
      "prof tsne 5 True 23\n",
      "mrr = 0.1590622801485658, pairs_count = 35\n",
      "\n",
      "prof tsne 5 True 24\n",
      "mrr = 0.16252827604014639, pairs_count = 35\n",
      "\n",
      "prof tsne 5 True 25\n",
      "mrr = 0.14782373574231522, pairs_count = 36\n",
      "\n",
      "prof tsne 5 True 26\n",
      "mrr = 0.15343624168146083, pairs_count = 38\n",
      "\n",
      "prof tsne 5 True 27\n",
      "mrr = 0.14440899637597268, pairs_count = 38\n",
      "\n",
      "prof tsne 5 True 28\n",
      "mrr = 0.13806607582555863, pairs_count = 38\n",
      "\n",
      "prof tsne 5 True 29\n",
      "mrr = 0.13938743522688, pairs_count = 38\n",
      "\n",
      "prof tsne 5 True 30\n",
      "mrr = 0.14163536622121442, pairs_count = 39\n",
      "\n",
      "prof tsne 5 True 31\n",
      "mrr = 0.13358810292277393, pairs_count = 42\n",
      "\n",
      "prof tsne 5 True 32\n",
      "mrr = 0.13739167408876585, pairs_count = 42\n",
      "\n",
      "prof tsne 5 True 33\n",
      "mrr = 0.11773254501616094, pairs_count = 45\n",
      "\n",
      "prof tsne 5 True 34\n",
      "mrr = 0.12074593485792769, pairs_count = 46\n",
      "\n",
      "prof tsne 5 True 35\n",
      "mrr = 0.12390026364173429, pairs_count = 47\n",
      "\n",
      "prof tsne 5 True 36\n",
      "mrr = 0.12018403100811707, pairs_count = 47\n",
      "\n",
      "prof tsne 5 True 37\n",
      "mrr = 0.11616620526872333, pairs_count = 53\n",
      "\n",
      "prof tsne 5 True 38\n",
      "mrr = 0.11449359623979599, pairs_count = 55\n",
      "\n",
      "prof tsne 5 True 39\n",
      "mrr = 0.11722560517326788, pairs_count = 55\n",
      "\n",
      "prof tsne 5 True 40\n",
      "mrr = 0.11227150335120152, pairs_count = 59\n",
      "\n",
      "prof tsne 5 True 41\n",
      "mrr = 0.10765374397435493, pairs_count = 60\n",
      "\n",
      "prof tsne 5 True 42\n",
      "mrr = 0.09760074634542674, pairs_count = 66\n",
      "\n",
      "prof tsne 5 True 43\n",
      "mrr = 0.10220345485022915, pairs_count = 68\n",
      "\n",
      "prof tsne 5 True 44\n",
      "mrr = 0.08949349657549405, pairs_count = 68\n",
      "\n",
      "prof tsne 5 True 45\n",
      "mrr = 0.11010874336864505, pairs_count = 69\n",
      "\n",
      "prof tsne 5 True 46\n",
      "mrr = 0.09972551799938155, pairs_count = 71\n",
      "\n",
      "prof tsne 5 True 47\n",
      "mrr = 0.10354411068114398, pairs_count = 72\n",
      "\n",
      "prof tsne 5 True 48\n",
      "mrr = 0.10571793640326914, pairs_count = 72\n",
      "\n",
      "prof tsne 5 True 49\n",
      "mrr = 0.10669211604356832, pairs_count = 73\n",
      "\n",
      "prof tsne 5 True 50\n",
      "mrr = 0.10395237642235862, pairs_count = 74\n",
      "\n",
      "prof als 5 True 20\n",
      "mrr = 0.09200155883770214, pairs_count = 29\n",
      "\n",
      "prof als 5 True 21\n",
      "mrr = 0.10420692064351904, pairs_count = 29\n",
      "\n",
      "prof als 5 True 22\n",
      "mrr = 0.12109997761055614, pairs_count = 29\n",
      "\n",
      "prof als 5 True 23\n",
      "mrr = 0.08987460361255799, pairs_count = 35\n",
      "\n",
      "prof als 5 True 24\n",
      "mrr = 0.10640588936768057, pairs_count = 35\n",
      "\n",
      "prof als 5 True 25\n",
      "mrr = 0.09861662079828788, pairs_count = 36\n",
      "\n",
      "prof als 5 True 26\n",
      "mrr = 0.0876273969605486, pairs_count = 38\n",
      "\n",
      "prof als 5 True 27\n",
      "mrr = 0.09717173281991669, pairs_count = 38\n",
      "\n",
      "prof als 5 True 28\n",
      "mrr = 0.09860051157360107, pairs_count = 38\n",
      "\n",
      "prof als 5 True 29\n",
      "mrr = 0.09496322748525084, pairs_count = 38\n",
      "\n",
      "prof als 5 True 30\n",
      "mrr = 0.0801637785573735, pairs_count = 39\n",
      "\n",
      "prof als 5 True 31\n",
      "mrr = 0.08505841237534886, pairs_count = 42\n",
      "\n",
      "prof als 5 True 32\n",
      "mrr = 0.07321783100253605, pairs_count = 42\n",
      "\n",
      "prof als 5 True 33\n",
      "mrr = 0.08688242657154793, pairs_count = 45\n",
      "\n",
      "prof als 5 True 34\n",
      "mrr = 0.07970343523116903, pairs_count = 46\n",
      "\n",
      "prof als 5 True 35\n",
      "mrr = 0.07030244802263978, pairs_count = 47\n",
      "\n",
      "prof als 5 True 36\n",
      "mrr = 0.07881573663053469, pairs_count = 47\n",
      "\n",
      "prof als 5 True 37\n",
      "mrr = 0.07105342775645719, pairs_count = 53\n",
      "\n",
      "prof als 5 True 38\n",
      "mrr = 0.0687554427638928, pairs_count = 55\n",
      "\n",
      "prof als 5 True 39\n",
      "mrr = 0.0706359390878567, pairs_count = 55\n",
      "\n",
      "prof als 5 True 40\n",
      "mrr = 0.06765618532785161, pairs_count = 59\n",
      "\n",
      "prof als 5 True 41\n",
      "mrr = 0.062122546306908936, pairs_count = 60\n",
      "\n",
      "prof als 5 True 42\n",
      "mrr = 0.05892786458028017, pairs_count = 66\n",
      "\n",
      "prof als 5 True 43\n",
      "mrr = 0.05988618900717813, pairs_count = 68\n",
      "\n",
      "prof als 5 True 44\n",
      "mrr = 0.0597337176214204, pairs_count = 68\n",
      "\n",
      "prof als 5 True 45\n",
      "mrr = 0.062229428167689865, pairs_count = 69\n",
      "\n",
      "prof als 5 True 46\n",
      "mrr = 0.06186449108946804, pairs_count = 71\n",
      "\n",
      "prof als 5 True 47\n",
      "mrr = 0.06949820651671174, pairs_count = 72\n",
      "\n",
      "prof als 5 True 48\n",
      "mrr = 0.06698995738556567, pairs_count = 72\n",
      "\n",
      "prof als 5 True 49\n",
      "mrr = 0.060934389062145544, pairs_count = 73\n",
      "\n",
      "prof als 5 True 50\n",
      "mrr = 0.06409845345836243, pairs_count = 74\n",
      "\n",
      "prof svd 5 True 20\n",
      "mrr = 0.12118749746902442, pairs_count = 29\n",
      "\n",
      "prof svd 5 True 21\n",
      "mrr = 0.11751027764380231, pairs_count = 29\n",
      "\n",
      "prof svd 5 True 22\n",
      "mrr = 0.11524497075218171, pairs_count = 29\n",
      "\n",
      "prof svd 5 True 23\n",
      "mrr = 0.11023259715453129, pairs_count = 35\n",
      "\n",
      "prof svd 5 True 24\n",
      "mrr = 0.10921835771172042, pairs_count = 35\n",
      "\n",
      "prof svd 5 True 25\n",
      "mrr = 0.10771254340420783, pairs_count = 36\n",
      "\n",
      "prof svd 5 True 26\n",
      "mrr = 0.10404953971170507, pairs_count = 38\n",
      "\n",
      "prof svd 5 True 27\n",
      "mrr = 0.10215252852748383, pairs_count = 38\n",
      "\n",
      "prof svd 5 True 28\n",
      "mrr = 0.09943777341969698, pairs_count = 38\n",
      "\n",
      "prof svd 5 True 29\n",
      "mrr = 0.09955628965672918, pairs_count = 38\n",
      "\n",
      "prof svd 5 True 30\n",
      "mrr = 0.09706217534639686, pairs_count = 39\n",
      "\n",
      "prof svd 5 True 31\n",
      "mrr = 0.09181615503016419, pairs_count = 42\n",
      "\n",
      "prof svd 5 True 32\n",
      "mrr = 0.09067987290924322, pairs_count = 42\n",
      "\n",
      "prof svd 5 True 33\n",
      "mrr = 0.08996233533021941, pairs_count = 45\n",
      "\n",
      "prof svd 5 True 34\n",
      "mrr = 0.08977376620108603, pairs_count = 46\n",
      "\n",
      "prof svd 5 True 35\n",
      "mrr = 0.09125653747299538, pairs_count = 47\n",
      "\n",
      "prof svd 5 True 36\n",
      "mrr = 0.09027351249550679, pairs_count = 47\n",
      "\n",
      "prof svd 5 True 37\n",
      "mrr = 0.08457802052597455, pairs_count = 53\n",
      "\n",
      "prof svd 5 True 38\n",
      "mrr = 0.08114347692139652, pairs_count = 55\n",
      "\n",
      "prof svd 5 True 39\n",
      "mrr = 0.08070865319390126, pairs_count = 55\n",
      "\n",
      "prof svd 5 True 40\n",
      "mrr = 0.07963266171733392, pairs_count = 59\n",
      "\n",
      "prof svd 5 True 41\n",
      "mrr = 0.07874790548621038, pairs_count = 60\n",
      "\n",
      "prof svd 5 True 42\n",
      "mrr = 0.07275234080069175, pairs_count = 66\n",
      "\n",
      "prof svd 5 True 43\n",
      "mrr = 0.0720449323342512, pairs_count = 68\n",
      "\n",
      "prof svd 5 True 44\n",
      "mrr = 0.07098262016640104, pairs_count = 68\n",
      "\n",
      "prof svd 5 True 45\n",
      "mrr = 0.07274197027538543, pairs_count = 69\n",
      "\n",
      "prof svd 5 True 46\n",
      "mrr = 0.07459772875440693, pairs_count = 71\n",
      "\n",
      "prof svd 5 True 47\n",
      "mrr = 0.07359709781713158, pairs_count = 72\n",
      "\n",
      "prof svd 5 True 48\n",
      "mrr = 0.07352303980213964, pairs_count = 72\n",
      "\n",
      "prof svd 5 True 49\n",
      "mrr = 0.0718557123144642, pairs_count = 73\n",
      "\n",
      "prof svd 5 True 50\n",
      "mrr = 0.07233115685563253, pairs_count = 74\n",
      "\n",
      "prof svd 2 False 20\n",
      "mrr = 0.12118749746902442, pairs_count = 29\n",
      "\n",
      "prof svd 2 False 21\n",
      "mrr = 0.11751027764380231, pairs_count = 29\n",
      "\n",
      "prof svd 2 False 22\n",
      "mrr = 0.11524497075218171, pairs_count = 29\n",
      "\n",
      "prof svd 2 False 23\n",
      "mrr = 0.11023259715453129, pairs_count = 35\n",
      "\n",
      "prof svd 2 False 24\n",
      "mrr = 0.10921835771172042, pairs_count = 35\n",
      "\n",
      "prof svd 2 False 25\n",
      "mrr = 0.10771254340420783, pairs_count = 36\n",
      "\n",
      "prof svd 2 False 26\n",
      "mrr = 0.10404953971170507, pairs_count = 38\n",
      "\n",
      "prof svd 2 False 27\n",
      "mrr = 0.10215252852748383, pairs_count = 38\n",
      "\n",
      "prof svd 2 False 28\n",
      "mrr = 0.09943777341969698, pairs_count = 38\n",
      "\n",
      "prof svd 2 False 29\n",
      "mrr = 0.09955628965672918, pairs_count = 38\n",
      "\n",
      "prof svd 2 False 30\n",
      "mrr = 0.09706217534639686, pairs_count = 39\n",
      "\n",
      "prof svd 2 False 31\n",
      "mrr = 0.09181615503016419, pairs_count = 42\n",
      "\n",
      "prof svd 2 False 32\n",
      "mrr = 0.09067987290924322, pairs_count = 42\n",
      "\n",
      "prof svd 2 False 33\n",
      "mrr = 0.08996233533021941, pairs_count = 45\n",
      "\n",
      "prof svd 2 False 34\n",
      "mrr = 0.08977376620108603, pairs_count = 46\n",
      "\n",
      "prof svd 2 False 35\n",
      "mrr = 0.09125653747299538, pairs_count = 47\n",
      "\n",
      "prof svd 2 False 36\n",
      "mrr = 0.09027351249550679, pairs_count = 47\n",
      "\n",
      "prof svd 2 False 37\n",
      "mrr = 0.08457802052597455, pairs_count = 53\n",
      "\n",
      "prof svd 2 False 38\n",
      "mrr = 0.08114347692139652, pairs_count = 55\n",
      "\n",
      "prof svd 2 False 39\n",
      "mrr = 0.08070865319390126, pairs_count = 55\n",
      "\n",
      "prof svd 2 False 40\n",
      "mrr = 0.07963266171733392, pairs_count = 59\n",
      "\n",
      "prof svd 2 False 41\n",
      "mrr = 0.07874790548621038, pairs_count = 60\n",
      "\n",
      "prof svd 2 False 42\n",
      "mrr = 0.07275234080069175, pairs_count = 66\n",
      "\n",
      "prof svd 2 False 43\n",
      "mrr = 0.0720449323342512, pairs_count = 68\n",
      "\n",
      "prof svd 2 False 44\n",
      "mrr = 0.07098262016640104, pairs_count = 68\n",
      "\n",
      "prof svd 2 False 45\n",
      "mrr = 0.07274197027538543, pairs_count = 69\n",
      "\n",
      "prof svd 2 False 46\n",
      "mrr = 0.07459772875440693, pairs_count = 71\n",
      "\n",
      "prof svd 2 False 47\n",
      "mrr = 0.07359709781713158, pairs_count = 72\n",
      "\n",
      "prof svd 2 False 48\n",
      "mrr = 0.07352303980213964, pairs_count = 72\n",
      "\n",
      "prof svd 2 False 49\n",
      "mrr = 0.0718557123144642, pairs_count = 73\n",
      "\n",
      "prof svd 2 False 50\n",
      "mrr = 0.07233115685563253, pairs_count = 74\n",
      "\n",
      "prof pca 5 True 20\n",
      "mrr = 0.1069256352567619, pairs_count = 29\n",
      "\n",
      "prof pca 5 True 21\n",
      "mrr = 0.10696394559976698, pairs_count = 29\n",
      "\n",
      "prof pca 5 True 22\n",
      "mrr = 0.10683920213157642, pairs_count = 29\n",
      "\n",
      "prof pca 5 True 23\n",
      "mrr = 0.10185724961388516, pairs_count = 35\n",
      "\n",
      "prof pca 5 True 24\n",
      "mrr = 0.10165470814778786, pairs_count = 35\n",
      "\n",
      "prof pca 5 True 25\n",
      "mrr = 0.10209652268333322, pairs_count = 36\n",
      "\n",
      "prof pca 5 True 26\n",
      "mrr = 0.09656350202118644, pairs_count = 38\n",
      "\n",
      "prof pca 5 True 27\n",
      "mrr = 0.09567521881527984, pairs_count = 38\n",
      "\n",
      "prof pca 5 True 28\n",
      "mrr = 0.0950951940216795, pairs_count = 38\n",
      "\n",
      "prof pca 5 True 29\n",
      "mrr = 0.0953901055246647, pairs_count = 38\n",
      "\n",
      "prof pca 5 True 30\n",
      "mrr = 0.09087873115376688, pairs_count = 39\n",
      "\n",
      "prof pca 5 True 31\n",
      "mrr = 0.09730948919680597, pairs_count = 42\n",
      "\n",
      "prof pca 5 True 32\n",
      "mrr = 0.09705971655199346, pairs_count = 42\n",
      "\n",
      "prof pca 5 True 33\n",
      "mrr = 0.09129454294980785, pairs_count = 45\n",
      "\n",
      "prof pca 5 True 34\n",
      "mrr = 0.09153814040401681, pairs_count = 46\n",
      "\n",
      "prof pca 5 True 35\n",
      "mrr = 0.0903059500874006, pairs_count = 47\n",
      "\n",
      "prof pca 5 True 36\n",
      "mrr = 0.08955248084247736, pairs_count = 47\n",
      "\n",
      "prof pca 5 True 37\n",
      "mrr = 0.08177050123662336, pairs_count = 53\n",
      "\n",
      "prof pca 5 True 38\n",
      "mrr = 0.07768423435179546, pairs_count = 55\n",
      "\n",
      "prof pca 5 True 39\n",
      "mrr = 0.07887426004665413, pairs_count = 55\n",
      "\n",
      "prof pca 5 True 40\n",
      "mrr = 0.07448207838594792, pairs_count = 59\n",
      "\n",
      "prof pca 5 True 41\n",
      "mrr = 0.07399708579397643, pairs_count = 60\n",
      "\n",
      "prof pca 5 True 42\n",
      "mrr = 0.06703627324356051, pairs_count = 66\n",
      "\n",
      "prof pca 5 True 43\n",
      "mrr = 0.06641306902657373, pairs_count = 68\n",
      "\n",
      "prof pca 5 True 44\n",
      "mrr = 0.06497346137964631, pairs_count = 68\n",
      "\n",
      "prof pca 5 True 45\n",
      "mrr = 0.06424294411397513, pairs_count = 69\n",
      "\n",
      "prof pca 5 True 46\n",
      "mrr = 0.06346949860845964, pairs_count = 71\n",
      "\n",
      "prof pca 5 True 47\n",
      "mrr = 0.0626895331939724, pairs_count = 72\n",
      "\n",
      "prof pca 5 True 48\n",
      "mrr = 0.06271591152251438, pairs_count = 72\n",
      "\n",
      "prof pca 5 True 49\n",
      "mrr = 0.061781268188862835, pairs_count = 73\n",
      "\n",
      "prof pca 5 True 50\n",
      "mrr = 0.06642031790662326, pairs_count = 74\n",
      "\n",
      "prof pca 2 False 20\n",
      "mrr = 0.1069256352567619, pairs_count = 29\n",
      "\n",
      "prof pca 2 False 21\n",
      "mrr = 0.10696394559976698, pairs_count = 29\n",
      "\n",
      "prof pca 2 False 22\n",
      "mrr = 0.10683920213157642, pairs_count = 29\n",
      "\n",
      "prof pca 2 False 23\n",
      "mrr = 0.10185724961388516, pairs_count = 35\n",
      "\n",
      "prof pca 2 False 24\n",
      "mrr = 0.10165470814778786, pairs_count = 35\n",
      "\n",
      "prof pca 2 False 25\n",
      "mrr = 0.10209652268333322, pairs_count = 36\n",
      "\n",
      "prof pca 2 False 26\n",
      "mrr = 0.09656350202118644, pairs_count = 38\n",
      "\n",
      "prof pca 2 False 27\n",
      "mrr = 0.09567521881527984, pairs_count = 38\n",
      "\n",
      "prof pca 2 False 28\n",
      "mrr = 0.0950951940216795, pairs_count = 38\n",
      "\n",
      "prof pca 2 False 29\n",
      "mrr = 0.0953901055246647, pairs_count = 38\n",
      "\n",
      "prof pca 2 False 30\n",
      "mrr = 0.09087873115376688, pairs_count = 39\n",
      "\n",
      "prof pca 2 False 31\n",
      "mrr = 0.09730948919680597, pairs_count = 42\n",
      "\n",
      "prof pca 2 False 32\n",
      "mrr = 0.09705971655199346, pairs_count = 42\n",
      "\n",
      "prof pca 2 False 33\n",
      "mrr = 0.09129454294980785, pairs_count = 45\n",
      "\n",
      "prof pca 2 False 34\n",
      "mrr = 0.09153814040401681, pairs_count = 46\n",
      "\n",
      "prof pca 2 False 35\n",
      "mrr = 0.0903059500874006, pairs_count = 47\n",
      "\n",
      "prof pca 2 False 36\n",
      "mrr = 0.08955248084247736, pairs_count = 47\n",
      "\n",
      "prof pca 2 False 37\n",
      "mrr = 0.08177050123662336, pairs_count = 53\n",
      "\n",
      "prof pca 2 False 38\n",
      "mrr = 0.07768423435179546, pairs_count = 55\n",
      "\n",
      "prof pca 2 False 39\n",
      "mrr = 0.07887426004665413, pairs_count = 55\n",
      "\n",
      "prof pca 2 False 40\n",
      "mrr = 0.07448207838594792, pairs_count = 59\n",
      "\n",
      "prof pca 2 False 41\n",
      "mrr = 0.07399708579397643, pairs_count = 60\n",
      "\n",
      "prof pca 2 False 42\n",
      "mrr = 0.06703627324356051, pairs_count = 66\n",
      "\n",
      "prof pca 2 False 43\n",
      "mrr = 0.06641306902657373, pairs_count = 68\n",
      "\n",
      "prof pca 2 False 44\n",
      "mrr = 0.06497346137964631, pairs_count = 68\n",
      "\n",
      "prof pca 2 False 45\n",
      "mrr = 0.06424294411397513, pairs_count = 69\n",
      "\n",
      "prof pca 2 False 46\n",
      "mrr = 0.06346949860845964, pairs_count = 71\n",
      "\n",
      "prof pca 2 False 47\n",
      "mrr = 0.0626895331939724, pairs_count = 72\n",
      "\n",
      "prof pca 2 False 48\n",
      "mrr = 0.06271591152251438, pairs_count = 72\n",
      "\n",
      "prof pca 2 False 49\n",
      "mrr = 0.061781268188862835, pairs_count = 73\n",
      "\n",
      "prof pca 2 False 50\n",
      "mrr = 0.06642031790662326, pairs_count = 74\n",
      "\n",
      "prof sim_euclid 5 True 20\n",
      "mrr = 0.13178565962605787, pairs_count = 29\n",
      "\n",
      "prof sim_euclid 5 True 21\n",
      "mrr = 0.14545528598107874, pairs_count = 29\n",
      "\n",
      "prof sim_euclid 5 True 22\n",
      "mrr = 0.1439318437549567, pairs_count = 29\n",
      "\n",
      "prof sim_euclid 5 True 23\n",
      "mrr = 0.13659330852832668, pairs_count = 35\n",
      "\n",
      "prof sim_euclid 5 True 24\n",
      "mrr = 0.13176970133922006, pairs_count = 35\n",
      "\n",
      "prof sim_euclid 5 True 25\n",
      "mrr = 0.12446095513184023, pairs_count = 36\n",
      "\n",
      "prof sim_euclid 5 True 26\n",
      "mrr = 0.11379091946649673, pairs_count = 38\n",
      "\n",
      "prof sim_euclid 5 True 27\n",
      "mrr = 0.11388539172414727, pairs_count = 38\n",
      "\n",
      "prof sim_euclid 5 True 28\n",
      "mrr = 0.11384255563735995, pairs_count = 38\n",
      "\n",
      "prof sim_euclid 5 True 29\n",
      "mrr = 0.10923117164162952, pairs_count = 38\n",
      "\n",
      "prof sim_euclid 5 True 30\n",
      "mrr = 0.10878411180585054, pairs_count = 39\n",
      "\n",
      "prof sim_euclid 5 True 31\n",
      "mrr = 0.10472145478242399, pairs_count = 42\n",
      "\n",
      "prof sim_euclid 5 True 32\n",
      "mrr = 0.10396498010756362, pairs_count = 42\n",
      "\n",
      "prof sim_euclid 5 True 33\n",
      "mrr = 0.10112577113665419, pairs_count = 45\n",
      "\n",
      "prof sim_euclid 5 True 34\n",
      "mrr = 0.09868710090324445, pairs_count = 46\n",
      "\n",
      "prof sim_euclid 5 True 35\n",
      "mrr = 0.09907197212695901, pairs_count = 47\n",
      "\n",
      "prof sim_euclid 5 True 36\n",
      "mrr = 0.09264675542573558, pairs_count = 47\n",
      "\n",
      "prof sim_euclid 5 True 37\n",
      "mrr = 0.09549284923984433, pairs_count = 53\n",
      "\n",
      "prof sim_euclid 5 True 38\n",
      "mrr = 0.08669076708409326, pairs_count = 55\n",
      "\n",
      "prof sim_euclid 5 True 39\n",
      "mrr = 0.08972479696818998, pairs_count = 55\n",
      "\n",
      "prof sim_euclid 5 True 40\n",
      "mrr = 0.08397684378914506, pairs_count = 59\n",
      "\n",
      "prof sim_euclid 5 True 41\n",
      "mrr = 0.08081485741945858, pairs_count = 60\n",
      "\n",
      "prof sim_euclid 5 True 42\n",
      "mrr = 0.07695517397978123, pairs_count = 66\n",
      "\n",
      "prof sim_euclid 5 True 43\n",
      "mrr = 0.07385685833547193, pairs_count = 68\n",
      "\n",
      "prof sim_euclid 5 True 44\n",
      "mrr = 0.07341791138961408, pairs_count = 68\n",
      "\n",
      "prof sim_euclid 5 True 45\n",
      "mrr = 0.07347212695935079, pairs_count = 69\n",
      "\n",
      "prof sim_euclid 5 True 46\n",
      "mrr = 0.07105325150427981, pairs_count = 71\n",
      "\n",
      "prof sim_euclid 5 True 47\n",
      "mrr = 0.06839419302005235, pairs_count = 72\n",
      "\n",
      "prof sim_euclid 5 True 48\n",
      "mrr = 0.06972114680477604, pairs_count = 72\n",
      "\n",
      "prof sim_euclid 5 True 49\n",
      "mrr = 0.07017138711277433, pairs_count = 73\n",
      "\n",
      "prof sim_euclid 5 True 50\n",
      "mrr = 0.07292734663279593, pairs_count = 74\n",
      "\n",
      "prof sim_cos 5 True 20\n",
      "mrr = 0.17564736330950173, pairs_count = 29\n",
      "\n",
      "prof sim_cos 5 True 21\n",
      "mrr = 0.23216021851536323, pairs_count = 29\n",
      "\n",
      "prof sim_cos 5 True 22\n",
      "mrr = 0.23099474081089894, pairs_count = 29\n",
      "\n",
      "prof sim_cos 5 True 23\n",
      "mrr = 0.21716108593679703, pairs_count = 35\n",
      "\n",
      "prof sim_cos 5 True 24\n",
      "mrr = 0.20729332772649128, pairs_count = 35\n",
      "\n",
      "prof sim_cos 5 True 25\n",
      "mrr = 0.20281798384341335, pairs_count = 36\n",
      "\n",
      "prof sim_cos 5 True 26\n",
      "mrr = 0.20735026111222804, pairs_count = 38\n",
      "\n",
      "prof sim_cos 5 True 27\n",
      "mrr = 0.19871494538331644, pairs_count = 38\n",
      "\n",
      "prof sim_cos 5 True 28\n",
      "mrr = 0.19623906422207824, pairs_count = 38\n",
      "\n",
      "prof sim_cos 5 True 29\n",
      "mrr = 0.19894527684149968, pairs_count = 38\n",
      "\n",
      "prof sim_cos 5 True 30\n",
      "mrr = 0.1888000144186714, pairs_count = 39\n",
      "\n",
      "prof sim_cos 5 True 31\n",
      "mrr = 0.1820568450827539, pairs_count = 42\n",
      "\n",
      "prof sim_cos 5 True 32\n",
      "mrr = 0.17786662273485832, pairs_count = 42\n",
      "\n",
      "prof sim_cos 5 True 33\n",
      "mrr = 0.1817605128350342, pairs_count = 45\n",
      "\n",
      "prof sim_cos 5 True 34\n",
      "mrr = 0.18102396677483182, pairs_count = 46\n",
      "\n",
      "prof sim_cos 5 True 35\n",
      "mrr = 0.17910623999307396, pairs_count = 47\n",
      "\n",
      "prof sim_cos 5 True 36\n",
      "mrr = 0.1772743388914665, pairs_count = 47\n",
      "\n",
      "prof sim_cos 5 True 37\n",
      "mrr = 0.162556194394496, pairs_count = 53\n",
      "\n",
      "prof sim_cos 5 True 38\n",
      "mrr = 0.15856286391726385, pairs_count = 55\n",
      "\n",
      "prof sim_cos 5 True 39\n",
      "mrr = 0.15741528483345854, pairs_count = 55\n",
      "\n",
      "prof sim_cos 5 True 40\n",
      "mrr = 0.15199693033929543, pairs_count = 59\n",
      "\n",
      "prof sim_cos 5 True 41\n",
      "mrr = 0.14211810415299211, pairs_count = 60\n",
      "\n",
      "prof sim_cos 5 True 42\n",
      "mrr = 0.14143308871691027, pairs_count = 66\n",
      "\n",
      "prof sim_cos 5 True 43\n",
      "mrr = 0.1413911289125976, pairs_count = 68\n",
      "\n",
      "prof sim_cos 5 True 44\n",
      "mrr = 0.1404937089300299, pairs_count = 68\n",
      "\n",
      "prof sim_cos 5 True 45\n",
      "mrr = 0.14035861327302626, pairs_count = 69\n",
      "\n",
      "prof sim_cos 5 True 46\n",
      "mrr = 0.1410225305624883, pairs_count = 71\n",
      "\n",
      "prof sim_cos 5 True 47\n",
      "mrr = 0.14343004202542076, pairs_count = 72\n",
      "\n",
      "prof sim_cos 5 True 48\n",
      "mrr = 0.1353009891605032, pairs_count = 72\n",
      "\n",
      "prof sim_cos 5 True 49\n",
      "mrr = 0.13950783815932255, pairs_count = 73\n",
      "\n",
      "prof sim_cos 5 True 50\n",
      "mrr = 0.13976147077628734, pairs_count = 74\n",
      "\n",
      "prof umap 5 True 20\n",
      "mrr = 0.1790652771911768, pairs_count = 29\n",
      "\n",
      "prof umap 5 True 21\n",
      "mrr = 0.1806422399839104, pairs_count = 29\n",
      "\n",
      "prof umap 5 True 22\n",
      "mrr = 0.17989529631043394, pairs_count = 29\n",
      "\n",
      "prof umap 5 True 23\n",
      "mrr = 0.15741729862181023, pairs_count = 35\n",
      "\n",
      "prof umap 5 True 24\n",
      "mrr = 0.16796009895803804, pairs_count = 35\n",
      "\n",
      "prof umap 5 True 25\n",
      "mrr = 0.15768986250083816, pairs_count = 36\n",
      "\n",
      "prof umap 5 True 26\n",
      "mrr = 0.14839977991980435, pairs_count = 38\n",
      "\n",
      "prof umap 5 True 27\n",
      "mrr = 0.16769542124425113, pairs_count = 38\n",
      "\n",
      "prof umap 5 True 28\n",
      "mrr = 0.14684433064023727, pairs_count = 38\n",
      "\n",
      "prof umap 5 True 29\n",
      "mrr = 0.13459789087359986, pairs_count = 38\n",
      "\n",
      "prof umap 5 True 30\n",
      "mrr = 0.1533494039661038, pairs_count = 39\n",
      "\n",
      "prof umap 5 True 31\n",
      "mrr = 0.13113121462424715, pairs_count = 42\n",
      "\n",
      "prof umap 5 True 32\n",
      "mrr = 0.1325340453655462, pairs_count = 42\n",
      "\n",
      "prof umap 5 True 33\n",
      "mrr = 0.13794646626224238, pairs_count = 45\n",
      "\n",
      "prof umap 5 True 34\n",
      "mrr = 0.131980991731434, pairs_count = 46\n",
      "\n",
      "prof umap 5 True 35\n",
      "mrr = 0.12395483353315427, pairs_count = 47\n",
      "\n",
      "prof umap 5 True 36\n",
      "mrr = 0.1280189592265604, pairs_count = 47\n",
      "\n",
      "prof umap 5 True 37\n",
      "mrr = 0.12236425317499205, pairs_count = 53\n",
      "\n",
      "prof umap 5 True 38\n",
      "mrr = 0.10385653433499945, pairs_count = 55\n",
      "\n",
      "prof umap 5 True 39\n",
      "mrr = 0.10744504988147587, pairs_count = 55\n",
      "\n",
      "prof umap 5 True 40\n",
      "mrr = 0.10840546933660156, pairs_count = 59\n",
      "\n",
      "prof umap 5 True 41\n",
      "mrr = 0.10503771285292833, pairs_count = 60\n",
      "\n",
      "prof umap 5 True 42\n",
      "mrr = 0.10091700302288689, pairs_count = 66\n",
      "\n",
      "prof umap 5 True 43\n",
      "mrr = 0.10518475353371969, pairs_count = 68\n",
      "\n",
      "prof umap 5 True 44\n",
      "mrr = 0.10125872088441966, pairs_count = 68\n",
      "\n",
      "prof umap 5 True 45\n",
      "mrr = 0.10469593665589708, pairs_count = 69\n",
      "\n",
      "prof umap 5 True 46\n",
      "mrr = 0.10443400730384163, pairs_count = 71\n",
      "\n",
      "prof umap 5 True 47\n",
      "mrr = 0.10871580515598724, pairs_count = 72\n",
      "\n",
      "prof umap 5 True 48\n",
      "mrr = 0.10778574914119561, pairs_count = 72\n",
      "\n",
      "prof umap 5 True 49\n",
      "mrr = 0.10435746401711975, pairs_count = 73\n",
      "\n",
      "prof umap 5 True 50\n",
      "mrr = 0.10708260288691057, pairs_count = 74\n",
      "\n",
      "prof umap 2 False 20\n",
      "mrr = 0.1790652771911768, pairs_count = 29\n",
      "\n",
      "prof umap 2 False 21\n",
      "mrr = 0.1806422399839104, pairs_count = 29\n",
      "\n",
      "prof umap 2 False 22\n",
      "mrr = 0.17989529631043394, pairs_count = 29\n",
      "\n",
      "prof umap 2 False 23\n",
      "mrr = 0.15741729862181023, pairs_count = 35\n",
      "\n",
      "prof umap 2 False 24\n",
      "mrr = 0.16796009895803804, pairs_count = 35\n",
      "\n",
      "prof umap 2 False 25\n",
      "mrr = 0.15768986250083816, pairs_count = 36\n",
      "\n",
      "prof umap 2 False 26\n",
      "mrr = 0.14839977991980435, pairs_count = 38\n",
      "\n",
      "prof umap 2 False 27\n",
      "mrr = 0.16769542124425113, pairs_count = 38\n",
      "\n",
      "prof umap 2 False 28\n",
      "mrr = 0.14684433064023727, pairs_count = 38\n",
      "\n",
      "prof umap 2 False 29\n",
      "mrr = 0.13459789087359986, pairs_count = 38\n",
      "\n",
      "prof umap 2 False 30\n",
      "mrr = 0.1533494039661038, pairs_count = 39\n",
      "\n",
      "prof umap 2 False 31\n",
      "mrr = 0.13113121462424715, pairs_count = 42\n",
      "\n",
      "prof umap 2 False 32\n",
      "mrr = 0.1325340453655462, pairs_count = 42\n",
      "\n",
      "prof umap 2 False 33\n",
      "mrr = 0.13794646626224238, pairs_count = 45\n",
      "\n",
      "prof umap 2 False 34\n",
      "mrr = 0.131980991731434, pairs_count = 46\n",
      "\n",
      "prof umap 2 False 35\n",
      "mrr = 0.12395483353315427, pairs_count = 47\n",
      "\n",
      "prof umap 2 False 36\n",
      "mrr = 0.1280189592265604, pairs_count = 47\n",
      "\n",
      "prof umap 2 False 37\n",
      "mrr = 0.12236425317499205, pairs_count = 53\n",
      "\n",
      "prof umap 2 False 38\n",
      "mrr = 0.10385653433499945, pairs_count = 55\n",
      "\n",
      "prof umap 2 False 39\n",
      "mrr = 0.10744504988147587, pairs_count = 55\n",
      "\n",
      "prof umap 2 False 40\n",
      "mrr = 0.10840546933660156, pairs_count = 59\n",
      "\n",
      "prof umap 2 False 41\n",
      "mrr = 0.10503771285292833, pairs_count = 60\n",
      "\n",
      "prof umap 2 False 42\n",
      "mrr = 0.10091700302288689, pairs_count = 66\n",
      "\n",
      "prof umap 2 False 43\n",
      "mrr = 0.10518475353371969, pairs_count = 68\n",
      "\n",
      "prof umap 2 False 44\n",
      "mrr = 0.10125872088441966, pairs_count = 68\n",
      "\n",
      "prof umap 2 False 45\n",
      "mrr = 0.10469593665589708, pairs_count = 69\n",
      "\n",
      "prof umap 2 False 46\n",
      "mrr = 0.10443400730384163, pairs_count = 71\n",
      "\n",
      "prof umap 2 False 47\n",
      "mrr = 0.10871580515598724, pairs_count = 72\n",
      "\n",
      "prof umap 2 False 48\n",
      "mrr = 0.10778574914119561, pairs_count = 72\n",
      "\n",
      "prof umap 2 False 49\n",
      "mrr = 0.10435746401711975, pairs_count = 73\n",
      "\n",
      "prof umap 2 False 50\n",
      "mrr = 0.10708260288691057, pairs_count = 74\n",
      "\n",
      "bm tsne 5 True 20\n",
      "mrr = 0.1805484409004795, pairs_count = 29\n",
      "\n",
      "bm tsne 5 True 21\n",
      "mrr = 0.17464317739744967, pairs_count = 29\n",
      "\n",
      "bm tsne 5 True 22\n",
      "mrr = 0.1401392567668959, pairs_count = 29\n",
      "\n",
      "bm tsne 5 True 23\n",
      "mrr = 0.1525792808681744, pairs_count = 35\n",
      "\n",
      "bm tsne 5 True 24\n",
      "mrr = 0.15023917558504252, pairs_count = 35\n",
      "\n",
      "bm tsne 5 True 25\n",
      "mrr = 0.15448497782732665, pairs_count = 36\n",
      "\n",
      "bm tsne 5 True 26\n",
      "mrr = 0.16400484258880538, pairs_count = 38\n",
      "\n",
      "bm tsne 5 True 27\n",
      "mrr = 0.16520608656077482, pairs_count = 38\n",
      "\n",
      "bm tsne 5 True 28\n",
      "mrr = 0.16501199610452855, pairs_count = 38\n",
      "\n",
      "bm tsne 5 True 29\n",
      "mrr = 0.15358100843340786, pairs_count = 38\n",
      "\n",
      "bm tsne 5 True 30\n",
      "mrr = 0.14609760249083667, pairs_count = 39\n",
      "\n",
      "bm tsne 5 True 31\n",
      "mrr = 0.14117068503367594, pairs_count = 42\n",
      "\n",
      "bm tsne 5 True 32\n",
      "mrr = 0.15368798968460512, pairs_count = 42\n",
      "\n",
      "bm tsne 5 True 33\n",
      "mrr = 0.1383401351289959, pairs_count = 45\n",
      "\n",
      "bm tsne 5 True 34\n",
      "mrr = 0.15831001615208162, pairs_count = 46\n",
      "\n",
      "bm tsne 5 True 35\n",
      "mrr = 0.15964841188912843, pairs_count = 47\n",
      "\n",
      "bm tsne 5 True 36\n",
      "mrr = 0.16939809551865645, pairs_count = 47\n",
      "\n",
      "bm tsne 5 True 37\n",
      "mrr = 0.13007859169037245, pairs_count = 53\n",
      "\n",
      "bm tsne 5 True 38\n",
      "mrr = 0.13564122230265704, pairs_count = 55\n",
      "\n",
      "bm tsne 5 True 39\n",
      "mrr = 0.1379603908990665, pairs_count = 55\n",
      "\n",
      "bm tsne 5 True 40\n",
      "mrr = 0.1319654398204514, pairs_count = 59\n",
      "\n",
      "bm tsne 5 True 41\n",
      "mrr = 0.1227750132859303, pairs_count = 60\n",
      "\n",
      "bm tsne 5 True 42\n",
      "mrr = 0.12669093943785098, pairs_count = 66\n",
      "\n",
      "bm tsne 5 True 43\n",
      "mrr = 0.12765570129476964, pairs_count = 68\n",
      "\n",
      "bm tsne 5 True 44\n",
      "mrr = 0.13492622528404866, pairs_count = 68\n",
      "\n",
      "bm tsne 5 True 45\n",
      "mrr = 0.12261261787628319, pairs_count = 69\n",
      "\n",
      "bm tsne 5 True 46\n",
      "mrr = 0.11640912647895295, pairs_count = 71\n",
      "\n",
      "bm tsne 5 True 47\n",
      "mrr = 0.124300142807275, pairs_count = 72\n",
      "\n",
      "bm tsne 5 True 48\n",
      "mrr = 0.12296132590020845, pairs_count = 72\n",
      "\n",
      "bm tsne 5 True 49\n",
      "mrr = 0.12603104002743576, pairs_count = 73\n",
      "\n",
      "bm tsne 5 True 50\n",
      "mrr = 0.11816680551129001, pairs_count = 74\n",
      "\n",
      "bm als 5 True 20\n",
      "mrr = 0.08625427720889829, pairs_count = 29\n",
      "\n",
      "bm als 5 True 21\n",
      "mrr = 0.08810786686978066, pairs_count = 29\n",
      "\n",
      "bm als 5 True 22\n",
      "mrr = 0.10053765034050952, pairs_count = 29\n",
      "\n",
      "bm als 5 True 23\n",
      "mrr = 0.06934553853520971, pairs_count = 35\n",
      "\n",
      "bm als 5 True 24\n",
      "mrr = 0.08753063426338188, pairs_count = 35\n",
      "\n",
      "bm als 5 True 25\n",
      "mrr = 0.08495863224345673, pairs_count = 36\n",
      "\n",
      "bm als 5 True 26\n",
      "mrr = 0.09483323237312113, pairs_count = 38\n",
      "\n",
      "bm als 5 True 27\n",
      "mrr = 0.07920895345180008, pairs_count = 38\n",
      "\n",
      "bm als 5 True 28\n",
      "mrr = 0.08328592641903525, pairs_count = 38\n",
      "\n",
      "bm als 5 True 29\n",
      "mrr = 0.06573026211873123, pairs_count = 38\n",
      "\n",
      "bm als 5 True 30\n",
      "mrr = 0.05462012451005259, pairs_count = 39\n",
      "\n",
      "bm als 5 True 31\n",
      "mrr = 0.06292538247611833, pairs_count = 42\n",
      "\n",
      "bm als 5 True 32\n",
      "mrr = 0.07526812652065577, pairs_count = 42\n",
      "\n",
      "bm als 5 True 33\n",
      "mrr = 0.08391126657470643, pairs_count = 45\n",
      "\n",
      "bm als 5 True 34\n",
      "mrr = 0.07378730495205942, pairs_count = 46\n",
      "\n",
      "bm als 5 True 35\n",
      "mrr = 0.09124509222287566, pairs_count = 47\n",
      "\n",
      "bm als 5 True 36\n",
      "mrr = 0.09232884145697436, pairs_count = 47\n",
      "\n",
      "bm als 5 True 37\n",
      "mrr = 0.07352737552581566, pairs_count = 53\n",
      "\n",
      "bm als 5 True 38\n",
      "mrr = 0.09604271493213239, pairs_count = 55\n",
      "\n",
      "bm als 5 True 39\n",
      "mrr = 0.07653117069739938, pairs_count = 55\n",
      "\n",
      "bm als 5 True 40\n",
      "mrr = 0.08311089938132314, pairs_count = 59\n",
      "\n",
      "bm als 5 True 41\n",
      "mrr = 0.09292560191771228, pairs_count = 60\n",
      "\n",
      "bm als 5 True 42\n",
      "mrr = 0.07867774424640835, pairs_count = 66\n",
      "\n",
      "bm als 5 True 43\n",
      "mrr = 0.07337836255006568, pairs_count = 68\n",
      "\n",
      "bm als 5 True 44\n",
      "mrr = 0.0669357210762567, pairs_count = 68\n",
      "\n",
      "bm als 5 True 45\n",
      "mrr = 0.07528558847458414, pairs_count = 69\n",
      "\n",
      "bm als 5 True 46\n",
      "mrr = 0.07345402629948561, pairs_count = 71\n",
      "\n",
      "bm als 5 True 47\n",
      "mrr = 0.0738397538850068, pairs_count = 72\n",
      "\n",
      "bm als 5 True 48\n",
      "mrr = 0.056464783185208915, pairs_count = 72\n",
      "\n",
      "bm als 5 True 49\n",
      "mrr = 0.07168794945708001, pairs_count = 73\n",
      "\n",
      "bm als 5 True 50\n",
      "mrr = 0.05242456472551261, pairs_count = 74\n",
      "\n",
      "bm svd 5 True 20\n",
      "mrr = 0.1119391807895569, pairs_count = 29\n",
      "\n",
      "bm svd 5 True 21\n",
      "mrr = 0.11132044189041733, pairs_count = 29\n",
      "\n",
      "bm svd 5 True 22\n",
      "mrr = 0.10973299411950407, pairs_count = 29\n",
      "\n",
      "bm svd 5 True 23\n",
      "mrr = 0.1204206064996016, pairs_count = 35\n",
      "\n",
      "bm svd 5 True 24\n",
      "mrr = 0.11680336146022217, pairs_count = 35\n",
      "\n",
      "bm svd 5 True 25\n",
      "mrr = 0.11519624060351973, pairs_count = 36\n",
      "\n",
      "bm svd 5 True 26\n",
      "mrr = 0.11548705905009325, pairs_count = 38\n",
      "\n",
      "bm svd 5 True 27\n",
      "mrr = 0.11736799520909924, pairs_count = 38\n",
      "\n",
      "bm svd 5 True 28\n",
      "mrr = 0.11873401818299917, pairs_count = 38\n",
      "\n",
      "bm svd 5 True 29\n",
      "mrr = 0.11198081318386206, pairs_count = 38\n",
      "\n",
      "bm svd 5 True 30\n",
      "mrr = 0.10442160041707786, pairs_count = 39\n",
      "\n",
      "bm svd 5 True 31\n",
      "mrr = 0.09569570593212577, pairs_count = 42\n",
      "\n",
      "bm svd 5 True 32\n",
      "mrr = 0.09565344634973767, pairs_count = 42\n",
      "\n",
      "bm svd 5 True 33\n",
      "mrr = 0.09824229733367701, pairs_count = 45\n",
      "\n",
      "bm svd 5 True 34\n",
      "mrr = 0.1016030914455908, pairs_count = 46\n",
      "\n",
      "bm svd 5 True 35\n",
      "mrr = 0.10085726138152178, pairs_count = 47\n",
      "\n",
      "bm svd 5 True 36\n",
      "mrr = 0.09703389566499433, pairs_count = 47\n",
      "\n",
      "bm svd 5 True 37\n",
      "mrr = 0.08817510830032443, pairs_count = 53\n",
      "\n",
      "bm svd 5 True 38\n",
      "mrr = 0.08605979211671648, pairs_count = 55\n",
      "\n",
      "bm svd 5 True 39\n",
      "mrr = 0.08635756605565009, pairs_count = 55\n",
      "\n",
      "bm svd 5 True 40\n",
      "mrr = 0.07811486651841633, pairs_count = 59\n",
      "\n",
      "bm svd 5 True 41\n",
      "mrr = 0.07633207983818976, pairs_count = 60\n",
      "\n",
      "bm svd 5 True 42\n",
      "mrr = 0.07233743498336052, pairs_count = 66\n",
      "\n",
      "bm svd 5 True 43\n",
      "mrr = 0.07526843234187341, pairs_count = 68\n",
      "\n",
      "bm svd 5 True 44\n",
      "mrr = 0.07381952703787328, pairs_count = 68\n",
      "\n",
      "bm svd 5 True 45\n",
      "mrr = 0.07412173803824933, pairs_count = 69\n",
      "\n",
      "bm svd 5 True 46\n",
      "mrr = 0.07643491956164918, pairs_count = 71\n",
      "\n",
      "bm svd 5 True 47\n",
      "mrr = 0.08301761406209539, pairs_count = 72\n",
      "\n",
      "bm svd 5 True 48\n",
      "mrr = 0.0874932582691309, pairs_count = 72\n",
      "\n",
      "bm svd 5 True 49\n",
      "mrr = 0.08728157455630929, pairs_count = 73\n",
      "\n",
      "bm svd 5 True 50\n",
      "mrr = 0.08430667105393598, pairs_count = 74\n",
      "\n",
      "bm svd 2 False 20\n",
      "mrr = 0.1119391807895569, pairs_count = 29\n",
      "\n",
      "bm svd 2 False 21\n",
      "mrr = 0.11132044189041733, pairs_count = 29\n",
      "\n",
      "bm svd 2 False 22\n",
      "mrr = 0.10973299411950407, pairs_count = 29\n",
      "\n",
      "bm svd 2 False 23\n",
      "mrr = 0.1204206064996016, pairs_count = 35\n",
      "\n",
      "bm svd 2 False 24\n",
      "mrr = 0.11680336146022217, pairs_count = 35\n",
      "\n",
      "bm svd 2 False 25\n",
      "mrr = 0.11519624060351973, pairs_count = 36\n",
      "\n",
      "bm svd 2 False 26\n",
      "mrr = 0.11548705905009325, pairs_count = 38\n",
      "\n",
      "bm svd 2 False 27\n",
      "mrr = 0.11736799520909924, pairs_count = 38\n",
      "\n",
      "bm svd 2 False 28\n",
      "mrr = 0.11873401818299917, pairs_count = 38\n",
      "\n",
      "bm svd 2 False 29\n",
      "mrr = 0.11198081318386206, pairs_count = 38\n",
      "\n",
      "bm svd 2 False 30\n",
      "mrr = 0.10442160041707786, pairs_count = 39\n",
      "\n",
      "bm svd 2 False 31\n",
      "mrr = 0.09569570593212577, pairs_count = 42\n",
      "\n",
      "bm svd 2 False 32\n",
      "mrr = 0.09565344634973767, pairs_count = 42\n",
      "\n",
      "bm svd 2 False 33\n",
      "mrr = 0.09824229733367701, pairs_count = 45\n",
      "\n",
      "bm svd 2 False 34\n",
      "mrr = 0.1016030914455908, pairs_count = 46\n",
      "\n",
      "bm svd 2 False 35\n",
      "mrr = 0.10085726138152178, pairs_count = 47\n",
      "\n",
      "bm svd 2 False 36\n",
      "mrr = 0.09703389566499433, pairs_count = 47\n",
      "\n",
      "bm svd 2 False 37\n",
      "mrr = 0.08817510830032443, pairs_count = 53\n",
      "\n",
      "bm svd 2 False 38\n",
      "mrr = 0.08605979211671648, pairs_count = 55\n",
      "\n",
      "bm svd 2 False 39\n",
      "mrr = 0.08635756605565009, pairs_count = 55\n",
      "\n",
      "bm svd 2 False 40\n",
      "mrr = 0.07811486651841633, pairs_count = 59\n",
      "\n",
      "bm svd 2 False 41\n",
      "mrr = 0.07633207983818976, pairs_count = 60\n",
      "\n",
      "bm svd 2 False 42\n",
      "mrr = 0.07233743498336052, pairs_count = 66\n",
      "\n",
      "bm svd 2 False 43\n",
      "mrr = 0.07526843234187341, pairs_count = 68\n",
      "\n",
      "bm svd 2 False 44\n",
      "mrr = 0.07381952703787328, pairs_count = 68\n",
      "\n",
      "bm svd 2 False 45\n",
      "mrr = 0.07412173803824933, pairs_count = 69\n",
      "\n",
      "bm svd 2 False 46\n",
      "mrr = 0.07643491956164918, pairs_count = 71\n",
      "\n",
      "bm svd 2 False 47\n",
      "mrr = 0.08301761406209539, pairs_count = 72\n",
      "\n",
      "bm svd 2 False 48\n",
      "mrr = 0.0874932582691309, pairs_count = 72\n",
      "\n",
      "bm svd 2 False 49\n",
      "mrr = 0.08728157455630929, pairs_count = 73\n",
      "\n",
      "bm svd 2 False 50\n",
      "mrr = 0.08430667105393598, pairs_count = 74\n",
      "\n",
      "bm pca 5 True 20\n",
      "mrr = 0.1393967583792711, pairs_count = 29\n",
      "\n",
      "bm pca 5 True 21\n",
      "mrr = 0.13782760782669443, pairs_count = 29\n",
      "\n",
      "bm pca 5 True 22\n",
      "mrr = 0.13531915481607723, pairs_count = 29\n",
      "\n",
      "bm pca 5 True 23\n",
      "mrr = 0.13122246058159406, pairs_count = 35\n",
      "\n",
      "bm pca 5 True 24\n",
      "mrr = 0.13072495212515423, pairs_count = 35\n",
      "\n",
      "bm pca 5 True 25\n",
      "mrr = 0.12595637902930223, pairs_count = 36\n",
      "\n",
      "bm pca 5 True 26\n",
      "mrr = 0.12075368340951846, pairs_count = 38\n",
      "\n",
      "bm pca 5 True 27\n",
      "mrr = 0.12134103388380335, pairs_count = 38\n",
      "\n",
      "bm pca 5 True 28\n",
      "mrr = 0.11839415624298877, pairs_count = 38\n",
      "\n",
      "bm pca 5 True 29\n",
      "mrr = 0.12626973488843776, pairs_count = 38\n",
      "\n",
      "bm pca 5 True 30\n",
      "mrr = 0.12335638402441493, pairs_count = 39\n",
      "\n",
      "bm pca 5 True 31\n",
      "mrr = 0.11437194649672697, pairs_count = 42\n",
      "\n",
      "bm pca 5 True 32\n",
      "mrr = 0.11556348385564406, pairs_count = 42\n",
      "\n",
      "bm pca 5 True 33\n",
      "mrr = 0.11665123760340358, pairs_count = 45\n",
      "\n",
      "bm pca 5 True 34\n",
      "mrr = 0.11466296900149608, pairs_count = 46\n",
      "\n",
      "bm pca 5 True 35\n",
      "mrr = 0.10993151382631992, pairs_count = 47\n",
      "\n",
      "bm pca 5 True 36\n",
      "mrr = 0.11175262421829285, pairs_count = 47\n",
      "\n",
      "bm pca 5 True 37\n",
      "mrr = 0.09727253236439726, pairs_count = 53\n",
      "\n",
      "bm pca 5 True 38\n",
      "mrr = 0.0937030024810311, pairs_count = 55\n",
      "\n",
      "bm pca 5 True 39\n",
      "mrr = 0.09283842056074687, pairs_count = 55\n",
      "\n",
      "bm pca 5 True 40\n",
      "mrr = 0.08848731519688115, pairs_count = 59\n",
      "\n",
      "bm pca 5 True 41\n",
      "mrr = 0.09106645670857436, pairs_count = 60\n",
      "\n",
      "bm pca 5 True 42\n",
      "mrr = 0.08580001550747915, pairs_count = 66\n",
      "\n",
      "bm pca 5 True 43\n",
      "mrr = 0.08270467762604683, pairs_count = 68\n",
      "\n",
      "bm pca 5 True 44\n",
      "mrr = 0.0828743182277744, pairs_count = 68\n",
      "\n",
      "bm pca 5 True 45\n",
      "mrr = 0.081659476455915, pairs_count = 69\n",
      "\n",
      "bm pca 5 True 46\n",
      "mrr = 0.0792356590575107, pairs_count = 71\n",
      "\n",
      "bm pca 5 True 47\n",
      "mrr = 0.07835420419159847, pairs_count = 72\n",
      "\n",
      "bm pca 5 True 48\n",
      "mrr = 0.07882510205202992, pairs_count = 72\n",
      "\n",
      "bm pca 5 True 49\n",
      "mrr = 0.0778334135855402, pairs_count = 73\n",
      "\n",
      "bm pca 5 True 50\n",
      "mrr = 0.07751404587095363, pairs_count = 74\n",
      "\n",
      "bm pca 2 False 20\n",
      "mrr = 0.1393967583792711, pairs_count = 29\n",
      "\n",
      "bm pca 2 False 21\n",
      "mrr = 0.13782760782669443, pairs_count = 29\n",
      "\n",
      "bm pca 2 False 22\n",
      "mrr = 0.13531915481607723, pairs_count = 29\n",
      "\n",
      "bm pca 2 False 23\n",
      "mrr = 0.13122246058159406, pairs_count = 35\n",
      "\n",
      "bm pca 2 False 24\n",
      "mrr = 0.13072495212515423, pairs_count = 35\n",
      "\n",
      "bm pca 2 False 25\n",
      "mrr = 0.12595637902930223, pairs_count = 36\n",
      "\n",
      "bm pca 2 False 26\n",
      "mrr = 0.12075368340951846, pairs_count = 38\n",
      "\n",
      "bm pca 2 False 27\n",
      "mrr = 0.12134103388380335, pairs_count = 38\n",
      "\n",
      "bm pca 2 False 28\n",
      "mrr = 0.11839415624298877, pairs_count = 38\n",
      "\n",
      "bm pca 2 False 29\n",
      "mrr = 0.12626973488843776, pairs_count = 38\n",
      "\n",
      "bm pca 2 False 30\n",
      "mrr = 0.12335638402441493, pairs_count = 39\n",
      "\n",
      "bm pca 2 False 31\n",
      "mrr = 0.11437194649672697, pairs_count = 42\n",
      "\n",
      "bm pca 2 False 32\n",
      "mrr = 0.11556348385564406, pairs_count = 42\n",
      "\n",
      "bm pca 2 False 33\n",
      "mrr = 0.11665123760340358, pairs_count = 45\n",
      "\n",
      "bm pca 2 False 34\n",
      "mrr = 0.11466296900149608, pairs_count = 46\n",
      "\n",
      "bm pca 2 False 35\n",
      "mrr = 0.10993151382631992, pairs_count = 47\n",
      "\n",
      "bm pca 2 False 36\n",
      "mrr = 0.11175262421829285, pairs_count = 47\n",
      "\n",
      "bm pca 2 False 37\n",
      "mrr = 0.09727253236439726, pairs_count = 53\n",
      "\n",
      "bm pca 2 False 38\n",
      "mrr = 0.0937030024810311, pairs_count = 55\n",
      "\n",
      "bm pca 2 False 39\n",
      "mrr = 0.09283842056074687, pairs_count = 55\n",
      "\n",
      "bm pca 2 False 40\n",
      "mrr = 0.08848731519688115, pairs_count = 59\n",
      "\n",
      "bm pca 2 False 41\n",
      "mrr = 0.09106645670857436, pairs_count = 60\n",
      "\n",
      "bm pca 2 False 42\n",
      "mrr = 0.08580001550747915, pairs_count = 66\n",
      "\n",
      "bm pca 2 False 43\n",
      "mrr = 0.08270467762604683, pairs_count = 68\n",
      "\n",
      "bm pca 2 False 44\n",
      "mrr = 0.0828743182277744, pairs_count = 68\n",
      "\n",
      "bm pca 2 False 45\n",
      "mrr = 0.081659476455915, pairs_count = 69\n",
      "\n",
      "bm pca 2 False 46\n",
      "mrr = 0.0792356590575107, pairs_count = 71\n",
      "\n",
      "bm pca 2 False 47\n",
      "mrr = 0.07835420419159847, pairs_count = 72\n",
      "\n",
      "bm pca 2 False 48\n",
      "mrr = 0.07882510205202992, pairs_count = 72\n",
      "\n",
      "bm pca 2 False 49\n",
      "mrr = 0.0778334135855402, pairs_count = 73\n",
      "\n",
      "bm pca 2 False 50\n",
      "mrr = 0.07751404587095363, pairs_count = 74\n",
      "\n",
      "bm sim_euclid 5 True 20\n",
      "mrr = 0.13709056099301808, pairs_count = 29\n",
      "\n",
      "bm sim_euclid 5 True 21\n",
      "mrr = 0.1526929023187772, pairs_count = 29\n",
      "\n",
      "bm sim_euclid 5 True 22\n",
      "mrr = 0.13365336294047026, pairs_count = 29\n",
      "\n",
      "bm sim_euclid 5 True 23\n",
      "mrr = 0.13821026148426002, pairs_count = 35\n",
      "\n",
      "bm sim_euclid 5 True 24\n",
      "mrr = 0.1486538120932814, pairs_count = 35\n",
      "\n",
      "bm sim_euclid 5 True 25\n",
      "mrr = 0.13978516851402956, pairs_count = 36\n",
      "\n",
      "bm sim_euclid 5 True 26\n",
      "mrr = 0.12747982246593523, pairs_count = 38\n",
      "\n",
      "bm sim_euclid 5 True 27\n",
      "mrr = 0.12480031299813064, pairs_count = 38\n",
      "\n",
      "bm sim_euclid 5 True 28\n",
      "mrr = 0.12171445941278376, pairs_count = 38\n",
      "\n",
      "bm sim_euclid 5 True 29\n",
      "mrr = 0.12700449690193855, pairs_count = 38\n",
      "\n",
      "bm sim_euclid 5 True 30\n",
      "mrr = 0.11995228097157073, pairs_count = 39\n",
      "\n",
      "bm sim_euclid 5 True 31\n",
      "mrr = 0.12037234110837482, pairs_count = 42\n",
      "\n",
      "bm sim_euclid 5 True 32\n",
      "mrr = 0.11562856828920924, pairs_count = 42\n",
      "\n",
      "bm sim_euclid 5 True 33\n",
      "mrr = 0.11991046976820077, pairs_count = 45\n",
      "\n",
      "bm sim_euclid 5 True 34\n",
      "mrr = 0.12829660026964926, pairs_count = 46\n",
      "\n",
      "bm sim_euclid 5 True 35\n",
      "mrr = 0.12244684472294723, pairs_count = 47\n",
      "\n",
      "bm sim_euclid 5 True 36\n",
      "mrr = 0.1176328205504083, pairs_count = 47\n",
      "\n",
      "bm sim_euclid 5 True 37\n",
      "mrr = 0.10672456993523494, pairs_count = 53\n",
      "\n",
      "bm sim_euclid 5 True 38\n",
      "mrr = 0.10570213317177746, pairs_count = 55\n",
      "\n",
      "bm sim_euclid 5 True 39\n",
      "mrr = 0.10220047959483641, pairs_count = 55\n",
      "\n",
      "bm sim_euclid 5 True 40\n",
      "mrr = 0.09779117822922953, pairs_count = 59\n",
      "\n",
      "bm sim_euclid 5 True 41\n",
      "mrr = 0.09885907961784522, pairs_count = 60\n",
      "\n",
      "bm sim_euclid 5 True 42\n",
      "mrr = 0.09575157341175446, pairs_count = 66\n",
      "\n",
      "bm sim_euclid 5 True 43\n",
      "mrr = 0.0955412886465223, pairs_count = 68\n",
      "\n",
      "bm sim_euclid 5 True 44\n",
      "mrr = 0.09198029944904866, pairs_count = 68\n",
      "\n",
      "bm sim_euclid 5 True 45\n",
      "mrr = 0.09388656199746981, pairs_count = 69\n",
      "\n",
      "bm sim_euclid 5 True 46\n",
      "mrr = 0.09454414212570988, pairs_count = 71\n",
      "\n",
      "bm sim_euclid 5 True 47\n",
      "mrr = 0.09481838631008006, pairs_count = 72\n",
      "\n",
      "bm sim_euclid 5 True 48\n",
      "mrr = 0.0979294204435191, pairs_count = 72\n",
      "\n",
      "bm sim_euclid 5 True 49\n",
      "mrr = 0.09486171133585622, pairs_count = 73\n",
      "\n",
      "bm sim_euclid 5 True 50\n",
      "mrr = 0.09116254436728348, pairs_count = 74\n",
      "\n",
      "bm sim_cos 5 True 20\n",
      "mrr = 0.1861786097991564, pairs_count = 29\n",
      "\n",
      "bm sim_cos 5 True 21\n",
      "mrr = 0.137362548672723, pairs_count = 29\n",
      "\n",
      "bm sim_cos 5 True 22\n",
      "mrr = 0.15005944241776198, pairs_count = 29\n",
      "\n",
      "bm sim_cos 5 True 23\n",
      "mrr = 0.17549552735789675, pairs_count = 35\n",
      "\n",
      "bm sim_cos 5 True 24\n",
      "mrr = 0.1579952129339264, pairs_count = 35\n",
      "\n",
      "bm sim_cos 5 True 25\n",
      "mrr = 0.15555678159549055, pairs_count = 36\n",
      "\n",
      "bm sim_cos 5 True 26\n",
      "mrr = 0.14834572752795433, pairs_count = 38\n",
      "\n",
      "bm sim_cos 5 True 27\n",
      "mrr = 0.15746594915265846, pairs_count = 38\n",
      "\n",
      "bm sim_cos 5 True 28\n",
      "mrr = 0.1538427099027626, pairs_count = 38\n",
      "\n",
      "bm sim_cos 5 True 29\n",
      "mrr = 0.1503574496016993, pairs_count = 38\n",
      "\n",
      "bm sim_cos 5 True 30\n",
      "mrr = 0.1422885808056197, pairs_count = 39\n",
      "\n",
      "bm sim_cos 5 True 31\n",
      "mrr = 0.13468590670927158, pairs_count = 42\n",
      "\n",
      "bm sim_cos 5 True 32\n",
      "mrr = 0.1353090183444276, pairs_count = 42\n",
      "\n",
      "bm sim_cos 5 True 33\n",
      "mrr = 0.15277010430628224, pairs_count = 45\n",
      "\n",
      "bm sim_cos 5 True 34\n",
      "mrr = 0.15406745739908773, pairs_count = 46\n",
      "\n",
      "bm sim_cos 5 True 35\n",
      "mrr = 0.16173313872079123, pairs_count = 47\n",
      "\n",
      "bm sim_cos 5 True 36\n",
      "mrr = 0.15771754897815896, pairs_count = 47\n",
      "\n",
      "bm sim_cos 5 True 37\n",
      "mrr = 0.161371123329207, pairs_count = 53\n",
      "\n",
      "bm sim_cos 5 True 38\n",
      "mrr = 0.15607701026960621, pairs_count = 55\n",
      "\n",
      "bm sim_cos 5 True 39\n",
      "mrr = 0.15229788790961205, pairs_count = 55\n",
      "\n",
      "bm sim_cos 5 True 40\n",
      "mrr = 0.14151153164012942, pairs_count = 59\n",
      "\n",
      "bm sim_cos 5 True 41\n",
      "mrr = 0.13674943682906934, pairs_count = 60\n",
      "\n",
      "bm sim_cos 5 True 42\n",
      "mrr = 0.1365121424119555, pairs_count = 66\n",
      "\n",
      "bm sim_cos 5 True 43\n",
      "mrr = 0.14043861541244018, pairs_count = 68\n",
      "\n",
      "bm sim_cos 5 True 44\n",
      "mrr = 0.13851418970037616, pairs_count = 68\n",
      "\n",
      "bm sim_cos 5 True 45\n",
      "mrr = 0.1383482650724422, pairs_count = 69\n",
      "\n",
      "bm sim_cos 5 True 46\n",
      "mrr = 0.1397229989500793, pairs_count = 71\n",
      "\n",
      "bm sim_cos 5 True 47\n",
      "mrr = 0.1357466189504164, pairs_count = 72\n",
      "\n",
      "bm sim_cos 5 True 48\n",
      "mrr = 0.1415825435459358, pairs_count = 72\n",
      "\n",
      "bm sim_cos 5 True 49\n",
      "mrr = 0.14074485008995083, pairs_count = 73\n",
      "\n",
      "bm sim_cos 5 True 50\n",
      "mrr = 0.13776123018947403, pairs_count = 74\n",
      "\n",
      "bm umap 5 True 20\n",
      "mrr = 0.16841303788822312, pairs_count = 29\n",
      "\n",
      "bm umap 5 True 21\n",
      "mrr = 0.17840255747506537, pairs_count = 29\n",
      "\n",
      "bm umap 5 True 22\n",
      "mrr = 0.186202041335019, pairs_count = 29\n",
      "\n",
      "bm umap 5 True 23\n",
      "mrr = 0.17730193706311653, pairs_count = 35\n",
      "\n",
      "bm umap 5 True 24\n",
      "mrr = 0.17660339161396554, pairs_count = 35\n",
      "\n",
      "bm umap 5 True 25\n",
      "mrr = 0.16608367822302117, pairs_count = 36\n",
      "\n",
      "bm umap 5 True 26\n",
      "mrr = 0.16693207481460268, pairs_count = 38\n",
      "\n",
      "bm umap 5 True 27\n",
      "mrr = 0.15599858076252765, pairs_count = 38\n",
      "\n",
      "bm umap 5 True 28\n",
      "mrr = 0.15554691150004432, pairs_count = 38\n",
      "\n",
      "bm umap 5 True 29\n",
      "mrr = 0.16789870476412858, pairs_count = 38\n",
      "\n",
      "bm umap 5 True 30\n",
      "mrr = 0.14506930185769887, pairs_count = 39\n",
      "\n",
      "bm umap 5 True 31\n",
      "mrr = 0.1416403960679188, pairs_count = 42\n",
      "\n",
      "bm umap 5 True 32\n",
      "mrr = 0.14787935173592132, pairs_count = 42\n",
      "\n",
      "bm umap 5 True 33\n",
      "mrr = 0.15311199314542426, pairs_count = 45\n",
      "\n",
      "bm umap 5 True 34\n",
      "mrr = 0.15315595039997817, pairs_count = 46\n",
      "\n",
      "bm umap 5 True 35\n",
      "mrr = 0.14765762127089788, pairs_count = 47\n",
      "\n",
      "bm umap 5 True 36\n",
      "mrr = 0.14650397652338515, pairs_count = 47\n",
      "\n",
      "bm umap 5 True 37\n",
      "mrr = 0.13246492017197536, pairs_count = 53\n",
      "\n",
      "bm umap 5 True 38\n",
      "mrr = 0.12878467906816907, pairs_count = 55\n",
      "\n",
      "bm umap 5 True 39\n",
      "mrr = 0.1194648074849758, pairs_count = 55\n",
      "\n",
      "bm umap 5 True 40\n",
      "mrr = 0.1195819880393115, pairs_count = 59\n",
      "\n",
      "bm umap 5 True 41\n",
      "mrr = 0.1178209417058204, pairs_count = 60\n",
      "\n",
      "bm umap 5 True 42\n",
      "mrr = 0.11417854309482744, pairs_count = 66\n",
      "\n",
      "bm umap 5 True 43\n",
      "mrr = 0.1173373275455919, pairs_count = 68\n",
      "\n",
      "bm umap 5 True 44\n",
      "mrr = 0.12245219551267406, pairs_count = 68\n",
      "\n",
      "bm umap 5 True 45\n",
      "mrr = 0.11239915684889906, pairs_count = 69\n",
      "\n",
      "bm umap 5 True 46\n",
      "mrr = 0.12240217698573241, pairs_count = 71\n",
      "\n",
      "bm umap 5 True 47\n",
      "mrr = 0.1339681512801894, pairs_count = 72\n",
      "\n",
      "bm umap 5 True 48\n",
      "mrr = 0.11472758269327578, pairs_count = 72\n",
      "\n",
      "bm umap 5 True 49\n",
      "mrr = 0.12306996175047621, pairs_count = 73\n",
      "\n",
      "bm umap 5 True 50\n",
      "mrr = 0.124774334236194, pairs_count = 74\n",
      "\n",
      "bm umap 2 False 20\n",
      "mrr = 0.16841303788822312, pairs_count = 29\n",
      "\n",
      "bm umap 2 False 21\n",
      "mrr = 0.17840255747506537, pairs_count = 29\n",
      "\n",
      "bm umap 2 False 22\n",
      "mrr = 0.186202041335019, pairs_count = 29\n",
      "\n",
      "bm umap 2 False 23\n",
      "mrr = 0.17730193706311653, pairs_count = 35\n",
      "\n",
      "bm umap 2 False 24\n",
      "mrr = 0.17660339161396554, pairs_count = 35\n",
      "\n",
      "bm umap 2 False 25\n",
      "mrr = 0.16608367822302117, pairs_count = 36\n",
      "\n",
      "bm umap 2 False 26\n",
      "mrr = 0.16693207481460268, pairs_count = 38\n",
      "\n",
      "bm umap 2 False 27\n",
      "mrr = 0.15599858076252765, pairs_count = 38\n",
      "\n",
      "bm umap 2 False 28\n",
      "mrr = 0.15554691150004432, pairs_count = 38\n",
      "\n",
      "bm umap 2 False 29\n",
      "mrr = 0.16789870476412858, pairs_count = 38\n",
      "\n",
      "bm umap 2 False 30\n",
      "mrr = 0.14506930185769887, pairs_count = 39\n",
      "\n",
      "bm umap 2 False 31\n",
      "mrr = 0.1416403960679188, pairs_count = 42\n",
      "\n",
      "bm umap 2 False 32\n",
      "mrr = 0.14787935173592132, pairs_count = 42\n",
      "\n",
      "bm umap 2 False 33\n",
      "mrr = 0.15311199314542426, pairs_count = 45\n",
      "\n",
      "bm umap 2 False 34\n",
      "mrr = 0.15315595039997817, pairs_count = 46\n",
      "\n",
      "bm umap 2 False 35\n",
      "mrr = 0.14765762127089788, pairs_count = 47\n",
      "\n",
      "bm umap 2 False 36\n",
      "mrr = 0.14650397652338515, pairs_count = 47\n",
      "\n",
      "bm umap 2 False 37\n",
      "mrr = 0.13246492017197536, pairs_count = 53\n",
      "\n",
      "bm umap 2 False 38\n",
      "mrr = 0.12878467906816907, pairs_count = 55\n",
      "\n",
      "bm umap 2 False 39\n",
      "mrr = 0.1194648074849758, pairs_count = 55\n",
      "\n",
      "bm umap 2 False 40\n",
      "mrr = 0.1195819880393115, pairs_count = 59\n",
      "\n",
      "bm umap 2 False 41\n",
      "mrr = 0.1178209417058204, pairs_count = 60\n",
      "\n",
      "bm umap 2 False 42\n",
      "mrr = 0.11417854309482744, pairs_count = 66\n",
      "\n",
      "bm umap 2 False 43\n",
      "mrr = 0.1173373275455919, pairs_count = 68\n",
      "\n",
      "bm umap 2 False 44\n",
      "mrr = 0.12245219551267406, pairs_count = 68\n",
      "\n",
      "bm umap 2 False 45\n",
      "mrr = 0.11239915684889906, pairs_count = 69\n",
      "\n",
      "bm umap 2 False 46\n",
      "mrr = 0.12240217698573241, pairs_count = 71\n",
      "\n",
      "bm umap 2 False 47\n",
      "mrr = 0.1339681512801894, pairs_count = 72\n",
      "\n",
      "bm umap 2 False 48\n",
      "mrr = 0.11472758269327578, pairs_count = 72\n",
      "\n",
      "bm umap 2 False 49\n",
      "mrr = 0.12306996175047621, pairs_count = 73\n",
      "\n",
      "bm umap 2 False 50\n",
      "mrr = 0.124774334236194, pairs_count = 74\n",
      "\n",
      "tfidf tsne 5 True 20\n",
      "mrr = 0.15112823495733846, pairs_count = 29\n",
      "\n",
      "tfidf tsne 5 True 21\n",
      "mrr = 0.17025071658921112, pairs_count = 29\n",
      "\n",
      "tfidf tsne 5 True 22\n",
      "mrr = 0.17951340489829856, pairs_count = 29\n",
      "\n",
      "tfidf tsne 5 True 23\n",
      "mrr = 0.11725142468421568, pairs_count = 35\n",
      "\n",
      "tfidf tsne 5 True 24\n",
      "mrr = 0.14433745730443248, pairs_count = 35\n",
      "\n",
      "tfidf tsne 5 True 25\n",
      "mrr = 0.1699405007034417, pairs_count = 36\n",
      "\n",
      "tfidf tsne 5 True 26\n",
      "mrr = 0.12813519005502608, pairs_count = 38\n",
      "\n",
      "tfidf tsne 5 True 27\n",
      "mrr = 0.13538420578354812, pairs_count = 38\n",
      "\n",
      "tfidf tsne 5 True 28\n",
      "mrr = 0.12703375883814633, pairs_count = 38\n",
      "\n",
      "tfidf tsne 5 True 29\n",
      "mrr = 0.14408557983884013, pairs_count = 38\n",
      "\n",
      "tfidf tsne 5 True 30\n",
      "mrr = 0.15623760495026084, pairs_count = 39\n",
      "\n",
      "tfidf tsne 5 True 31\n",
      "mrr = 0.13827572604886862, pairs_count = 42\n",
      "\n",
      "tfidf tsne 5 True 32\n",
      "mrr = 0.13396226407856618, pairs_count = 42\n",
      "\n",
      "tfidf tsne 5 True 33\n",
      "mrr = 0.13753146266639546, pairs_count = 45\n",
      "\n",
      "tfidf tsne 5 True 34\n",
      "mrr = 0.1578676549494012, pairs_count = 46\n",
      "\n",
      "tfidf tsne 5 True 35\n",
      "mrr = 0.14538438314009805, pairs_count = 47\n",
      "\n",
      "tfidf tsne 5 True 36\n",
      "mrr = 0.1477744381079152, pairs_count = 47\n",
      "\n",
      "tfidf tsne 5 True 37\n",
      "mrr = 0.14971565975114892, pairs_count = 53\n",
      "\n",
      "tfidf tsne 5 True 38\n",
      "mrr = 0.1429980330047514, pairs_count = 55\n",
      "\n",
      "tfidf tsne 5 True 39\n",
      "mrr = 0.135875644018153, pairs_count = 55\n",
      "\n",
      "tfidf tsne 5 True 40\n",
      "mrr = 0.1166605480265018, pairs_count = 59\n",
      "\n",
      "tfidf tsne 5 True 41\n",
      "mrr = 0.12006967333755414, pairs_count = 60\n",
      "\n",
      "tfidf tsne 5 True 42\n",
      "mrr = 0.1120263628590782, pairs_count = 66\n",
      "\n",
      "tfidf tsne 5 True 43\n",
      "mrr = 0.12481018200031198, pairs_count = 68\n",
      "\n",
      "tfidf tsne 5 True 44\n",
      "mrr = 0.11879151906634298, pairs_count = 68\n",
      "\n",
      "tfidf tsne 5 True 45\n",
      "mrr = 0.11351980402027158, pairs_count = 69\n",
      "\n",
      "tfidf tsne 5 True 46\n",
      "mrr = 0.121870928965129, pairs_count = 71\n",
      "\n",
      "tfidf tsne 5 True 47\n",
      "mrr = 0.11461932409631401, pairs_count = 72\n",
      "\n",
      "tfidf tsne 5 True 48\n",
      "mrr = 0.11367160247840997, pairs_count = 72\n",
      "\n",
      "tfidf tsne 5 True 49\n",
      "mrr = 0.11434935599413737, pairs_count = 73\n",
      "\n",
      "tfidf tsne 5 True 50\n",
      "mrr = 0.11958020446330689, pairs_count = 74\n",
      "\n",
      "tfidf als 5 True 20\n",
      "mrr = 0.08187276363486745, pairs_count = 29\n",
      "\n",
      "tfidf als 5 True 21\n",
      "mrr = 0.09907063537148825, pairs_count = 29\n",
      "\n",
      "tfidf als 5 True 22\n",
      "mrr = 0.10554948782097844, pairs_count = 29\n",
      "\n",
      "tfidf als 5 True 23\n",
      "mrr = 0.10932173883805008, pairs_count = 35\n",
      "\n",
      "tfidf als 5 True 24\n",
      "mrr = 0.09488203297844378, pairs_count = 35\n",
      "\n",
      "tfidf als 5 True 25\n",
      "mrr = 0.11289985504807709, pairs_count = 36\n",
      "\n",
      "tfidf als 5 True 26\n",
      "mrr = 0.09656503015254647, pairs_count = 38\n",
      "\n",
      "tfidf als 5 True 27\n",
      "mrr = 0.07467321018724715, pairs_count = 38\n",
      "\n",
      "tfidf als 5 True 28\n",
      "mrr = 0.10285424134677651, pairs_count = 38\n",
      "\n",
      "tfidf als 5 True 29\n",
      "mrr = 0.0986419396184048, pairs_count = 38\n",
      "\n",
      "tfidf als 5 True 30\n",
      "mrr = 0.0711696547792021, pairs_count = 39\n",
      "\n",
      "tfidf als 5 True 31\n",
      "mrr = 0.08836690622994894, pairs_count = 42\n",
      "\n",
      "tfidf als 5 True 32\n",
      "mrr = 0.0822036302736813, pairs_count = 42\n",
      "\n",
      "tfidf als 5 True 33\n",
      "mrr = 0.09271652359284015, pairs_count = 45\n",
      "\n",
      "tfidf als 5 True 34\n",
      "mrr = 0.07230966487376823, pairs_count = 46\n",
      "\n",
      "tfidf als 5 True 35\n",
      "mrr = 0.08533610227107392, pairs_count = 47\n",
      "\n",
      "tfidf als 5 True 36\n",
      "mrr = 0.07823406251853696, pairs_count = 47\n",
      "\n",
      "tfidf als 5 True 37\n",
      "mrr = 0.06881735519734408, pairs_count = 53\n",
      "\n",
      "tfidf als 5 True 38\n",
      "mrr = 0.0559833106235647, pairs_count = 55\n",
      "\n",
      "tfidf als 5 True 39\n",
      "mrr = 0.07286608292489351, pairs_count = 55\n",
      "\n",
      "tfidf als 5 True 40\n",
      "mrr = 0.06308030356440872, pairs_count = 59\n",
      "\n",
      "tfidf als 5 True 41\n",
      "mrr = 0.07683252818013579, pairs_count = 60\n",
      "\n",
      "tfidf als 5 True 42\n",
      "mrr = 0.06726355700169673, pairs_count = 66\n",
      "\n",
      "tfidf als 5 True 43\n",
      "mrr = 0.054886146287160174, pairs_count = 68\n",
      "\n",
      "tfidf als 5 True 44\n",
      "mrr = 0.061320615828329116, pairs_count = 68\n",
      "\n",
      "tfidf als 5 True 45\n",
      "mrr = 0.060274408783462664, pairs_count = 69\n",
      "\n",
      "tfidf als 5 True 46\n",
      "mrr = 0.06935379475654438, pairs_count = 71\n",
      "\n",
      "tfidf als 5 True 47\n",
      "mrr = 0.06835679307699405, pairs_count = 72\n",
      "\n",
      "tfidf als 5 True 48\n",
      "mrr = 0.06429512991964187, pairs_count = 72\n",
      "\n",
      "tfidf als 5 True 49\n",
      "mrr = 0.05876697079254643, pairs_count = 73\n",
      "\n",
      "tfidf als 5 True 50\n",
      "mrr = 0.05299983126262622, pairs_count = 74\n",
      "\n",
      "tfidf svd 5 True 20\n",
      "mrr = 0.13615495730839414, pairs_count = 29\n",
      "\n",
      "tfidf svd 5 True 21\n",
      "mrr = 0.14163753171962837, pairs_count = 29\n",
      "\n",
      "tfidf svd 5 True 22\n",
      "mrr = 0.13832983111306071, pairs_count = 29\n",
      "\n",
      "tfidf svd 5 True 23\n",
      "mrr = 0.12889241998798212, pairs_count = 35\n",
      "\n",
      "tfidf svd 5 True 24\n",
      "mrr = 0.12249854302913007, pairs_count = 35\n",
      "\n",
      "tfidf svd 5 True 25\n",
      "mrr = 0.11902446007484885, pairs_count = 36\n",
      "\n",
      "tfidf svd 5 True 26\n",
      "mrr = 0.11261253345350371, pairs_count = 38\n",
      "\n",
      "tfidf svd 5 True 27\n",
      "mrr = 0.10702001887728851, pairs_count = 38\n",
      "\n",
      "tfidf svd 5 True 28\n",
      "mrr = 0.10848962951296315, pairs_count = 38\n",
      "\n",
      "tfidf svd 5 True 29\n",
      "mrr = 0.108856481728696, pairs_count = 38\n",
      "\n",
      "tfidf svd 5 True 30\n",
      "mrr = 0.1009109539800409, pairs_count = 39\n",
      "\n",
      "tfidf svd 5 True 31\n",
      "mrr = 0.0928766835154475, pairs_count = 42\n",
      "\n",
      "tfidf svd 5 True 32\n",
      "mrr = 0.09032423733278822, pairs_count = 42\n",
      "\n",
      "tfidf svd 5 True 33\n",
      "mrr = 0.09511366372278254, pairs_count = 45\n",
      "\n",
      "tfidf svd 5 True 34\n",
      "mrr = 0.095072045627049, pairs_count = 46\n",
      "\n",
      "tfidf svd 5 True 35\n",
      "mrr = 0.08789620143171253, pairs_count = 47\n",
      "\n",
      "tfidf svd 5 True 36\n",
      "mrr = 0.07892426061370883, pairs_count = 47\n",
      "\n",
      "tfidf svd 5 True 37\n",
      "mrr = 0.07708232712841329, pairs_count = 53\n",
      "\n",
      "tfidf svd 5 True 38\n",
      "mrr = 0.07939089839906903, pairs_count = 55\n",
      "\n",
      "tfidf svd 5 True 39\n",
      "mrr = 0.07843899162394598, pairs_count = 55\n",
      "\n",
      "tfidf svd 5 True 40\n",
      "mrr = 0.0716675289038502, pairs_count = 59\n",
      "\n",
      "tfidf svd 5 True 41\n",
      "mrr = 0.07091499706461254, pairs_count = 60\n",
      "\n",
      "tfidf svd 5 True 42\n",
      "mrr = 0.07067899649543768, pairs_count = 66\n",
      "\n",
      "tfidf svd 5 True 43\n",
      "mrr = 0.07025425513808414, pairs_count = 68\n",
      "\n",
      "tfidf svd 5 True 44\n",
      "mrr = 0.06848569784712721, pairs_count = 68\n",
      "\n",
      "tfidf svd 5 True 45\n",
      "mrr = 0.06306447903621508, pairs_count = 69\n",
      "\n",
      "tfidf svd 5 True 46\n",
      "mrr = 0.06187159372467093, pairs_count = 71\n",
      "\n",
      "tfidf svd 5 True 47\n",
      "mrr = 0.06343643762142295, pairs_count = 72\n",
      "\n",
      "tfidf svd 5 True 48\n",
      "mrr = 0.061904168581506096, pairs_count = 72\n",
      "\n",
      "tfidf svd 5 True 49\n",
      "mrr = 0.06414730012093255, pairs_count = 73\n",
      "\n",
      "tfidf svd 5 True 50\n",
      "mrr = 0.06483460654095378, pairs_count = 74\n",
      "\n",
      "tfidf svd 2 False 20\n",
      "mrr = 0.13615495730839414, pairs_count = 29\n",
      "\n",
      "tfidf svd 2 False 21\n",
      "mrr = 0.14163753171962837, pairs_count = 29\n",
      "\n",
      "tfidf svd 2 False 22\n",
      "mrr = 0.13832983111306071, pairs_count = 29\n",
      "\n",
      "tfidf svd 2 False 23\n",
      "mrr = 0.12889241998798212, pairs_count = 35\n",
      "\n",
      "tfidf svd 2 False 24\n",
      "mrr = 0.12249854302913007, pairs_count = 35\n",
      "\n",
      "tfidf svd 2 False 25\n",
      "mrr = 0.11902446007484885, pairs_count = 36\n",
      "\n",
      "tfidf svd 2 False 26\n",
      "mrr = 0.11261253345350371, pairs_count = 38\n",
      "\n",
      "tfidf svd 2 False 27\n",
      "mrr = 0.10702001887728851, pairs_count = 38\n",
      "\n",
      "tfidf svd 2 False 28\n",
      "mrr = 0.10848962951296315, pairs_count = 38\n",
      "\n",
      "tfidf svd 2 False 29\n",
      "mrr = 0.108856481728696, pairs_count = 38\n",
      "\n",
      "tfidf svd 2 False 30\n",
      "mrr = 0.1009109539800409, pairs_count = 39\n",
      "\n",
      "tfidf svd 2 False 31\n",
      "mrr = 0.0928766835154475, pairs_count = 42\n",
      "\n",
      "tfidf svd 2 False 32\n",
      "mrr = 0.09032423733278822, pairs_count = 42\n",
      "\n",
      "tfidf svd 2 False 33\n",
      "mrr = 0.09511366372278254, pairs_count = 45\n",
      "\n",
      "tfidf svd 2 False 34\n",
      "mrr = 0.095072045627049, pairs_count = 46\n",
      "\n",
      "tfidf svd 2 False 35\n",
      "mrr = 0.08789620143171253, pairs_count = 47\n",
      "\n",
      "tfidf svd 2 False 36\n",
      "mrr = 0.07892426061370883, pairs_count = 47\n",
      "\n",
      "tfidf svd 2 False 37\n",
      "mrr = 0.07708232712841329, pairs_count = 53\n",
      "\n",
      "tfidf svd 2 False 38\n",
      "mrr = 0.07939089839906903, pairs_count = 55\n",
      "\n",
      "tfidf svd 2 False 39\n",
      "mrr = 0.07843899162394598, pairs_count = 55\n",
      "\n",
      "tfidf svd 2 False 40\n",
      "mrr = 0.0716675289038502, pairs_count = 59\n",
      "\n",
      "tfidf svd 2 False 41\n",
      "mrr = 0.07091499706461254, pairs_count = 60\n",
      "\n",
      "tfidf svd 2 False 42\n",
      "mrr = 0.07067899649543768, pairs_count = 66\n",
      "\n",
      "tfidf svd 2 False 43\n",
      "mrr = 0.07025425513808414, pairs_count = 68\n",
      "\n",
      "tfidf svd 2 False 44\n",
      "mrr = 0.06848569784712721, pairs_count = 68\n",
      "\n",
      "tfidf svd 2 False 45\n",
      "mrr = 0.06306447903621508, pairs_count = 69\n",
      "\n",
      "tfidf svd 2 False 46\n",
      "mrr = 0.06187159372467093, pairs_count = 71\n",
      "\n",
      "tfidf svd 2 False 47\n",
      "mrr = 0.06343643762142295, pairs_count = 72\n",
      "\n",
      "tfidf svd 2 False 48\n",
      "mrr = 0.061904168581506096, pairs_count = 72\n",
      "\n",
      "tfidf svd 2 False 49\n",
      "mrr = 0.06414730012093255, pairs_count = 73\n",
      "\n",
      "tfidf svd 2 False 50\n",
      "mrr = 0.06483460654095378, pairs_count = 74\n",
      "\n",
      "tfidf pca 5 True 20\n",
      "mrr = 0.1538723005977945, pairs_count = 29\n",
      "\n",
      "tfidf pca 5 True 21\n",
      "mrr = 0.15276388539198274, pairs_count = 29\n",
      "\n",
      "tfidf pca 5 True 22\n",
      "mrr = 0.15252907354578635, pairs_count = 29\n",
      "\n",
      "tfidf pca 5 True 23\n",
      "mrr = 0.12404323858154846, pairs_count = 35\n",
      "\n",
      "tfidf pca 5 True 24\n",
      "mrr = 0.1222492134043277, pairs_count = 35\n",
      "\n",
      "tfidf pca 5 True 25\n",
      "mrr = 0.1214172971745702, pairs_count = 36\n",
      "\n",
      "tfidf pca 5 True 26\n",
      "mrr = 0.11351532472569789, pairs_count = 38\n",
      "\n",
      "tfidf pca 5 True 27\n",
      "mrr = 0.1096815345087464, pairs_count = 38\n",
      "\n",
      "tfidf pca 5 True 28\n",
      "mrr = 0.11323112709342553, pairs_count = 38\n",
      "\n",
      "tfidf pca 5 True 29\n",
      "mrr = 0.11226604101452953, pairs_count = 38\n",
      "\n",
      "tfidf pca 5 True 30\n",
      "mrr = 0.1119542679275616, pairs_count = 39\n",
      "\n",
      "tfidf pca 5 True 31\n",
      "mrr = 0.10411542784072796, pairs_count = 42\n",
      "\n",
      "tfidf pca 5 True 32\n",
      "mrr = 0.10394664528961635, pairs_count = 42\n",
      "\n",
      "tfidf pca 5 True 33\n",
      "mrr = 0.10700560563561073, pairs_count = 45\n",
      "\n",
      "tfidf pca 5 True 34\n",
      "mrr = 0.10729811936564189, pairs_count = 46\n",
      "\n",
      "tfidf pca 5 True 35\n",
      "mrr = 0.0988098520097359, pairs_count = 47\n",
      "\n",
      "tfidf pca 5 True 36\n",
      "mrr = 0.0977151854167356, pairs_count = 47\n",
      "\n",
      "tfidf pca 5 True 37\n",
      "mrr = 0.09055122210939519, pairs_count = 53\n",
      "\n",
      "tfidf pca 5 True 38\n",
      "mrr = 0.08471496470903885, pairs_count = 55\n",
      "\n",
      "tfidf pca 5 True 39\n",
      "mrr = 0.08414996326537234, pairs_count = 55\n",
      "\n",
      "tfidf pca 5 True 40\n",
      "mrr = 0.07923061879844491, pairs_count = 59\n",
      "\n",
      "tfidf pca 5 True 41\n",
      "mrr = 0.07739534320165765, pairs_count = 60\n",
      "\n",
      "tfidf pca 5 True 42\n",
      "mrr = 0.07472487306295587, pairs_count = 66\n",
      "\n",
      "tfidf pca 5 True 43\n",
      "mrr = 0.07929191692271004, pairs_count = 68\n",
      "\n",
      "tfidf pca 5 True 44\n",
      "mrr = 0.07922376983684998, pairs_count = 68\n",
      "\n",
      "tfidf pca 5 True 45\n",
      "mrr = 0.0774737406317981, pairs_count = 69\n",
      "\n",
      "tfidf pca 5 True 46\n",
      "mrr = 0.07373160608158874, pairs_count = 71\n",
      "\n",
      "tfidf pca 5 True 47\n",
      "mrr = 0.07371867847894333, pairs_count = 72\n",
      "\n",
      "tfidf pca 5 True 48\n",
      "mrr = 0.07323725620784861, pairs_count = 72\n",
      "\n",
      "tfidf pca 5 True 49\n",
      "mrr = 0.07419144027993875, pairs_count = 73\n",
      "\n",
      "tfidf pca 5 True 50\n",
      "mrr = 0.07332847979674764, pairs_count = 74\n",
      "\n",
      "tfidf pca 2 False 20\n",
      "mrr = 0.1538723005977945, pairs_count = 29\n",
      "\n",
      "tfidf pca 2 False 21\n",
      "mrr = 0.15276388539198274, pairs_count = 29\n",
      "\n",
      "tfidf pca 2 False 22\n",
      "mrr = 0.15252907354578635, pairs_count = 29\n",
      "\n",
      "tfidf pca 2 False 23\n",
      "mrr = 0.12404323858154846, pairs_count = 35\n",
      "\n",
      "tfidf pca 2 False 24\n",
      "mrr = 0.1222492134043277, pairs_count = 35\n",
      "\n",
      "tfidf pca 2 False 25\n",
      "mrr = 0.1214172971745702, pairs_count = 36\n",
      "\n",
      "tfidf pca 2 False 26\n",
      "mrr = 0.11351532472569789, pairs_count = 38\n",
      "\n",
      "tfidf pca 2 False 27\n",
      "mrr = 0.1096815345087464, pairs_count = 38\n",
      "\n",
      "tfidf pca 2 False 28\n",
      "mrr = 0.11323112709342553, pairs_count = 38\n",
      "\n",
      "tfidf pca 2 False 29\n",
      "mrr = 0.11226604101452953, pairs_count = 38\n",
      "\n",
      "tfidf pca 2 False 30\n",
      "mrr = 0.1119542679275616, pairs_count = 39\n",
      "\n",
      "tfidf pca 2 False 31\n",
      "mrr = 0.10411542784072796, pairs_count = 42\n",
      "\n",
      "tfidf pca 2 False 32\n",
      "mrr = 0.10394664528961635, pairs_count = 42\n",
      "\n",
      "tfidf pca 2 False 33\n",
      "mrr = 0.10700560563561073, pairs_count = 45\n",
      "\n",
      "tfidf pca 2 False 34\n",
      "mrr = 0.10729811936564189, pairs_count = 46\n",
      "\n",
      "tfidf pca 2 False 35\n",
      "mrr = 0.0988098520097359, pairs_count = 47\n",
      "\n",
      "tfidf pca 2 False 36\n",
      "mrr = 0.0977151854167356, pairs_count = 47\n",
      "\n",
      "tfidf pca 2 False 37\n",
      "mrr = 0.09055122210939519, pairs_count = 53\n",
      "\n",
      "tfidf pca 2 False 38\n",
      "mrr = 0.08471496470903885, pairs_count = 55\n",
      "\n",
      "tfidf pca 2 False 39\n",
      "mrr = 0.08414996326537234, pairs_count = 55\n",
      "\n",
      "tfidf pca 2 False 40\n",
      "mrr = 0.07923061879844491, pairs_count = 59\n",
      "\n",
      "tfidf pca 2 False 41\n",
      "mrr = 0.07739534320165765, pairs_count = 60\n",
      "\n",
      "tfidf pca 2 False 42\n",
      "mrr = 0.07472487306295587, pairs_count = 66\n",
      "\n",
      "tfidf pca 2 False 43\n",
      "mrr = 0.07929191692271004, pairs_count = 68\n",
      "\n",
      "tfidf pca 2 False 44\n",
      "mrr = 0.07922376983684998, pairs_count = 68\n",
      "\n",
      "tfidf pca 2 False 45\n",
      "mrr = 0.0774737406317981, pairs_count = 69\n",
      "\n",
      "tfidf pca 2 False 46\n",
      "mrr = 0.07373160608158874, pairs_count = 71\n",
      "\n",
      "tfidf pca 2 False 47\n",
      "mrr = 0.07371867847894333, pairs_count = 72\n",
      "\n",
      "tfidf pca 2 False 48\n",
      "mrr = 0.07323725620784861, pairs_count = 72\n",
      "\n",
      "tfidf pca 2 False 49\n",
      "mrr = 0.07419144027993875, pairs_count = 73\n",
      "\n",
      "tfidf pca 2 False 50\n",
      "mrr = 0.07332847979674764, pairs_count = 74\n",
      "\n",
      "tfidf sim_euclid 5 True 20\n",
      "mrr = 0.14246071629183454, pairs_count = 29\n",
      "\n",
      "tfidf sim_euclid 5 True 21\n",
      "mrr = 0.1658103189063122, pairs_count = 29\n",
      "\n",
      "tfidf sim_euclid 5 True 22\n",
      "mrr = 0.16659811666659746, pairs_count = 29\n",
      "\n",
      "tfidf sim_euclid 5 True 23\n",
      "mrr = 0.12852142208322725, pairs_count = 35\n",
      "\n",
      "tfidf sim_euclid 5 True 24\n",
      "mrr = 0.1301362237666099, pairs_count = 35\n",
      "\n",
      "tfidf sim_euclid 5 True 25\n",
      "mrr = 0.12234824901661809, pairs_count = 36\n",
      "\n",
      "tfidf sim_euclid 5 True 26\n",
      "mrr = 0.11258210884987283, pairs_count = 38\n",
      "\n",
      "tfidf sim_euclid 5 True 27\n",
      "mrr = 0.11355148003940438, pairs_count = 38\n",
      "\n",
      "tfidf sim_euclid 5 True 28\n",
      "mrr = 0.11244547594090368, pairs_count = 38\n",
      "\n",
      "tfidf sim_euclid 5 True 29\n",
      "mrr = 0.10951862631218158, pairs_count = 38\n",
      "\n",
      "tfidf sim_euclid 5 True 30\n",
      "mrr = 0.108766083703416, pairs_count = 39\n",
      "\n",
      "tfidf sim_euclid 5 True 31\n",
      "mrr = 0.10678749407214, pairs_count = 42\n",
      "\n",
      "tfidf sim_euclid 5 True 32\n",
      "mrr = 0.09958500584451992, pairs_count = 42\n",
      "\n",
      "tfidf sim_euclid 5 True 33\n",
      "mrr = 0.10811213648126747, pairs_count = 45\n",
      "\n",
      "tfidf sim_euclid 5 True 34\n",
      "mrr = 0.10789043250224302, pairs_count = 46\n",
      "\n",
      "tfidf sim_euclid 5 True 35\n",
      "mrr = 0.10497087951972596, pairs_count = 47\n",
      "\n",
      "tfidf sim_euclid 5 True 36\n",
      "mrr = 0.11035675766589109, pairs_count = 47\n",
      "\n",
      "tfidf sim_euclid 5 True 37\n",
      "mrr = 0.10627745276668589, pairs_count = 53\n",
      "\n",
      "tfidf sim_euclid 5 True 38\n",
      "mrr = 0.09695923573931484, pairs_count = 55\n",
      "\n",
      "tfidf sim_euclid 5 True 39\n",
      "mrr = 0.10006293718269578, pairs_count = 55\n",
      "\n",
      "tfidf sim_euclid 5 True 40\n",
      "mrr = 0.09496750337155108, pairs_count = 59\n",
      "\n",
      "tfidf sim_euclid 5 True 41\n",
      "mrr = 0.09249909113646533, pairs_count = 60\n",
      "\n",
      "tfidf sim_euclid 5 True 42\n",
      "mrr = 0.0881931342056133, pairs_count = 66\n",
      "\n",
      "tfidf sim_euclid 5 True 43\n",
      "mrr = 0.08357722677885172, pairs_count = 68\n",
      "\n",
      "tfidf sim_euclid 5 True 44\n",
      "mrr = 0.08599643330193568, pairs_count = 68\n",
      "\n",
      "tfidf sim_euclid 5 True 45\n",
      "mrr = 0.08727562492298248, pairs_count = 69\n",
      "\n",
      "tfidf sim_euclid 5 True 46\n",
      "mrr = 0.08712254744293824, pairs_count = 71\n",
      "\n",
      "tfidf sim_euclid 5 True 47\n",
      "mrr = 0.08279399743109103, pairs_count = 72\n",
      "\n",
      "tfidf sim_euclid 5 True 48\n",
      "mrr = 0.08237378326594828, pairs_count = 72\n",
      "\n",
      "tfidf sim_euclid 5 True 49\n",
      "mrr = 0.08432700796179905, pairs_count = 73\n",
      "\n",
      "tfidf sim_euclid 5 True 50\n",
      "mrr = 0.07929486692518953, pairs_count = 74\n",
      "\n",
      "tfidf sim_cos 5 True 20\n",
      "mrr = 0.14330962855856755, pairs_count = 29\n",
      "\n",
      "tfidf sim_cos 5 True 21\n",
      "mrr = 0.1501435934147847, pairs_count = 29\n",
      "\n",
      "tfidf sim_cos 5 True 22\n",
      "mrr = 0.1428015409253305, pairs_count = 29\n",
      "\n",
      "tfidf sim_cos 5 True 23\n",
      "mrr = 0.145796051036342, pairs_count = 35\n",
      "\n",
      "tfidf sim_cos 5 True 24\n",
      "mrr = 0.1445375254736639, pairs_count = 35\n",
      "\n",
      "tfidf sim_cos 5 True 25\n",
      "mrr = 0.10820726697796046, pairs_count = 36\n",
      "\n",
      "tfidf sim_cos 5 True 26\n",
      "mrr = 0.14645047392241636, pairs_count = 38\n",
      "\n",
      "tfidf sim_cos 5 True 27\n",
      "mrr = 0.14659091930858112, pairs_count = 38\n",
      "\n",
      "tfidf sim_cos 5 True 28\n",
      "mrr = 0.11660020852758338, pairs_count = 38\n",
      "\n",
      "tfidf sim_cos 5 True 29\n",
      "mrr = 0.11952273549404797, pairs_count = 38\n",
      "\n",
      "tfidf sim_cos 5 True 30\n",
      "mrr = 0.14413207600216196, pairs_count = 39\n",
      "\n",
      "tfidf sim_cos 5 True 31\n",
      "mrr = 0.12294717352236513, pairs_count = 42\n",
      "\n",
      "tfidf sim_cos 5 True 32\n",
      "mrr = 0.1313558220464653, pairs_count = 42\n",
      "\n",
      "tfidf sim_cos 5 True 33\n",
      "mrr = 0.14449163321279884, pairs_count = 45\n",
      "\n",
      "tfidf sim_cos 5 True 34\n",
      "mrr = 0.13941798250145543, pairs_count = 46\n",
      "\n",
      "tfidf sim_cos 5 True 35\n",
      "mrr = 0.14176843976758383, pairs_count = 47\n",
      "\n",
      "tfidf sim_cos 5 True 36\n",
      "mrr = 0.14218651242056318, pairs_count = 47\n",
      "\n",
      "tfidf sim_cos 5 True 37\n",
      "mrr = 0.15301112523085422, pairs_count = 53\n",
      "\n",
      "tfidf sim_cos 5 True 38\n",
      "mrr = 0.13262199480254835, pairs_count = 55\n",
      "\n",
      "tfidf sim_cos 5 True 39\n",
      "mrr = 0.15310197864890052, pairs_count = 55\n",
      "\n",
      "tfidf sim_cos 5 True 40\n",
      "mrr = 0.12501234615411413, pairs_count = 59\n",
      "\n",
      "tfidf sim_cos 5 True 41\n",
      "mrr = 0.12428767279550582, pairs_count = 60\n",
      "\n",
      "tfidf sim_cos 5 True 42\n",
      "mrr = 0.1209090428290236, pairs_count = 66\n",
      "\n",
      "tfidf sim_cos 5 True 43\n",
      "mrr = 0.12840485664746273, pairs_count = 68\n",
      "\n",
      "tfidf sim_cos 5 True 44\n",
      "mrr = 0.13103650873515285, pairs_count = 68\n",
      "\n",
      "tfidf sim_cos 5 True 45\n",
      "mrr = 0.12650867203445196, pairs_count = 69\n",
      "\n",
      "tfidf sim_cos 5 True 46\n",
      "mrr = 0.1191835397312361, pairs_count = 71\n",
      "\n",
      "tfidf sim_cos 5 True 47\n",
      "mrr = 0.1257566756156635, pairs_count = 72\n",
      "\n",
      "tfidf sim_cos 5 True 48\n",
      "mrr = 0.11913319167669638, pairs_count = 72\n",
      "\n",
      "tfidf sim_cos 5 True 49\n",
      "mrr = 0.12192874842812251, pairs_count = 73\n",
      "\n",
      "tfidf sim_cos 5 True 50\n",
      "mrr = 0.11845065819386441, pairs_count = 74\n",
      "\n",
      "tfidf umap 5 True 20\n",
      "mrr = 0.16500041161364778, pairs_count = 29\n",
      "\n",
      "tfidf umap 5 True 21\n",
      "mrr = 0.17003142444128658, pairs_count = 29\n",
      "\n",
      "tfidf umap 5 True 22\n",
      "mrr = 0.1694228009252479, pairs_count = 29\n",
      "\n",
      "tfidf umap 5 True 23\n",
      "mrr = 0.15840339863692082, pairs_count = 35\n",
      "\n",
      "tfidf umap 5 True 24\n",
      "mrr = 0.16787057254103846, pairs_count = 35\n",
      "\n",
      "tfidf umap 5 True 25\n",
      "mrr = 0.1591864761953437, pairs_count = 36\n",
      "\n",
      "tfidf umap 5 True 26\n",
      "mrr = 0.15557692041372115, pairs_count = 38\n",
      "\n",
      "tfidf umap 5 True 27\n",
      "mrr = 0.14635527796421613, pairs_count = 38\n",
      "\n",
      "tfidf umap 5 True 28\n",
      "mrr = 0.13503891997417186, pairs_count = 38\n",
      "\n",
      "tfidf umap 5 True 29\n",
      "mrr = 0.15888617158442211, pairs_count = 38\n",
      "\n",
      "tfidf umap 5 True 30\n",
      "mrr = 0.14758436724837748, pairs_count = 39\n",
      "\n",
      "tfidf umap 5 True 31\n",
      "mrr = 0.14186571931293385, pairs_count = 42\n",
      "\n",
      "tfidf umap 5 True 32\n",
      "mrr = 0.12330200872672052, pairs_count = 42\n",
      "\n",
      "tfidf umap 5 True 33\n",
      "mrr = 0.13303695173043767, pairs_count = 45\n",
      "\n",
      "tfidf umap 5 True 34\n",
      "mrr = 0.1435909910592569, pairs_count = 46\n",
      "\n",
      "tfidf umap 5 True 35\n",
      "mrr = 0.13158679273815785, pairs_count = 47\n",
      "\n",
      "tfidf umap 5 True 36\n",
      "mrr = 0.13294947617157818, pairs_count = 47\n",
      "\n",
      "tfidf umap 5 True 37\n",
      "mrr = 0.13124588754793318, pairs_count = 53\n",
      "\n",
      "tfidf umap 5 True 38\n",
      "mrr = 0.13743653414704657, pairs_count = 55\n",
      "\n",
      "tfidf umap 5 True 39\n",
      "mrr = 0.12021774995669374, pairs_count = 55\n",
      "\n",
      "tfidf umap 5 True 40\n",
      "mrr = 0.10346609401801504, pairs_count = 59\n",
      "\n",
      "tfidf umap 5 True 41\n",
      "mrr = 0.10742384579445832, pairs_count = 60\n",
      "\n",
      "tfidf umap 5 True 42\n",
      "mrr = 0.10634893870374856, pairs_count = 66\n",
      "\n",
      "tfidf umap 5 True 43\n",
      "mrr = 0.10929259368230222, pairs_count = 68\n",
      "\n",
      "tfidf umap 5 True 44\n",
      "mrr = 0.09919334829106315, pairs_count = 68\n",
      "\n",
      "tfidf umap 5 True 45\n",
      "mrr = 0.1039818392944036, pairs_count = 69\n",
      "\n",
      "tfidf umap 5 True 46\n",
      "mrr = 0.09868314048034557, pairs_count = 71\n",
      "\n",
      "tfidf umap 5 True 47\n",
      "mrr = 0.11028450904026031, pairs_count = 72\n",
      "\n",
      "tfidf umap 5 True 48\n",
      "mrr = 0.10989971687490141, pairs_count = 72\n",
      "\n",
      "tfidf umap 5 True 49\n",
      "mrr = 0.1090494918300986, pairs_count = 73\n",
      "\n",
      "tfidf umap 5 True 50\n",
      "mrr = 0.10941968107760922, pairs_count = 74\n",
      "\n",
      "tfidf umap 2 False 20\n",
      "mrr = 0.16500041161364778, pairs_count = 29\n",
      "\n",
      "tfidf umap 2 False 21\n",
      "mrr = 0.17003142444128658, pairs_count = 29\n",
      "\n",
      "tfidf umap 2 False 22\n",
      "mrr = 0.1694228009252479, pairs_count = 29\n",
      "\n",
      "tfidf umap 2 False 23\n",
      "mrr = 0.15840339863692082, pairs_count = 35\n",
      "\n",
      "tfidf umap 2 False 24\n",
      "mrr = 0.16787057254103846, pairs_count = 35\n",
      "\n",
      "tfidf umap 2 False 25\n",
      "mrr = 0.1591864761953437, pairs_count = 36\n",
      "\n",
      "tfidf umap 2 False 26\n",
      "mrr = 0.15557692041372115, pairs_count = 38\n",
      "\n",
      "tfidf umap 2 False 27\n",
      "mrr = 0.14635527796421613, pairs_count = 38\n",
      "\n",
      "tfidf umap 2 False 28\n",
      "mrr = 0.13503891997417186, pairs_count = 38\n",
      "\n",
      "tfidf umap 2 False 29\n",
      "mrr = 0.15888617158442211, pairs_count = 38\n",
      "\n",
      "tfidf umap 2 False 30\n",
      "mrr = 0.14758436724837748, pairs_count = 39\n",
      "\n",
      "tfidf umap 2 False 31\n",
      "mrr = 0.14186571931293385, pairs_count = 42\n",
      "\n",
      "tfidf umap 2 False 32\n",
      "mrr = 0.12330200872672052, pairs_count = 42\n",
      "\n",
      "tfidf umap 2 False 33\n",
      "mrr = 0.13303695173043767, pairs_count = 45\n",
      "\n",
      "tfidf umap 2 False 34\n",
      "mrr = 0.1435909910592569, pairs_count = 46\n",
      "\n",
      "tfidf umap 2 False 35\n",
      "mrr = 0.13158679273815785, pairs_count = 47\n",
      "\n",
      "tfidf umap 2 False 36\n",
      "mrr = 0.13294947617157818, pairs_count = 47\n",
      "\n",
      "tfidf umap 2 False 37\n",
      "mrr = 0.1292874291016673, pairs_count = 53\n",
      "\n",
      "tfidf umap 2 False 38\n",
      "mrr = 0.1208636749651662, pairs_count = 55\n",
      "\n",
      "tfidf umap 2 False 39\n",
      "mrr = 0.1173235619435085, pairs_count = 55\n",
      "\n",
      "tfidf umap 2 False 40\n",
      "mrr = 0.11117169809308798, pairs_count = 59\n",
      "\n",
      "tfidf umap 2 False 41\n",
      "mrr = 0.11150375278184126, pairs_count = 60\n",
      "\n",
      "tfidf umap 2 False 42\n",
      "mrr = 0.10628913092267757, pairs_count = 66\n",
      "\n",
      "tfidf umap 2 False 43\n",
      "mrr = 0.10938522044119804, pairs_count = 68\n",
      "\n",
      "tfidf umap 2 False 44\n",
      "mrr = 0.10773634585865235, pairs_count = 68\n",
      "\n",
      "tfidf umap 2 False 45\n",
      "mrr = 0.10273588198249835, pairs_count = 69\n",
      "\n",
      "tfidf umap 2 False 46\n",
      "mrr = 0.1035962875056416, pairs_count = 71\n",
      "\n",
      "tfidf umap 2 False 47\n",
      "mrr = 0.10855123134143291, pairs_count = 72\n",
      "\n",
      "tfidf umap 2 False 48\n",
      "mrr = 0.10911427288205618, pairs_count = 72\n",
      "\n",
      "tfidf umap 2 False 49\n",
      "mrr = 0.11754917906290284, pairs_count = 73\n",
      "\n",
      "tfidf umap 2 False 50\n",
      "mrr = 0.1100566556906562, pairs_count = 74\n",
      "\n",
      "best_mean_reciprocal_rank = 0.16579263970356525\n",
      "best_norm_type = skill\n",
      "best_alg_type = sim_euclid\n",
      "best_dim = 5\n",
      "best_use_tsne = True\n",
      "best_top_n_skill_per_profession = 37\n"
     ]
    },
    {
     "data": {
      "application/vnd.plotly.v1+json": {
       "config": {
        "plotlyServerURL": "https://plot.ly"
       },
       "data": [
        {
         "customdata": [
          [
           1.9290322580645267,
           "Data Scientist"
          ],
          [
           6.243548387096786,
           "Data Scientist"
          ],
          [
           10.235483870967743,
           "Data Scientist"
          ],
          [
           1.0822580645161317,
           "Data Scientist"
          ],
          [
           4.26774193548388,
           "Data Scientist"
          ],
          [
           0.8,
           "Data Scientist"
          ],
          [
           3.4209677419354847,
           "Data Scientist"
          ],
          [
           0.9612903225806446,
           "Data Scientist"
          ],
          [
           0.8806451612903297,
           "Data Scientist"
          ],
          [
           1.525806451612908,
           "Data Scientist"
          ],
          [
           15.8,
           "Data Scientist"
          ],
          [
           13.46129032258065,
           "Data Scientist"
          ],
          [
           5.396774193548391,
           "Data Scientist"
          ],
          [
           5.195161290322589,
           "Data Scientist"
          ],
          [
           3.0177419354838806,
           "Data Scientist"
          ],
          [
           2.8161290322580648,
           "Data Scientist"
          ],
          [
           2.8161290322580648,
           "Data Scientist"
          ],
          [
           2.6145161290322623,
           "Data Scientist"
          ],
          [
           2.372580645161303,
           "Data Scientist"
          ],
          [
           2.0903225806451715,
           "Data Scientist"
          ],
          [
           2.0903225806451715,
           "Data Scientist"
          ],
          [
           2.0096774193548415,
           "Data Scientist"
          ],
          [
           1.848387096774197,
           "Data Scientist"
          ],
          [
           1.767741935483882,
           "Data Scientist"
          ],
          [
           1.7274193548387098,
           "Data Scientist"
          ],
          [
           1.6870967741935523,
           "Data Scientist"
          ],
          [
           1.646774193548395,
           "Data Scientist"
          ],
          [
           1.5661290322580652,
           "Data Scientist"
          ],
          [
           1.4854838709677503,
           "Data Scientist"
          ],
          [
           1.4048387096774209,
           "Data Scientist"
          ],
          [
           0.9209677419354871,
           "Data Scientist"
          ],
          [
           0.8806451612903297,
           "Data Scientist"
          ],
          [
           0.8806451612903297,
           "Data Scientist"
          ],
          [
           0.8403225806451722,
           "Data Scientist"
          ],
          [
           0.8,
           "Data Scientist"
          ],
          [
           0.8,
           "Data Scientist"
          ],
          [
           0.8,
           "Data Scientist"
          ]
         ],
         "hovertemplate": "<b>%{hovertext}</b><br><br><extra></extra>",
         "hovertext": [
          "Аналитическое мышление",
          "Английский",
          "SQL",
          "Деловая коммуникация",
          "Анализ данных",
          "Работа в команде",
          "Работа с большим объемом информации",
          "Power BI",
          "Анализ рынка",
          "MS SQL",
          "Python",
          "Machine Learning",
          "Data Science",
          "Математическая статистика",
          "PyTorch",
          "Математический анализ",
          "Pandas",
          "Hadoop",
          "Spark",
          "Scikit-learn",
          "NLP",
          "Numpy",
          "Linux",
          "Git",
          "Docker",
          "Computer Vision",
          "Базы данных",
          "Tensorflow",
          "Deep Learning",
          "PostgreSQL",
          "Airflow",
          "ClickHouse",
          "Алгоритмы",
          "A/B тесты",
          "Java",
          "Hive",
          "Нейронные сети"
         ],
         "legendgroup": "Data Scientist",
         "marker": {
          "color": "#F8A19F",
          "line": {
           "color": "DarkSlateGrey",
           "width": 0.5
          },
          "opacity": 0.7,
          "size": [
           1.9290322580645267,
           6.243548387096786,
           10.235483870967743,
           1.0822580645161317,
           4.26774193548388,
           0.8,
           3.4209677419354847,
           0.9612903225806446,
           0.8806451612903297,
           1.525806451612908,
           15.8,
           13.46129032258065,
           5.396774193548391,
           5.195161290322589,
           3.0177419354838806,
           2.8161290322580648,
           2.8161290322580648,
           2.6145161290322623,
           2.372580645161303,
           2.0903225806451715,
           2.0903225806451715,
           2.0096774193548415,
           1.848387096774197,
           1.767741935483882,
           1.7274193548387098,
           1.6870967741935523,
           1.646774193548395,
           1.5661290322580652,
           1.4854838709677503,
           1.4048387096774209,
           0.9209677419354871,
           0.8806451612903297,
           0.8806451612903297,
           0.8403225806451722,
           0.8,
           0.8,
           0.8
          ],
          "sizemode": "area",
          "sizeref": 0.0395,
          "symbol": "circle"
         },
         "mode": "markers",
         "name": "Data Scientist",
         "orientation": "v",
         "showlegend": true,
         "type": "scatter",
         "x": [
          -5.265017,
          -2.140256,
          -0.05774284,
          -7.0083,
          -3.5074766,
          -5.7154617,
          -1.6685798,
          -3.6719744,
          -7.4209285,
          -0.33927864,
          1.6836092,
          3.3376772,
          2.6771033,
          -2.0435011,
          3.168962,
          -1.4349215,
          3.2711816,
          6.385646,
          7.029302,
          2.8612945,
          3.62124,
          3.321288,
          4.6112127,
          4.4880986,
          6.018617,
          3.995392,
          3.2809954,
          3.366811,
          3.5470293,
          4.3188934,
          8.383849,
          5.7675037,
          3.3387387,
          -2.7449284,
          6.547024,
          6.4067163,
          3.0450416
         ],
         "xaxis": "x",
         "y": [
          -5.4454136,
          -4.295081,
          -4.2943864,
          -7.6112494,
          -5.5416393,
          -6.793357,
          -4.803078,
          -5.5977354,
          -1.2117153,
          -4.6728945,
          -2.7131217,
          3.8469462,
          4.5553827,
          -6.035224,
          4.933064,
          -6.1369333,
          2.429236,
          -1.0770928,
          -0.47025442,
          4.3098006,
          4.9220967,
          2.80822,
          -1.0811611,
          0.112787835,
          0.20008722,
          4.423943,
          -2.4659755,
          5.066624,
          4.47821,
          -1.9530991,
          0.816865,
          -1.6797442,
          1.5382197,
          -5.981568,
          -0.29429314,
          -1.072747,
          5.853619
         ],
         "yaxis": "y"
        },
        {
         "customdata": [
          [
           1.8572687224669553,
           "ML инженер"
          ],
          [
           6.416740088105732,
           "ML инженер"
          ],
          [
           7.804405286343608,
           "ML инженер"
          ],
          [
           2.319823788546259,
           "ML инженер"
          ],
          [
           3.178854625550658,
           "ML инженер"
          ],
          [
           0.9321585903083651,
           "ML инженер"
          ],
          [
           15.8,
           "ML инженер"
          ],
          [
           13.685462555066072,
           "ML инженер"
          ],
          [
           1.989427312775338,
           "ML инженер"
          ],
          [
           2.253744493392068,
           "ML инженер"
          ],
          [
           3.377092511013214,
           "ML инженер"
          ],
          [
           0.8660792951541914,
           "ML инженер"
          ],
          [
           1.1964757709251126,
           "ML инженер"
          ],
          [
           2.5841409691629886,
           "ML инженер"
          ],
          [
           2.5180616740088153,
           "ML инженер"
          ],
          [
           0.9321585903083651,
           "ML инженер"
          ],
          [
           1.5268722466960338,
           "ML инженер"
          ],
          [
           1.394713656387669,
           "ML инженер"
          ],
          [
           3.311013215859023,
           "ML инженер"
          ],
          [
           2.5841409691629886,
           "ML инженер"
          ],
          [
           2.5841409691629886,
           "ML инженер"
          ],
          [
           1.1303964757709215,
           "ML инженер"
          ],
          [
           1.3286343612334777,
           "ML инженер"
          ],
          [
           1.8572687224669553,
           "ML инженер"
          ],
          [
           1.7911894273127817,
           "ML инженер"
          ],
          [
           2.914537444933928,
           "ML инженер"
          ],
          [
           0.8660792951541914,
           "ML инженер"
          ],
          [
           1.1303964757709215,
           "ML инженер"
          ],
          [
           1.2625550660793037,
           "ML инженер"
          ],
          [
           1.5268722466960338,
           "ML инженер"
          ],
          [
           0.9321585903083651,
           "ML инженер"
          ],
          [
           2.0555066079295115,
           "ML инженер"
          ],
          [
           1.1964757709251126,
           "ML инженер"
          ],
          [
           1.2625550660793037,
           "ML инженер"
          ],
          [
           2.914537444933928,
           "ML инженер"
          ],
          [
           1.1303964757709215,
           "ML инженер"
          ],
          [
           0.8,
           "ML инженер"
          ]
         ],
         "hovertemplate": "<b>%{hovertext}</b><br><br><extra></extra>",
         "hovertext": [
          "Аналитическое мышление",
          "Английский",
          "SQL",
          "Анализ данных",
          "Работа с большим объемом информации",
          "Грамотная речь",
          "Python",
          "Machine Learning",
          "Data Science",
          "Математическая статистика",
          "PyTorch",
          "Математический анализ",
          "Pandas",
          "Hadoop",
          "Spark",
          "Scikit-learn",
          "NLP",
          "Numpy",
          "Linux",
          "Git",
          "Docker",
          "Computer Vision",
          "Базы данных",
          "Tensorflow",
          "Deep Learning",
          "PostgreSQL",
          "Airflow",
          "ClickHouse",
          "Алгоритмы",
          "Java",
          "Нейронные сети",
          "C++",
          "Kafka",
          "DWH",
          "ETL",
          "Kubernetes",
          "Adobe Photoshop"
         ],
         "legendgroup": "ML инженер",
         "marker": {
          "color": "#AA0DFE",
          "line": {
           "color": "DarkSlateGrey",
           "width": 0.5
          },
          "opacity": 0.7,
          "size": [
           1.8572687224669553,
           6.416740088105732,
           7.804405286343608,
           2.319823788546259,
           3.178854625550658,
           0.9321585903083651,
           15.8,
           13.685462555066072,
           1.989427312775338,
           2.253744493392068,
           3.377092511013214,
           0.8660792951541914,
           1.1964757709251126,
           2.5841409691629886,
           2.5180616740088153,
           0.9321585903083651,
           1.5268722466960338,
           1.394713656387669,
           3.311013215859023,
           2.5841409691629886,
           2.5841409691629886,
           1.1303964757709215,
           1.3286343612334777,
           1.8572687224669553,
           1.7911894273127817,
           2.914537444933928,
           0.8660792951541914,
           1.1303964757709215,
           1.2625550660793037,
           1.5268722466960338,
           0.9321585903083651,
           2.0555066079295115,
           1.1964757709251126,
           1.2625550660793037,
           2.914537444933928,
           1.1303964757709215,
           0.8
          ],
          "sizemode": "area",
          "sizeref": 0.0395,
          "symbol": "circle"
         },
         "mode": "markers",
         "name": "ML инженер",
         "orientation": "v",
         "showlegend": true,
         "type": "scatter",
         "x": [
          -5.265017,
          -2.140256,
          -0.05774284,
          -3.5074766,
          -1.6685798,
          -5.7004557,
          1.6836092,
          3.3376772,
          2.6771033,
          -2.0435011,
          3.168962,
          -1.4349215,
          3.2711816,
          6.385646,
          7.029302,
          2.8612945,
          3.62124,
          3.321288,
          4.6112127,
          4.4880986,
          6.018617,
          3.995392,
          3.2809954,
          3.366811,
          3.5470293,
          4.3188934,
          8.383849,
          5.7675037,
          3.3387387,
          6.547024,
          3.0450416,
          4.2892647,
          7.512572,
          7.2034025,
          7.7328157,
          6.893841,
          4.452259
         ],
         "xaxis": "x",
         "y": [
          -5.4454136,
          -4.295081,
          -4.2943864,
          -5.5416393,
          -4.803078,
          -5.0149035,
          -2.7131217,
          3.8469462,
          4.5553827,
          -6.035224,
          4.933064,
          -6.1369333,
          2.429236,
          -1.0770928,
          -0.47025442,
          4.3098006,
          4.9220967,
          2.80822,
          -1.0811611,
          0.112787835,
          0.20008722,
          4.423943,
          -2.4659755,
          5.066624,
          4.47821,
          -1.9530991,
          0.816865,
          -1.6797442,
          1.5382197,
          -0.29429314,
          5.853619,
          5.192855,
          0.36771598,
          -1.0281209,
          -0.6028073,
          0.4589943,
          6.1697965
         ],
         "yaxis": "y"
        },
        {
         "customdata": [
          [
           1.6823529411764668,
           "Computer Vision"
          ],
          [
           12.270588235294118,
           "Computer Vision"
          ],
          [
           6.535294117647058,
           "Computer Vision"
          ],
          [
           1.6823529411764668,
           "Computer Vision"
          ],
          [
           0.8,
           "Computer Vision"
          ],
          [
           1.2411764705882253,
           "Computer Vision"
          ],
          [
           15.8,
           "Computer Vision"
          ],
          [
           13.152941176470584,
           "Computer Vision"
          ],
          [
           4.329411764705883,
           "Computer Vision"
          ],
          [
           1.2411764705882253,
           "Computer Vision"
          ],
          [
           7.858823529411766,
           "Computer Vision"
          ],
          [
           1.2411764705882253,
           "Computer Vision"
          ],
          [
           1.2411764705882253,
           "Computer Vision"
          ],
          [
           0.8,
           "Computer Vision"
          ],
          [
           1.6823529411764668,
           "Computer Vision"
          ],
          [
           1.2411764705882253,
           "Computer Vision"
          ],
          [
           2.123529411764708,
           "Computer Vision"
          ],
          [
           4.329411764705883,
           "Computer Vision"
          ],
          [
           12.270588235294118,
           "Computer Vision"
          ],
          [
           4.329411764705883,
           "Computer Vision"
          ],
          [
           5.2117647058823495,
           "Computer Vision"
          ],
          [
           1.2411764705882253,
           "Computer Vision"
          ],
          [
           3.0058823529411747,
           "Computer Vision"
          ],
          [
           1.2411764705882253,
           "Computer Vision"
          ],
          [
           7.858823529411766,
           "Computer Vision"
          ],
          [
           3.0058823529411747,
           "Computer Vision"
          ],
          [
           0.8,
           "Computer Vision"
          ],
          [
           0.8,
           "Computer Vision"
          ],
          [
           1.2411764705882253,
           "Computer Vision"
          ],
          [
           1.2411764705882253,
           "Computer Vision"
          ],
          [
           0.8,
           "Computer Vision"
          ],
          [
           0.8,
           "Computer Vision"
          ],
          [
           0.8,
           "Computer Vision"
          ],
          [
           0.8,
           "Computer Vision"
          ],
          [
           0.8,
           "Computer Vision"
          ],
          [
           0.8,
           "Computer Vision"
          ],
          [
           0.8,
           "Computer Vision"
          ]
         ],
         "hovertemplate": "<b>%{hovertext}</b><br><br><extra></extra>",
         "hovertext": [
          "Аналитическое мышление",
          "Английский",
          "SQL",
          "Анализ данных",
          "Power BI",
          "MS SQL",
          "Python",
          "Machine Learning",
          "Data Science",
          "Математическая статистика",
          "PyTorch",
          "Математический анализ",
          "Hadoop",
          "Spark",
          "Scikit-learn",
          "Numpy",
          "Linux",
          "Git",
          "Computer Vision",
          "Tensorflow",
          "Deep Learning",
          "PostgreSQL",
          "Алгоритмы",
          "Нейронные сети",
          "OpenCV",
          "C++",
          "Парсинг",
          "Jira",
          "ООП",
          "Линейная алгебра",
          "MLE",
          "Генеративный Дизайн",
          "Generative Design",
          "DS",
          "3D",
          "spyder",
          "GD"
         ],
         "legendgroup": "Computer Vision",
         "marker": {
          "color": "#3283FE",
          "line": {
           "color": "DarkSlateGrey",
           "width": 0.5
          },
          "opacity": 0.7,
          "size": [
           1.6823529411764668,
           12.270588235294118,
           6.535294117647058,
           1.6823529411764668,
           0.8,
           1.2411764705882253,
           15.8,
           13.152941176470584,
           4.329411764705883,
           1.2411764705882253,
           7.858823529411766,
           1.2411764705882253,
           1.2411764705882253,
           0.8,
           1.6823529411764668,
           1.2411764705882253,
           2.123529411764708,
           4.329411764705883,
           12.270588235294118,
           4.329411764705883,
           5.2117647058823495,
           1.2411764705882253,
           3.0058823529411747,
           1.2411764705882253,
           7.858823529411766,
           3.0058823529411747,
           0.8,
           0.8,
           1.2411764705882253,
           1.2411764705882253,
           0.8,
           0.8,
           0.8,
           0.8,
           0.8,
           0.8,
           0.8
          ],
          "sizemode": "area",
          "sizeref": 0.0395,
          "symbol": "circle"
         },
         "mode": "markers",
         "name": "Computer Vision",
         "orientation": "v",
         "showlegend": true,
         "type": "scatter",
         "x": [
          -5.265017,
          -2.140256,
          -0.05774284,
          -3.5074766,
          -3.6719744,
          -0.33927864,
          1.6836092,
          3.3376772,
          2.6771033,
          -2.0435011,
          3.168962,
          -1.4349215,
          6.385646,
          7.029302,
          2.8612945,
          3.321288,
          4.6112127,
          4.4880986,
          3.995392,
          3.366811,
          3.5470293,
          4.3188934,
          3.3387387,
          3.0450416,
          4.6462603,
          4.2892647,
          7.0673623,
          -8.285071,
          3.6413915,
          4.2878857,
          0.918939,
          0.918939,
          0.918939,
          1.7094558,
          0.011750104,
          5.897416,
          0.918939
         ],
         "xaxis": "x",
         "y": [
          -5.4454136,
          -4.295081,
          -4.2943864,
          -5.5416393,
          -5.5977354,
          -4.6728945,
          -2.7131217,
          3.8469462,
          4.5553827,
          -6.035224,
          4.933064,
          -6.1369333,
          -1.0770928,
          -0.47025442,
          4.3098006,
          2.80822,
          -1.0811611,
          0.112787835,
          4.423943,
          5.066624,
          4.47821,
          -1.9530991,
          1.5382197,
          5.853619,
          4.630637,
          5.192855,
          -1.7999835,
          -6.582716,
          0.6206118,
          5.6419363,
          7.17947,
          7.17947,
          7.17947,
          6.411868,
          7.076735,
          3.9202578,
          7.17947
         ],
         "yaxis": "y"
        },
        {
         "customdata": [
          [
           10.422641509433975,
           "NLP"
          ],
          [
           4.7622641509433965,
           "NLP"
          ],
          [
           1.649056603773585,
           "NLP"
          ],
          [
           1.0830188679245283,
           "NLP"
          ],
          [
           15.8,
           "NLP"
          ],
          [
           12.686792452830188,
           "NLP"
          ],
          [
           4.479245283018881,
           "NLP"
          ],
          [
           0.8,
           "NLP"
          ],
          [
           7.309433962264164,
           "NLP"
          ],
          [
           0.8,
           "NLP"
          ],
          [
           0.8,
           "NLP"
          ],
          [
           1.649056603773585,
           "NLP"
          ],
          [
           9.007547169811323,
           "NLP"
          ],
          [
           1.649056603773585,
           "NLP"
          ],
          [
           1.9320754716981132,
           "NLP"
          ],
          [
           3.6301886792452835,
           "NLP"
          ],
          [
           1.3660377358490567,
           "NLP"
          ],
          [
           6.17735849056605,
           "NLP"
          ],
          [
           3.3471698113207546,
           "NLP"
          ],
          [
           2.4981132075471697,
           "NLP"
          ],
          [
           1.3660377358490567,
           "NLP"
          ],
          [
           1.3660377358490567,
           "NLP"
          ],
          [
           4.19622641509434,
           "NLP"
          ],
          [
           1.9320754716981132,
           "NLP"
          ],
          [
           1.3660377358490567,
           "NLP"
          ],
          [
           1.0830188679245283,
           "NLP"
          ],
          [
           1.0830188679245283,
           "NLP"
          ],
          [
           1.0830188679245283,
           "NLP"
          ],
          [
           0.8,
           "NLP"
          ],
          [
           0.8,
           "NLP"
          ],
          [
           0.8,
           "NLP"
          ],
          [
           0.8,
           "NLP"
          ],
          [
           0.8,
           "NLP"
          ],
          [
           0.8,
           "NLP"
          ],
          [
           0.8,
           "NLP"
          ],
          [
           0.8,
           "NLP"
          ],
          [
           0.8,
           "NLP"
          ]
         ],
         "hovertemplate": "<b>%{hovertext}</b><br><br><extra></extra>",
         "hovertext": [
          "Английский",
          "SQL",
          "Анализ данных",
          "MS SQL",
          "Python",
          "Machine Learning",
          "Data Science",
          "Математическая статистика",
          "PyTorch",
          "Pandas",
          "Hadoop",
          "Scikit-learn",
          "NLP",
          "Numpy",
          "Linux",
          "Git",
          "Docker",
          "Computer Vision",
          "Tensorflow",
          "Deep Learning",
          "PostgreSQL",
          "Алгоритмы",
          "OpenCV",
          "C++",
          "LLM",
          "GPT",
          "Парсинг",
          "beautifulSoup",
          "NER",
          "Jira",
          "Русский",
          "ООП",
          "Линейная алгебра",
          "Scrum",
          "PySpark",
          "CI/CD",
          "Keras"
         ],
         "legendgroup": "NLP",
         "marker": {
          "color": "#1CBE4F",
          "line": {
           "color": "DarkSlateGrey",
           "width": 0.5
          },
          "opacity": 0.7,
          "size": [
           10.422641509433975,
           4.7622641509433965,
           1.649056603773585,
           1.0830188679245283,
           15.8,
           12.686792452830188,
           4.479245283018881,
           0.8,
           7.309433962264164,
           0.8,
           0.8,
           1.649056603773585,
           9.007547169811323,
           1.649056603773585,
           1.9320754716981132,
           3.6301886792452835,
           1.3660377358490567,
           6.17735849056605,
           3.3471698113207546,
           2.4981132075471697,
           1.3660377358490567,
           1.3660377358490567,
           4.19622641509434,
           1.9320754716981132,
           1.3660377358490567,
           1.0830188679245283,
           1.0830188679245283,
           1.0830188679245283,
           0.8,
           0.8,
           0.8,
           0.8,
           0.8,
           0.8,
           0.8,
           0.8,
           0.8
          ],
          "sizemode": "area",
          "sizeref": 0.0395,
          "symbol": "circle"
         },
         "mode": "markers",
         "name": "NLP",
         "orientation": "v",
         "showlegend": true,
         "type": "scatter",
         "x": [
          -2.140256,
          -0.05774284,
          -3.5074766,
          -0.33927864,
          1.6836092,
          3.3376772,
          2.6771033,
          -2.0435011,
          3.168962,
          3.2711816,
          6.385646,
          2.8612945,
          3.62124,
          3.321288,
          4.6112127,
          4.4880986,
          6.018617,
          3.995392,
          3.366811,
          3.5470293,
          4.3188934,
          3.3387387,
          4.6462603,
          4.2892647,
          2.829939,
          3.3703585,
          7.0673623,
          5.786802,
          2.292795,
          -8.285071,
          -0.09059662,
          3.6413915,
          4.2878857,
          -8.955666,
          6.3832526,
          6.110619,
          2.6889646
         ],
         "xaxis": "x",
         "y": [
          -4.295081,
          -4.2943864,
          -5.5416393,
          -4.6728945,
          -2.7131217,
          3.8469462,
          4.5553827,
          -6.035224,
          4.933064,
          2.429236,
          -1.0770928,
          4.3098006,
          4.9220967,
          2.80822,
          -1.0811611,
          0.112787835,
          0.20008722,
          4.423943,
          5.066624,
          4.47821,
          -1.9530991,
          1.5382197,
          4.630637,
          5.192855,
          6.836596,
          5.686087,
          -1.7999835,
          4.186486,
          7.454742,
          -6.582716,
          -3.5398707,
          0.6206118,
          5.6419363,
          -6.9393787,
          -1.9429837,
          -0.3241883,
          5.4564385
         ],
         "yaxis": "y"
        },
        {
         "customdata": [
          [
           1.0488151658767721,
           "Инженер данных"
          ],
          [
           5.669668246445487,
           "Инженер данных"
          ],
          [
           15.551184834123212,
           "Инженер данных"
          ],
          [
           1.5464454976303335,
           "Инженер данных"
          ],
          [
           4.496682464454976,
           "Инженер данных"
          ],
          [
           1.510900473933642,
           "Инженер данных"
          ],
          [
           2.968246445497634,
           "Инженер данных"
          ],
          [
           15.8,
           "Инженер данных"
          ],
          [
           1.901895734597163,
           "Инженер данных"
          ],
          [
           0.8,
           "Инженер данных"
          ],
          [
           0.8,
           "Инженер данных"
          ],
          [
           7.127014218009481,
           "Инженер данных"
          ],
          [
           6.025118483412316,
           "Инженер данных"
          ],
          [
           3.572511848341236,
           "Инженер данных"
          ],
          [
           2.2928909952606666,
           "Инженер данных"
          ],
          [
           2.683886255924171,
           "Инженер данных"
          ],
          [
           6.842654028436017,
           "Инженер данных"
          ],
          [
           7.091469194312789,
           "Инженер данных"
          ],
          [
           4.53222748815165,
           "Инженер данных"
          ],
          [
           3.9635071090047393,
           "Инженер данных"
          ],
          [
           2.2928909952606666,
           "Инженер данных"
          ],
          [
           1.4753554502369677,
           "Инженер данных"
          ],
          [
           1.6886255924170652,
           "Инженер данных"
          ],
          [
           1.1199052132701381,
           "Инженер данных"
          ],
          [
           1.190995260663504,
           "Инженер данных"
          ],
          [
           1.9729857819905119,
           "Инженер данных"
          ],
          [
           0.8355450236966746,
           "Инженер данных"
          ],
          [
           0.9066350710900405,
           "Инженер данных"
          ],
          [
           3.110426540284366,
           "Инженер данных"
          ],
          [
           4.603317535545016,
           "Инженер данных"
          ],
          [
           2.3284360189573414,
           "Инженер данных"
          ],
          [
           9.330805687203789,
           "Инженер данных"
          ],
          [
           2.257345971563975,
           "Инженер данных"
          ],
          [
           1.439810426540276,
           "Инженер данных"
          ],
          [
           1.2620853080568697,
           "Инженер данных"
          ],
          [
           1.0488151658767721,
           "Инженер данных"
          ],
          [
           0.8,
           "Инженер данных"
          ]
         ],
         "hovertemplate": "<b>%{hovertext}</b><br><br><extra></extra>",
         "hovertext": [
          "Аналитическое мышление",
          "Английский",
          "SQL",
          "Анализ данных",
          "Работа с большим объемом информации",
          "Power BI",
          "MS SQL",
          "Python",
          "Machine Learning",
          "Data Science",
          "Pandas",
          "Hadoop",
          "Spark",
          "Linux",
          "Git",
          "Docker",
          "Базы данных",
          "PostgreSQL",
          "Airflow",
          "ClickHouse",
          "Java",
          "Hive",
          "Работа с базами данных",
          "BI",
          "CI/CD",
          "ORACLE",
          "MySQL",
          "Bash",
          "Kafka",
          "DWH",
          "Greenplum",
          "ETL",
          "SCALA",
          "Kubernetes",
          "Хранилище данных",
          "NoSQL",
          "NiFi"
         ],
         "legendgroup": "Инженер данных",
         "marker": {
          "color": "#C4451C",
          "line": {
           "color": "DarkSlateGrey",
           "width": 0.5
          },
          "opacity": 0.7,
          "size": [
           1.0488151658767721,
           5.669668246445487,
           15.551184834123212,
           1.5464454976303335,
           4.496682464454976,
           1.510900473933642,
           2.968246445497634,
           15.8,
           1.901895734597163,
           0.8,
           0.8,
           7.127014218009481,
           6.025118483412316,
           3.572511848341236,
           2.2928909952606666,
           2.683886255924171,
           6.842654028436017,
           7.091469194312789,
           4.53222748815165,
           3.9635071090047393,
           2.2928909952606666,
           1.4753554502369677,
           1.6886255924170652,
           1.1199052132701381,
           1.190995260663504,
           1.9729857819905119,
           0.8355450236966746,
           0.9066350710900405,
           3.110426540284366,
           4.603317535545016,
           2.3284360189573414,
           9.330805687203789,
           2.257345971563975,
           1.439810426540276,
           1.2620853080568697,
           1.0488151658767721,
           0.8
          ],
          "sizemode": "area",
          "sizeref": 0.0395,
          "symbol": "circle"
         },
         "mode": "markers",
         "name": "Инженер данных",
         "orientation": "v",
         "showlegend": true,
         "type": "scatter",
         "x": [
          -5.265017,
          -2.140256,
          -0.05774284,
          -3.5074766,
          -1.6685798,
          -3.6719744,
          -0.33927864,
          1.6836092,
          3.3376772,
          2.6771033,
          3.2711816,
          6.385646,
          7.029302,
          4.6112127,
          4.4880986,
          6.018617,
          3.2809954,
          4.3188934,
          8.383849,
          5.7675037,
          6.547024,
          6.4067163,
          -1.1547692,
          -2.0221703,
          6.110619,
          3.7451742,
          3.1591096,
          4.8666434,
          7.512572,
          7.2034025,
          7.971638,
          7.7328157,
          8.692902,
          6.893841,
          8.13087,
          7.429,
          8.87303
         ],
         "xaxis": "x",
         "y": [
          -5.4454136,
          -4.295081,
          -4.2943864,
          -5.5416393,
          -4.803078,
          -5.5977354,
          -4.6728945,
          -2.7131217,
          3.8469462,
          4.5553827,
          2.429236,
          -1.0770928,
          -0.47025442,
          -1.0811611,
          0.112787835,
          0.20008722,
          -2.4659755,
          -1.9530991,
          0.816865,
          -1.6797442,
          -0.29429314,
          -1.072747,
          -4.9185348,
          -5.05041,
          -0.3241883,
          -2.13215,
          -2.5139785,
          -0.97570544,
          0.36771598,
          -1.0281209,
          0.049513057,
          -0.6028073,
          1.4241942,
          0.4589943,
          -0.36161807,
          0.052943725,
          1.7320459
         ],
         "yaxis": "y"
        },
        {
         "customdata": [
          [
           0.8738916256157511,
           "Big Data"
          ],
          [
           2.4256157635467837,
           "Big Data"
          ],
          [
           0.8,
           "Big Data"
          ],
          [
           3.460098522167489,
           "Big Data"
          ],
          [
           15.8,
           "Big Data"
          ],
          [
           1.3911330049260953,
           "Big Data"
          ],
          [
           0.8738916256157511,
           "Big Data"
          ],
          [
           1.1694581280788074,
           "Big Data"
          ],
          [
           2.868965517241377,
           "Big Data"
          ],
          [
           1.9083743842364396,
           "Big Data"
          ],
          [
           7.745812807881764,
           "Big Data"
          ],
          [
           1.2433497536945757,
           "Big Data"
          ],
          [
           2.7950738916256084,
           "Big Data"
          ],
          [
           9.593103448275853,
           "Big Data"
          ],
          [
           1.2433497536945757,
           "Big Data"
          ],
          [
           1.2433497536945757,
           "Big Data"
          ],
          [
           5.972413793103442,
           "Big Data"
          ],
          [
           4.051231527093585,
           "Big Data"
          ],
          [
           2.2039408866994954,
           "Big Data"
          ],
          [
           0.8,
           "Big Data"
          ],
          [
           1.3172413793103441,
           "Big Data"
          ],
          [
           3.9034482758620648,
           "Big Data"
          ],
          [
           4.051231527093585,
           "Big Data"
          ],
          [
           1.8344827586206884,
           "Big Data"
          ],
          [
           1.095566502463039,
           "Big Data"
          ],
          [
           1.095566502463039,
           "Big Data"
          ],
          [
           1.1694581280788074,
           "Big Data"
          ],
          [
           0.8738916256157511,
           "Big Data"
          ],
          [
           2.573399014778321,
           "Big Data"
          ],
          [
           1.4650246305418637,
           "Big Data"
          ],
          [
           0.8738916256157511,
           "Big Data"
          ],
          [
           1.9083743842364396,
           "Big Data"
          ],
          [
           1.5389162561576322,
           "Big Data"
          ],
          [
           6.859113300492612,
           "Big Data"
          ],
          [
           1.6128078817734006,
           "Big Data"
          ],
          [
           7.450246305418707,
           "Big Data"
          ],
          [
           1.3172413793103441,
           "Big Data"
          ]
         ],
         "hovertemplate": "<b>%{hovertext}</b><br><br><extra></extra>",
         "hovertext": [
          "Бизнес-анализ",
          "Аналитическое мышление",
          "BPMN",
          "Английский",
          "SQL",
          "Деловая коммуникация",
          "UML",
          "Управление проектами",
          "Анализ данных",
          "Системный анализ",
          "Работа с большим объемом информации",
          "Power BI",
          "MS SQL",
          "Python",
          "Machine Learning",
          "Математическая статистика",
          "Hadoop",
          "Spark",
          "Linux",
          "Git",
          "Docker",
          "Базы данных",
          "PostgreSQL",
          "Airflow",
          "ClickHouse",
          "Java",
          "Hive",
          "Работа с базами данных",
          "BI",
          "Tableau",
          "CI/CD",
          "ORACLE",
          "Kafka",
          "DWH",
          "Greenplum",
          "ETL",
          "SCALA"
         ],
         "legendgroup": "Big Data",
         "marker": {
          "color": "#F6222E",
          "line": {
           "color": "DarkSlateGrey",
           "width": 0.5
          },
          "opacity": 0.7,
          "size": [
           0.8738916256157511,
           2.4256157635467837,
           0.8,
           3.460098522167489,
           15.8,
           1.3911330049260953,
           0.8738916256157511,
           1.1694581280788074,
           2.868965517241377,
           1.9083743842364396,
           7.745812807881764,
           1.2433497536945757,
           2.7950738916256084,
           9.593103448275853,
           1.2433497536945757,
           1.2433497536945757,
           5.972413793103442,
           4.051231527093585,
           2.2039408866994954,
           0.8,
           1.3172413793103441,
           3.9034482758620648,
           4.051231527093585,
           1.8344827586206884,
           1.095566502463039,
           1.095566502463039,
           1.1694581280788074,
           0.8738916256157511,
           2.573399014778321,
           1.4650246305418637,
           0.8738916256157511,
           1.9083743842364396,
           1.5389162561576322,
           6.859113300492612,
           1.6128078817734006,
           7.450246305418707,
           1.3172413793103441
          ],
          "sizemode": "area",
          "sizeref": 0.0395,
          "symbol": "circle"
         },
         "mode": "markers",
         "name": "Big Data",
         "orientation": "v",
         "showlegend": true,
         "type": "scatter",
         "x": [
          -8.991264,
          -5.265017,
          -10.234135,
          -2.140256,
          -0.05774284,
          -7.0083,
          -10.700415,
          -7.9144473,
          -3.5074766,
          -11.400766,
          -1.6685798,
          -3.6719744,
          -0.33927864,
          1.6836092,
          3.3376772,
          -2.0435011,
          6.385646,
          7.029302,
          4.6112127,
          4.4880986,
          6.018617,
          3.2809954,
          4.3188934,
          8.383849,
          5.7675037,
          6.547024,
          6.4067163,
          -1.1547692,
          -2.0221703,
          -2.6691883,
          6.110619,
          3.7451742,
          7.512572,
          7.2034025,
          7.971638,
          7.7328157,
          8.692902
         ],
         "xaxis": "x",
         "y": [
          -10.281999,
          -5.4454136,
          -10.167551,
          -4.295081,
          -4.2943864,
          -7.6112494,
          -9.553972,
          -7.877371,
          -5.5416393,
          -9.369058,
          -4.803078,
          -5.5977354,
          -4.6728945,
          -2.7131217,
          3.8469462,
          -6.035224,
          -1.0770928,
          -0.47025442,
          -1.0811611,
          0.112787835,
          0.20008722,
          -2.4659755,
          -1.9530991,
          0.816865,
          -1.6797442,
          -0.29429314,
          -1.072747,
          -4.9185348,
          -5.05041,
          -5.7617435,
          -0.3241883,
          -2.13215,
          0.36771598,
          -1.0281209,
          0.049513057,
          -0.6028073,
          1.4241942
         ],
         "yaxis": "y"
        },
        {
         "customdata": [
          [
           0.8,
           "Администратор баз данных"
          ],
          [
           2.8960698689956343,
           "Администратор баз данных"
          ],
          [
           3.6820960698689973,
           "Администратор баз данных"
          ],
          [
           5.123144104803495,
           "Администратор баз данных"
          ],
          [
           0.9965065502183457,
           "Администратор баз данных"
          ],
          [
           0.8655021834061186,
           "Администратор баз данных"
          ],
          [
           0.9310043668122272,
           "Администратор баз данных"
          ],
          [
           0.9310043668122272,
           "Администратор баз данных"
          ],
          [
           8.59475982532752,
           "Администратор баз данных"
          ],
          [
           1.4550218340611356,
           "Администратор баз данных"
          ],
          [
           6.564192139737993,
           "Администратор баз данных"
          ],
          [
           0.9965065502183457,
           "Администратор баз данных"
          ],
          [
           15.8,
           "Администратор баз данных"
          ],
          [
           10.494323144104808,
           "Администратор баз данных"
          ],
          [
           1.5205240174672543,
           "Администратор баз данных"
          ],
          [
           3.7475982532751155,
           "Администратор баз данных"
          ],
          [
           1.1275109170305728,
           "Администратор баз данных"
          ],
          [
           4.5336244541484785,
           "Администратор баз данных"
          ],
          [
           3.485589519650661,
           "Администратор баз данных"
          ],
          [
           2.17554585152839,
           "Администратор баз данных"
          ],
          [
           1.8480349344978173,
           "Администратор баз данных"
          ],
          [
           1.5860262008733628,
           "Администратор баз данных"
          ],
          [
           1.4550218340611356,
           "Администратор баз данных"
          ],
          [
           1.1930131004366813,
           "Администратор баз данных"
          ],
          [
           1.1275109170305728,
           "Администратор баз данных"
          ],
          [
           1.0620087336244541,
           "Администратор баз данных"
          ],
          [
           0.9965065502183457,
           "Администратор баз данных"
          ],
          [
           0.8655021834061186,
           "Администратор баз данных"
          ],
          [
           0.8655021834061186,
           "Администратор баз данных"
          ],
          [
           0.8655021834061186,
           "Администратор баз данных"
          ],
          [
           0.8655021834061186,
           "Администратор баз данных"
          ],
          [
           0.8655021834061186,
           "Администратор баз данных"
          ],
          [
           0.8,
           "Администратор баз данных"
          ],
          [
           0.8,
           "Администратор баз данных"
          ],
          [
           0.8,
           "Администратор баз данных"
          ],
          [
           0.8,
           "Администратор баз данных"
          ],
          [
           0.8,
           "Администратор баз данных"
          ]
         ],
         "hovertemplate": "<b>%{hovertext}</b><br><br><extra></extra>",
         "hovertext": [
          "Аналитическое мышление",
          "1С: Предприятие 8",
          "Английский",
          "SQL",
          "Деловая коммуникация",
          "Работа в команде",
          "Работа с большим объемом информации",
          "Работа в условиях многозадачности",
          "MS SQL",
          "Python",
          "Linux",
          "Docker",
          "Базы данных",
          "PostgreSQL",
          "ClickHouse",
          "Работа с базами данных",
          "Пользователь ПК",
          "ORACLE",
          "Администрирование",
          "MySQL",
          "Zabbix",
          "Bash",
          "Unix",
          "MongoDB",
          "Kafka",
          "Grafana",
          "Ansible",
          "Oracle Pl/SQL",
          "TCP/IP",
          "PowerShell",
          "Администрирование серверов Windows",
          "Оптимизация запросов",
          "Информационные технологии",
          "Обучение и развитие",
          "Prometheus",
          "MS Windows",
          "MS Access"
         ],
         "legendgroup": "Администратор баз данных",
         "marker": {
          "color": "#FE00FA",
          "line": {
           "color": "DarkSlateGrey",
           "width": 0.5
          },
          "opacity": 0.7,
          "size": [
           0.8,
           2.8960698689956343,
           3.6820960698689973,
           5.123144104803495,
           0.9965065502183457,
           0.8655021834061186,
           0.9310043668122272,
           0.9310043668122272,
           8.59475982532752,
           1.4550218340611356,
           6.564192139737993,
           0.9965065502183457,
           15.8,
           10.494323144104808,
           1.5205240174672543,
           3.7475982532751155,
           1.1275109170305728,
           4.5336244541484785,
           3.485589519650661,
           2.17554585152839,
           1.8480349344978173,
           1.5860262008733628,
           1.4550218340611356,
           1.1930131004366813,
           1.1275109170305728,
           1.0620087336244541,
           0.9965065502183457,
           0.8655021834061186,
           0.8655021834061186,
           0.8655021834061186,
           0.8655021834061186,
           0.8655021834061186,
           0.8,
           0.8,
           0.8,
           0.8,
           0.8
          ],
          "sizemode": "area",
          "sizeref": 0.0395,
          "symbol": "circle"
         },
         "mode": "markers",
         "name": "Администратор баз данных",
         "orientation": "v",
         "showlegend": true,
         "type": "scatter",
         "x": [
          -5.265017,
          -7.058705,
          -2.140256,
          -0.05774284,
          -7.0083,
          -5.7154617,
          -1.6685798,
          -6.0212708,
          -0.33927864,
          1.6836092,
          4.6112127,
          6.018617,
          3.2809954,
          4.3188934,
          5.7675037,
          -1.1547692,
          -5.598306,
          3.7451742,
          -1.7274129,
          3.1591096,
          -1.4848666,
          4.8666434,
          -1.303884,
          4.0507946,
          7.512572,
          4.804533,
          5.4085875,
          1.5944301,
          -1.5660074,
          -1.9023278,
          -1.372509,
          -1.6511042,
          -1.5012927,
          -4.898947,
          7.2335844,
          -1.6826571,
          -5.1286497
         ],
         "xaxis": "x",
         "y": [
          -5.4454136,
          -6.467622,
          -4.295081,
          -4.2943864,
          -7.6112494,
          -6.793357,
          -4.803078,
          -5.178443,
          -4.6728945,
          -2.7131217,
          -1.0811611,
          0.20008722,
          -2.4659755,
          -1.9530991,
          -1.6797442,
          -4.9185348,
          -4.1554346,
          -2.13215,
          5.1732926,
          -2.5139785,
          4.0441523,
          -0.97570544,
          3.841136,
          -0.9821398,
          0.36771598,
          -1.8790153,
          -0.15358564,
          -3.1752424,
          2.8488412,
          2.4794374,
          4.181144,
          2.5136292,
          -3.259604,
          -6.2722187,
          1.1871836,
          4.8131104,
          -4.632774
         ],
         "yaxis": "y"
        },
        {
         "customdata": [
          [
           1.251977401129949,
           "Аналитик данных"
          ],
          [
           1.3932203389830575,
           "Аналитик данных"
          ],
          [
           8.70960451977401,
           "Аналитик данных"
          ],
          [
           5.799999999999995,
           "Аналитик данных"
          ],
          [
           15.8,
           "Аналитик данных"
          ],
          [
           0.8847457627118654,
           "Аналитик данных"
          ],
          [
           4.641807909604516,
           "Аналитик данных"
          ],
          [
           12.04293785310735,
           "Аналитик данных"
          ],
          [
           1.7322033898305036,
           "Аналитик данных"
          ],
          [
           0.9694915254237308,
           "Аналитик данных"
          ],
          [
           4.69830508474576,
           "Аналитик данных"
          ],
          [
           0.8564971751412436,
           "Аналитик данных"
          ],
          [
           6.33672316384181,
           "Аналитик данных"
          ],
          [
           1.11073446327684,
           "Аналитик данных"
          ],
          [
           0.8847457627118654,
           "Аналитик данных"
          ],
          [
           1.7604519774011256,
           "Аналитик данных"
          ],
          [
           3.2576271186440646,
           "Аналитик данных"
          ],
          [
           11.647457627118644,
           "Аналитик данных"
          ],
          [
           1.2802259887005705,
           "Аналитик данных"
          ],
          [
           4.924293785310735,
           "Аналитик данных"
          ],
          [
           1.8451977401129904,
           "Аналитик данных"
          ],
          [
           0.9977401129943526,
           "Аналитик данных"
          ],
          [
           1.534463276836151,
           "Аналитик данных"
          ],
          [
           0.8,
           "Аналитик данных"
          ],
          [
           3.2011299435028215,
           "Аналитик данных"
          ],
          [
           2.127683615819209,
           "Аналитик данных"
          ],
          [
           0.9129943502824872,
           "Аналитик данных"
          ],
          [
           1.336723163841814,
           "Аналитик данных"
          ],
          [
           1.506214689265529,
           "Аналитик данных"
          ],
          [
           2.071186440677965,
           "Аналитик данных"
          ],
          [
           0.9694915254237308,
           "Аналитик данных"
          ],
          [
           2.0146892655367212,
           "Аналитик данных"
          ],
          [
           2.042937853107343,
           "Аналитик данных"
          ],
          [
           0.8282485875706218,
           "Аналитик данных"
          ],
          [
           1.3084745762711925,
           "Аналитик данных"
          ],
          [
           1.3932203389830575,
           "Аналитик данных"
          ],
          [
           0.8847457627118654,
           "Аналитик данных"
          ]
         ],
         "hovertemplate": "<b>%{hovertext}</b><br><br><extra></extra>",
         "hovertext": [
          "Бизнес-анализ",
          "Моделирование бизнес процессов",
          "Аналитическое мышление",
          "Английский",
          "SQL",
          "Деловая коммуникация",
          "MS Excel",
          "Анализ данных",
          "MS PowerPoint",
          "Работа в команде",
          "Работа с большим объемом информации",
          "Работа в условиях многозадачности",
          "Power BI",
          "Сбор и анализ информации",
          "Грамотная речь",
          "Анализ рынка",
          "MS SQL",
          "Python",
          "Machine Learning",
          "Математическая статистика",
          "Математический анализ",
          "Pandas",
          "Hadoop",
          "Spark",
          "Базы данных",
          "PostgreSQL",
          "ClickHouse",
          "A/B тесты",
          "Аналитические исследования",
          "Работа с базами данных",
          "Маркетинговые исследования",
          "BI",
          "Tableau",
          "ORACLE",
          "Визуализация данных",
          "ETL",
          "VBA"
         ],
         "legendgroup": "Аналитик данных",
         "marker": {
          "color": "#325A9B",
          "line": {
           "color": "DarkSlateGrey",
           "width": 0.5
          },
          "opacity": 0.7,
          "size": [
           1.251977401129949,
           1.3932203389830575,
           8.70960451977401,
           5.799999999999995,
           15.8,
           0.8847457627118654,
           4.641807909604516,
           12.04293785310735,
           1.7322033898305036,
           0.9694915254237308,
           4.69830508474576,
           0.8564971751412436,
           6.33672316384181,
           1.11073446327684,
           0.8847457627118654,
           1.7604519774011256,
           3.2576271186440646,
           11.647457627118644,
           1.2802259887005705,
           4.924293785310735,
           1.8451977401129904,
           0.9977401129943526,
           1.534463276836151,
           0.8,
           3.2011299435028215,
           2.127683615819209,
           0.9129943502824872,
           1.336723163841814,
           1.506214689265529,
           2.071186440677965,
           0.9694915254237308,
           2.0146892655367212,
           2.042937853107343,
           0.8282485875706218,
           1.3084745762711925,
           1.3932203389830575,
           0.8847457627118654
          ],
          "sizemode": "area",
          "sizeref": 0.0395,
          "symbol": "circle"
         },
         "mode": "markers",
         "name": "Аналитик данных",
         "orientation": "v",
         "showlegend": true,
         "type": "scatter",
         "x": [
          -8.991264,
          -8.479693,
          -5.265017,
          -2.140256,
          -0.05774284,
          -7.0083,
          -6.0270624,
          -3.5074766,
          -6.567785,
          -5.7154617,
          -1.6685798,
          -6.0212708,
          -3.6719744,
          -5.873111,
          -5.7004557,
          -7.4209285,
          -0.33927864,
          1.6836092,
          3.3376772,
          -2.0435011,
          -1.4349215,
          3.2711816,
          6.385646,
          7.029302,
          3.2809954,
          4.3188934,
          5.7675037,
          -2.7449284,
          -5.4892855,
          -1.1547692,
          -7.079985,
          -2.0221703,
          -2.6691883,
          3.7451742,
          -2.9634051,
          7.7328157,
          -4.8100495
         ],
         "xaxis": "x",
         "y": [
          -10.281999,
          -9.842511,
          -5.4454136,
          -4.295081,
          -4.2943864,
          -7.6112494,
          -3.3049371,
          -5.5416393,
          -3.4022892,
          -6.793357,
          -4.803078,
          -5.178443,
          -5.5977354,
          -5.8119283,
          -5.0149035,
          -1.2117153,
          -4.6728945,
          -2.7131217,
          3.8469462,
          -6.035224,
          -6.1369333,
          2.429236,
          -1.0770928,
          -0.47025442,
          -2.4659755,
          -1.9530991,
          -1.6797442,
          -5.981568,
          -3.67074,
          -4.9185348,
          -1.6055269,
          -5.05041,
          -5.7617435,
          -2.13215,
          -6.8839564,
          -0.6028073,
          -4.0292344
         ],
         "yaxis": "y"
        },
        {
         "customdata": [
          [
           2.9017699115044344,
           "Аналитик"
          ],
          [
           3.985840707964595,
           "Аналитик"
          ],
          [
           15.8,
           "Аналитик"
          ],
          [
           0.8,
           "Аналитик"
          ],
          [
           6.9725663716814115,
           "Аналитик"
          ],
          [
           11.684955752212401,
           "Аналитик"
          ],
          [
           13.34424778761063,
           "Аналитик"
          ],
          [
           1.419469026548688,
           "Аналитик"
          ],
          [
           2.459292035398228,
           "Аналитик"
          ],
          [
           8.653982300884966,
           "Аналитик"
          ],
          [
           10.954867256637177,
           "Аналитик"
          ],
          [
           4.5610619469026625,
           "Аналитик"
          ],
          [
           1.3530973451327426,
           "Аналитик"
          ],
          [
           0.9106194690265658,
           "Аналитик"
          ],
          [
           6.729203539823012,
           "Аналитик"
          ],
          [
           1.9946902654867267,
           "Аналитик"
          ],
          [
           4.9592920353982475,
           "Аналитик"
          ],
          [
           1.4637168141593082,
           "Аналитик"
          ],
          [
           2.0831858407079675,
           "Аналитик"
          ],
          [
           8.786725663716826,
           "Аналитик"
          ],
          [
           3.1008849557522122,
           "Аналитик"
          ],
          [
           7.724778761061961,
           "Аналитик"
          ],
          [
           1.419469026548688,
           "Аналитик"
          ],
          [
           4.450442477876126,
           "Аналитик"
          ],
          [
           1.0654867256637235,
           "Аналитик"
          ],
          [
           2.769026548672572,
           "Аналитик"
          ],
          [
           0.8884955752212411,
           "Аналитик"
          ],
          [
           3.0566371681415907,
           "Аналитик"
          ],
          [
           2.4150442477876077,
           "Аналитик"
          ],
          [
           1.8176991150442445,
           "Аналитик"
          ],
          [
           1.8176991150442445,
           "Аналитик"
          ],
          [
           1.530088495575225,
           "Аналитик"
          ],
          [
           1.3752212389380671,
           "Аналитик"
          ],
          [
           1.3309734513274467,
           "Аналитик"
          ],
          [
           0.9769911504424823,
           "Аналитик"
          ],
          [
           0.9769911504424823,
           "Аналитик"
          ],
          [
           0.9548672566371862,
           "Аналитик"
          ]
         ],
         "hovertemplate": "<b>%{hovertext}</b><br><br><extra></extra>",
         "hovertext": [
          "Бизнес-анализ",
          "Моделирование бизнес процессов",
          "Аналитическое мышление",
          "BPMN",
          "1С: Предприятие 8",
          "Английский",
          "SQL",
          "Разработка технических заданий",
          "Деловая коммуникация",
          "MS Excel",
          "Анализ данных",
          "MS PowerPoint",
          "Работа в команде",
          "Системный анализ",
          "Работа с большим объемом информации",
          "Работа в условиях многозадачности",
          "Power BI",
          "Сбор и анализ информации",
          "Грамотная речь",
          "Анализ рынка",
          "MS SQL",
          "Python",
          "Подготовка презентаций",
          "Математическая статистика",
          "Математический анализ",
          "Базы данных",
          "PostgreSQL",
          "Финансовый анализ",
          "Аналитические исследования",
          "Работа с базами данных",
          "Маркетинговые исследования",
          "BI",
          "Прогнозирование",
          "Пользователь ПК",
          "Tableau",
          "Бюджетирование",
          "Конкурентная аналитика"
         ],
         "legendgroup": "Аналитик",
         "marker": {
          "color": "#FEAF16",
          "line": {
           "color": "DarkSlateGrey",
           "width": 0.5
          },
          "opacity": 0.7,
          "size": [
           2.9017699115044344,
           3.985840707964595,
           15.8,
           0.8,
           6.9725663716814115,
           11.684955752212401,
           13.34424778761063,
           1.419469026548688,
           2.459292035398228,
           8.653982300884966,
           10.954867256637177,
           4.5610619469026625,
           1.3530973451327426,
           0.9106194690265658,
           6.729203539823012,
           1.9946902654867267,
           4.9592920353982475,
           1.4637168141593082,
           2.0831858407079675,
           8.786725663716826,
           3.1008849557522122,
           7.724778761061961,
           1.419469026548688,
           4.450442477876126,
           1.0654867256637235,
           2.769026548672572,
           0.8884955752212411,
           3.0566371681415907,
           2.4150442477876077,
           1.8176991150442445,
           1.8176991150442445,
           1.530088495575225,
           1.3752212389380671,
           1.3309734513274467,
           0.9769911504424823,
           0.9769911504424823,
           0.9548672566371862
          ],
          "sizemode": "area",
          "sizeref": 0.0395,
          "symbol": "circle"
         },
         "mode": "markers",
         "name": "Аналитик",
         "orientation": "v",
         "showlegend": true,
         "type": "scatter",
         "x": [
          -8.991264,
          -8.479693,
          -5.265017,
          -10.234135,
          -7.058705,
          -2.140256,
          -0.05774284,
          -9.255919,
          -7.0083,
          -6.0270624,
          -3.5074766,
          -6.567785,
          -5.7154617,
          -11.400766,
          -1.6685798,
          -6.0212708,
          -3.6719744,
          -5.873111,
          -5.7004557,
          -7.4209285,
          -0.33927864,
          1.6836092,
          -6.523355,
          -2.0435011,
          -1.4349215,
          3.2809954,
          4.3188934,
          -7.521625,
          -5.4892855,
          -1.1547692,
          -7.079985,
          -2.0221703,
          -7.0110965,
          -5.598306,
          -2.6691883,
          -7.648225,
          -6.7167673
         ],
         "xaxis": "x",
         "y": [
          -10.281999,
          -9.842511,
          -5.4454136,
          -10.167551,
          -6.467622,
          -4.295081,
          -4.2943864,
          -9.083643,
          -7.6112494,
          -3.3049371,
          -5.5416393,
          -3.4022892,
          -6.793357,
          -9.369058,
          -4.803078,
          -5.178443,
          -5.5977354,
          -5.8119283,
          -5.0149035,
          -1.2117153,
          -4.6728945,
          -2.7131217,
          -4.1811895,
          -6.035224,
          -6.1369333,
          -2.4659755,
          -1.9530991,
          -0.30332914,
          -3.67074,
          -4.9185348,
          -1.6055269,
          -5.05041,
          -2.2329516,
          -4.1554346,
          -5.7617435,
          -0.63784605,
          -3.4594824
         ],
         "yaxis": "y"
        },
        {
         "customdata": [
          [
           15.8,
           "Бизнес-аналитик"
          ],
          [
           13.759427207637227,
           "Бизнес-аналитик"
          ],
          [
           11.79045346062053,
           "Бизнес-аналитик"
          ],
          [
           9.749880668257754,
           "Бизнес-аналитик"
          ],
          [
           9.06968973747017,
           "Бизнес-аналитик"
          ],
          [
           8.35369928400954,
           "Бизнес-аналитик"
          ],
          [
           6.098329355608588,
           "Бизнес-аналитик"
          ],
          [
           5.2749403341288765,
           "Бизнес-аналитик"
          ],
          [
           5.167541766109777,
           "Бизнес-аналитик"
          ],
          [
           4.379952267303093,
           "Бизнес-аналитик"
          ],
          [
           3.5923627684964083,
           "Бизнес-аналитик"
          ],
          [
           3.449164677804305,
           "Бизнес-аналитик"
          ],
          [
           3.2343675417661037,
           "Бизнес-аналитик"
          ],
          [
           2.7331742243436734,
           "Бизнес-аналитик"
          ],
          [
           2.124582338902141,
           "Бизнес-аналитик"
          ],
          [
           2.0887828162291155,
           "Бизнес-аналитик"
          ],
          [
           2.052983293556089,
           "Бизнес-аналитик"
          ],
          [
           2.0171837708830633,
           "Бизнес-аналитик"
          ],
          [
           1.9813842482100148,
           "Бизнес-аналитик"
          ],
          [
           1.9455847255369887,
           "Бизнес-аналитик"
          ],
          [
           1.7665871121718366,
           "Бизнес-аналитик"
          ],
          [
           1.7307875894988105,
           "Бизнес-аналитик"
          ],
          [
           1.6949880668257622,
           "Бизнес-аналитик"
          ],
          [
           1.5517899761336582,
           "Бизнес-аналитик"
          ],
          [
           1.5517899761336582,
           "Бизнес-аналитик"
          ],
          [
           1.4443914081145577,
           "Бизнес-аналитик"
          ],
          [
           1.4443914081145577,
           "Бизнес-аналитик"
          ],
          [
           1.372792362768483,
           "Бизнес-аналитик"
          ],
          [
           1.2653937947494054,
           "Бизнес-аналитик"
          ],
          [
           1.0505966587112043,
           "Бизнес-аналитик"
          ],
          [
           1.0147971360381784,
           "Бизнес-аналитик"
          ],
          [
           1.0147971360381784,
           "Бизнес-аналитик"
          ],
          [
           1.0147971360381784,
           "Бизнес-аналитик"
          ],
          [
           1.0147971360381784,
           "Бизнес-аналитик"
          ],
          [
           0.9431980906921266,
           "Бизнес-аналитик"
          ],
          [
           0.871599045346052,
           "Бизнес-аналитик"
          ],
          [
           0.8,
           "Бизнес-аналитик"
          ]
         ],
         "hovertemplate": "<b>%{hovertext}</b><br><br><extra></extra>",
         "hovertext": [
          "Бизнес-анализ",
          "Моделирование бизнес процессов",
          "Аналитическое мышление",
          "BPMN",
          "1С: Предприятие 8",
          "Английский",
          "SQL",
          "Разработка технических заданий",
          "Деловая коммуникация",
          "UML",
          "MS Excel",
          "MS Visio",
          "Управление проектами",
          "Анализ данных",
          "Системное мышление",
          "MS PowerPoint",
          "Работа в команде",
          "Системный анализ",
          "Atlassian Jira",
          "Работа с большим объемом информации",
          "Постановка задач разработчикам",
          "Автоматизация процессов",
          "Agile",
          "Работа в условиях многозадачности",
          "Atlassian Confluence",
          "Power BI",
          "Сбор и анализ информации",
          "Грамотная речь",
          "IDEF",
          "Анализ рынка",
          "MS SQL",
          "Техническая документация",
          "EPC",
          "Python",
          "ERP",
          "CRM",
          "Подготовка презентаций"
         ],
         "legendgroup": "Бизнес-аналитик",
         "marker": {
          "color": "#90AD1C",
          "line": {
           "color": "DarkSlateGrey",
           "width": 0.5
          },
          "opacity": 0.7,
          "size": [
           15.8,
           13.759427207637227,
           11.79045346062053,
           9.749880668257754,
           9.06968973747017,
           8.35369928400954,
           6.098329355608588,
           5.2749403341288765,
           5.167541766109777,
           4.379952267303093,
           3.5923627684964083,
           3.449164677804305,
           3.2343675417661037,
           2.7331742243436734,
           2.124582338902141,
           2.0887828162291155,
           2.052983293556089,
           2.0171837708830633,
           1.9813842482100148,
           1.9455847255369887,
           1.7665871121718366,
           1.7307875894988105,
           1.6949880668257622,
           1.5517899761336582,
           1.5517899761336582,
           1.4443914081145577,
           1.4443914081145577,
           1.372792362768483,
           1.2653937947494054,
           1.0505966587112043,
           1.0147971360381784,
           1.0147971360381784,
           1.0147971360381784,
           1.0147971360381784,
           0.9431980906921266,
           0.871599045346052,
           0.8
          ],
          "sizemode": "area",
          "sizeref": 0.0395,
          "symbol": "circle"
         },
         "mode": "markers",
         "name": "Бизнес-аналитик",
         "orientation": "v",
         "showlegend": true,
         "type": "scatter",
         "x": [
          -8.991264,
          -8.479693,
          -5.265017,
          -10.234135,
          -7.058705,
          -2.140256,
          -0.05774284,
          -9.255919,
          -7.0083,
          -10.700415,
          -6.0270624,
          -9.361388,
          -7.9144473,
          -3.5074766,
          -8.084131,
          -6.567785,
          -5.7154617,
          -11.400766,
          -9.703421,
          -1.6685798,
          -10.088869,
          -7.3288393,
          -9.322205,
          -6.0212708,
          -9.778784,
          -3.6719744,
          -5.873111,
          -5.7004557,
          -9.542697,
          -7.4209285,
          -0.33927864,
          -8.701551,
          -2.1690292,
          1.6836092,
          -9.036478,
          -7.7624426,
          -6.523355
         ],
         "xaxis": "x",
         "y": [
          -10.281999,
          -9.842511,
          -5.4454136,
          -10.167551,
          -6.467622,
          -4.295081,
          -4.2943864,
          -9.083643,
          -7.6112494,
          -9.553972,
          -3.3049371,
          -10.499088,
          -7.877371,
          -5.5416393,
          -8.387487,
          -3.4022892,
          -6.793357,
          -9.369058,
          -8.449049,
          -4.803078,
          -9.045263,
          -8.724834,
          -7.993529,
          -5.178443,
          -9.267909,
          -5.5977354,
          -5.8119283,
          -5.0149035,
          -10.411259,
          -1.2117153,
          -4.6728945,
          -8.2176485,
          6.6112285,
          -2.7131217,
          -8.8358135,
          -7.4966145,
          -4.1811895
         ],
         "yaxis": "y"
        },
        {
         "customdata": [
          [
           1.3921052631578883,
           "Продуктовый аналитик"
          ],
          [
           10.47105263157895,
           "Продуктовый аналитик"
          ],
          [
           5.53684210526315,
           "Продуктовый аналитик"
          ],
          [
           15.8,
           "Продуктовый аналитик"
          ],
          [
           1.5894736842105224,
           "Продуктовый аналитик"
          ],
          [
           10.865789473684202,
           "Продуктовый аналитик"
          ],
          [
           1.9842105263157912,
           "Продуктовый аналитик"
          ],
          [
           4.944736842105262,
           "Продуктовый аналитик"
          ],
          [
           1.1947368421052684,
           "Продуктовый аналитик"
          ],
          [
           2.378947368421045,
           "Продуктовый аналитик"
          ],
          [
           2.378947368421045,
           "Продуктовый аналитик"
          ],
          [
           12.44473684210526,
           "Продуктовый аналитик"
          ],
          [
           7.1157894736842096,
           "Продуктовый аналитик"
          ],
          [
           1.5894736842105224,
           "Продуктовый аналитик"
          ],
          [
           1.1947368421052684,
           "Продуктовый аналитик"
          ],
          [
           1.9842105263157912,
           "Продуктовый аналитик"
          ],
          [
           1.3921052631578883,
           "Продуктовый аналитик"
          ],
          [
           1.3921052631578883,
           "Продуктовый аналитик"
          ],
          [
           6.918421052631574,
           "Продуктовый аналитик"
          ],
          [
           3.7605263157894706,
           "Продуктовый аналитик"
          ],
          [
           1.5894736842105224,
           "Продуктовый аналитик"
          ],
          [
           1.9842105263157912,
           "Продуктовый аналитик"
          ],
          [
           4.944736842105262,
           "Продуктовый аналитик"
          ],
          [
           1.5894736842105224,
           "Продуктовый аналитик"
          ],
          [
           1.1947368421052684,
           "Продуктовый аналитик"
          ],
          [
           1.7868421052631567,
           "Продуктовый аналитик"
          ],
          [
           2.9710526315789476,
           "Продуктовый аналитик"
          ],
          [
           1.9842105263157912,
           "Продуктовый аналитик"
          ],
          [
           1.7868421052631567,
           "Продуктовый аналитик"
          ],
          [
           1.3921052631578883,
           "Продуктовый аналитик"
          ],
          [
           1.1947368421052684,
           "Продуктовый аналитик"
          ],
          [
           1.1947368421052684,
           "Продуктовый аналитик"
          ],
          [
           0.9973684210526342,
           "Продуктовый аналитик"
          ],
          [
           0.9973684210526342,
           "Продуктовый аналитик"
          ],
          [
           0.9973684210526342,
           "Продуктовый аналитик"
          ],
          [
           0.9973684210526342,
           "Продуктовый аналитик"
          ],
          [
           0.8,
           "Продуктовый аналитик"
          ]
         ],
         "hovertemplate": "<b>%{hovertext}</b><br><br><extra></extra>",
         "hovertext": [
          "Бизнес-анализ",
          "Аналитическое мышление",
          "Английский",
          "SQL",
          "MS Excel",
          "Анализ данных",
          "Работа с большим объемом информации",
          "Power BI",
          "Сбор и анализ информации",
          "Анализ рынка",
          "MS SQL",
          "Python",
          "Математическая статистика",
          "Математический анализ",
          "Hadoop",
          "Базы данных",
          "PostgreSQL",
          "ClickHouse",
          "A/B тесты",
          "Аналитические исследования",
          "Работа с базами данных",
          "BI",
          "Tableau",
          "Конкурентная аналитика",
          "Визуализация данных",
          "ETL",
          "Продуктовая аналитика",
          "Google Analytics",
          "Управление продуктом",
          "Firebase",
          "R",
          "Яндекс.Метрика",
          "Анализ инвестиционных проектов",
          "Amplitude",
          "Appsflyer",
          "Проведение презентаций",
          "SaaS"
         ],
         "legendgroup": "Продуктовый аналитик",
         "marker": {
          "color": "#2ED9FF",
          "line": {
           "color": "DarkSlateGrey",
           "width": 0.5
          },
          "opacity": 0.7,
          "size": [
           1.3921052631578883,
           10.47105263157895,
           5.53684210526315,
           15.8,
           1.5894736842105224,
           10.865789473684202,
           1.9842105263157912,
           4.944736842105262,
           1.1947368421052684,
           2.378947368421045,
           2.378947368421045,
           12.44473684210526,
           7.1157894736842096,
           1.5894736842105224,
           1.1947368421052684,
           1.9842105263157912,
           1.3921052631578883,
           1.3921052631578883,
           6.918421052631574,
           3.7605263157894706,
           1.5894736842105224,
           1.9842105263157912,
           4.944736842105262,
           1.5894736842105224,
           1.1947368421052684,
           1.7868421052631567,
           2.9710526315789476,
           1.9842105263157912,
           1.7868421052631567,
           1.3921052631578883,
           1.1947368421052684,
           1.1947368421052684,
           0.9973684210526342,
           0.9973684210526342,
           0.9973684210526342,
           0.9973684210526342,
           0.8
          ],
          "sizemode": "area",
          "sizeref": 0.0395,
          "symbol": "circle"
         },
         "mode": "markers",
         "name": "Продуктовый аналитик",
         "orientation": "v",
         "showlegend": true,
         "type": "scatter",
         "x": [
          -8.991264,
          -5.265017,
          -2.140256,
          -0.05774284,
          -6.0270624,
          -3.5074766,
          -1.6685798,
          -3.6719744,
          -5.873111,
          -7.4209285,
          -0.33927864,
          1.6836092,
          -2.0435011,
          -1.4349215,
          6.385646,
          3.2809954,
          4.3188934,
          5.7675037,
          -2.7449284,
          -5.4892855,
          -1.1547692,
          -2.0221703,
          -2.6691883,
          -6.7167673,
          -2.9634051,
          7.7328157,
          -4.2084293,
          -6.043303,
          -0.6027044,
          -4.3971033,
          -1.9030405,
          -6.529036,
          -7.3282003,
          -6.519149,
          -6.6965976,
          -6.5780706,
          -4.1578703
         ],
         "xaxis": "x",
         "y": [
          -10.281999,
          -5.4454136,
          -4.295081,
          -4.2943864,
          -3.3049371,
          -5.5416393,
          -4.803078,
          -5.5977354,
          -5.8119283,
          -1.2117153,
          -4.6728945,
          -2.7131217,
          -6.035224,
          -6.1369333,
          -1.0770928,
          -2.4659755,
          -1.9530991,
          -1.6797442,
          -5.981568,
          -3.67074,
          -4.9185348,
          -5.05041,
          -5.7617435,
          -3.4594824,
          -6.8839564,
          -0.6028073,
          1.5373611,
          -2.4506657,
          -3.6587298,
          2.3242867,
          -6.5235586,
          -2.4561987,
          -0.6004729,
          -1.5726969,
          -0.8312864,
          -7.2864037,
          1.3445252
         ],
         "yaxis": "y"
        },
        {
         "customdata": [
          [
           1.8227272727272714,
           "Аналитик BI"
          ],
          [
           10.686363636363643,
           "Аналитик BI"
          ],
          [
           0.8,
           "Аналитик BI"
          ],
          [
           7.959090909090914,
           "Аналитик BI"
          ],
          [
           15.8,
           "Аналитик BI"
          ],
          [
           1.1409090909091,
           "Аналитик BI"
          ],
          [
           1.1409090909091,
           "Аналитик BI"
          ],
          [
           2.845454545454543,
           "Аналитик BI"
          ],
          [
           6.936363636363643,
           "Аналитик BI"
          ],
          [
           0.8,
           "Аналитик BI"
          ],
          [
           2.5045454545454566,
           "Аналитик BI"
          ],
          [
           4.209090909090914,
           "Аналитик BI"
          ],
          [
           1.1409090909091,
           "Аналитик BI"
          ],
          [
           8.640909090909101,
           "Аналитик BI"
          ],
          [
           2.1636363636363716,
           "Аналитик BI"
          ],
          [
           2.1636363636363716,
           "Аналитик BI"
          ],
          [
           4.209090909090914,
           "Аналитик BI"
          ],
          [
           1.1409090909091,
           "Аналитик BI"
          ],
          [
           2.5045454545454566,
           "Аналитик BI"
          ],
          [
           4.209090909090914,
           "Аналитик BI"
          ],
          [
           1.1409090909091,
           "Аналитик BI"
          ],
          [
           1.8227272727272714,
           "Аналитик BI"
          ],
          [
           0.8,
           "Аналитик BI"
          ],
          [
           8.981818181818188,
           "Аналитик BI"
          ],
          [
           5.572727272727271,
           "Аналитик BI"
          ],
          [
           1.4818181818181857,
           "Аналитик BI"
          ],
          [
           3.1863636363636427,
           "Аналитик BI"
          ],
          [
           2.5045454545454566,
           "Аналитик BI"
          ],
          [
           1.8227272727272714,
           "Аналитик BI"
          ],
          [
           1.4818181818181857,
           "Аналитик BI"
          ],
          [
           1.4818181818181857,
           "Аналитик BI"
          ],
          [
           1.1409090909091,
           "Аналитик BI"
          ],
          [
           1.1409090909091,
           "Аналитик BI"
          ],
          [
           1.1409090909091,
           "Аналитик BI"
          ],
          [
           1.1409090909091,
           "Аналитик BI"
          ],
          [
           0.8,
           "Аналитик BI"
          ],
          [
           0.8,
           "Аналитик BI"
          ]
         ],
         "hovertemplate": "<b>%{hovertext}</b><br><br><extra></extra>",
         "hovertext": [
          "Бизнес-анализ",
          "Аналитическое мышление",
          "BPMN",
          "Английский",
          "SQL",
          "Деловая коммуникация",
          "UML",
          "MS Excel",
          "Анализ данных",
          "Системное мышление",
          "MS PowerPoint",
          "Работа с большим объемом информации",
          "Работа в условиях многозадачности",
          "Power BI",
          "Анализ рынка",
          "MS SQL",
          "Python",
          "Подготовка презентаций",
          "Математическая статистика",
          "Базы данных",
          "PostgreSQL",
          "Аналитические исследования",
          "Работа с базами данных",
          "BI",
          "Tableau",
          "Scrum",
          "Qlik Sense",
          "DWH",
          "Визуализация данных",
          "SAP",
          "OLAP",
          "XML",
          "Отчетность",
          "Greenplum",
          "REST",
          "Внимательность",
          "Apache NiFi"
         ],
         "legendgroup": "Аналитик BI",
         "marker": {
          "color": "#B10DA1",
          "line": {
           "color": "DarkSlateGrey",
           "width": 0.5
          },
          "opacity": 0.7,
          "size": [
           1.8227272727272714,
           10.686363636363643,
           0.8,
           7.959090909090914,
           15.8,
           1.1409090909091,
           1.1409090909091,
           2.845454545454543,
           6.936363636363643,
           0.8,
           2.5045454545454566,
           4.209090909090914,
           1.1409090909091,
           8.640909090909101,
           2.1636363636363716,
           2.1636363636363716,
           4.209090909090914,
           1.1409090909091,
           2.5045454545454566,
           4.209090909090914,
           1.1409090909091,
           1.8227272727272714,
           0.8,
           8.981818181818188,
           5.572727272727271,
           1.4818181818181857,
           3.1863636363636427,
           2.5045454545454566,
           1.8227272727272714,
           1.4818181818181857,
           1.4818181818181857,
           1.1409090909091,
           1.1409090909091,
           1.1409090909091,
           1.1409090909091,
           0.8,
           0.8
          ],
          "sizemode": "area",
          "sizeref": 0.0395,
          "symbol": "circle"
         },
         "mode": "markers",
         "name": "Аналитик BI",
         "orientation": "v",
         "showlegend": true,
         "type": "scatter",
         "x": [
          -8.991264,
          -5.265017,
          -10.234135,
          -2.140256,
          -0.05774284,
          -7.0083,
          -10.700415,
          -6.0270624,
          -3.5074766,
          -8.084131,
          -6.567785,
          -1.6685798,
          -6.0212708,
          -3.6719744,
          -7.4209285,
          -0.33927864,
          1.6836092,
          -6.523355,
          -2.0435011,
          3.2809954,
          4.3188934,
          -5.4892855,
          -1.1547692,
          -2.0221703,
          -2.6691883,
          -8.955666,
          -2.9987462,
          7.2034025,
          -2.9634051,
          -6.7935815,
          -2.5281124,
          -12.040921,
          -3.3066132,
          7.971638,
          -11.979606,
          -3.1651378,
          5.585004
         ],
         "xaxis": "x",
         "y": [
          -10.281999,
          -5.4454136,
          -10.167551,
          -4.295081,
          -4.2943864,
          -7.6112494,
          -9.553972,
          -3.3049371,
          -5.5416393,
          -8.387487,
          -3.4022892,
          -4.803078,
          -5.178443,
          -5.5977354,
          -1.2117153,
          -4.6728945,
          -2.7131217,
          -4.1811895,
          -6.035224,
          -2.4659755,
          -1.9530991,
          -3.67074,
          -4.9185348,
          -5.05041,
          -5.7617435,
          -6.9393787,
          -5.359398,
          -1.0281209,
          -6.8839564,
          -7.095572,
          -4.379471,
          -9.827872,
          -6.502975,
          0.049513057,
          -9.813328,
          -4.7768087,
          -0.96926665
         ],
         "yaxis": "y"
        },
        {
         "customdata": [
          [
           4.242622950819676,
           "Системный аналитик"
          ],
          [
           3.627868852459007,
           "Системный аналитик"
          ],
          [
           6.025409836065573,
           "Системный аналитик"
          ],
          [
           11.558196721311472,
           "Системный аналитик"
          ],
          [
           2.7057377049180342,
           "Системный аналитик"
          ],
          [
           4.181147540983607,
           "Системный аналитик"
          ],
          [
           15.8,
           "Системный аналитик"
          ],
          [
           6.701639344262291,
           "Системный аналитик"
          ],
          [
           10.205737704918036,
           "Системный аналитик"
          ],
          [
           1.4147540983606486,
           "Системный аналитик"
          ],
          [
           0.8,
           "Системный аналитик"
          ],
          [
           1.3532786885245796,
           "Системный аналитик"
          ],
          [
           1.8450819672131105,
           "Системный аналитик"
          ],
          [
           0.8614754098360489,
           "Системный аналитик"
          ],
          [
           12.295901639344258,
           "Системный аналитик"
          ],
          [
           3.1975409836065447,
           "Системный аналитик"
          ],
          [
           1.5377049180327864,
           "Системный аналитик"
          ],
          [
           3.9352459016393313,
           "Системный аналитик"
          ],
          [
           1.5377049180327864,
           "Системный аналитик"
          ],
          [
           2.2139344262295033,
           "Системный аналитик"
          ],
          [
           0.8614754098360489,
           "Системный аналитик"
          ],
          [
           0.8,
           "Системный аналитик"
          ],
          [
           2.0909836065573657,
           "Системный аналитик"
          ],
          [
           1.599180327868835,
           "Системный аналитик"
          ],
          [
           1.230327868852442,
           "Системный аналитик"
          ],
          [
           0.9844262295081865,
           "Системный аналитик"
          ],
          [
           0.9229508196721177,
           "Системный аналитик"
          ],
          [
           3.6893442622950765,
           "Системный аналитик"
          ],
          [
           1.7836065573770417,
           "Системный аналитик"
          ],
          [
           0.8,
           "Системный аналитик"
          ],
          [
           1.291803278688511,
           "Системный аналитик"
          ],
          [
           3.9967213114754,
           "Системный аналитик"
          ],
          [
           6.947540983606546,
           "Системный аналитик"
          ],
          [
           1.3532786885245796,
           "Системный аналитик"
          ],
          [
           3.7508196721311453,
           "Системный аналитик"
          ],
          [
           3.504918032786869,
           "Системный аналитик"
          ],
          [
           2.459836065573759,
           "Системный аналитик"
          ]
         ],
         "hovertemplate": "<b>%{hovertext}</b><br><br><extra></extra>",
         "hovertext": [
          "Бизнес-анализ",
          "Моделирование бизнес процессов",
          "Аналитическое мышление",
          "BPMN",
          "1С: Предприятие 8",
          "Английский",
          "SQL",
          "Разработка технических заданий",
          "UML",
          "MS Visio",
          "Управление проектами",
          "Анализ данных",
          "Системное мышление",
          "Работа в команде",
          "Системный анализ",
          "Atlassian Jira",
          "Работа с большим объемом информации",
          "Постановка задач разработчикам",
          "Agile",
          "Atlassian Confluence",
          "Сбор и анализ информации",
          "IDEF",
          "MS SQL",
          "Техническая документация",
          "Python",
          "ERP",
          "Hadoop",
          "Базы данных",
          "PostgreSQL",
          "Kafka",
          "DWH",
          "XML",
          "REST",
          "ETL",
          "SOAP",
          "JSON API",
          "API"
         ],
         "legendgroup": "Системный аналитик",
         "marker": {
          "color": "#909090",
          "line": {
           "color": "DarkSlateGrey",
           "width": 0.5
          },
          "opacity": 0.7,
          "size": [
           4.242622950819676,
           3.627868852459007,
           6.025409836065573,
           11.558196721311472,
           2.7057377049180342,
           4.181147540983607,
           15.8,
           6.701639344262291,
           10.205737704918036,
           1.4147540983606486,
           0.8,
           1.3532786885245796,
           1.8450819672131105,
           0.8614754098360489,
           12.295901639344258,
           3.1975409836065447,
           1.5377049180327864,
           3.9352459016393313,
           1.5377049180327864,
           2.2139344262295033,
           0.8614754098360489,
           0.8,
           2.0909836065573657,
           1.599180327868835,
           1.230327868852442,
           0.9844262295081865,
           0.9229508196721177,
           3.6893442622950765,
           1.7836065573770417,
           0.8,
           1.291803278688511,
           3.9967213114754,
           6.947540983606546,
           1.3532786885245796,
           3.7508196721311453,
           3.504918032786869,
           2.459836065573759
          ],
          "sizemode": "area",
          "sizeref": 0.0395,
          "symbol": "circle"
         },
         "mode": "markers",
         "name": "Системный аналитик",
         "orientation": "v",
         "showlegend": true,
         "type": "scatter",
         "x": [
          -8.991264,
          -8.479693,
          -5.265017,
          -10.234135,
          -7.058705,
          -2.140256,
          -0.05774284,
          -9.255919,
          -10.700415,
          -9.361388,
          -7.9144473,
          -3.5074766,
          -8.084131,
          -5.7154617,
          -11.400766,
          -9.703421,
          -1.6685798,
          -10.088869,
          -9.322205,
          -9.778784,
          -5.873111,
          -9.542697,
          -0.33927864,
          -8.701551,
          1.6836092,
          -9.036478,
          6.385646,
          3.2809954,
          4.3188934,
          7.512572,
          7.2034025,
          -12.040921,
          -11.979606,
          7.7328157,
          -12.365681,
          -12.065546,
          -10.558067
         ],
         "xaxis": "x",
         "y": [
          -10.281999,
          -9.842511,
          -5.4454136,
          -10.167551,
          -6.467622,
          -4.295081,
          -4.2943864,
          -9.083643,
          -9.553972,
          -10.499088,
          -7.877371,
          -5.5416393,
          -8.387487,
          -6.793357,
          -9.369058,
          -8.449049,
          -4.803078,
          -9.045263,
          -7.993529,
          -9.267909,
          -5.8119283,
          -10.411259,
          -4.6728945,
          -8.2176485,
          -2.7131217,
          -8.8358135,
          -1.0770928,
          -2.4659755,
          -1.9530991,
          0.36771598,
          -1.0281209,
          -9.827872,
          -9.813328,
          -0.6028073,
          -9.91124,
          -9.855654,
          -8.134351
         ],
         "yaxis": "y"
        }
       ],
       "layout": {
        "height": 600,
        "legend": {
         "itemsizing": "constant",
         "title": {
          "text": "Профессия"
         },
         "tracegroupgap": 0
        },
        "margin": {
         "t": 60
        },
        "template": {
         "data": {
          "bar": [
           {
            "error_x": {
             "color": "#2a3f5f"
            },
            "error_y": {
             "color": "#2a3f5f"
            },
            "marker": {
             "line": {
              "color": "#E5ECF6",
              "width": 0.5
             },
             "pattern": {
              "fillmode": "overlay",
              "size": 10,
              "solidity": 0.2
             }
            },
            "type": "bar"
           }
          ],
          "barpolar": [
           {
            "marker": {
             "line": {
              "color": "#E5ECF6",
              "width": 0.5
             },
             "pattern": {
              "fillmode": "overlay",
              "size": 10,
              "solidity": 0.2
             }
            },
            "type": "barpolar"
           }
          ],
          "carpet": [
           {
            "aaxis": {
             "endlinecolor": "#2a3f5f",
             "gridcolor": "white",
             "linecolor": "white",
             "minorgridcolor": "white",
             "startlinecolor": "#2a3f5f"
            },
            "baxis": {
             "endlinecolor": "#2a3f5f",
             "gridcolor": "white",
             "linecolor": "white",
             "minorgridcolor": "white",
             "startlinecolor": "#2a3f5f"
            },
            "type": "carpet"
           }
          ],
          "choropleth": [
           {
            "colorbar": {
             "outlinewidth": 0,
             "ticks": ""
            },
            "type": "choropleth"
           }
          ],
          "contour": [
           {
            "colorbar": {
             "outlinewidth": 0,
             "ticks": ""
            },
            "colorscale": [
             [
              0,
              "#0d0887"
             ],
             [
              0.1111111111111111,
              "#46039f"
             ],
             [
              0.2222222222222222,
              "#7201a8"
             ],
             [
              0.3333333333333333,
              "#9c179e"
             ],
             [
              0.4444444444444444,
              "#bd3786"
             ],
             [
              0.5555555555555556,
              "#d8576b"
             ],
             [
              0.6666666666666666,
              "#ed7953"
             ],
             [
              0.7777777777777778,
              "#fb9f3a"
             ],
             [
              0.8888888888888888,
              "#fdca26"
             ],
             [
              1,
              "#f0f921"
             ]
            ],
            "type": "contour"
           }
          ],
          "contourcarpet": [
           {
            "colorbar": {
             "outlinewidth": 0,
             "ticks": ""
            },
            "type": "contourcarpet"
           }
          ],
          "heatmap": [
           {
            "colorbar": {
             "outlinewidth": 0,
             "ticks": ""
            },
            "colorscale": [
             [
              0,
              "#0d0887"
             ],
             [
              0.1111111111111111,
              "#46039f"
             ],
             [
              0.2222222222222222,
              "#7201a8"
             ],
             [
              0.3333333333333333,
              "#9c179e"
             ],
             [
              0.4444444444444444,
              "#bd3786"
             ],
             [
              0.5555555555555556,
              "#d8576b"
             ],
             [
              0.6666666666666666,
              "#ed7953"
             ],
             [
              0.7777777777777778,
              "#fb9f3a"
             ],
             [
              0.8888888888888888,
              "#fdca26"
             ],
             [
              1,
              "#f0f921"
             ]
            ],
            "type": "heatmap"
           }
          ],
          "heatmapgl": [
           {
            "colorbar": {
             "outlinewidth": 0,
             "ticks": ""
            },
            "colorscale": [
             [
              0,
              "#0d0887"
             ],
             [
              0.1111111111111111,
              "#46039f"
             ],
             [
              0.2222222222222222,
              "#7201a8"
             ],
             [
              0.3333333333333333,
              "#9c179e"
             ],
             [
              0.4444444444444444,
              "#bd3786"
             ],
             [
              0.5555555555555556,
              "#d8576b"
             ],
             [
              0.6666666666666666,
              "#ed7953"
             ],
             [
              0.7777777777777778,
              "#fb9f3a"
             ],
             [
              0.8888888888888888,
              "#fdca26"
             ],
             [
              1,
              "#f0f921"
             ]
            ],
            "type": "heatmapgl"
           }
          ],
          "histogram": [
           {
            "marker": {
             "pattern": {
              "fillmode": "overlay",
              "size": 10,
              "solidity": 0.2
             }
            },
            "type": "histogram"
           }
          ],
          "histogram2d": [
           {
            "colorbar": {
             "outlinewidth": 0,
             "ticks": ""
            },
            "colorscale": [
             [
              0,
              "#0d0887"
             ],
             [
              0.1111111111111111,
              "#46039f"
             ],
             [
              0.2222222222222222,
              "#7201a8"
             ],
             [
              0.3333333333333333,
              "#9c179e"
             ],
             [
              0.4444444444444444,
              "#bd3786"
             ],
             [
              0.5555555555555556,
              "#d8576b"
             ],
             [
              0.6666666666666666,
              "#ed7953"
             ],
             [
              0.7777777777777778,
              "#fb9f3a"
             ],
             [
              0.8888888888888888,
              "#fdca26"
             ],
             [
              1,
              "#f0f921"
             ]
            ],
            "type": "histogram2d"
           }
          ],
          "histogram2dcontour": [
           {
            "colorbar": {
             "outlinewidth": 0,
             "ticks": ""
            },
            "colorscale": [
             [
              0,
              "#0d0887"
             ],
             [
              0.1111111111111111,
              "#46039f"
             ],
             [
              0.2222222222222222,
              "#7201a8"
             ],
             [
              0.3333333333333333,
              "#9c179e"
             ],
             [
              0.4444444444444444,
              "#bd3786"
             ],
             [
              0.5555555555555556,
              "#d8576b"
             ],
             [
              0.6666666666666666,
              "#ed7953"
             ],
             [
              0.7777777777777778,
              "#fb9f3a"
             ],
             [
              0.8888888888888888,
              "#fdca26"
             ],
             [
              1,
              "#f0f921"
             ]
            ],
            "type": "histogram2dcontour"
           }
          ],
          "mesh3d": [
           {
            "colorbar": {
             "outlinewidth": 0,
             "ticks": ""
            },
            "type": "mesh3d"
           }
          ],
          "parcoords": [
           {
            "line": {
             "colorbar": {
              "outlinewidth": 0,
              "ticks": ""
             }
            },
            "type": "parcoords"
           }
          ],
          "pie": [
           {
            "automargin": true,
            "type": "pie"
           }
          ],
          "scatter": [
           {
            "fillpattern": {
             "fillmode": "overlay",
             "size": 10,
             "solidity": 0.2
            },
            "type": "scatter"
           }
          ],
          "scatter3d": [
           {
            "line": {
             "colorbar": {
              "outlinewidth": 0,
              "ticks": ""
             }
            },
            "marker": {
             "colorbar": {
              "outlinewidth": 0,
              "ticks": ""
             }
            },
            "type": "scatter3d"
           }
          ],
          "scattercarpet": [
           {
            "marker": {
             "colorbar": {
              "outlinewidth": 0,
              "ticks": ""
             }
            },
            "type": "scattercarpet"
           }
          ],
          "scattergeo": [
           {
            "marker": {
             "colorbar": {
              "outlinewidth": 0,
              "ticks": ""
             }
            },
            "type": "scattergeo"
           }
          ],
          "scattergl": [
           {
            "marker": {
             "colorbar": {
              "outlinewidth": 0,
              "ticks": ""
             }
            },
            "type": "scattergl"
           }
          ],
          "scattermapbox": [
           {
            "marker": {
             "colorbar": {
              "outlinewidth": 0,
              "ticks": ""
             }
            },
            "type": "scattermapbox"
           }
          ],
          "scatterpolar": [
           {
            "marker": {
             "colorbar": {
              "outlinewidth": 0,
              "ticks": ""
             }
            },
            "type": "scatterpolar"
           }
          ],
          "scatterpolargl": [
           {
            "marker": {
             "colorbar": {
              "outlinewidth": 0,
              "ticks": ""
             }
            },
            "type": "scatterpolargl"
           }
          ],
          "scatterternary": [
           {
            "marker": {
             "colorbar": {
              "outlinewidth": 0,
              "ticks": ""
             }
            },
            "type": "scatterternary"
           }
          ],
          "surface": [
           {
            "colorbar": {
             "outlinewidth": 0,
             "ticks": ""
            },
            "colorscale": [
             [
              0,
              "#0d0887"
             ],
             [
              0.1111111111111111,
              "#46039f"
             ],
             [
              0.2222222222222222,
              "#7201a8"
             ],
             [
              0.3333333333333333,
              "#9c179e"
             ],
             [
              0.4444444444444444,
              "#bd3786"
             ],
             [
              0.5555555555555556,
              "#d8576b"
             ],
             [
              0.6666666666666666,
              "#ed7953"
             ],
             [
              0.7777777777777778,
              "#fb9f3a"
             ],
             [
              0.8888888888888888,
              "#fdca26"
             ],
             [
              1,
              "#f0f921"
             ]
            ],
            "type": "surface"
           }
          ],
          "table": [
           {
            "cells": {
             "fill": {
              "color": "#EBF0F8"
             },
             "line": {
              "color": "white"
             }
            },
            "header": {
             "fill": {
              "color": "#C8D4E3"
             },
             "line": {
              "color": "white"
             }
            },
            "type": "table"
           }
          ]
         },
         "layout": {
          "annotationdefaults": {
           "arrowcolor": "#2a3f5f",
           "arrowhead": 0,
           "arrowwidth": 1
          },
          "autotypenumbers": "strict",
          "coloraxis": {
           "colorbar": {
            "outlinewidth": 0,
            "ticks": ""
           }
          },
          "colorscale": {
           "diverging": [
            [
             0,
             "#8e0152"
            ],
            [
             0.1,
             "#c51b7d"
            ],
            [
             0.2,
             "#de77ae"
            ],
            [
             0.3,
             "#f1b6da"
            ],
            [
             0.4,
             "#fde0ef"
            ],
            [
             0.5,
             "#f7f7f7"
            ],
            [
             0.6,
             "#e6f5d0"
            ],
            [
             0.7,
             "#b8e186"
            ],
            [
             0.8,
             "#7fbc41"
            ],
            [
             0.9,
             "#4d9221"
            ],
            [
             1,
             "#276419"
            ]
           ],
           "sequential": [
            [
             0,
             "#0d0887"
            ],
            [
             0.1111111111111111,
             "#46039f"
            ],
            [
             0.2222222222222222,
             "#7201a8"
            ],
            [
             0.3333333333333333,
             "#9c179e"
            ],
            [
             0.4444444444444444,
             "#bd3786"
            ],
            [
             0.5555555555555556,
             "#d8576b"
            ],
            [
             0.6666666666666666,
             "#ed7953"
            ],
            [
             0.7777777777777778,
             "#fb9f3a"
            ],
            [
             0.8888888888888888,
             "#fdca26"
            ],
            [
             1,
             "#f0f921"
            ]
           ],
           "sequentialminus": [
            [
             0,
             "#0d0887"
            ],
            [
             0.1111111111111111,
             "#46039f"
            ],
            [
             0.2222222222222222,
             "#7201a8"
            ],
            [
             0.3333333333333333,
             "#9c179e"
            ],
            [
             0.4444444444444444,
             "#bd3786"
            ],
            [
             0.5555555555555556,
             "#d8576b"
            ],
            [
             0.6666666666666666,
             "#ed7953"
            ],
            [
             0.7777777777777778,
             "#fb9f3a"
            ],
            [
             0.8888888888888888,
             "#fdca26"
            ],
            [
             1,
             "#f0f921"
            ]
           ]
          },
          "colorway": [
           "#636efa",
           "#EF553B",
           "#00cc96",
           "#ab63fa",
           "#FFA15A",
           "#19d3f3",
           "#FF6692",
           "#B6E880",
           "#FF97FF",
           "#FECB52"
          ],
          "font": {
           "color": "#2a3f5f"
          },
          "geo": {
           "bgcolor": "white",
           "lakecolor": "white",
           "landcolor": "#E5ECF6",
           "showlakes": true,
           "showland": true,
           "subunitcolor": "white"
          },
          "hoverlabel": {
           "align": "left"
          },
          "hovermode": "closest",
          "mapbox": {
           "style": "light"
          },
          "paper_bgcolor": "white",
          "plot_bgcolor": "#E5ECF6",
          "polar": {
           "angularaxis": {
            "gridcolor": "white",
            "linecolor": "white",
            "ticks": ""
           },
           "bgcolor": "#E5ECF6",
           "radialaxis": {
            "gridcolor": "white",
            "linecolor": "white",
            "ticks": ""
           }
          },
          "scene": {
           "xaxis": {
            "backgroundcolor": "#E5ECF6",
            "gridcolor": "white",
            "gridwidth": 2,
            "linecolor": "white",
            "showbackground": true,
            "ticks": "",
            "zerolinecolor": "white"
           },
           "yaxis": {
            "backgroundcolor": "#E5ECF6",
            "gridcolor": "white",
            "gridwidth": 2,
            "linecolor": "white",
            "showbackground": true,
            "ticks": "",
            "zerolinecolor": "white"
           },
           "zaxis": {
            "backgroundcolor": "#E5ECF6",
            "gridcolor": "white",
            "gridwidth": 2,
            "linecolor": "white",
            "showbackground": true,
            "ticks": "",
            "zerolinecolor": "white"
           }
          },
          "shapedefaults": {
           "line": {
            "color": "#2a3f5f"
           }
          },
          "ternary": {
           "aaxis": {
            "gridcolor": "white",
            "linecolor": "white",
            "ticks": ""
           },
           "baxis": {
            "gridcolor": "white",
            "linecolor": "white",
            "ticks": ""
           },
           "bgcolor": "#E5ECF6",
           "caxis": {
            "gridcolor": "white",
            "linecolor": "white",
            "ticks": ""
           }
          },
          "title": {
           "x": 0.05
          },
          "xaxis": {
           "automargin": true,
           "gridcolor": "white",
           "linecolor": "white",
           "ticks": "",
           "title": {
            "standoff": 15
           },
           "zerolinecolor": "white",
           "zerolinewidth": 2
          },
          "yaxis": {
           "automargin": true,
           "gridcolor": "white",
           "linecolor": "white",
           "ticks": "",
           "title": {
            "standoff": 15
           },
           "zerolinecolor": "white",
           "zerolinewidth": 2
          }
         }
        },
        "width": 1000,
        "xaxis": {
         "anchor": "y",
         "domain": [
          0,
          1
         ],
         "title": {
          "text": "x"
         },
         "visible": false
        },
        "yaxis": {
         "anchor": "x",
         "domain": [
          0,
          1
         ],
         "title": {
          "text": "y"
         },
         "visible": false
        }
       }
      }
     },
     "metadata": {},
     "output_type": "display_data"
    }
   ],
   "source": [
    "# оптимизация\n",
    "k = 50\n",
    "best_norm_type = ''\n",
    "best_alg_type = ''\n",
    "best_top_n_skill_per_profession = -1\n",
    "best_mean_reciprocal_rank = 0\n",
    "best_dim = 0\n",
    "best_use_tsne = False\n",
    "stat = []\n",
    "for norm_type in ['none', 'skill', 'prof', 'bm', 'tfidf']:\n",
    "    for alg_type, dim, use_tsne in \\\n",
    "        [('tsne', 5, True),\n",
    "         ('als', 5, True),\n",
    "         ('svd', 5, True),\n",
    "         ('svd', 2, False),\n",
    "         ('pca', 5, True),\n",
    "         ('pca', 2, False),\n",
    "         ('sim_euclid', 5, True),\n",
    "         ('sim_cos', 5, True),\n",
    "         ('umap', 5, True),\n",
    "         ('umap', 2, False), ]:\n",
    "\n",
    "        for top_n_skill_per_profession in range(20, 51, 1):\n",
    "            df, _ = prepare_plot_df(skill_df, matrix, skill_index_to_corrected,\n",
    "                                    prof_index_to_prof_name, \n",
    "                                    top_n_skill_per_profession=top_n_skill_per_profession,\n",
    "                                    norm_type=norm_type,\n",
    "                                    factor_alg_type=alg_type)\n",
    "            mrr, pairs_count = get_mean_reciprocal_rank(df, skill_pairs)\n",
    "\n",
    "            print()\n",
    "            print(norm_type, alg_type, dim, use_tsne, top_n_skill_per_profession)\n",
    "            print(f'mrr = {mrr}, pairs_count = {pairs_count}')\n",
    "            stat.append((norm_type, alg_type, dim, use_tsne, top_n_skill_per_profession, mrr, pairs_count))\n",
    "\n",
    "            if pairs_count > k and mrr > best_mean_reciprocal_rank:\n",
    "                best_mean_reciprocal_rank = mrr\n",
    "                best_norm_type = norm_type\n",
    "                best_alg_type = alg_type\n",
    "                best_top_n_skill_per_profession = top_n_skill_per_profession\n",
    "                best_dim = dim\n",
    "                best_use_tsne = use_tsne\n",
    "\n",
    "print()\n",
    "print('best_mean_reciprocal_rank =', best_mean_reciprocal_rank)\n",
    "print('best_norm_type =', best_norm_type)\n",
    "print('best_alg_type =', best_alg_type)\n",
    "print('best_dim =', best_dim)\n",
    "print('best_use_tsne =', best_use_tsne)\n",
    "print('best_top_n_skill_per_profession =', best_top_n_skill_per_profession)\n",
    "\n",
    "df, _ = prepare_plot_df(skill_df, matrix, skill_index_to_corrected,\n",
    "                                    prof_index_to_prof_name, \n",
    "                                    top_n_skill_per_profession=best_top_n_skill_per_profession,\n",
    "                                    norm_type=best_norm_type,\n",
    "                                    factor_alg_type=best_alg_type,\n",
    "                                    dim=best_dim,\n",
    "                                    use_tsne=best_use_tsne)\n",
    "\n",
    "plot_skill_map(df).show()\n",
    "\n",
    "##!!! Возможно нужно иметь топ-н алгоритмов, потому что есть алгоритмы с одинаковой метрикой или близкой..."
   ]
  },
  {
   "cell_type": "code",
   "execution_count": null,
   "metadata": {},
   "outputs": [],
   "source": []
  },
  {
   "cell_type": "code",
   "execution_count": 19,
   "metadata": {},
   "outputs": [],
   "source": [
    "# Сравнить построение графика\n",
    "\n",
    "# norm_type skill это плохо?\n",
    "\n",
    "# очень интересно про косинусное растояние"
   ]
  },
  {
   "cell_type": "code",
   "execution_count": null,
   "metadata": {},
   "outputs": [],
   "source": []
  },
  {
   "cell_type": "code",
   "execution_count": 20,
   "metadata": {},
   "outputs": [],
   "source": [
    "# plot_skill_map(df_plot_skill).show()"
   ]
  },
  {
   "cell_type": "code",
   "execution_count": 21,
   "metadata": {},
   "outputs": [
    {
     "data": {
      "application/vnd.plotly.v1+json": {
       "config": {
        "plotlyServerURL": "https://plot.ly"
       },
       "data": [
        {
         "customdata": [
          [
           1.9290322580645267,
           "Data Scientist"
          ],
          [
           6.243548387096786,
           "Data Scientist"
          ],
          [
           10.235483870967743,
           "Data Scientist"
          ],
          [
           1.0822580645161317,
           "Data Scientist"
          ],
          [
           4.26774193548388,
           "Data Scientist"
          ],
          [
           0.8,
           "Data Scientist"
          ],
          [
           3.4209677419354847,
           "Data Scientist"
          ],
          [
           0.9612903225806446,
           "Data Scientist"
          ],
          [
           0.8806451612903297,
           "Data Scientist"
          ],
          [
           1.525806451612908,
           "Data Scientist"
          ],
          [
           15.8,
           "Data Scientist"
          ],
          [
           13.46129032258065,
           "Data Scientist"
          ],
          [
           5.396774193548391,
           "Data Scientist"
          ],
          [
           5.195161290322589,
           "Data Scientist"
          ],
          [
           3.0177419354838806,
           "Data Scientist"
          ],
          [
           2.8161290322580648,
           "Data Scientist"
          ],
          [
           2.8161290322580648,
           "Data Scientist"
          ],
          [
           2.6145161290322623,
           "Data Scientist"
          ],
          [
           2.372580645161303,
           "Data Scientist"
          ],
          [
           2.0903225806451715,
           "Data Scientist"
          ],
          [
           2.0903225806451715,
           "Data Scientist"
          ],
          [
           2.0096774193548415,
           "Data Scientist"
          ],
          [
           1.848387096774197,
           "Data Scientist"
          ],
          [
           1.767741935483882,
           "Data Scientist"
          ],
          [
           1.7274193548387098,
           "Data Scientist"
          ],
          [
           1.6870967741935523,
           "Data Scientist"
          ],
          [
           1.646774193548395,
           "Data Scientist"
          ],
          [
           1.5661290322580652,
           "Data Scientist"
          ],
          [
           1.4854838709677503,
           "Data Scientist"
          ],
          [
           1.4048387096774209,
           "Data Scientist"
          ],
          [
           0.9209677419354871,
           "Data Scientist"
          ],
          [
           0.8806451612903297,
           "Data Scientist"
          ],
          [
           0.8806451612903297,
           "Data Scientist"
          ],
          [
           0.8403225806451722,
           "Data Scientist"
          ],
          [
           0.8,
           "Data Scientist"
          ],
          [
           0.8,
           "Data Scientist"
          ],
          [
           0.8,
           "Data Scientist"
          ]
         ],
         "hovertemplate": "<b>%{hovertext}</b><br><br><extra></extra>",
         "hovertext": [
          "Аналитическое мышление",
          "Английский",
          "SQL",
          "Деловая коммуникация",
          "Анализ данных",
          "Работа в команде",
          "Работа с большим объемом информации",
          "Power BI",
          "Анализ рынка",
          "MS SQL",
          "Python",
          "Machine Learning",
          "Data Science",
          "Математическая статистика",
          "PyTorch",
          "Математический анализ",
          "Pandas",
          "Hadoop",
          "Spark",
          "Scikit-learn",
          "NLP",
          "Numpy",
          "Linux",
          "Git",
          "Docker",
          "Computer Vision",
          "Базы данных",
          "Tensorflow",
          "Deep Learning",
          "PostgreSQL",
          "Airflow",
          "ClickHouse",
          "Алгоритмы",
          "A/B тесты",
          "Java",
          "Hive",
          "Нейронные сети"
         ],
         "legendgroup": "Data Scientist",
         "marker": {
          "color": "#F8A19F",
          "line": {
           "color": "DarkSlateGrey",
           "width": 0.5
          },
          "opacity": 0.7,
          "size": [
           1.9290322580645267,
           6.243548387096786,
           10.235483870967743,
           1.0822580645161317,
           4.26774193548388,
           0.8,
           3.4209677419354847,
           0.9612903225806446,
           0.8806451612903297,
           1.525806451612908,
           15.8,
           13.46129032258065,
           5.396774193548391,
           5.195161290322589,
           3.0177419354838806,
           2.8161290322580648,
           2.8161290322580648,
           2.6145161290322623,
           2.372580645161303,
           2.0903225806451715,
           2.0903225806451715,
           2.0096774193548415,
           1.848387096774197,
           1.767741935483882,
           1.7274193548387098,
           1.6870967741935523,
           1.646774193548395,
           1.5661290322580652,
           1.4854838709677503,
           1.4048387096774209,
           0.9209677419354871,
           0.8806451612903297,
           0.8806451612903297,
           0.8403225806451722,
           0.8,
           0.8,
           0.8
          ],
          "sizemode": "area",
          "sizeref": 0.0395,
          "symbol": "circle"
         },
         "mode": "markers",
         "name": "Data Scientist",
         "orientation": "v",
         "showlegend": true,
         "type": "scatter",
         "x": [
          -5.265017,
          -2.140256,
          -0.05774284,
          -7.0083,
          -3.5074766,
          -5.7154617,
          -1.6685798,
          -3.6719744,
          -7.4209285,
          -0.33927864,
          1.6836092,
          3.3376772,
          2.6771033,
          -2.0435011,
          3.168962,
          -1.4349215,
          3.2711816,
          6.385646,
          7.029302,
          2.8612945,
          3.62124,
          3.321288,
          4.6112127,
          4.4880986,
          6.018617,
          3.995392,
          3.2809954,
          3.366811,
          3.5470293,
          4.3188934,
          8.383849,
          5.7675037,
          3.3387387,
          -2.7449284,
          6.547024,
          6.4067163,
          3.0450416
         ],
         "xaxis": "x",
         "y": [
          -5.4454136,
          -4.295081,
          -4.2943864,
          -7.6112494,
          -5.5416393,
          -6.793357,
          -4.803078,
          -5.5977354,
          -1.2117153,
          -4.6728945,
          -2.7131217,
          3.8469462,
          4.5553827,
          -6.035224,
          4.933064,
          -6.1369333,
          2.429236,
          -1.0770928,
          -0.47025442,
          4.3098006,
          4.9220967,
          2.80822,
          -1.0811611,
          0.112787835,
          0.20008722,
          4.423943,
          -2.4659755,
          5.066624,
          4.47821,
          -1.9530991,
          0.816865,
          -1.6797442,
          1.5382197,
          -5.981568,
          -0.29429314,
          -1.072747,
          5.853619
         ],
         "yaxis": "y"
        },
        {
         "customdata": [
          [
           1.8572687224669553,
           "ML инженер"
          ],
          [
           6.416740088105732,
           "ML инженер"
          ],
          [
           7.804405286343608,
           "ML инженер"
          ],
          [
           2.319823788546259,
           "ML инженер"
          ],
          [
           3.178854625550658,
           "ML инженер"
          ],
          [
           0.9321585903083651,
           "ML инженер"
          ],
          [
           15.8,
           "ML инженер"
          ],
          [
           13.685462555066072,
           "ML инженер"
          ],
          [
           1.989427312775338,
           "ML инженер"
          ],
          [
           2.253744493392068,
           "ML инженер"
          ],
          [
           3.377092511013214,
           "ML инженер"
          ],
          [
           0.8660792951541914,
           "ML инженер"
          ],
          [
           1.1964757709251126,
           "ML инженер"
          ],
          [
           2.5841409691629886,
           "ML инженер"
          ],
          [
           2.5180616740088153,
           "ML инженер"
          ],
          [
           0.9321585903083651,
           "ML инженер"
          ],
          [
           1.5268722466960338,
           "ML инженер"
          ],
          [
           1.394713656387669,
           "ML инженер"
          ],
          [
           3.311013215859023,
           "ML инженер"
          ],
          [
           2.5841409691629886,
           "ML инженер"
          ],
          [
           2.5841409691629886,
           "ML инженер"
          ],
          [
           1.1303964757709215,
           "ML инженер"
          ],
          [
           1.3286343612334777,
           "ML инженер"
          ],
          [
           1.8572687224669553,
           "ML инженер"
          ],
          [
           1.7911894273127817,
           "ML инженер"
          ],
          [
           2.914537444933928,
           "ML инженер"
          ],
          [
           0.8660792951541914,
           "ML инженер"
          ],
          [
           1.1303964757709215,
           "ML инженер"
          ],
          [
           1.2625550660793037,
           "ML инженер"
          ],
          [
           1.5268722466960338,
           "ML инженер"
          ],
          [
           0.9321585903083651,
           "ML инженер"
          ],
          [
           2.0555066079295115,
           "ML инженер"
          ],
          [
           1.1964757709251126,
           "ML инженер"
          ],
          [
           1.2625550660793037,
           "ML инженер"
          ],
          [
           2.914537444933928,
           "ML инженер"
          ],
          [
           1.1303964757709215,
           "ML инженер"
          ],
          [
           0.8,
           "ML инженер"
          ]
         ],
         "hovertemplate": "<b>%{hovertext}</b><br><br><extra></extra>",
         "hovertext": [
          "Аналитическое мышление",
          "Английский",
          "SQL",
          "Анализ данных",
          "Работа с большим объемом информации",
          "Грамотная речь",
          "Python",
          "Machine Learning",
          "Data Science",
          "Математическая статистика",
          "PyTorch",
          "Математический анализ",
          "Pandas",
          "Hadoop",
          "Spark",
          "Scikit-learn",
          "NLP",
          "Numpy",
          "Linux",
          "Git",
          "Docker",
          "Computer Vision",
          "Базы данных",
          "Tensorflow",
          "Deep Learning",
          "PostgreSQL",
          "Airflow",
          "ClickHouse",
          "Алгоритмы",
          "Java",
          "Нейронные сети",
          "C++",
          "Kafka",
          "DWH",
          "ETL",
          "Kubernetes",
          "Adobe Photoshop"
         ],
         "legendgroup": "ML инженер",
         "marker": {
          "color": "#AA0DFE",
          "line": {
           "color": "DarkSlateGrey",
           "width": 0.5
          },
          "opacity": 0.7,
          "size": [
           1.8572687224669553,
           6.416740088105732,
           7.804405286343608,
           2.319823788546259,
           3.178854625550658,
           0.9321585903083651,
           15.8,
           13.685462555066072,
           1.989427312775338,
           2.253744493392068,
           3.377092511013214,
           0.8660792951541914,
           1.1964757709251126,
           2.5841409691629886,
           2.5180616740088153,
           0.9321585903083651,
           1.5268722466960338,
           1.394713656387669,
           3.311013215859023,
           2.5841409691629886,
           2.5841409691629886,
           1.1303964757709215,
           1.3286343612334777,
           1.8572687224669553,
           1.7911894273127817,
           2.914537444933928,
           0.8660792951541914,
           1.1303964757709215,
           1.2625550660793037,
           1.5268722466960338,
           0.9321585903083651,
           2.0555066079295115,
           1.1964757709251126,
           1.2625550660793037,
           2.914537444933928,
           1.1303964757709215,
           0.8
          ],
          "sizemode": "area",
          "sizeref": 0.0395,
          "symbol": "circle"
         },
         "mode": "markers",
         "name": "ML инженер",
         "orientation": "v",
         "showlegend": true,
         "type": "scatter",
         "x": [
          -5.265017,
          -2.140256,
          -0.05774284,
          -3.5074766,
          -1.6685798,
          -5.7004557,
          1.6836092,
          3.3376772,
          2.6771033,
          -2.0435011,
          3.168962,
          -1.4349215,
          3.2711816,
          6.385646,
          7.029302,
          2.8612945,
          3.62124,
          3.321288,
          4.6112127,
          4.4880986,
          6.018617,
          3.995392,
          3.2809954,
          3.366811,
          3.5470293,
          4.3188934,
          8.383849,
          5.7675037,
          3.3387387,
          6.547024,
          3.0450416,
          4.2892647,
          7.512572,
          7.2034025,
          7.7328157,
          6.893841,
          4.452259
         ],
         "xaxis": "x",
         "y": [
          -5.4454136,
          -4.295081,
          -4.2943864,
          -5.5416393,
          -4.803078,
          -5.0149035,
          -2.7131217,
          3.8469462,
          4.5553827,
          -6.035224,
          4.933064,
          -6.1369333,
          2.429236,
          -1.0770928,
          -0.47025442,
          4.3098006,
          4.9220967,
          2.80822,
          -1.0811611,
          0.112787835,
          0.20008722,
          4.423943,
          -2.4659755,
          5.066624,
          4.47821,
          -1.9530991,
          0.816865,
          -1.6797442,
          1.5382197,
          -0.29429314,
          5.853619,
          5.192855,
          0.36771598,
          -1.0281209,
          -0.6028073,
          0.4589943,
          6.1697965
         ],
         "yaxis": "y"
        },
        {
         "customdata": [
          [
           1.6823529411764668,
           "Computer Vision"
          ],
          [
           12.270588235294118,
           "Computer Vision"
          ],
          [
           6.535294117647058,
           "Computer Vision"
          ],
          [
           1.6823529411764668,
           "Computer Vision"
          ],
          [
           0.8,
           "Computer Vision"
          ],
          [
           1.2411764705882253,
           "Computer Vision"
          ],
          [
           15.8,
           "Computer Vision"
          ],
          [
           13.152941176470584,
           "Computer Vision"
          ],
          [
           4.329411764705883,
           "Computer Vision"
          ],
          [
           1.2411764705882253,
           "Computer Vision"
          ],
          [
           7.858823529411766,
           "Computer Vision"
          ],
          [
           1.2411764705882253,
           "Computer Vision"
          ],
          [
           1.2411764705882253,
           "Computer Vision"
          ],
          [
           0.8,
           "Computer Vision"
          ],
          [
           1.6823529411764668,
           "Computer Vision"
          ],
          [
           1.2411764705882253,
           "Computer Vision"
          ],
          [
           2.123529411764708,
           "Computer Vision"
          ],
          [
           4.329411764705883,
           "Computer Vision"
          ],
          [
           12.270588235294118,
           "Computer Vision"
          ],
          [
           4.329411764705883,
           "Computer Vision"
          ],
          [
           5.2117647058823495,
           "Computer Vision"
          ],
          [
           1.2411764705882253,
           "Computer Vision"
          ],
          [
           3.0058823529411747,
           "Computer Vision"
          ],
          [
           1.2411764705882253,
           "Computer Vision"
          ],
          [
           7.858823529411766,
           "Computer Vision"
          ],
          [
           3.0058823529411747,
           "Computer Vision"
          ],
          [
           0.8,
           "Computer Vision"
          ],
          [
           0.8,
           "Computer Vision"
          ],
          [
           1.2411764705882253,
           "Computer Vision"
          ],
          [
           1.2411764705882253,
           "Computer Vision"
          ],
          [
           0.8,
           "Computer Vision"
          ],
          [
           0.8,
           "Computer Vision"
          ],
          [
           0.8,
           "Computer Vision"
          ],
          [
           0.8,
           "Computer Vision"
          ],
          [
           0.8,
           "Computer Vision"
          ],
          [
           0.8,
           "Computer Vision"
          ],
          [
           0.8,
           "Computer Vision"
          ]
         ],
         "hovertemplate": "<b>%{hovertext}</b><br><br><extra></extra>",
         "hovertext": [
          "Аналитическое мышление",
          "Английский",
          "SQL",
          "Анализ данных",
          "Power BI",
          "MS SQL",
          "Python",
          "Machine Learning",
          "Data Science",
          "Математическая статистика",
          "PyTorch",
          "Математический анализ",
          "Hadoop",
          "Spark",
          "Scikit-learn",
          "Numpy",
          "Linux",
          "Git",
          "Computer Vision",
          "Tensorflow",
          "Deep Learning",
          "PostgreSQL",
          "Алгоритмы",
          "Нейронные сети",
          "OpenCV",
          "C++",
          "Парсинг",
          "Jira",
          "ООП",
          "Линейная алгебра",
          "MLE",
          "Генеративный Дизайн",
          "Generative Design",
          "DS",
          "3D",
          "spyder",
          "GD"
         ],
         "legendgroup": "Computer Vision",
         "marker": {
          "color": "#3283FE",
          "line": {
           "color": "DarkSlateGrey",
           "width": 0.5
          },
          "opacity": 0.7,
          "size": [
           1.6823529411764668,
           12.270588235294118,
           6.535294117647058,
           1.6823529411764668,
           0.8,
           1.2411764705882253,
           15.8,
           13.152941176470584,
           4.329411764705883,
           1.2411764705882253,
           7.858823529411766,
           1.2411764705882253,
           1.2411764705882253,
           0.8,
           1.6823529411764668,
           1.2411764705882253,
           2.123529411764708,
           4.329411764705883,
           12.270588235294118,
           4.329411764705883,
           5.2117647058823495,
           1.2411764705882253,
           3.0058823529411747,
           1.2411764705882253,
           7.858823529411766,
           3.0058823529411747,
           0.8,
           0.8,
           1.2411764705882253,
           1.2411764705882253,
           0.8,
           0.8,
           0.8,
           0.8,
           0.8,
           0.8,
           0.8
          ],
          "sizemode": "area",
          "sizeref": 0.0395,
          "symbol": "circle"
         },
         "mode": "markers",
         "name": "Computer Vision",
         "orientation": "v",
         "showlegend": true,
         "type": "scatter",
         "x": [
          -5.265017,
          -2.140256,
          -0.05774284,
          -3.5074766,
          -3.6719744,
          -0.33927864,
          1.6836092,
          3.3376772,
          2.6771033,
          -2.0435011,
          3.168962,
          -1.4349215,
          6.385646,
          7.029302,
          2.8612945,
          3.321288,
          4.6112127,
          4.4880986,
          3.995392,
          3.366811,
          3.5470293,
          4.3188934,
          3.3387387,
          3.0450416,
          4.6462603,
          4.2892647,
          7.0673623,
          -8.285071,
          3.6413915,
          4.2878857,
          0.918939,
          0.918939,
          0.918939,
          1.7094558,
          0.011750104,
          5.897416,
          0.918939
         ],
         "xaxis": "x",
         "y": [
          -5.4454136,
          -4.295081,
          -4.2943864,
          -5.5416393,
          -5.5977354,
          -4.6728945,
          -2.7131217,
          3.8469462,
          4.5553827,
          -6.035224,
          4.933064,
          -6.1369333,
          -1.0770928,
          -0.47025442,
          4.3098006,
          2.80822,
          -1.0811611,
          0.112787835,
          4.423943,
          5.066624,
          4.47821,
          -1.9530991,
          1.5382197,
          5.853619,
          4.630637,
          5.192855,
          -1.7999835,
          -6.582716,
          0.6206118,
          5.6419363,
          7.17947,
          7.17947,
          7.17947,
          6.411868,
          7.076735,
          3.9202578,
          7.17947
         ],
         "yaxis": "y"
        },
        {
         "customdata": [
          [
           10.422641509433975,
           "NLP"
          ],
          [
           4.7622641509433965,
           "NLP"
          ],
          [
           1.649056603773585,
           "NLP"
          ],
          [
           1.0830188679245283,
           "NLP"
          ],
          [
           15.8,
           "NLP"
          ],
          [
           12.686792452830188,
           "NLP"
          ],
          [
           4.479245283018881,
           "NLP"
          ],
          [
           0.8,
           "NLP"
          ],
          [
           7.309433962264164,
           "NLP"
          ],
          [
           0.8,
           "NLP"
          ],
          [
           0.8,
           "NLP"
          ],
          [
           1.649056603773585,
           "NLP"
          ],
          [
           9.007547169811323,
           "NLP"
          ],
          [
           1.649056603773585,
           "NLP"
          ],
          [
           1.9320754716981132,
           "NLP"
          ],
          [
           3.6301886792452835,
           "NLP"
          ],
          [
           1.3660377358490567,
           "NLP"
          ],
          [
           6.17735849056605,
           "NLP"
          ],
          [
           3.3471698113207546,
           "NLP"
          ],
          [
           2.4981132075471697,
           "NLP"
          ],
          [
           1.3660377358490567,
           "NLP"
          ],
          [
           1.3660377358490567,
           "NLP"
          ],
          [
           4.19622641509434,
           "NLP"
          ],
          [
           1.9320754716981132,
           "NLP"
          ],
          [
           1.3660377358490567,
           "NLP"
          ],
          [
           1.0830188679245283,
           "NLP"
          ],
          [
           1.0830188679245283,
           "NLP"
          ],
          [
           1.0830188679245283,
           "NLP"
          ],
          [
           0.8,
           "NLP"
          ],
          [
           0.8,
           "NLP"
          ],
          [
           0.8,
           "NLP"
          ],
          [
           0.8,
           "NLP"
          ],
          [
           0.8,
           "NLP"
          ],
          [
           0.8,
           "NLP"
          ],
          [
           0.8,
           "NLP"
          ],
          [
           0.8,
           "NLP"
          ],
          [
           0.8,
           "NLP"
          ]
         ],
         "hovertemplate": "<b>%{hovertext}</b><br><br><extra></extra>",
         "hovertext": [
          "Английский",
          "SQL",
          "Анализ данных",
          "MS SQL",
          "Python",
          "Machine Learning",
          "Data Science",
          "Математическая статистика",
          "PyTorch",
          "Pandas",
          "Hadoop",
          "Scikit-learn",
          "NLP",
          "Numpy",
          "Linux",
          "Git",
          "Docker",
          "Computer Vision",
          "Tensorflow",
          "Deep Learning",
          "PostgreSQL",
          "Алгоритмы",
          "OpenCV",
          "C++",
          "LLM",
          "GPT",
          "Парсинг",
          "beautifulSoup",
          "NER",
          "Jira",
          "Русский",
          "ООП",
          "Линейная алгебра",
          "Scrum",
          "PySpark",
          "CI/CD",
          "Keras"
         ],
         "legendgroup": "NLP",
         "marker": {
          "color": "#1CBE4F",
          "line": {
           "color": "DarkSlateGrey",
           "width": 0.5
          },
          "opacity": 0.7,
          "size": [
           10.422641509433975,
           4.7622641509433965,
           1.649056603773585,
           1.0830188679245283,
           15.8,
           12.686792452830188,
           4.479245283018881,
           0.8,
           7.309433962264164,
           0.8,
           0.8,
           1.649056603773585,
           9.007547169811323,
           1.649056603773585,
           1.9320754716981132,
           3.6301886792452835,
           1.3660377358490567,
           6.17735849056605,
           3.3471698113207546,
           2.4981132075471697,
           1.3660377358490567,
           1.3660377358490567,
           4.19622641509434,
           1.9320754716981132,
           1.3660377358490567,
           1.0830188679245283,
           1.0830188679245283,
           1.0830188679245283,
           0.8,
           0.8,
           0.8,
           0.8,
           0.8,
           0.8,
           0.8,
           0.8,
           0.8
          ],
          "sizemode": "area",
          "sizeref": 0.0395,
          "symbol": "circle"
         },
         "mode": "markers",
         "name": "NLP",
         "orientation": "v",
         "showlegend": true,
         "type": "scatter",
         "x": [
          -2.140256,
          -0.05774284,
          -3.5074766,
          -0.33927864,
          1.6836092,
          3.3376772,
          2.6771033,
          -2.0435011,
          3.168962,
          3.2711816,
          6.385646,
          2.8612945,
          3.62124,
          3.321288,
          4.6112127,
          4.4880986,
          6.018617,
          3.995392,
          3.366811,
          3.5470293,
          4.3188934,
          3.3387387,
          4.6462603,
          4.2892647,
          2.829939,
          3.3703585,
          7.0673623,
          5.786802,
          2.292795,
          -8.285071,
          -0.09059662,
          3.6413915,
          4.2878857,
          -8.955666,
          6.3832526,
          6.110619,
          2.6889646
         ],
         "xaxis": "x",
         "y": [
          -4.295081,
          -4.2943864,
          -5.5416393,
          -4.6728945,
          -2.7131217,
          3.8469462,
          4.5553827,
          -6.035224,
          4.933064,
          2.429236,
          -1.0770928,
          4.3098006,
          4.9220967,
          2.80822,
          -1.0811611,
          0.112787835,
          0.20008722,
          4.423943,
          5.066624,
          4.47821,
          -1.9530991,
          1.5382197,
          4.630637,
          5.192855,
          6.836596,
          5.686087,
          -1.7999835,
          4.186486,
          7.454742,
          -6.582716,
          -3.5398707,
          0.6206118,
          5.6419363,
          -6.9393787,
          -1.9429837,
          -0.3241883,
          5.4564385
         ],
         "yaxis": "y"
        },
        {
         "customdata": [
          [
           1.0488151658767721,
           "Инженер данных"
          ],
          [
           5.669668246445487,
           "Инженер данных"
          ],
          [
           15.551184834123212,
           "Инженер данных"
          ],
          [
           1.5464454976303335,
           "Инженер данных"
          ],
          [
           4.496682464454976,
           "Инженер данных"
          ],
          [
           1.510900473933642,
           "Инженер данных"
          ],
          [
           2.968246445497634,
           "Инженер данных"
          ],
          [
           15.8,
           "Инженер данных"
          ],
          [
           1.901895734597163,
           "Инженер данных"
          ],
          [
           0.8,
           "Инженер данных"
          ],
          [
           0.8,
           "Инженер данных"
          ],
          [
           7.127014218009481,
           "Инженер данных"
          ],
          [
           6.025118483412316,
           "Инженер данных"
          ],
          [
           3.572511848341236,
           "Инженер данных"
          ],
          [
           2.2928909952606666,
           "Инженер данных"
          ],
          [
           2.683886255924171,
           "Инженер данных"
          ],
          [
           6.842654028436017,
           "Инженер данных"
          ],
          [
           7.091469194312789,
           "Инженер данных"
          ],
          [
           4.53222748815165,
           "Инженер данных"
          ],
          [
           3.9635071090047393,
           "Инженер данных"
          ],
          [
           2.2928909952606666,
           "Инженер данных"
          ],
          [
           1.4753554502369677,
           "Инженер данных"
          ],
          [
           1.6886255924170652,
           "Инженер данных"
          ],
          [
           1.1199052132701381,
           "Инженер данных"
          ],
          [
           1.190995260663504,
           "Инженер данных"
          ],
          [
           1.9729857819905119,
           "Инженер данных"
          ],
          [
           0.8355450236966746,
           "Инженер данных"
          ],
          [
           0.9066350710900405,
           "Инженер данных"
          ],
          [
           3.110426540284366,
           "Инженер данных"
          ],
          [
           4.603317535545016,
           "Инженер данных"
          ],
          [
           2.3284360189573414,
           "Инженер данных"
          ],
          [
           9.330805687203789,
           "Инженер данных"
          ],
          [
           2.257345971563975,
           "Инженер данных"
          ],
          [
           1.439810426540276,
           "Инженер данных"
          ],
          [
           1.2620853080568697,
           "Инженер данных"
          ],
          [
           1.0488151658767721,
           "Инженер данных"
          ],
          [
           0.8,
           "Инженер данных"
          ]
         ],
         "hovertemplate": "<b>%{hovertext}</b><br><br><extra></extra>",
         "hovertext": [
          "Аналитическое мышление",
          "Английский",
          "SQL",
          "Анализ данных",
          "Работа с большим объемом информации",
          "Power BI",
          "MS SQL",
          "Python",
          "Machine Learning",
          "Data Science",
          "Pandas",
          "Hadoop",
          "Spark",
          "Linux",
          "Git",
          "Docker",
          "Базы данных",
          "PostgreSQL",
          "Airflow",
          "ClickHouse",
          "Java",
          "Hive",
          "Работа с базами данных",
          "BI",
          "CI/CD",
          "ORACLE",
          "MySQL",
          "Bash",
          "Kafka",
          "DWH",
          "Greenplum",
          "ETL",
          "SCALA",
          "Kubernetes",
          "Хранилище данных",
          "NoSQL",
          "NiFi"
         ],
         "legendgroup": "Инженер данных",
         "marker": {
          "color": "#C4451C",
          "line": {
           "color": "DarkSlateGrey",
           "width": 0.5
          },
          "opacity": 0.7,
          "size": [
           1.0488151658767721,
           5.669668246445487,
           15.551184834123212,
           1.5464454976303335,
           4.496682464454976,
           1.510900473933642,
           2.968246445497634,
           15.8,
           1.901895734597163,
           0.8,
           0.8,
           7.127014218009481,
           6.025118483412316,
           3.572511848341236,
           2.2928909952606666,
           2.683886255924171,
           6.842654028436017,
           7.091469194312789,
           4.53222748815165,
           3.9635071090047393,
           2.2928909952606666,
           1.4753554502369677,
           1.6886255924170652,
           1.1199052132701381,
           1.190995260663504,
           1.9729857819905119,
           0.8355450236966746,
           0.9066350710900405,
           3.110426540284366,
           4.603317535545016,
           2.3284360189573414,
           9.330805687203789,
           2.257345971563975,
           1.439810426540276,
           1.2620853080568697,
           1.0488151658767721,
           0.8
          ],
          "sizemode": "area",
          "sizeref": 0.0395,
          "symbol": "circle"
         },
         "mode": "markers",
         "name": "Инженер данных",
         "orientation": "v",
         "showlegend": true,
         "type": "scatter",
         "x": [
          -5.265017,
          -2.140256,
          -0.05774284,
          -3.5074766,
          -1.6685798,
          -3.6719744,
          -0.33927864,
          1.6836092,
          3.3376772,
          2.6771033,
          3.2711816,
          6.385646,
          7.029302,
          4.6112127,
          4.4880986,
          6.018617,
          3.2809954,
          4.3188934,
          8.383849,
          5.7675037,
          6.547024,
          6.4067163,
          -1.1547692,
          -2.0221703,
          6.110619,
          3.7451742,
          3.1591096,
          4.8666434,
          7.512572,
          7.2034025,
          7.971638,
          7.7328157,
          8.692902,
          6.893841,
          8.13087,
          7.429,
          8.87303
         ],
         "xaxis": "x",
         "y": [
          -5.4454136,
          -4.295081,
          -4.2943864,
          -5.5416393,
          -4.803078,
          -5.5977354,
          -4.6728945,
          -2.7131217,
          3.8469462,
          4.5553827,
          2.429236,
          -1.0770928,
          -0.47025442,
          -1.0811611,
          0.112787835,
          0.20008722,
          -2.4659755,
          -1.9530991,
          0.816865,
          -1.6797442,
          -0.29429314,
          -1.072747,
          -4.9185348,
          -5.05041,
          -0.3241883,
          -2.13215,
          -2.5139785,
          -0.97570544,
          0.36771598,
          -1.0281209,
          0.049513057,
          -0.6028073,
          1.4241942,
          0.4589943,
          -0.36161807,
          0.052943725,
          1.7320459
         ],
         "yaxis": "y"
        },
        {
         "customdata": [
          [
           0.8738916256157511,
           "Big Data"
          ],
          [
           2.4256157635467837,
           "Big Data"
          ],
          [
           0.8,
           "Big Data"
          ],
          [
           3.460098522167489,
           "Big Data"
          ],
          [
           15.8,
           "Big Data"
          ],
          [
           1.3911330049260953,
           "Big Data"
          ],
          [
           0.8738916256157511,
           "Big Data"
          ],
          [
           1.1694581280788074,
           "Big Data"
          ],
          [
           2.868965517241377,
           "Big Data"
          ],
          [
           1.9083743842364396,
           "Big Data"
          ],
          [
           7.745812807881764,
           "Big Data"
          ],
          [
           1.2433497536945757,
           "Big Data"
          ],
          [
           2.7950738916256084,
           "Big Data"
          ],
          [
           9.593103448275853,
           "Big Data"
          ],
          [
           1.2433497536945757,
           "Big Data"
          ],
          [
           1.2433497536945757,
           "Big Data"
          ],
          [
           5.972413793103442,
           "Big Data"
          ],
          [
           4.051231527093585,
           "Big Data"
          ],
          [
           2.2039408866994954,
           "Big Data"
          ],
          [
           0.8,
           "Big Data"
          ],
          [
           1.3172413793103441,
           "Big Data"
          ],
          [
           3.9034482758620648,
           "Big Data"
          ],
          [
           4.051231527093585,
           "Big Data"
          ],
          [
           1.8344827586206884,
           "Big Data"
          ],
          [
           1.095566502463039,
           "Big Data"
          ],
          [
           1.095566502463039,
           "Big Data"
          ],
          [
           1.1694581280788074,
           "Big Data"
          ],
          [
           0.8738916256157511,
           "Big Data"
          ],
          [
           2.573399014778321,
           "Big Data"
          ],
          [
           1.4650246305418637,
           "Big Data"
          ],
          [
           0.8738916256157511,
           "Big Data"
          ],
          [
           1.9083743842364396,
           "Big Data"
          ],
          [
           1.5389162561576322,
           "Big Data"
          ],
          [
           6.859113300492612,
           "Big Data"
          ],
          [
           1.6128078817734006,
           "Big Data"
          ],
          [
           7.450246305418707,
           "Big Data"
          ],
          [
           1.3172413793103441,
           "Big Data"
          ]
         ],
         "hovertemplate": "<b>%{hovertext}</b><br><br><extra></extra>",
         "hovertext": [
          "Бизнес-анализ",
          "Аналитическое мышление",
          "BPMN",
          "Английский",
          "SQL",
          "Деловая коммуникация",
          "UML",
          "Управление проектами",
          "Анализ данных",
          "Системный анализ",
          "Работа с большим объемом информации",
          "Power BI",
          "MS SQL",
          "Python",
          "Machine Learning",
          "Математическая статистика",
          "Hadoop",
          "Spark",
          "Linux",
          "Git",
          "Docker",
          "Базы данных",
          "PostgreSQL",
          "Airflow",
          "ClickHouse",
          "Java",
          "Hive",
          "Работа с базами данных",
          "BI",
          "Tableau",
          "CI/CD",
          "ORACLE",
          "Kafka",
          "DWH",
          "Greenplum",
          "ETL",
          "SCALA"
         ],
         "legendgroup": "Big Data",
         "marker": {
          "color": "#F6222E",
          "line": {
           "color": "DarkSlateGrey",
           "width": 0.5
          },
          "opacity": 0.7,
          "size": [
           0.8738916256157511,
           2.4256157635467837,
           0.8,
           3.460098522167489,
           15.8,
           1.3911330049260953,
           0.8738916256157511,
           1.1694581280788074,
           2.868965517241377,
           1.9083743842364396,
           7.745812807881764,
           1.2433497536945757,
           2.7950738916256084,
           9.593103448275853,
           1.2433497536945757,
           1.2433497536945757,
           5.972413793103442,
           4.051231527093585,
           2.2039408866994954,
           0.8,
           1.3172413793103441,
           3.9034482758620648,
           4.051231527093585,
           1.8344827586206884,
           1.095566502463039,
           1.095566502463039,
           1.1694581280788074,
           0.8738916256157511,
           2.573399014778321,
           1.4650246305418637,
           0.8738916256157511,
           1.9083743842364396,
           1.5389162561576322,
           6.859113300492612,
           1.6128078817734006,
           7.450246305418707,
           1.3172413793103441
          ],
          "sizemode": "area",
          "sizeref": 0.0395,
          "symbol": "circle"
         },
         "mode": "markers",
         "name": "Big Data",
         "orientation": "v",
         "showlegend": true,
         "type": "scatter",
         "x": [
          -8.991264,
          -5.265017,
          -10.234135,
          -2.140256,
          -0.05774284,
          -7.0083,
          -10.700415,
          -7.9144473,
          -3.5074766,
          -11.400766,
          -1.6685798,
          -3.6719744,
          -0.33927864,
          1.6836092,
          3.3376772,
          -2.0435011,
          6.385646,
          7.029302,
          4.6112127,
          4.4880986,
          6.018617,
          3.2809954,
          4.3188934,
          8.383849,
          5.7675037,
          6.547024,
          6.4067163,
          -1.1547692,
          -2.0221703,
          -2.6691883,
          6.110619,
          3.7451742,
          7.512572,
          7.2034025,
          7.971638,
          7.7328157,
          8.692902
         ],
         "xaxis": "x",
         "y": [
          -10.281999,
          -5.4454136,
          -10.167551,
          -4.295081,
          -4.2943864,
          -7.6112494,
          -9.553972,
          -7.877371,
          -5.5416393,
          -9.369058,
          -4.803078,
          -5.5977354,
          -4.6728945,
          -2.7131217,
          3.8469462,
          -6.035224,
          -1.0770928,
          -0.47025442,
          -1.0811611,
          0.112787835,
          0.20008722,
          -2.4659755,
          -1.9530991,
          0.816865,
          -1.6797442,
          -0.29429314,
          -1.072747,
          -4.9185348,
          -5.05041,
          -5.7617435,
          -0.3241883,
          -2.13215,
          0.36771598,
          -1.0281209,
          0.049513057,
          -0.6028073,
          1.4241942
         ],
         "yaxis": "y"
        },
        {
         "customdata": [
          [
           0.8,
           "Администратор баз данных"
          ],
          [
           2.8960698689956343,
           "Администратор баз данных"
          ],
          [
           3.6820960698689973,
           "Администратор баз данных"
          ],
          [
           5.123144104803495,
           "Администратор баз данных"
          ],
          [
           0.9965065502183457,
           "Администратор баз данных"
          ],
          [
           0.8655021834061186,
           "Администратор баз данных"
          ],
          [
           0.9310043668122272,
           "Администратор баз данных"
          ],
          [
           0.9310043668122272,
           "Администратор баз данных"
          ],
          [
           8.59475982532752,
           "Администратор баз данных"
          ],
          [
           1.4550218340611356,
           "Администратор баз данных"
          ],
          [
           6.564192139737993,
           "Администратор баз данных"
          ],
          [
           0.9965065502183457,
           "Администратор баз данных"
          ],
          [
           15.8,
           "Администратор баз данных"
          ],
          [
           10.494323144104808,
           "Администратор баз данных"
          ],
          [
           1.5205240174672543,
           "Администратор баз данных"
          ],
          [
           3.7475982532751155,
           "Администратор баз данных"
          ],
          [
           1.1275109170305728,
           "Администратор баз данных"
          ],
          [
           4.5336244541484785,
           "Администратор баз данных"
          ],
          [
           3.485589519650661,
           "Администратор баз данных"
          ],
          [
           2.17554585152839,
           "Администратор баз данных"
          ],
          [
           1.8480349344978173,
           "Администратор баз данных"
          ],
          [
           1.5860262008733628,
           "Администратор баз данных"
          ],
          [
           1.4550218340611356,
           "Администратор баз данных"
          ],
          [
           1.1930131004366813,
           "Администратор баз данных"
          ],
          [
           1.1275109170305728,
           "Администратор баз данных"
          ],
          [
           1.0620087336244541,
           "Администратор баз данных"
          ],
          [
           0.9965065502183457,
           "Администратор баз данных"
          ],
          [
           0.8655021834061186,
           "Администратор баз данных"
          ],
          [
           0.8655021834061186,
           "Администратор баз данных"
          ],
          [
           0.8655021834061186,
           "Администратор баз данных"
          ],
          [
           0.8655021834061186,
           "Администратор баз данных"
          ],
          [
           0.8655021834061186,
           "Администратор баз данных"
          ],
          [
           0.8,
           "Администратор баз данных"
          ],
          [
           0.8,
           "Администратор баз данных"
          ],
          [
           0.8,
           "Администратор баз данных"
          ],
          [
           0.8,
           "Администратор баз данных"
          ],
          [
           0.8,
           "Администратор баз данных"
          ]
         ],
         "hovertemplate": "<b>%{hovertext}</b><br><br><extra></extra>",
         "hovertext": [
          "Аналитическое мышление",
          "1С: Предприятие 8",
          "Английский",
          "SQL",
          "Деловая коммуникация",
          "Работа в команде",
          "Работа с большим объемом информации",
          "Работа в условиях многозадачности",
          "MS SQL",
          "Python",
          "Linux",
          "Docker",
          "Базы данных",
          "PostgreSQL",
          "ClickHouse",
          "Работа с базами данных",
          "Пользователь ПК",
          "ORACLE",
          "Администрирование",
          "MySQL",
          "Zabbix",
          "Bash",
          "Unix",
          "MongoDB",
          "Kafka",
          "Grafana",
          "Ansible",
          "Oracle Pl/SQL",
          "TCP/IP",
          "PowerShell",
          "Администрирование серверов Windows",
          "Оптимизация запросов",
          "Информационные технологии",
          "Обучение и развитие",
          "Prometheus",
          "MS Windows",
          "MS Access"
         ],
         "legendgroup": "Администратор баз данных",
         "marker": {
          "color": "#FE00FA",
          "line": {
           "color": "DarkSlateGrey",
           "width": 0.5
          },
          "opacity": 0.7,
          "size": [
           0.8,
           2.8960698689956343,
           3.6820960698689973,
           5.123144104803495,
           0.9965065502183457,
           0.8655021834061186,
           0.9310043668122272,
           0.9310043668122272,
           8.59475982532752,
           1.4550218340611356,
           6.564192139737993,
           0.9965065502183457,
           15.8,
           10.494323144104808,
           1.5205240174672543,
           3.7475982532751155,
           1.1275109170305728,
           4.5336244541484785,
           3.485589519650661,
           2.17554585152839,
           1.8480349344978173,
           1.5860262008733628,
           1.4550218340611356,
           1.1930131004366813,
           1.1275109170305728,
           1.0620087336244541,
           0.9965065502183457,
           0.8655021834061186,
           0.8655021834061186,
           0.8655021834061186,
           0.8655021834061186,
           0.8655021834061186,
           0.8,
           0.8,
           0.8,
           0.8,
           0.8
          ],
          "sizemode": "area",
          "sizeref": 0.0395,
          "symbol": "circle"
         },
         "mode": "markers",
         "name": "Администратор баз данных",
         "orientation": "v",
         "showlegend": true,
         "type": "scatter",
         "x": [
          -5.265017,
          -7.058705,
          -2.140256,
          -0.05774284,
          -7.0083,
          -5.7154617,
          -1.6685798,
          -6.0212708,
          -0.33927864,
          1.6836092,
          4.6112127,
          6.018617,
          3.2809954,
          4.3188934,
          5.7675037,
          -1.1547692,
          -5.598306,
          3.7451742,
          -1.7274129,
          3.1591096,
          -1.4848666,
          4.8666434,
          -1.303884,
          4.0507946,
          7.512572,
          4.804533,
          5.4085875,
          1.5944301,
          -1.5660074,
          -1.9023278,
          -1.372509,
          -1.6511042,
          -1.5012927,
          -4.898947,
          7.2335844,
          -1.6826571,
          -5.1286497
         ],
         "xaxis": "x",
         "y": [
          -5.4454136,
          -6.467622,
          -4.295081,
          -4.2943864,
          -7.6112494,
          -6.793357,
          -4.803078,
          -5.178443,
          -4.6728945,
          -2.7131217,
          -1.0811611,
          0.20008722,
          -2.4659755,
          -1.9530991,
          -1.6797442,
          -4.9185348,
          -4.1554346,
          -2.13215,
          5.1732926,
          -2.5139785,
          4.0441523,
          -0.97570544,
          3.841136,
          -0.9821398,
          0.36771598,
          -1.8790153,
          -0.15358564,
          -3.1752424,
          2.8488412,
          2.4794374,
          4.181144,
          2.5136292,
          -3.259604,
          -6.2722187,
          1.1871836,
          4.8131104,
          -4.632774
         ],
         "yaxis": "y"
        },
        {
         "customdata": [
          [
           1.251977401129949,
           "Аналитик данных"
          ],
          [
           1.3932203389830575,
           "Аналитик данных"
          ],
          [
           8.70960451977401,
           "Аналитик данных"
          ],
          [
           5.799999999999995,
           "Аналитик данных"
          ],
          [
           15.8,
           "Аналитик данных"
          ],
          [
           0.8847457627118654,
           "Аналитик данных"
          ],
          [
           4.641807909604516,
           "Аналитик данных"
          ],
          [
           12.04293785310735,
           "Аналитик данных"
          ],
          [
           1.7322033898305036,
           "Аналитик данных"
          ],
          [
           0.9694915254237308,
           "Аналитик данных"
          ],
          [
           4.69830508474576,
           "Аналитик данных"
          ],
          [
           0.8564971751412436,
           "Аналитик данных"
          ],
          [
           6.33672316384181,
           "Аналитик данных"
          ],
          [
           1.11073446327684,
           "Аналитик данных"
          ],
          [
           0.8847457627118654,
           "Аналитик данных"
          ],
          [
           1.7604519774011256,
           "Аналитик данных"
          ],
          [
           3.2576271186440646,
           "Аналитик данных"
          ],
          [
           11.647457627118644,
           "Аналитик данных"
          ],
          [
           1.2802259887005705,
           "Аналитик данных"
          ],
          [
           4.924293785310735,
           "Аналитик данных"
          ],
          [
           1.8451977401129904,
           "Аналитик данных"
          ],
          [
           0.9977401129943526,
           "Аналитик данных"
          ],
          [
           1.534463276836151,
           "Аналитик данных"
          ],
          [
           0.8,
           "Аналитик данных"
          ],
          [
           3.2011299435028215,
           "Аналитик данных"
          ],
          [
           2.127683615819209,
           "Аналитик данных"
          ],
          [
           0.9129943502824872,
           "Аналитик данных"
          ],
          [
           1.336723163841814,
           "Аналитик данных"
          ],
          [
           1.506214689265529,
           "Аналитик данных"
          ],
          [
           2.071186440677965,
           "Аналитик данных"
          ],
          [
           0.9694915254237308,
           "Аналитик данных"
          ],
          [
           2.0146892655367212,
           "Аналитик данных"
          ],
          [
           2.042937853107343,
           "Аналитик данных"
          ],
          [
           0.8282485875706218,
           "Аналитик данных"
          ],
          [
           1.3084745762711925,
           "Аналитик данных"
          ],
          [
           1.3932203389830575,
           "Аналитик данных"
          ],
          [
           0.8847457627118654,
           "Аналитик данных"
          ]
         ],
         "hovertemplate": "<b>%{hovertext}</b><br><br><extra></extra>",
         "hovertext": [
          "Бизнес-анализ",
          "Моделирование бизнес процессов",
          "Аналитическое мышление",
          "Английский",
          "SQL",
          "Деловая коммуникация",
          "MS Excel",
          "Анализ данных",
          "MS PowerPoint",
          "Работа в команде",
          "Работа с большим объемом информации",
          "Работа в условиях многозадачности",
          "Power BI",
          "Сбор и анализ информации",
          "Грамотная речь",
          "Анализ рынка",
          "MS SQL",
          "Python",
          "Machine Learning",
          "Математическая статистика",
          "Математический анализ",
          "Pandas",
          "Hadoop",
          "Spark",
          "Базы данных",
          "PostgreSQL",
          "ClickHouse",
          "A/B тесты",
          "Аналитические исследования",
          "Работа с базами данных",
          "Маркетинговые исследования",
          "BI",
          "Tableau",
          "ORACLE",
          "Визуализация данных",
          "ETL",
          "VBA"
         ],
         "legendgroup": "Аналитик данных",
         "marker": {
          "color": "#325A9B",
          "line": {
           "color": "DarkSlateGrey",
           "width": 0.5
          },
          "opacity": 0.7,
          "size": [
           1.251977401129949,
           1.3932203389830575,
           8.70960451977401,
           5.799999999999995,
           15.8,
           0.8847457627118654,
           4.641807909604516,
           12.04293785310735,
           1.7322033898305036,
           0.9694915254237308,
           4.69830508474576,
           0.8564971751412436,
           6.33672316384181,
           1.11073446327684,
           0.8847457627118654,
           1.7604519774011256,
           3.2576271186440646,
           11.647457627118644,
           1.2802259887005705,
           4.924293785310735,
           1.8451977401129904,
           0.9977401129943526,
           1.534463276836151,
           0.8,
           3.2011299435028215,
           2.127683615819209,
           0.9129943502824872,
           1.336723163841814,
           1.506214689265529,
           2.071186440677965,
           0.9694915254237308,
           2.0146892655367212,
           2.042937853107343,
           0.8282485875706218,
           1.3084745762711925,
           1.3932203389830575,
           0.8847457627118654
          ],
          "sizemode": "area",
          "sizeref": 0.0395,
          "symbol": "circle"
         },
         "mode": "markers",
         "name": "Аналитик данных",
         "orientation": "v",
         "showlegend": true,
         "type": "scatter",
         "x": [
          -8.991264,
          -8.479693,
          -5.265017,
          -2.140256,
          -0.05774284,
          -7.0083,
          -6.0270624,
          -3.5074766,
          -6.567785,
          -5.7154617,
          -1.6685798,
          -6.0212708,
          -3.6719744,
          -5.873111,
          -5.7004557,
          -7.4209285,
          -0.33927864,
          1.6836092,
          3.3376772,
          -2.0435011,
          -1.4349215,
          3.2711816,
          6.385646,
          7.029302,
          3.2809954,
          4.3188934,
          5.7675037,
          -2.7449284,
          -5.4892855,
          -1.1547692,
          -7.079985,
          -2.0221703,
          -2.6691883,
          3.7451742,
          -2.9634051,
          7.7328157,
          -4.8100495
         ],
         "xaxis": "x",
         "y": [
          -10.281999,
          -9.842511,
          -5.4454136,
          -4.295081,
          -4.2943864,
          -7.6112494,
          -3.3049371,
          -5.5416393,
          -3.4022892,
          -6.793357,
          -4.803078,
          -5.178443,
          -5.5977354,
          -5.8119283,
          -5.0149035,
          -1.2117153,
          -4.6728945,
          -2.7131217,
          3.8469462,
          -6.035224,
          -6.1369333,
          2.429236,
          -1.0770928,
          -0.47025442,
          -2.4659755,
          -1.9530991,
          -1.6797442,
          -5.981568,
          -3.67074,
          -4.9185348,
          -1.6055269,
          -5.05041,
          -5.7617435,
          -2.13215,
          -6.8839564,
          -0.6028073,
          -4.0292344
         ],
         "yaxis": "y"
        },
        {
         "customdata": [
          [
           2.9017699115044344,
           "Аналитик"
          ],
          [
           3.985840707964595,
           "Аналитик"
          ],
          [
           15.8,
           "Аналитик"
          ],
          [
           0.8,
           "Аналитик"
          ],
          [
           6.9725663716814115,
           "Аналитик"
          ],
          [
           11.684955752212401,
           "Аналитик"
          ],
          [
           13.34424778761063,
           "Аналитик"
          ],
          [
           1.419469026548688,
           "Аналитик"
          ],
          [
           2.459292035398228,
           "Аналитик"
          ],
          [
           8.653982300884966,
           "Аналитик"
          ],
          [
           10.954867256637177,
           "Аналитик"
          ],
          [
           4.5610619469026625,
           "Аналитик"
          ],
          [
           1.3530973451327426,
           "Аналитик"
          ],
          [
           0.9106194690265658,
           "Аналитик"
          ],
          [
           6.729203539823012,
           "Аналитик"
          ],
          [
           1.9946902654867267,
           "Аналитик"
          ],
          [
           4.9592920353982475,
           "Аналитик"
          ],
          [
           1.4637168141593082,
           "Аналитик"
          ],
          [
           2.0831858407079675,
           "Аналитик"
          ],
          [
           8.786725663716826,
           "Аналитик"
          ],
          [
           3.1008849557522122,
           "Аналитик"
          ],
          [
           7.724778761061961,
           "Аналитик"
          ],
          [
           1.419469026548688,
           "Аналитик"
          ],
          [
           4.450442477876126,
           "Аналитик"
          ],
          [
           1.0654867256637235,
           "Аналитик"
          ],
          [
           2.769026548672572,
           "Аналитик"
          ],
          [
           0.8884955752212411,
           "Аналитик"
          ],
          [
           3.0566371681415907,
           "Аналитик"
          ],
          [
           2.4150442477876077,
           "Аналитик"
          ],
          [
           1.8176991150442445,
           "Аналитик"
          ],
          [
           1.8176991150442445,
           "Аналитик"
          ],
          [
           1.530088495575225,
           "Аналитик"
          ],
          [
           1.3752212389380671,
           "Аналитик"
          ],
          [
           1.3309734513274467,
           "Аналитик"
          ],
          [
           0.9769911504424823,
           "Аналитик"
          ],
          [
           0.9769911504424823,
           "Аналитик"
          ],
          [
           0.9548672566371862,
           "Аналитик"
          ]
         ],
         "hovertemplate": "<b>%{hovertext}</b><br><br><extra></extra>",
         "hovertext": [
          "Бизнес-анализ",
          "Моделирование бизнес процессов",
          "Аналитическое мышление",
          "BPMN",
          "1С: Предприятие 8",
          "Английский",
          "SQL",
          "Разработка технических заданий",
          "Деловая коммуникация",
          "MS Excel",
          "Анализ данных",
          "MS PowerPoint",
          "Работа в команде",
          "Системный анализ",
          "Работа с большим объемом информации",
          "Работа в условиях многозадачности",
          "Power BI",
          "Сбор и анализ информации",
          "Грамотная речь",
          "Анализ рынка",
          "MS SQL",
          "Python",
          "Подготовка презентаций",
          "Математическая статистика",
          "Математический анализ",
          "Базы данных",
          "PostgreSQL",
          "Финансовый анализ",
          "Аналитические исследования",
          "Работа с базами данных",
          "Маркетинговые исследования",
          "BI",
          "Прогнозирование",
          "Пользователь ПК",
          "Tableau",
          "Бюджетирование",
          "Конкурентная аналитика"
         ],
         "legendgroup": "Аналитик",
         "marker": {
          "color": "#FEAF16",
          "line": {
           "color": "DarkSlateGrey",
           "width": 0.5
          },
          "opacity": 0.7,
          "size": [
           2.9017699115044344,
           3.985840707964595,
           15.8,
           0.8,
           6.9725663716814115,
           11.684955752212401,
           13.34424778761063,
           1.419469026548688,
           2.459292035398228,
           8.653982300884966,
           10.954867256637177,
           4.5610619469026625,
           1.3530973451327426,
           0.9106194690265658,
           6.729203539823012,
           1.9946902654867267,
           4.9592920353982475,
           1.4637168141593082,
           2.0831858407079675,
           8.786725663716826,
           3.1008849557522122,
           7.724778761061961,
           1.419469026548688,
           4.450442477876126,
           1.0654867256637235,
           2.769026548672572,
           0.8884955752212411,
           3.0566371681415907,
           2.4150442477876077,
           1.8176991150442445,
           1.8176991150442445,
           1.530088495575225,
           1.3752212389380671,
           1.3309734513274467,
           0.9769911504424823,
           0.9769911504424823,
           0.9548672566371862
          ],
          "sizemode": "area",
          "sizeref": 0.0395,
          "symbol": "circle"
         },
         "mode": "markers",
         "name": "Аналитик",
         "orientation": "v",
         "showlegend": true,
         "type": "scatter",
         "x": [
          -8.991264,
          -8.479693,
          -5.265017,
          -10.234135,
          -7.058705,
          -2.140256,
          -0.05774284,
          -9.255919,
          -7.0083,
          -6.0270624,
          -3.5074766,
          -6.567785,
          -5.7154617,
          -11.400766,
          -1.6685798,
          -6.0212708,
          -3.6719744,
          -5.873111,
          -5.7004557,
          -7.4209285,
          -0.33927864,
          1.6836092,
          -6.523355,
          -2.0435011,
          -1.4349215,
          3.2809954,
          4.3188934,
          -7.521625,
          -5.4892855,
          -1.1547692,
          -7.079985,
          -2.0221703,
          -7.0110965,
          -5.598306,
          -2.6691883,
          -7.648225,
          -6.7167673
         ],
         "xaxis": "x",
         "y": [
          -10.281999,
          -9.842511,
          -5.4454136,
          -10.167551,
          -6.467622,
          -4.295081,
          -4.2943864,
          -9.083643,
          -7.6112494,
          -3.3049371,
          -5.5416393,
          -3.4022892,
          -6.793357,
          -9.369058,
          -4.803078,
          -5.178443,
          -5.5977354,
          -5.8119283,
          -5.0149035,
          -1.2117153,
          -4.6728945,
          -2.7131217,
          -4.1811895,
          -6.035224,
          -6.1369333,
          -2.4659755,
          -1.9530991,
          -0.30332914,
          -3.67074,
          -4.9185348,
          -1.6055269,
          -5.05041,
          -2.2329516,
          -4.1554346,
          -5.7617435,
          -0.63784605,
          -3.4594824
         ],
         "yaxis": "y"
        },
        {
         "customdata": [
          [
           15.8,
           "Бизнес-аналитик"
          ],
          [
           13.759427207637227,
           "Бизнес-аналитик"
          ],
          [
           11.79045346062053,
           "Бизнес-аналитик"
          ],
          [
           9.749880668257754,
           "Бизнес-аналитик"
          ],
          [
           9.06968973747017,
           "Бизнес-аналитик"
          ],
          [
           8.35369928400954,
           "Бизнес-аналитик"
          ],
          [
           6.098329355608588,
           "Бизнес-аналитик"
          ],
          [
           5.2749403341288765,
           "Бизнес-аналитик"
          ],
          [
           5.167541766109777,
           "Бизнес-аналитик"
          ],
          [
           4.379952267303093,
           "Бизнес-аналитик"
          ],
          [
           3.5923627684964083,
           "Бизнес-аналитик"
          ],
          [
           3.449164677804305,
           "Бизнес-аналитик"
          ],
          [
           3.2343675417661037,
           "Бизнес-аналитик"
          ],
          [
           2.7331742243436734,
           "Бизнес-аналитик"
          ],
          [
           2.124582338902141,
           "Бизнес-аналитик"
          ],
          [
           2.0887828162291155,
           "Бизнес-аналитик"
          ],
          [
           2.052983293556089,
           "Бизнес-аналитик"
          ],
          [
           2.0171837708830633,
           "Бизнес-аналитик"
          ],
          [
           1.9813842482100148,
           "Бизнес-аналитик"
          ],
          [
           1.9455847255369887,
           "Бизнес-аналитик"
          ],
          [
           1.7665871121718366,
           "Бизнес-аналитик"
          ],
          [
           1.7307875894988105,
           "Бизнес-аналитик"
          ],
          [
           1.6949880668257622,
           "Бизнес-аналитик"
          ],
          [
           1.5517899761336582,
           "Бизнес-аналитик"
          ],
          [
           1.5517899761336582,
           "Бизнес-аналитик"
          ],
          [
           1.4443914081145577,
           "Бизнес-аналитик"
          ],
          [
           1.4443914081145577,
           "Бизнес-аналитик"
          ],
          [
           1.372792362768483,
           "Бизнес-аналитик"
          ],
          [
           1.2653937947494054,
           "Бизнес-аналитик"
          ],
          [
           1.0505966587112043,
           "Бизнес-аналитик"
          ],
          [
           1.0147971360381784,
           "Бизнес-аналитик"
          ],
          [
           1.0147971360381784,
           "Бизнес-аналитик"
          ],
          [
           1.0147971360381784,
           "Бизнес-аналитик"
          ],
          [
           1.0147971360381784,
           "Бизнес-аналитик"
          ],
          [
           0.9431980906921266,
           "Бизнес-аналитик"
          ],
          [
           0.871599045346052,
           "Бизнес-аналитик"
          ],
          [
           0.8,
           "Бизнес-аналитик"
          ]
         ],
         "hovertemplate": "<b>%{hovertext}</b><br><br><extra></extra>",
         "hovertext": [
          "Бизнес-анализ",
          "Моделирование бизнес процессов",
          "Аналитическое мышление",
          "BPMN",
          "1С: Предприятие 8",
          "Английский",
          "SQL",
          "Разработка технических заданий",
          "Деловая коммуникация",
          "UML",
          "MS Excel",
          "MS Visio",
          "Управление проектами",
          "Анализ данных",
          "Системное мышление",
          "MS PowerPoint",
          "Работа в команде",
          "Системный анализ",
          "Atlassian Jira",
          "Работа с большим объемом информации",
          "Постановка задач разработчикам",
          "Автоматизация процессов",
          "Agile",
          "Работа в условиях многозадачности",
          "Atlassian Confluence",
          "Power BI",
          "Сбор и анализ информации",
          "Грамотная речь",
          "IDEF",
          "Анализ рынка",
          "MS SQL",
          "Техническая документация",
          "EPC",
          "Python",
          "ERP",
          "CRM",
          "Подготовка презентаций"
         ],
         "legendgroup": "Бизнес-аналитик",
         "marker": {
          "color": "#90AD1C",
          "line": {
           "color": "DarkSlateGrey",
           "width": 0.5
          },
          "opacity": 0.7,
          "size": [
           15.8,
           13.759427207637227,
           11.79045346062053,
           9.749880668257754,
           9.06968973747017,
           8.35369928400954,
           6.098329355608588,
           5.2749403341288765,
           5.167541766109777,
           4.379952267303093,
           3.5923627684964083,
           3.449164677804305,
           3.2343675417661037,
           2.7331742243436734,
           2.124582338902141,
           2.0887828162291155,
           2.052983293556089,
           2.0171837708830633,
           1.9813842482100148,
           1.9455847255369887,
           1.7665871121718366,
           1.7307875894988105,
           1.6949880668257622,
           1.5517899761336582,
           1.5517899761336582,
           1.4443914081145577,
           1.4443914081145577,
           1.372792362768483,
           1.2653937947494054,
           1.0505966587112043,
           1.0147971360381784,
           1.0147971360381784,
           1.0147971360381784,
           1.0147971360381784,
           0.9431980906921266,
           0.871599045346052,
           0.8
          ],
          "sizemode": "area",
          "sizeref": 0.0395,
          "symbol": "circle"
         },
         "mode": "markers",
         "name": "Бизнес-аналитик",
         "orientation": "v",
         "showlegend": true,
         "type": "scatter",
         "x": [
          -8.991264,
          -8.479693,
          -5.265017,
          -10.234135,
          -7.058705,
          -2.140256,
          -0.05774284,
          -9.255919,
          -7.0083,
          -10.700415,
          -6.0270624,
          -9.361388,
          -7.9144473,
          -3.5074766,
          -8.084131,
          -6.567785,
          -5.7154617,
          -11.400766,
          -9.703421,
          -1.6685798,
          -10.088869,
          -7.3288393,
          -9.322205,
          -6.0212708,
          -9.778784,
          -3.6719744,
          -5.873111,
          -5.7004557,
          -9.542697,
          -7.4209285,
          -0.33927864,
          -8.701551,
          -2.1690292,
          1.6836092,
          -9.036478,
          -7.7624426,
          -6.523355
         ],
         "xaxis": "x",
         "y": [
          -10.281999,
          -9.842511,
          -5.4454136,
          -10.167551,
          -6.467622,
          -4.295081,
          -4.2943864,
          -9.083643,
          -7.6112494,
          -9.553972,
          -3.3049371,
          -10.499088,
          -7.877371,
          -5.5416393,
          -8.387487,
          -3.4022892,
          -6.793357,
          -9.369058,
          -8.449049,
          -4.803078,
          -9.045263,
          -8.724834,
          -7.993529,
          -5.178443,
          -9.267909,
          -5.5977354,
          -5.8119283,
          -5.0149035,
          -10.411259,
          -1.2117153,
          -4.6728945,
          -8.2176485,
          6.6112285,
          -2.7131217,
          -8.8358135,
          -7.4966145,
          -4.1811895
         ],
         "yaxis": "y"
        },
        {
         "customdata": [
          [
           1.3921052631578883,
           "Продуктовый аналитик"
          ],
          [
           10.47105263157895,
           "Продуктовый аналитик"
          ],
          [
           5.53684210526315,
           "Продуктовый аналитик"
          ],
          [
           15.8,
           "Продуктовый аналитик"
          ],
          [
           1.5894736842105224,
           "Продуктовый аналитик"
          ],
          [
           10.865789473684202,
           "Продуктовый аналитик"
          ],
          [
           1.9842105263157912,
           "Продуктовый аналитик"
          ],
          [
           4.944736842105262,
           "Продуктовый аналитик"
          ],
          [
           1.1947368421052684,
           "Продуктовый аналитик"
          ],
          [
           2.378947368421045,
           "Продуктовый аналитик"
          ],
          [
           2.378947368421045,
           "Продуктовый аналитик"
          ],
          [
           12.44473684210526,
           "Продуктовый аналитик"
          ],
          [
           7.1157894736842096,
           "Продуктовый аналитик"
          ],
          [
           1.5894736842105224,
           "Продуктовый аналитик"
          ],
          [
           1.1947368421052684,
           "Продуктовый аналитик"
          ],
          [
           1.9842105263157912,
           "Продуктовый аналитик"
          ],
          [
           1.3921052631578883,
           "Продуктовый аналитик"
          ],
          [
           1.3921052631578883,
           "Продуктовый аналитик"
          ],
          [
           6.918421052631574,
           "Продуктовый аналитик"
          ],
          [
           3.7605263157894706,
           "Продуктовый аналитик"
          ],
          [
           1.5894736842105224,
           "Продуктовый аналитик"
          ],
          [
           1.9842105263157912,
           "Продуктовый аналитик"
          ],
          [
           4.944736842105262,
           "Продуктовый аналитик"
          ],
          [
           1.5894736842105224,
           "Продуктовый аналитик"
          ],
          [
           1.1947368421052684,
           "Продуктовый аналитик"
          ],
          [
           1.7868421052631567,
           "Продуктовый аналитик"
          ],
          [
           2.9710526315789476,
           "Продуктовый аналитик"
          ],
          [
           1.9842105263157912,
           "Продуктовый аналитик"
          ],
          [
           1.7868421052631567,
           "Продуктовый аналитик"
          ],
          [
           1.3921052631578883,
           "Продуктовый аналитик"
          ],
          [
           1.1947368421052684,
           "Продуктовый аналитик"
          ],
          [
           1.1947368421052684,
           "Продуктовый аналитик"
          ],
          [
           0.9973684210526342,
           "Продуктовый аналитик"
          ],
          [
           0.9973684210526342,
           "Продуктовый аналитик"
          ],
          [
           0.9973684210526342,
           "Продуктовый аналитик"
          ],
          [
           0.9973684210526342,
           "Продуктовый аналитик"
          ],
          [
           0.8,
           "Продуктовый аналитик"
          ]
         ],
         "hovertemplate": "<b>%{hovertext}</b><br><br><extra></extra>",
         "hovertext": [
          "Бизнес-анализ",
          "Аналитическое мышление",
          "Английский",
          "SQL",
          "MS Excel",
          "Анализ данных",
          "Работа с большим объемом информации",
          "Power BI",
          "Сбор и анализ информации",
          "Анализ рынка",
          "MS SQL",
          "Python",
          "Математическая статистика",
          "Математический анализ",
          "Hadoop",
          "Базы данных",
          "PostgreSQL",
          "ClickHouse",
          "A/B тесты",
          "Аналитические исследования",
          "Работа с базами данных",
          "BI",
          "Tableau",
          "Конкурентная аналитика",
          "Визуализация данных",
          "ETL",
          "Продуктовая аналитика",
          "Google Analytics",
          "Управление продуктом",
          "Firebase",
          "R",
          "Яндекс.Метрика",
          "Анализ инвестиционных проектов",
          "Amplitude",
          "Appsflyer",
          "Проведение презентаций",
          "SaaS"
         ],
         "legendgroup": "Продуктовый аналитик",
         "marker": {
          "color": "#2ED9FF",
          "line": {
           "color": "DarkSlateGrey",
           "width": 0.5
          },
          "opacity": 0.7,
          "size": [
           1.3921052631578883,
           10.47105263157895,
           5.53684210526315,
           15.8,
           1.5894736842105224,
           10.865789473684202,
           1.9842105263157912,
           4.944736842105262,
           1.1947368421052684,
           2.378947368421045,
           2.378947368421045,
           12.44473684210526,
           7.1157894736842096,
           1.5894736842105224,
           1.1947368421052684,
           1.9842105263157912,
           1.3921052631578883,
           1.3921052631578883,
           6.918421052631574,
           3.7605263157894706,
           1.5894736842105224,
           1.9842105263157912,
           4.944736842105262,
           1.5894736842105224,
           1.1947368421052684,
           1.7868421052631567,
           2.9710526315789476,
           1.9842105263157912,
           1.7868421052631567,
           1.3921052631578883,
           1.1947368421052684,
           1.1947368421052684,
           0.9973684210526342,
           0.9973684210526342,
           0.9973684210526342,
           0.9973684210526342,
           0.8
          ],
          "sizemode": "area",
          "sizeref": 0.0395,
          "symbol": "circle"
         },
         "mode": "markers",
         "name": "Продуктовый аналитик",
         "orientation": "v",
         "showlegend": true,
         "type": "scatter",
         "x": [
          -8.991264,
          -5.265017,
          -2.140256,
          -0.05774284,
          -6.0270624,
          -3.5074766,
          -1.6685798,
          -3.6719744,
          -5.873111,
          -7.4209285,
          -0.33927864,
          1.6836092,
          -2.0435011,
          -1.4349215,
          6.385646,
          3.2809954,
          4.3188934,
          5.7675037,
          -2.7449284,
          -5.4892855,
          -1.1547692,
          -2.0221703,
          -2.6691883,
          -6.7167673,
          -2.9634051,
          7.7328157,
          -4.2084293,
          -6.043303,
          -0.6027044,
          -4.3971033,
          -1.9030405,
          -6.529036,
          -7.3282003,
          -6.519149,
          -6.6965976,
          -6.5780706,
          -4.1578703
         ],
         "xaxis": "x",
         "y": [
          -10.281999,
          -5.4454136,
          -4.295081,
          -4.2943864,
          -3.3049371,
          -5.5416393,
          -4.803078,
          -5.5977354,
          -5.8119283,
          -1.2117153,
          -4.6728945,
          -2.7131217,
          -6.035224,
          -6.1369333,
          -1.0770928,
          -2.4659755,
          -1.9530991,
          -1.6797442,
          -5.981568,
          -3.67074,
          -4.9185348,
          -5.05041,
          -5.7617435,
          -3.4594824,
          -6.8839564,
          -0.6028073,
          1.5373611,
          -2.4506657,
          -3.6587298,
          2.3242867,
          -6.5235586,
          -2.4561987,
          -0.6004729,
          -1.5726969,
          -0.8312864,
          -7.2864037,
          1.3445252
         ],
         "yaxis": "y"
        },
        {
         "customdata": [
          [
           1.8227272727272714,
           "Аналитик BI"
          ],
          [
           10.686363636363643,
           "Аналитик BI"
          ],
          [
           0.8,
           "Аналитик BI"
          ],
          [
           7.959090909090914,
           "Аналитик BI"
          ],
          [
           15.8,
           "Аналитик BI"
          ],
          [
           1.1409090909091,
           "Аналитик BI"
          ],
          [
           1.1409090909091,
           "Аналитик BI"
          ],
          [
           2.845454545454543,
           "Аналитик BI"
          ],
          [
           6.936363636363643,
           "Аналитик BI"
          ],
          [
           0.8,
           "Аналитик BI"
          ],
          [
           2.5045454545454566,
           "Аналитик BI"
          ],
          [
           4.209090909090914,
           "Аналитик BI"
          ],
          [
           1.1409090909091,
           "Аналитик BI"
          ],
          [
           8.640909090909101,
           "Аналитик BI"
          ],
          [
           2.1636363636363716,
           "Аналитик BI"
          ],
          [
           2.1636363636363716,
           "Аналитик BI"
          ],
          [
           4.209090909090914,
           "Аналитик BI"
          ],
          [
           1.1409090909091,
           "Аналитик BI"
          ],
          [
           2.5045454545454566,
           "Аналитик BI"
          ],
          [
           4.209090909090914,
           "Аналитик BI"
          ],
          [
           1.1409090909091,
           "Аналитик BI"
          ],
          [
           1.8227272727272714,
           "Аналитик BI"
          ],
          [
           0.8,
           "Аналитик BI"
          ],
          [
           8.981818181818188,
           "Аналитик BI"
          ],
          [
           5.572727272727271,
           "Аналитик BI"
          ],
          [
           1.4818181818181857,
           "Аналитик BI"
          ],
          [
           3.1863636363636427,
           "Аналитик BI"
          ],
          [
           2.5045454545454566,
           "Аналитик BI"
          ],
          [
           1.8227272727272714,
           "Аналитик BI"
          ],
          [
           1.4818181818181857,
           "Аналитик BI"
          ],
          [
           1.4818181818181857,
           "Аналитик BI"
          ],
          [
           1.1409090909091,
           "Аналитик BI"
          ],
          [
           1.1409090909091,
           "Аналитик BI"
          ],
          [
           1.1409090909091,
           "Аналитик BI"
          ],
          [
           1.1409090909091,
           "Аналитик BI"
          ],
          [
           0.8,
           "Аналитик BI"
          ],
          [
           0.8,
           "Аналитик BI"
          ]
         ],
         "hovertemplate": "<b>%{hovertext}</b><br><br><extra></extra>",
         "hovertext": [
          "Бизнес-анализ",
          "Аналитическое мышление",
          "BPMN",
          "Английский",
          "SQL",
          "Деловая коммуникация",
          "UML",
          "MS Excel",
          "Анализ данных",
          "Системное мышление",
          "MS PowerPoint",
          "Работа с большим объемом информации",
          "Работа в условиях многозадачности",
          "Power BI",
          "Анализ рынка",
          "MS SQL",
          "Python",
          "Подготовка презентаций",
          "Математическая статистика",
          "Базы данных",
          "PostgreSQL",
          "Аналитические исследования",
          "Работа с базами данных",
          "BI",
          "Tableau",
          "Scrum",
          "Qlik Sense",
          "DWH",
          "Визуализация данных",
          "SAP",
          "OLAP",
          "XML",
          "Отчетность",
          "Greenplum",
          "REST",
          "Внимательность",
          "Apache NiFi"
         ],
         "legendgroup": "Аналитик BI",
         "marker": {
          "color": "#B10DA1",
          "line": {
           "color": "DarkSlateGrey",
           "width": 0.5
          },
          "opacity": 0.7,
          "size": [
           1.8227272727272714,
           10.686363636363643,
           0.8,
           7.959090909090914,
           15.8,
           1.1409090909091,
           1.1409090909091,
           2.845454545454543,
           6.936363636363643,
           0.8,
           2.5045454545454566,
           4.209090909090914,
           1.1409090909091,
           8.640909090909101,
           2.1636363636363716,
           2.1636363636363716,
           4.209090909090914,
           1.1409090909091,
           2.5045454545454566,
           4.209090909090914,
           1.1409090909091,
           1.8227272727272714,
           0.8,
           8.981818181818188,
           5.572727272727271,
           1.4818181818181857,
           3.1863636363636427,
           2.5045454545454566,
           1.8227272727272714,
           1.4818181818181857,
           1.4818181818181857,
           1.1409090909091,
           1.1409090909091,
           1.1409090909091,
           1.1409090909091,
           0.8,
           0.8
          ],
          "sizemode": "area",
          "sizeref": 0.0395,
          "symbol": "circle"
         },
         "mode": "markers",
         "name": "Аналитик BI",
         "orientation": "v",
         "showlegend": true,
         "type": "scatter",
         "x": [
          -8.991264,
          -5.265017,
          -10.234135,
          -2.140256,
          -0.05774284,
          -7.0083,
          -10.700415,
          -6.0270624,
          -3.5074766,
          -8.084131,
          -6.567785,
          -1.6685798,
          -6.0212708,
          -3.6719744,
          -7.4209285,
          -0.33927864,
          1.6836092,
          -6.523355,
          -2.0435011,
          3.2809954,
          4.3188934,
          -5.4892855,
          -1.1547692,
          -2.0221703,
          -2.6691883,
          -8.955666,
          -2.9987462,
          7.2034025,
          -2.9634051,
          -6.7935815,
          -2.5281124,
          -12.040921,
          -3.3066132,
          7.971638,
          -11.979606,
          -3.1651378,
          5.585004
         ],
         "xaxis": "x",
         "y": [
          -10.281999,
          -5.4454136,
          -10.167551,
          -4.295081,
          -4.2943864,
          -7.6112494,
          -9.553972,
          -3.3049371,
          -5.5416393,
          -8.387487,
          -3.4022892,
          -4.803078,
          -5.178443,
          -5.5977354,
          -1.2117153,
          -4.6728945,
          -2.7131217,
          -4.1811895,
          -6.035224,
          -2.4659755,
          -1.9530991,
          -3.67074,
          -4.9185348,
          -5.05041,
          -5.7617435,
          -6.9393787,
          -5.359398,
          -1.0281209,
          -6.8839564,
          -7.095572,
          -4.379471,
          -9.827872,
          -6.502975,
          0.049513057,
          -9.813328,
          -4.7768087,
          -0.96926665
         ],
         "yaxis": "y"
        },
        {
         "customdata": [
          [
           4.242622950819676,
           "Системный аналитик"
          ],
          [
           3.627868852459007,
           "Системный аналитик"
          ],
          [
           6.025409836065573,
           "Системный аналитик"
          ],
          [
           11.558196721311472,
           "Системный аналитик"
          ],
          [
           2.7057377049180342,
           "Системный аналитик"
          ],
          [
           4.181147540983607,
           "Системный аналитик"
          ],
          [
           15.8,
           "Системный аналитик"
          ],
          [
           6.701639344262291,
           "Системный аналитик"
          ],
          [
           10.205737704918036,
           "Системный аналитик"
          ],
          [
           1.4147540983606486,
           "Системный аналитик"
          ],
          [
           0.8,
           "Системный аналитик"
          ],
          [
           1.3532786885245796,
           "Системный аналитик"
          ],
          [
           1.8450819672131105,
           "Системный аналитик"
          ],
          [
           0.8614754098360489,
           "Системный аналитик"
          ],
          [
           12.295901639344258,
           "Системный аналитик"
          ],
          [
           3.1975409836065447,
           "Системный аналитик"
          ],
          [
           1.5377049180327864,
           "Системный аналитик"
          ],
          [
           3.9352459016393313,
           "Системный аналитик"
          ],
          [
           1.5377049180327864,
           "Системный аналитик"
          ],
          [
           2.2139344262295033,
           "Системный аналитик"
          ],
          [
           0.8614754098360489,
           "Системный аналитик"
          ],
          [
           0.8,
           "Системный аналитик"
          ],
          [
           2.0909836065573657,
           "Системный аналитик"
          ],
          [
           1.599180327868835,
           "Системный аналитик"
          ],
          [
           1.230327868852442,
           "Системный аналитик"
          ],
          [
           0.9844262295081865,
           "Системный аналитик"
          ],
          [
           0.9229508196721177,
           "Системный аналитик"
          ],
          [
           3.6893442622950765,
           "Системный аналитик"
          ],
          [
           1.7836065573770417,
           "Системный аналитик"
          ],
          [
           0.8,
           "Системный аналитик"
          ],
          [
           1.291803278688511,
           "Системный аналитик"
          ],
          [
           3.9967213114754,
           "Системный аналитик"
          ],
          [
           6.947540983606546,
           "Системный аналитик"
          ],
          [
           1.3532786885245796,
           "Системный аналитик"
          ],
          [
           3.7508196721311453,
           "Системный аналитик"
          ],
          [
           3.504918032786869,
           "Системный аналитик"
          ],
          [
           2.459836065573759,
           "Системный аналитик"
          ]
         ],
         "hovertemplate": "<b>%{hovertext}</b><br><br><extra></extra>",
         "hovertext": [
          "Бизнес-анализ",
          "Моделирование бизнес процессов",
          "Аналитическое мышление",
          "BPMN",
          "1С: Предприятие 8",
          "Английский",
          "SQL",
          "Разработка технических заданий",
          "UML",
          "MS Visio",
          "Управление проектами",
          "Анализ данных",
          "Системное мышление",
          "Работа в команде",
          "Системный анализ",
          "Atlassian Jira",
          "Работа с большим объемом информации",
          "Постановка задач разработчикам",
          "Agile",
          "Atlassian Confluence",
          "Сбор и анализ информации",
          "IDEF",
          "MS SQL",
          "Техническая документация",
          "Python",
          "ERP",
          "Hadoop",
          "Базы данных",
          "PostgreSQL",
          "Kafka",
          "DWH",
          "XML",
          "REST",
          "ETL",
          "SOAP",
          "JSON API",
          "API"
         ],
         "legendgroup": "Системный аналитик",
         "marker": {
          "color": "#909090",
          "line": {
           "color": "DarkSlateGrey",
           "width": 0.5
          },
          "opacity": 0.7,
          "size": [
           4.242622950819676,
           3.627868852459007,
           6.025409836065573,
           11.558196721311472,
           2.7057377049180342,
           4.181147540983607,
           15.8,
           6.701639344262291,
           10.205737704918036,
           1.4147540983606486,
           0.8,
           1.3532786885245796,
           1.8450819672131105,
           0.8614754098360489,
           12.295901639344258,
           3.1975409836065447,
           1.5377049180327864,
           3.9352459016393313,
           1.5377049180327864,
           2.2139344262295033,
           0.8614754098360489,
           0.8,
           2.0909836065573657,
           1.599180327868835,
           1.230327868852442,
           0.9844262295081865,
           0.9229508196721177,
           3.6893442622950765,
           1.7836065573770417,
           0.8,
           1.291803278688511,
           3.9967213114754,
           6.947540983606546,
           1.3532786885245796,
           3.7508196721311453,
           3.504918032786869,
           2.459836065573759
          ],
          "sizemode": "area",
          "sizeref": 0.0395,
          "symbol": "circle"
         },
         "mode": "markers",
         "name": "Системный аналитик",
         "orientation": "v",
         "showlegend": true,
         "type": "scatter",
         "x": [
          -8.991264,
          -8.479693,
          -5.265017,
          -10.234135,
          -7.058705,
          -2.140256,
          -0.05774284,
          -9.255919,
          -10.700415,
          -9.361388,
          -7.9144473,
          -3.5074766,
          -8.084131,
          -5.7154617,
          -11.400766,
          -9.703421,
          -1.6685798,
          -10.088869,
          -9.322205,
          -9.778784,
          -5.873111,
          -9.542697,
          -0.33927864,
          -8.701551,
          1.6836092,
          -9.036478,
          6.385646,
          3.2809954,
          4.3188934,
          7.512572,
          7.2034025,
          -12.040921,
          -11.979606,
          7.7328157,
          -12.365681,
          -12.065546,
          -10.558067
         ],
         "xaxis": "x",
         "y": [
          -10.281999,
          -9.842511,
          -5.4454136,
          -10.167551,
          -6.467622,
          -4.295081,
          -4.2943864,
          -9.083643,
          -9.553972,
          -10.499088,
          -7.877371,
          -5.5416393,
          -8.387487,
          -6.793357,
          -9.369058,
          -8.449049,
          -4.803078,
          -9.045263,
          -7.993529,
          -9.267909,
          -5.8119283,
          -10.411259,
          -4.6728945,
          -8.2176485,
          -2.7131217,
          -8.8358135,
          -1.0770928,
          -2.4659755,
          -1.9530991,
          0.36771598,
          -1.0281209,
          -9.827872,
          -9.813328,
          -0.6028073,
          -9.91124,
          -9.855654,
          -8.134351
         ],
         "yaxis": "y"
        }
       ],
       "layout": {
        "height": 600,
        "legend": {
         "itemsizing": "constant",
         "title": {
          "text": "Профессия"
         },
         "tracegroupgap": 0
        },
        "margin": {
         "t": 60
        },
        "template": {
         "data": {
          "bar": [
           {
            "error_x": {
             "color": "#2a3f5f"
            },
            "error_y": {
             "color": "#2a3f5f"
            },
            "marker": {
             "line": {
              "color": "#E5ECF6",
              "width": 0.5
             },
             "pattern": {
              "fillmode": "overlay",
              "size": 10,
              "solidity": 0.2
             }
            },
            "type": "bar"
           }
          ],
          "barpolar": [
           {
            "marker": {
             "line": {
              "color": "#E5ECF6",
              "width": 0.5
             },
             "pattern": {
              "fillmode": "overlay",
              "size": 10,
              "solidity": 0.2
             }
            },
            "type": "barpolar"
           }
          ],
          "carpet": [
           {
            "aaxis": {
             "endlinecolor": "#2a3f5f",
             "gridcolor": "white",
             "linecolor": "white",
             "minorgridcolor": "white",
             "startlinecolor": "#2a3f5f"
            },
            "baxis": {
             "endlinecolor": "#2a3f5f",
             "gridcolor": "white",
             "linecolor": "white",
             "minorgridcolor": "white",
             "startlinecolor": "#2a3f5f"
            },
            "type": "carpet"
           }
          ],
          "choropleth": [
           {
            "colorbar": {
             "outlinewidth": 0,
             "ticks": ""
            },
            "type": "choropleth"
           }
          ],
          "contour": [
           {
            "colorbar": {
             "outlinewidth": 0,
             "ticks": ""
            },
            "colorscale": [
             [
              0,
              "#0d0887"
             ],
             [
              0.1111111111111111,
              "#46039f"
             ],
             [
              0.2222222222222222,
              "#7201a8"
             ],
             [
              0.3333333333333333,
              "#9c179e"
             ],
             [
              0.4444444444444444,
              "#bd3786"
             ],
             [
              0.5555555555555556,
              "#d8576b"
             ],
             [
              0.6666666666666666,
              "#ed7953"
             ],
             [
              0.7777777777777778,
              "#fb9f3a"
             ],
             [
              0.8888888888888888,
              "#fdca26"
             ],
             [
              1,
              "#f0f921"
             ]
            ],
            "type": "contour"
           }
          ],
          "contourcarpet": [
           {
            "colorbar": {
             "outlinewidth": 0,
             "ticks": ""
            },
            "type": "contourcarpet"
           }
          ],
          "heatmap": [
           {
            "colorbar": {
             "outlinewidth": 0,
             "ticks": ""
            },
            "colorscale": [
             [
              0,
              "#0d0887"
             ],
             [
              0.1111111111111111,
              "#46039f"
             ],
             [
              0.2222222222222222,
              "#7201a8"
             ],
             [
              0.3333333333333333,
              "#9c179e"
             ],
             [
              0.4444444444444444,
              "#bd3786"
             ],
             [
              0.5555555555555556,
              "#d8576b"
             ],
             [
              0.6666666666666666,
              "#ed7953"
             ],
             [
              0.7777777777777778,
              "#fb9f3a"
             ],
             [
              0.8888888888888888,
              "#fdca26"
             ],
             [
              1,
              "#f0f921"
             ]
            ],
            "type": "heatmap"
           }
          ],
          "heatmapgl": [
           {
            "colorbar": {
             "outlinewidth": 0,
             "ticks": ""
            },
            "colorscale": [
             [
              0,
              "#0d0887"
             ],
             [
              0.1111111111111111,
              "#46039f"
             ],
             [
              0.2222222222222222,
              "#7201a8"
             ],
             [
              0.3333333333333333,
              "#9c179e"
             ],
             [
              0.4444444444444444,
              "#bd3786"
             ],
             [
              0.5555555555555556,
              "#d8576b"
             ],
             [
              0.6666666666666666,
              "#ed7953"
             ],
             [
              0.7777777777777778,
              "#fb9f3a"
             ],
             [
              0.8888888888888888,
              "#fdca26"
             ],
             [
              1,
              "#f0f921"
             ]
            ],
            "type": "heatmapgl"
           }
          ],
          "histogram": [
           {
            "marker": {
             "pattern": {
              "fillmode": "overlay",
              "size": 10,
              "solidity": 0.2
             }
            },
            "type": "histogram"
           }
          ],
          "histogram2d": [
           {
            "colorbar": {
             "outlinewidth": 0,
             "ticks": ""
            },
            "colorscale": [
             [
              0,
              "#0d0887"
             ],
             [
              0.1111111111111111,
              "#46039f"
             ],
             [
              0.2222222222222222,
              "#7201a8"
             ],
             [
              0.3333333333333333,
              "#9c179e"
             ],
             [
              0.4444444444444444,
              "#bd3786"
             ],
             [
              0.5555555555555556,
              "#d8576b"
             ],
             [
              0.6666666666666666,
              "#ed7953"
             ],
             [
              0.7777777777777778,
              "#fb9f3a"
             ],
             [
              0.8888888888888888,
              "#fdca26"
             ],
             [
              1,
              "#f0f921"
             ]
            ],
            "type": "histogram2d"
           }
          ],
          "histogram2dcontour": [
           {
            "colorbar": {
             "outlinewidth": 0,
             "ticks": ""
            },
            "colorscale": [
             [
              0,
              "#0d0887"
             ],
             [
              0.1111111111111111,
              "#46039f"
             ],
             [
              0.2222222222222222,
              "#7201a8"
             ],
             [
              0.3333333333333333,
              "#9c179e"
             ],
             [
              0.4444444444444444,
              "#bd3786"
             ],
             [
              0.5555555555555556,
              "#d8576b"
             ],
             [
              0.6666666666666666,
              "#ed7953"
             ],
             [
              0.7777777777777778,
              "#fb9f3a"
             ],
             [
              0.8888888888888888,
              "#fdca26"
             ],
             [
              1,
              "#f0f921"
             ]
            ],
            "type": "histogram2dcontour"
           }
          ],
          "mesh3d": [
           {
            "colorbar": {
             "outlinewidth": 0,
             "ticks": ""
            },
            "type": "mesh3d"
           }
          ],
          "parcoords": [
           {
            "line": {
             "colorbar": {
              "outlinewidth": 0,
              "ticks": ""
             }
            },
            "type": "parcoords"
           }
          ],
          "pie": [
           {
            "automargin": true,
            "type": "pie"
           }
          ],
          "scatter": [
           {
            "fillpattern": {
             "fillmode": "overlay",
             "size": 10,
             "solidity": 0.2
            },
            "type": "scatter"
           }
          ],
          "scatter3d": [
           {
            "line": {
             "colorbar": {
              "outlinewidth": 0,
              "ticks": ""
             }
            },
            "marker": {
             "colorbar": {
              "outlinewidth": 0,
              "ticks": ""
             }
            },
            "type": "scatter3d"
           }
          ],
          "scattercarpet": [
           {
            "marker": {
             "colorbar": {
              "outlinewidth": 0,
              "ticks": ""
             }
            },
            "type": "scattercarpet"
           }
          ],
          "scattergeo": [
           {
            "marker": {
             "colorbar": {
              "outlinewidth": 0,
              "ticks": ""
             }
            },
            "type": "scattergeo"
           }
          ],
          "scattergl": [
           {
            "marker": {
             "colorbar": {
              "outlinewidth": 0,
              "ticks": ""
             }
            },
            "type": "scattergl"
           }
          ],
          "scattermapbox": [
           {
            "marker": {
             "colorbar": {
              "outlinewidth": 0,
              "ticks": ""
             }
            },
            "type": "scattermapbox"
           }
          ],
          "scatterpolar": [
           {
            "marker": {
             "colorbar": {
              "outlinewidth": 0,
              "ticks": ""
             }
            },
            "type": "scatterpolar"
           }
          ],
          "scatterpolargl": [
           {
            "marker": {
             "colorbar": {
              "outlinewidth": 0,
              "ticks": ""
             }
            },
            "type": "scatterpolargl"
           }
          ],
          "scatterternary": [
           {
            "marker": {
             "colorbar": {
              "outlinewidth": 0,
              "ticks": ""
             }
            },
            "type": "scatterternary"
           }
          ],
          "surface": [
           {
            "colorbar": {
             "outlinewidth": 0,
             "ticks": ""
            },
            "colorscale": [
             [
              0,
              "#0d0887"
             ],
             [
              0.1111111111111111,
              "#46039f"
             ],
             [
              0.2222222222222222,
              "#7201a8"
             ],
             [
              0.3333333333333333,
              "#9c179e"
             ],
             [
              0.4444444444444444,
              "#bd3786"
             ],
             [
              0.5555555555555556,
              "#d8576b"
             ],
             [
              0.6666666666666666,
              "#ed7953"
             ],
             [
              0.7777777777777778,
              "#fb9f3a"
             ],
             [
              0.8888888888888888,
              "#fdca26"
             ],
             [
              1,
              "#f0f921"
             ]
            ],
            "type": "surface"
           }
          ],
          "table": [
           {
            "cells": {
             "fill": {
              "color": "#EBF0F8"
             },
             "line": {
              "color": "white"
             }
            },
            "header": {
             "fill": {
              "color": "#C8D4E3"
             },
             "line": {
              "color": "white"
             }
            },
            "type": "table"
           }
          ]
         },
         "layout": {
          "annotationdefaults": {
           "arrowcolor": "#2a3f5f",
           "arrowhead": 0,
           "arrowwidth": 1
          },
          "autotypenumbers": "strict",
          "coloraxis": {
           "colorbar": {
            "outlinewidth": 0,
            "ticks": ""
           }
          },
          "colorscale": {
           "diverging": [
            [
             0,
             "#8e0152"
            ],
            [
             0.1,
             "#c51b7d"
            ],
            [
             0.2,
             "#de77ae"
            ],
            [
             0.3,
             "#f1b6da"
            ],
            [
             0.4,
             "#fde0ef"
            ],
            [
             0.5,
             "#f7f7f7"
            ],
            [
             0.6,
             "#e6f5d0"
            ],
            [
             0.7,
             "#b8e186"
            ],
            [
             0.8,
             "#7fbc41"
            ],
            [
             0.9,
             "#4d9221"
            ],
            [
             1,
             "#276419"
            ]
           ],
           "sequential": [
            [
             0,
             "#0d0887"
            ],
            [
             0.1111111111111111,
             "#46039f"
            ],
            [
             0.2222222222222222,
             "#7201a8"
            ],
            [
             0.3333333333333333,
             "#9c179e"
            ],
            [
             0.4444444444444444,
             "#bd3786"
            ],
            [
             0.5555555555555556,
             "#d8576b"
            ],
            [
             0.6666666666666666,
             "#ed7953"
            ],
            [
             0.7777777777777778,
             "#fb9f3a"
            ],
            [
             0.8888888888888888,
             "#fdca26"
            ],
            [
             1,
             "#f0f921"
            ]
           ],
           "sequentialminus": [
            [
             0,
             "#0d0887"
            ],
            [
             0.1111111111111111,
             "#46039f"
            ],
            [
             0.2222222222222222,
             "#7201a8"
            ],
            [
             0.3333333333333333,
             "#9c179e"
            ],
            [
             0.4444444444444444,
             "#bd3786"
            ],
            [
             0.5555555555555556,
             "#d8576b"
            ],
            [
             0.6666666666666666,
             "#ed7953"
            ],
            [
             0.7777777777777778,
             "#fb9f3a"
            ],
            [
             0.8888888888888888,
             "#fdca26"
            ],
            [
             1,
             "#f0f921"
            ]
           ]
          },
          "colorway": [
           "#636efa",
           "#EF553B",
           "#00cc96",
           "#ab63fa",
           "#FFA15A",
           "#19d3f3",
           "#FF6692",
           "#B6E880",
           "#FF97FF",
           "#FECB52"
          ],
          "font": {
           "color": "#2a3f5f"
          },
          "geo": {
           "bgcolor": "white",
           "lakecolor": "white",
           "landcolor": "#E5ECF6",
           "showlakes": true,
           "showland": true,
           "subunitcolor": "white"
          },
          "hoverlabel": {
           "align": "left"
          },
          "hovermode": "closest",
          "mapbox": {
           "style": "light"
          },
          "paper_bgcolor": "white",
          "plot_bgcolor": "#E5ECF6",
          "polar": {
           "angularaxis": {
            "gridcolor": "white",
            "linecolor": "white",
            "ticks": ""
           },
           "bgcolor": "#E5ECF6",
           "radialaxis": {
            "gridcolor": "white",
            "linecolor": "white",
            "ticks": ""
           }
          },
          "scene": {
           "xaxis": {
            "backgroundcolor": "#E5ECF6",
            "gridcolor": "white",
            "gridwidth": 2,
            "linecolor": "white",
            "showbackground": true,
            "ticks": "",
            "zerolinecolor": "white"
           },
           "yaxis": {
            "backgroundcolor": "#E5ECF6",
            "gridcolor": "white",
            "gridwidth": 2,
            "linecolor": "white",
            "showbackground": true,
            "ticks": "",
            "zerolinecolor": "white"
           },
           "zaxis": {
            "backgroundcolor": "#E5ECF6",
            "gridcolor": "white",
            "gridwidth": 2,
            "linecolor": "white",
            "showbackground": true,
            "ticks": "",
            "zerolinecolor": "white"
           }
          },
          "shapedefaults": {
           "line": {
            "color": "#2a3f5f"
           }
          },
          "ternary": {
           "aaxis": {
            "gridcolor": "white",
            "linecolor": "white",
            "ticks": ""
           },
           "baxis": {
            "gridcolor": "white",
            "linecolor": "white",
            "ticks": ""
           },
           "bgcolor": "#E5ECF6",
           "caxis": {
            "gridcolor": "white",
            "linecolor": "white",
            "ticks": ""
           }
          },
          "title": {
           "x": 0.05
          },
          "xaxis": {
           "automargin": true,
           "gridcolor": "white",
           "linecolor": "white",
           "ticks": "",
           "title": {
            "standoff": 15
           },
           "zerolinecolor": "white",
           "zerolinewidth": 2
          },
          "yaxis": {
           "automargin": true,
           "gridcolor": "white",
           "linecolor": "white",
           "ticks": "",
           "title": {
            "standoff": 15
           },
           "zerolinecolor": "white",
           "zerolinewidth": 2
          }
         }
        },
        "width": 1000,
        "xaxis": {
         "anchor": "y",
         "domain": [
          0,
          1
         ],
         "title": {
          "text": "x"
         },
         "visible": false
        },
        "yaxis": {
         "anchor": "x",
         "domain": [
          0,
          1
         ],
         "title": {
          "text": "y"
         },
         "visible": false
        }
       }
      }
     },
     "metadata": {},
     "output_type": "display_data"
    }
   ],
   "source": [
    "df, _ = prepare_plot_df(skill_df, matrix, skill_index_to_corrected,\n",
    "                                    prof_index_to_prof_name, \n",
    "                                    top_n_skill_per_profession=best_top_n_skill_per_profession,\n",
    "                                    norm_type=best_norm_type,\n",
    "                                    factor_alg_type=best_alg_type,\n",
    "                                    dim=best_dim,\n",
    "                                    use_tsne=best_use_tsne)\n",
    "\n",
    "plot_skill_map(df).show()"
   ]
  },
  {
   "cell_type": "code",
   "execution_count": 22,
   "metadata": {},
   "outputs": [],
   "source": [
    "df.to_csv(f'../notebooks/docker/front/data/best.csv')"
   ]
  },
  {
   "cell_type": "code",
   "execution_count": null,
   "metadata": {},
   "outputs": [],
   "source": []
  }
 ],
 "metadata": {
  "kernelspec": {
   "display_name": "base",
   "language": "python",
   "name": "python3"
  },
  "language_info": {
   "codemirror_mode": {
    "name": "ipython",
    "version": 3
   },
   "file_extension": ".py",
   "mimetype": "text/x-python",
   "name": "python",
   "nbconvert_exporter": "python",
   "pygments_lexer": "ipython3",
   "version": "3.11.4"
  },
  "orig_nbformat": 4
 },
 "nbformat": 4,
 "nbformat_minor": 2
}
